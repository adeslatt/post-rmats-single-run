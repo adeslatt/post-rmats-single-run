{
 "cells": [
  {
   "cell_type": "code",
   "execution_count": 2,
   "id": "76a6ea3c-74e7-40b6-931d-305443469973",
   "metadata": {},
   "outputs": [
    {
     "data": {
      "text/html": [
       "'/Users/annedeslattesmays/Scitechcon Dropbox/Anne DeslattesMays/projects/post-rmats-single-run/TAM.AML.all/A3SS_calculate'"
      ],
      "text/latex": [
       "'/Users/annedeslattesmays/Scitechcon Dropbox/Anne DeslattesMays/projects/post-rmats-single-run/TAM.AML.all/A3SS\\_calculate'"
      ],
      "text/markdown": [
       "'/Users/annedeslattesmays/Scitechcon Dropbox/Anne DeslattesMays/projects/post-rmats-single-run/TAM.AML.all/A3SS_calculate'"
      ],
      "text/plain": [
       "[1] \"/Users/annedeslattesmays/Scitechcon Dropbox/Anne DeslattesMays/projects/post-rmats-single-run/TAM.AML.all/A3SS_calculate\""
      ]
     },
     "metadata": {},
     "output_type": "display_data"
    },
    {
     "data": {
      "text/html": [
       "<style>\n",
       ".list-inline {list-style: none; margin:0; padding: 0}\n",
       ".list-inline>li {display: inline-block}\n",
       ".list-inline>li:not(:last-child)::after {content: \"\\00b7\"; padding: 0 .5ex}\n",
       "</style>\n",
       "<ol class=list-inline><li>14527</li><li>107</li></ol>\n"
      ],
      "text/latex": [
       "\\begin{enumerate*}\n",
       "\\item 14527\n",
       "\\item 107\n",
       "\\end{enumerate*}\n"
      ],
      "text/markdown": [
       "1. 14527\n",
       "2. 107\n",
       "\n",
       "\n"
      ],
      "text/plain": [
       "[1] 14527   107"
      ]
     },
     "metadata": {},
     "output_type": "display_data"
    },
    {
     "data": {
      "text/html": [
       "<style>\n",
       ".list-inline {list-style: none; margin:0; padding: 0}\n",
       ".list-inline>li {display: inline-block}\n",
       ".list-inline>li:not(:last-child)::after {content: \"\\00b7\"; padding: 0 .5ex}\n",
       "</style>\n",
       "<ol class=list-inline><li>355</li><li>9</li></ol>\n"
      ],
      "text/latex": [
       "\\begin{enumerate*}\n",
       "\\item 355\n",
       "\\item 9\n",
       "\\end{enumerate*}\n"
      ],
      "text/markdown": [
       "1. 355\n",
       "2. 9\n",
       "\n",
       "\n"
      ],
      "text/plain": [
       "[1] 355   9"
      ]
     },
     "metadata": {},
     "output_type": "display_data"
    },
    {
     "ename": "ERROR",
     "evalue": "Error: object 'coldata' not found\n",
     "output_type": "error",
     "traceback": [
      "Error: object 'coldata' not found\nTraceback:\n",
      "1. unpaired_data_long %>% left_join(coldata, by = c(Sample = \"name\")) %>% \n .     mutate(State = condition) %>% select(-condition)",
      "2. select(., -condition)",
      "3. mutate(., State = condition)",
      "4. left_join(., coldata, by = c(Sample = \"name\"))",
      "5. left_join.data.frame(., coldata, by = c(Sample = \"name\"))",
      "6. auto_copy(x, y, copy = copy)",
      "7. same_src(x, y)",
      "8. same_src.data.frame(x, y)",
      "9. is.data.frame(y)"
     ]
    }
   ],
   "source": [
    "# Load necessary libraries\n",
    "library(dplyr)\n",
    "library(tidyr)\n",
    "library(reshape2)\n",
    "library(ggplot2)\n",
    "library(pdftools)\n",
    "library(gridExtra)\n",
    "\n",
    "setwd(\"/Users/annedeslattesmays/Scitechcon\\ Dropbox/Anne\\ DeslattesMays/projects/post-rmats-single-run/TAM.AML.all/A3SS_calculate\")\n",
    "getwd()\n",
    "\n",
    "# Read the unpaired and paired datasets\n",
    "unpaired_data <- read.csv(\"unpaired_final_matrix.csv\", stringsAsFactors = FALSE)\n",
    "paired_data <- read.csv(\"paired_final_matrix.csv\", stringsAsFactors = FALSE)\n",
    "dim(unpaired_data)\n",
    "dim(paired_data)\n",
    "\n",
    "# Transform paired data from wide to long format\n",
    "paired_data_long <- melt(paired_data, variable.name = \"Sample\", value.name = \"Expression\", id.vars = \"X\")\n",
    "paired_data_long <- paired_data_long %>%\n",
    "  mutate(Individual = sapply(strsplit(as.character(Sample), \"\\\\.\"), `[`, 1),\n",
    "         State = sapply(strsplit(as.character(Sample), \"\\\\.\"), `[`, 2))\n",
    "\n",
    "# Transform unpaired data from wide to long format\n",
    "unpaired_data_long <- melt(unpaired_data, variable.name = \"Sample\", value.name = \"Expression\", id.vars = \"X\")\n",
    "\n",
    "# Ensure the Sample column is treated as a character vector\n",
    "unpaired_data_long$Sample <- as.character(unpaired_data_long$Sample)\n",
    "\n",
    "# Extract the state from the Sample column and create the Individual column\n",
    "unpaired_data_long <- unpaired_data_long %>%\n",
    "  mutate(Individual = sapply(strsplit(Sample, \"\\\\.\"), `[`, 1))\n",
    "\n",
    "# Map sample names to conditions using the coldata DataFrame\n",
    "unpaired_data_long <- unpaired_data_long %>%\n",
    "  left_join(coldata, by = c(\"Sample\" = \"name\")) %>%\n",
    "  mutate(State = condition) %>%\n",
    "  select(-condition)\n",
    "\n",
    "# Create directories\n",
    "dir.create(\"paired_violin_plots\", showWarnings = FALSE)\n",
    "dir.create(\"comparison_violin_plots\", showWarnings = FALSE)\n",
    "dir.create(\"comparison_violin_plots/consistent\", showWarnings = FALSE)\n",
    "dir.create(\"comparison_violin_plots/opposite\", showWarnings = FALSE)"
   ]
  },
  {
   "cell_type": "code",
   "execution_count": null,
   "id": "b5d898c1-f86a-4148-a566-1b9a81d539c5",
   "metadata": {},
   "outputs": [],
   "source": []
  }
 ],
 "metadata": {
  "kernelspec": {
   "display_name": "R",
   "language": "R",
   "name": "ir"
  },
  "language_info": {
   "codemirror_mode": "r",
   "file_extension": ".r",
   "mimetype": "text/x-r-source",
   "name": "R",
   "pygments_lexer": "r",
   "version": "4.3.3"
  }
 },
 "nbformat": 4,
 "nbformat_minor": 5
}
