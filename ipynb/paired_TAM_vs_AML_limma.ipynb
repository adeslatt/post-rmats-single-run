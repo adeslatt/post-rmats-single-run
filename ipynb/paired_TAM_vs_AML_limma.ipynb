{
 "cells": [
  {
   "cell_type": "markdown",
   "id": "17cdd25f-23a9-4971-92c3-08278aee5375",
   "metadata": {},
   "source": [
    "Paired TAM (transcient abnormal myleoproliferation) vs AML (acute myeloid leukemia) analysis of patients with the co-occuring condition of Down Syndrome using IJC counts obtained from rMATS analysis.\n",
    "\n",
    "Using a matrix constructed from Kids First Workflow V4 done on single runs, a post-rMATS-single-run prepareSEfiles.sh was run that created a bed file for visualizaiton in UCSC Genome browser of all the events, as well as created a matrix of the single runs normalized to the non-redundant union of files.  Using associative arrays in an awk script, it was a rapid way to transform the individual counts from each of the individual runs into a matrix that facilitated analysis.\n",
    "\n",
    "Using annotations obtained from the rMATS run that provided the coordinates of each of the splicing events as well as the gene that the junctions came from and the count of the reads that overlapped the junctions.   \n",
    " \n",
    "We will use Limma to perform analysis of these junction counts in the identical way that a gene analysis would be completed.\n"
   ]
  },
  {
   "cell_type": "code",
   "execution_count": null,
   "id": "7a0a13bb-f7d2-48b3-8308-fef6b197843b",
   "metadata": {},
   "outputs": [],
   "source": [
    "if (!require(\"BiocManager\", quietly = TRUE))\n",
    "    install.packages(\"BiocManager\", repos = \"https://cloud.r-project.org\")\n"
   ]
  },
  {
   "cell_type": "code",
   "execution_count": null,
   "id": "9efb6cf3-4204-44df-906a-aa961bdcb948",
   "metadata": {},
   "outputs": [],
   "source": [
    "setwd(\"../data/\")\n"
   ]
  },
  {
   "cell_type": "code",
   "execution_count": null,
   "id": "ebbacdca-4a2c-49fb-bddd-d8f8ae75c06c",
   "metadata": {},
   "outputs": [],
   "source": [
    "getwd()\n"
   ]
  },
  {
   "cell_type": "code",
   "execution_count": null,
   "id": "48a148e7-6e39-4f98-a6e8-064ba01cec41",
   "metadata": {},
   "outputs": [],
   "source": [
    "cts <- as.matrix(read.csv(\"SE.IJC.paired.TAM.AML.csv\",sep=\",\",row.names=\"ID\"))"
   ]
  },
  {
   "cell_type": "code",
   "execution_count": null,
   "id": "f5c4a633-56a5-44c6-8c01-0dc196e12eb9",
   "metadata": {},
   "outputs": [],
   "source": [
    "featureData <- data.frame(read.csv(\"SE.coordinates.matrix.csv\", sep=\",\",row.names=\"ID\"))"
   ]
  },
  {
   "cell_type": "code",
   "execution_count": null,
   "id": "76618ff4-f52a-406c-8d28-0627b0849285",
   "metadata": {},
   "outputs": [],
   "source": [
    "head(featureData,2)"
   ]
  },
  {
   "cell_type": "code",
   "execution_count": null,
   "id": "5278e887-9177-49ab-9ed7-a55a41aaa467",
   "metadata": {},
   "outputs": [],
   "source": [
    "featureData <- featureData[,c(1,2)]"
   ]
  },
  {
   "cell_type": "code",
   "execution_count": null,
   "id": "25b5f4b3-3a29-4e27-a5ec-e9224179ee04",
   "metadata": {},
   "outputs": [],
   "source": [
    "head(featureData,2)"
   ]
  },
  {
   "cell_type": "code",
   "execution_count": null,
   "id": "287a913a-35c3-44d1-b3e0-dce02fd2aca1",
   "metadata": {},
   "outputs": [],
   "source": [
    "dim(cts)\n",
    "head(cts,2)"
   ]
  },
  {
   "cell_type": "code",
   "execution_count": null,
   "id": "4883d9ba-9ca6-4c49-b7f8-c49fb700be0f",
   "metadata": {},
   "outputs": [],
   "source": [
    "dim(featureData)\n",
    "head(featureData,2)"
   ]
  },
  {
   "cell_type": "code",
   "execution_count": null,
   "id": "b06a2c1c-53d5-47b9-b6e9-2bb035424d71",
   "metadata": {},
   "outputs": [],
   "source": [
    "coldata <- read.csv(\"design_matrix.csv\",row.names=1)"
   ]
  },
  {
   "cell_type": "code",
   "execution_count": null,
   "id": "8bb5bc20-4c04-4770-b70c-79a73f51acfd",
   "metadata": {},
   "outputs": [],
   "source": [
    "coldata\n"
   ]
  },
  {
   "cell_type": "code",
   "execution_count": null,
   "id": "4c9070b8-dd6e-4e6a-b0ac-63e5b5929706",
   "metadata": {},
   "outputs": [],
   "source": [
    "coldata <- coldata[,c(\"patient\",\"condition\")]\n",
    "coldata$condition <- factor(coldata$condition)\n",
    "coldata$patient <- factor(coldata$patient)"
   ]
  },
  {
   "cell_type": "code",
   "execution_count": null,
   "id": "8af6a639-6b22-44be-998d-ff752b37dd5d",
   "metadata": {},
   "outputs": [],
   "source": [
    "rownames(coldata)"
   ]
  },
  {
   "cell_type": "code",
   "execution_count": null,
   "id": "9b1d0636-c20d-407a-861a-0420c519b2f7",
   "metadata": {},
   "outputs": [],
   "source": [
    "rownames(coldata) <-sub(\"-\",\".\",rownames(coldata))"
   ]
  },
  {
   "cell_type": "code",
   "execution_count": null,
   "id": "30feeda5-ac47-42d5-890a-0e2deb97df5d",
   "metadata": {},
   "outputs": [],
   "source": [
    "colnames(cts)"
   ]
  },
  {
   "cell_type": "code",
   "execution_count": null,
   "id": "5eb757dc-5605-4d63-bffd-caf6e4e62e9d",
   "metadata": {},
   "outputs": [],
   "source": [
    "all(rownames(coldata) %in% colnames(cts))\n",
    "\n"
   ]
  },
  {
   "cell_type": "code",
   "execution_count": null,
   "id": "a67f3886-37a4-4202-8277-c0a6b2015c70",
   "metadata": {},
   "outputs": [],
   "source": [
    "library(Glimma)"
   ]
  },
  {
   "cell_type": "code",
   "execution_count": null,
   "id": "9c1dc845-a730-4326-abe6-fae5233d17f1",
   "metadata": {},
   "outputs": [],
   "source": [
    "BiocManager::install(\"dplyr\")"
   ]
  },
  {
   "cell_type": "code",
   "execution_count": null,
   "id": "becf0704-00e5-4177-9b62-69ca55ed8859",
   "metadata": {},
   "outputs": [],
   "source": [
    "library(dplyr)"
   ]
  },
  {
   "cell_type": "code",
   "execution_count": null,
   "id": "7495c68e-3bfb-45dc-a4a0-fa607fcf6117",
   "metadata": {},
   "outputs": [],
   "source": [
    "colnames(cts)"
   ]
  },
  {
   "cell_type": "code",
   "execution_count": null,
   "id": "c1159601-71ca-4346-848b-045adb323711",
   "metadata": {},
   "outputs": [],
   "source": [
    "grouping_variable <- c(\"TAM\",\"AML\",\"TAM\",\"AML\",\"TAM\",\"AML\",\"TAM\",\"AML\")\n",
    "grouping_variable"
   ]
  },
  {
   "cell_type": "code",
   "execution_count": null,
   "id": "dc6d3c5e-5596-467c-a936-98b285d5c7cc",
   "metadata": {},
   "outputs": [],
   "source": [
    "TAM_group <- cts[,grouping_variable == \"TAM\"]\n",
    "colnames(TAM_group)\n",
    "TAM_group_df <- data.frame(TAM_group)\n",
    "AML_group <- cts[,grouping_variable == \"AML\"]\n",
    "AML_group_df <- data.frame(AML_group)\n",
    "colnames(AML_group)"
   ]
  },
  {
   "cell_type": "code",
   "execution_count": null,
   "id": "4cf83a9d-e450-4f66-b7af-e7948ac4df50",
   "metadata": {},
   "outputs": [],
   "source": [
    "dim(cts)\n",
    "head(cts,4)"
   ]
  },
  {
   "cell_type": "code",
   "execution_count": null,
   "id": "bc75377c-f890-48a8-8dfa-646e3e7364ee",
   "metadata": {},
   "outputs": [],
   "source": [
    "TAM_rowmeans <- rowMeans(TAM_group_df,na.rm=TRUE)\n",
    "head(TAM_rowmeans,3)\n",
    "length(TAM_rowmeans)\n",
    "AML_rowmeans <- rowMeans(AML_group_df,na.rm=TRUE)\n",
    "head(AML_rowmeans,3)\n",
    "length(AML_rowmeans)"
   ]
  },
  {
   "cell_type": "code",
   "execution_count": null,
   "id": "89478273-c3a0-4947-a925-c3db203eff1f",
   "metadata": {},
   "outputs": [],
   "source": [
    "install.packages(\"matrixStats\")\n",
    "library(matrixStats)"
   ]
  },
  {
   "cell_type": "code",
   "execution_count": null,
   "id": "367815f3-4500-4f26-b97b-5c82838ddcfb",
   "metadata": {},
   "outputs": [],
   "source": [
    "TAM_rowsds = rowSds(as.matrix(TAM_group_df))\n",
    "AML_rowsds = rowSds(as.matrix(AML_group_df))\n",
    "length(TAM_rowsds)\n",
    "length(AML_rowsds)"
   ]
  },
  {
   "cell_type": "code",
   "execution_count": null,
   "id": "540fd168-c611-4e28-8200-02e43abbc6b6",
   "metadata": {},
   "outputs": [],
   "source": [
    "TAM_withinsds <- as.logical(abs((TAM_group[,1] - TAM_rowmeans) <= TAM_rowsds)) &\n",
    "                 as.logical(abs((TAM_group[,2] - TAM_rowmeans) <= TAM_rowsds)) &\n",
    "                 as.logical(abs((TAM_group[,3] - TAM_rowmeans) <= TAM_rowsds)) &\n",
    "                 as.logical(abs((TAM_group[,4] - TAM_rowmeans) <= TAM_rowsds)) \n",
    "is.logical(TAM_withinsds)\n",
    "length(TAM_withinsds)\n",
    "dim(TAM_withinsds)\n",
    "head(TAM_withinsds)\n",
    "sum(TAM_withinsds == TRUE)"
   ]
  },
  {
   "cell_type": "code",
   "execution_count": null,
   "id": "bcd27287-a7fd-4d07-aaf3-eef34077f1d1",
   "metadata": {},
   "outputs": [],
   "source": [
    "AML_withinsds <- as.logical(abs((AML_group[,1] - AML_rowmeans) <= AML_rowsds)) &\n",
    "                 as.logical(abs((AML_group[,2] - AML_rowmeans) <= AML_rowsds)) &\n",
    "                 as.logical(abs((AML_group[,3] - AML_rowmeans) <= AML_rowsds)) &\n",
    "                 as.logical(abs((AML_group[,4] - AML_rowmeans) <= AML_rowsds))\n",
    "is.logical(AML_withinsds)\n",
    "length(AML_withinsds)\n",
    "dim(AML_withinsds)\n",
    "head(AML_withinsds)\n",
    "sum(AML_withinsds == TRUE)"
   ]
  },
  {
   "cell_type": "code",
   "execution_count": null,
   "id": "7f68620e-6ac9-431c-bd35-28f2f0ae9c28",
   "metadata": {},
   "outputs": [],
   "source": [
    "filter_cts_logical <- AML_withinsds & TAM_withinsds\n",
    "is.logical(filter_cts_logical)\n",
    "length(filter_cts_logical)\n",
    "dim(filter_cts_logical)\n",
    "head(filter_cts_logical)\n",
    "sum(filter_cts_logical == TRUE)"
   ]
  },
  {
   "cell_type": "code",
   "execution_count": null,
   "id": "28a9e31f-72fa-4ad6-9972-994125c17d35",
   "metadata": {},
   "outputs": [],
   "source": [
    "head(cts,2)\n",
    "filtered_cts <- cts[filter_cts_logical,]\n",
    "dim(filtered_cts)"
   ]
  },
  {
   "cell_type": "markdown",
   "id": "7769894e-135b-4305-9154-ce21fae10505",
   "metadata": {},
   "source": [
    "now comes the question of ratios.  To permit the comparison and analysis of the group as distinguished by difference between the two conditions, TAM and AML, we do analysis on the ratios rather than allowing statistical analsys between the two groups.   What we are looking for are the signals that indicate what would be important.  This is general characterization analysis rather than differential analysis.  "
   ]
  },
  {
   "cell_type": "code",
   "execution_count": null,
   "id": "b5c54046-8b3e-4c97-bbf0-6ee3e0d298e5",
   "metadata": {},
   "outputs": [],
   "source": [
    "# lets look at limma/voom\n",
    "BiocManager::install(\"limma\")"
   ]
  },
  {
   "cell_type": "code",
   "execution_count": null,
   "id": "e30dfcee-76b1-4efb-b56d-948f7a8de44f",
   "metadata": {},
   "outputs": [],
   "source": [
    "BiocManager::install(\"statmod\")"
   ]
  },
  {
   "cell_type": "code",
   "execution_count": null,
   "id": "da040196-cae0-4a10-ab43-0da299c3a79f",
   "metadata": {},
   "outputs": [],
   "source": [
    "library(limma)\n",
    "library(edgeR)\n",
    "library(statmod)"
   ]
  },
  {
   "cell_type": "code",
   "execution_count": null,
   "id": "d9e51d30-1986-4a7a-a9eb-a3b6fd0562ca",
   "metadata": {},
   "outputs": [],
   "source": [
    "# making a counts matrix\n",
    "dge <- DGEList(counts=filtered_cts)"
   ]
  },
  {
   "cell_type": "code",
   "execution_count": null,
   "id": "693ed341-3d5c-4ee8-a123-ba6a366271c5",
   "metadata": {},
   "outputs": [],
   "source": [
    "colnames(dge)"
   ]
  },
  {
   "cell_type": "code",
   "execution_count": null,
   "id": "6664a001-18a0-4d0b-8fcb-8bfc5ac8c8c7",
   "metadata": {},
   "outputs": [],
   "source": [
    "head(dge,2)"
   ]
  },
  {
   "cell_type": "code",
   "execution_count": null,
   "id": "8912b811-e792-4fe8-af2a-1f9557b45e32",
   "metadata": {},
   "outputs": [],
   "source": [
    "design <- model.matrix(~ 0 + factor(c(1,2,1,2,1,2,1,2)))"
   ]
  },
  {
   "cell_type": "code",
   "execution_count": null,
   "id": "586bb349-afe4-4645-93c8-e88a3bb5e88e",
   "metadata": {},
   "outputs": [],
   "source": [
    "colnames(design) = c(\"TAM\",\"AML\")"
   ]
  },
  {
   "cell_type": "code",
   "execution_count": null,
   "id": "c93c1f52-7396-4bb0-8602-799c0cc0a5e5",
   "metadata": {},
   "outputs": [],
   "source": [
    "head(design)"
   ]
  },
  {
   "cell_type": "code",
   "execution_count": null,
   "id": "fde7029f-a84e-4c7f-bbab-f51f6fced36b",
   "metadata": {},
   "outputs": [],
   "source": [
    "# normalize and filter\n",
    "keep <- filterByExpr(dge, design)\n",
    "dge <- dge[keep,,keep.lib.size=FALSE]"
   ]
  },
  {
   "cell_type": "code",
   "execution_count": null,
   "id": "40a4248e-28e7-460b-8c74-79ecb4fa1c0c",
   "metadata": {},
   "outputs": [],
   "source": [
    "# apply scale normalization\n",
    "dge <- calcNormFactors(dge)"
   ]
  },
  {
   "cell_type": "code",
   "execution_count": null,
   "id": "9f520669-8026-413e-b176-d00096c42a98",
   "metadata": {},
   "outputs": [],
   "source": [
    "# differential expression:  limma-trend\n",
    "logCPM <- cpm(dge, log=TRUE, prior.count=3)"
   ]
  },
  {
   "cell_type": "code",
   "execution_count": null,
   "id": "6a063496-d0e9-4527-899a-afa774e8c091",
   "metadata": {},
   "outputs": [],
   "source": [
    "fit <- lmFit(logCPM, design)"
   ]
  },
  {
   "cell_type": "code",
   "execution_count": null,
   "id": "11198cd6-8400-40ac-ab8b-4d8af37bd139",
   "metadata": {},
   "outputs": [],
   "source": [
    "fit <- eBayes(fit, trend=TRUE)"
   ]
  },
  {
   "cell_type": "code",
   "execution_count": null,
   "id": "b4ad02b3-b6dd-4b27-ad4c-aed5fb045753",
   "metadata": {
    "scrolled": true
   },
   "outputs": [],
   "source": [
    "topTable(fit, coef=ncol(design))"
   ]
  },
  {
   "cell_type": "code",
   "execution_count": null,
   "id": "d6e84c83-db66-4647-8b4f-ee05f5e29700",
   "metadata": {},
   "outputs": [],
   "source": [
    "# to give more weight to fold-changes in the junction ranking\n",
    "fit <- lmFit(logCPM, design)\n",
    "fit <- treat(fit, lfc=log2(1.2), trend=TRUE)\n",
    "topTreat(fit, coef=ncol(design))"
   ]
  },
  {
   "cell_type": "code",
   "execution_count": null,
   "id": "178287e1-20e0-4c4f-b419-1a769bf0cb88",
   "metadata": {},
   "outputs": [],
   "source": [
    "# find the annotations for these junctions\n",
    "lookup = rownames(topTreat(fit, coef=ncol(design)))\n",
    "lookup"
   ]
  },
  {
   "cell_type": "code",
   "execution_count": null,
   "id": "6c12a821-34ac-4208-90fd-86d54d048a28",
   "metadata": {},
   "outputs": [],
   "source": [
    "featureData[lookup,]"
   ]
  },
  {
   "cell_type": "code",
   "execution_count": null,
   "id": "031cd06d-5bec-4567-913f-72dfbe40b9c4",
   "metadata": {},
   "outputs": [],
   "source": [
    "geneSymbol <- featureData[lookup,2]\n",
    "as.matrix(geneSymbol)"
   ]
  },
  {
   "cell_type": "code",
   "execution_count": null,
   "id": "6f8cb1a8-d8eb-49c6-ba77-2e238cf592fd",
   "metadata": {},
   "outputs": [],
   "source": [
    "v <- voom(dge, design, plot=TRUE)"
   ]
  },
  {
   "cell_type": "code",
   "execution_count": null,
   "id": "93131a9e-fc04-4c4f-9a6b-c9adcf17f032",
   "metadata": {},
   "outputs": [],
   "source": [
    "summary(v)"
   ]
  },
  {
   "cell_type": "code",
   "execution_count": null,
   "id": "325afc7c-bd49-4078-92f7-4669a0cc22da",
   "metadata": {},
   "outputs": [],
   "source": [
    "vfit <- lmFit(v, design)\n",
    "vfit <- eBayes (vfit)\n",
    "vfit <- treat(vfit, lfc=log2(1.2))\n",
    "topTreat(vfit, coef=ncol(design))"
   ]
  },
  {
   "cell_type": "code",
   "execution_count": null,
   "id": "50cc013f-cc15-4eb1-a7ef-db1f1e8065e8",
   "metadata": {},
   "outputs": [],
   "source": [
    "de_results <- topTreat(vfit, coef=ncol(design), n=Inf, sort.by=\"logFC\")"
   ]
  },
  {
   "cell_type": "code",
   "execution_count": null,
   "id": "a0da4b38-769f-4965-90bb-d3271729c4d8",
   "metadata": {},
   "outputs": [],
   "source": [
    "head(de_results)"
   ]
  },
  {
   "cell_type": "code",
   "execution_count": null,
   "id": "18dad96e-fb53-490b-9f8c-f39fbd70552f",
   "metadata": {},
   "outputs": [],
   "source": [
    "# Assuming you have the 'de_results' object from topTable\n",
    "fold_change_threshold <- 5\n",
    "adjusted_pvalue_threshold <- 0.05\n",
    "\n",
    "# Select genes that meet both fold change and adjusted p-value criteria\n",
    "significant_genes <- de_results[\n",
    "  abs(de_results$logFC) > fold_change_threshold &\n",
    "  de_results$adj.P.Val < adjusted_pvalue_threshold,\n",
    "]\n"
   ]
  },
  {
   "cell_type": "code",
   "execution_count": null,
   "id": "48454ac2-159f-41b9-aa98-6f812dc726a5",
   "metadata": {},
   "outputs": [],
   "source": [
    "dim(significant_genes)"
   ]
  },
  {
   "cell_type": "code",
   "execution_count": null,
   "id": "9858352f-cc2e-4c5f-8346-bf20f95e310d",
   "metadata": {},
   "outputs": [],
   "source": [
    "transformed_expression <- v$E"
   ]
  },
  {
   "cell_type": "code",
   "execution_count": null,
   "id": "9ca6a13b-dbe7-41d5-8d80-b430a597f1fa",
   "metadata": {},
   "outputs": [],
   "source": [
    "head(rownames(transformed_expression))\n",
    "dim(transformed_expression)"
   ]
  },
  {
   "cell_type": "code",
   "execution_count": null,
   "id": "8884eee5-03f1-409c-a25c-8001c9390c83",
   "metadata": {},
   "outputs": [],
   "source": [
    "significant_transformed_expression <- transformed_expression[rownames(significant_genes),]"
   ]
  },
  {
   "cell_type": "code",
   "execution_count": null,
   "id": "96f2b735-a3f7-4ffa-a06b-eedce7b517fd",
   "metadata": {},
   "outputs": [],
   "source": [
    "head(significant_transformed_expression,3)"
   ]
  },
  {
   "cell_type": "code",
   "execution_count": null,
   "id": "f1ad712a-0b45-491e-a7a3-a1d3ee00cf0b",
   "metadata": {},
   "outputs": [],
   "source": [
    "string_gene_list <- as.matrix(featureData[rownames(significant_genes),2])\n",
    "length(string_gene_list)\n",
    "#string_gene_list"
   ]
  },
  {
   "cell_type": "code",
   "execution_count": null,
   "id": "db718651-37df-4098-81a9-fd45c9980e5b",
   "metadata": {},
   "outputs": [],
   "source": [
    "top_genes_expression <- dge[rownames(significant_genes),]"
   ]
  },
  {
   "cell_type": "code",
   "execution_count": null,
   "id": "f9405aef-5e48-4fe6-96ca-8b5970f5aff6",
   "metadata": {},
   "outputs": [],
   "source": [
    "dim(top_genes_expression)"
   ]
  },
  {
   "cell_type": "code",
   "execution_count": null,
   "id": "f3575f36-24a1-4a0f-84b2-a74faaae20ea",
   "metadata": {},
   "outputs": [],
   "source": [
    "head(top_genes_expression,10)"
   ]
  },
  {
   "cell_type": "code",
   "execution_count": null,
   "id": "4ed2ef9c-b73b-4fc5-a47d-428dc3ec9bfd",
   "metadata": {},
   "outputs": [],
   "source": [
    "top_transformed_expression <- v$E[rownames(significant_genes),]\n",
    "dim(top_transformed_expression)\n",
    "rnames <- as.data.frame(featureData[rownames(significant_genes),2])\n",
    "#rnames"
   ]
  },
  {
   "cell_type": "code",
   "execution_count": null,
   "id": "eef5585b-9f82-42d2-99db-a4bb620ec6f7",
   "metadata": {},
   "outputs": [],
   "source": [
    "library(\"pheatmap\")\n",
    "df <- as.data.frame(coldata[,c(\"condition\",\"patient\")])"
   ]
  },
  {
   "cell_type": "code",
   "execution_count": null,
   "id": "80c65d4d-8d62-4973-81db-7fcdb1a6618a",
   "metadata": {},
   "outputs": [],
   "source": [
    "# fc 5 - 2132 genes\n",
    "pheatmap(top_genes_expression, cluster_rows5=TRUE, show_rownames=FALSE,\n",
    "         cluster_cols=TRUE, annotation_col=df, scale=\"row\")"
   ]
  },
  {
   "cell_type": "code",
   "execution_count": null,
   "id": "6d890645-6327-4629-a3bf-fbb7a46a31aa",
   "metadata": {},
   "outputs": [],
   "source": [
    "# fc 8\n",
    "# Assuming you have the 'de_results' object from topTable\n",
    "fold_change_threshold <- 9.5\n",
    "adjusted_pvalue_threshold <- 0.05\n",
    "\n",
    "# Select genes that meet both fold change and adjusted p-value criteria\n",
    "significant_genes <- de_results[\n",
    "  abs(de_results$logFC) > fold_change_threshold &\n",
    "  de_results$adj.P.Val < adjusted_pvalue_threshold,\n",
    "]\n",
    "dim(significant_genes)"
   ]
  },
  {
   "cell_type": "code",
   "execution_count": null,
   "id": "5e00f63f-759d-4e1c-963e-273245af5634",
   "metadata": {},
   "outputs": [],
   "source": [
    "top_genes_expression <- dge[rownames(significant_genes),]\n",
    "# fc 5 - 2132 genes\n",
    "pheatmap(top_genes_expression, cluster_rows5=TRUE, show_rownames=FALSE,\n",
    "         cluster_cols=TRUE, annotation_col=df, scale=\"row\")"
   ]
  },
  {
   "cell_type": "code",
   "execution_count": null,
   "id": "6b1997a6-9588-40c0-b743-8012f3606442",
   "metadata": {},
   "outputs": [],
   "source": [
    "# find the annotations for these junctions\n",
    "lookup = rownames(significant_genes)\n",
    "\n",
    "as.matrix(featureData[lookup,2], )"
   ]
  },
  {
   "cell_type": "code",
   "execution_count": null,
   "id": "f0387b68-7aa9-4df4-a356-c6c4aad79dac",
   "metadata": {},
   "outputs": [],
   "source": [
    " results <- decideTests(vfit)"
   ]
  },
  {
   "cell_type": "code",
   "execution_count": null,
   "id": "de8ec767-98bf-4fd6-b0bf-4771980dd4d1",
   "metadata": {},
   "outputs": [],
   "source": [
    "dim(results)\n",
    "summary(results)"
   ]
  },
  {
   "cell_type": "code",
   "execution_count": null,
   "id": "bf3acbe5-f2f8-41a0-b23d-579a1d91c41e",
   "metadata": {},
   "outputs": [],
   "source": [
    "vennDiagram(results)"
   ]
  },
  {
   "cell_type": "code",
   "execution_count": null,
   "id": "aaf9494d-ec76-4342-9f96-9f5ba5a6acf0",
   "metadata": {
    "scrolled": true
   },
   "outputs": [],
   "source": [
    "v <- voom(dge, design, plot=TRUE)"
   ]
  },
  {
   "cell_type": "code",
   "execution_count": null,
   "id": "591ec108-fd70-4af5-b603-7c9742b427c3",
   "metadata": {},
   "outputs": [],
   "source": [
    "fit <- lmFit(v, design)"
   ]
  },
  {
   "cell_type": "code",
   "execution_count": null,
   "id": "aa1a3b14-4c9a-4473-95ee-1406e4f7fb73",
   "metadata": {},
   "outputs": [],
   "source": [
    "fit2 <- contrasts.fit(fit,contrast.matrix)"
   ]
  },
  {
   "cell_type": "code",
   "execution_count": null,
   "id": "a293fc78-6fed-4a94-a4fc-4c447b58f096",
   "metadata": {},
   "outputs": [],
   "source": [
    "fit2 <- eBayes(fit2)"
   ]
  },
  {
   "cell_type": "code",
   "execution_count": null,
   "id": "958c687d-4f03-4962-bbc9-b4a36606fc25",
   "metadata": {},
   "outputs": [],
   "source": [
    "topTable(fit2, adjust=\"BH\")"
   ]
  },
  {
   "cell_type": "code",
   "execution_count": null,
   "id": "e9f5cb77-1c9a-4a5d-bc6f-d1f9b26e642f",
   "metadata": {},
   "outputs": [],
   "source": [
    "de_results_fit2 <- topTable(fit2, adjust=\"BH\", n=Inf)\n",
    "dim(de_results_fit2)"
   ]
  },
  {
   "cell_type": "code",
   "execution_count": null,
   "id": "491dbfb0-bc47-4c8a-9acf-dce5a283cc2b",
   "metadata": {},
   "outputs": [],
   "source": [
    "head(de_results_fit2[,c(\"TAM\")])\n"
   ]
  },
  {
   "cell_type": "code",
   "execution_count": null,
   "id": "a4802335-100e-49b0-bec6-aea386258940",
   "metadata": {},
   "outputs": [],
   "source": [
    "de_results_fit2_ratio <- matrix(1.0,\n",
    "              nrow = dim(de_results_fit2)[1],\n",
    "              ncol = 1)\n",
    "dim(de_results_fit2_ratio)\n",
    "head(de_results_fit2_ratio,3)"
   ]
  },
  {
   "cell_type": "code",
   "execution_count": null,
   "id": "1bdff71b-61bf-4768-a0d3-45328907e231",
   "metadata": {},
   "outputs": [],
   "source": [
    "i = 2000"
   ]
  },
  {
   "cell_type": "code",
   "execution_count": null,
   "id": "ce6fd9c0-8c2f-4401-a336-941f306c83db",
   "metadata": {},
   "outputs": [],
   "source": [
    "de_results_fit2[i,c(\"TAM\")] > de_results_fit2[i,c(\"AML\")]"
   ]
  },
  {
   "cell_type": "code",
   "execution_count": null,
   "id": "e6e83f9a-4e4e-424a-8f43-d1e6616e35b0",
   "metadata": {},
   "outputs": [],
   "source": [
    "de_results_fit2_ratio[i] = as.double((de_results_fit2[i,c(\"TAM\")])/(de_results_fit2[i,c(\"AML\")]))\n"
   ]
  },
  {
   "cell_type": "code",
   "execution_count": null,
   "id": "b8063357-9af9-4e29-9722-84ea7da1c87a",
   "metadata": {},
   "outputs": [],
   "source": [
    "de_results_fit2_ratio[i]"
   ]
  },
  {
   "cell_type": "code",
   "execution_count": null,
   "id": "e2122210-2d17-4779-a389-d8320e525603",
   "metadata": {},
   "outputs": [],
   "source": [
    "for (i in 1:10) {\n",
    "    if (de_results_fit2[i,c(\"TAM\")] >= de_results_fit2[i,c(\"AML\")] ){\n",
    "        de_results_fit2_ratio[i] = as.double((de_results_fit2[i,c(\"TAM\")])/(de_results_fit2[i,c(\"AML\")]))\n",
    "    } else {\n",
    "        de_results_fit2_ratio[i] = as.double((de_results_fit2[i,c(\"AML\")])/(de_results_fit2[i,c(\"TAM\")]))\n",
    "    }\n",
    "}\n"
   ]
  },
  {
   "cell_type": "code",
   "execution_count": null,
   "id": "5746609a-ff1c-45d4-adf9-a91d2f3e3093",
   "metadata": {},
   "outputs": [],
   "source": [
    "head (de_results_fit2_ratio)"
   ]
  },
  {
   "cell_type": "code",
   "execution_count": null,
   "id": "467906e9-d5d9-48f0-8a45-dbeb783a4de7",
   "metadata": {},
   "outputs": [],
   "source": [
    "results2 <- decideTests(fit2)"
   ]
  },
  {
   "cell_type": "code",
   "execution_count": null,
   "id": "c309dc80-6746-4e74-9c40-f78ed4a05d82",
   "metadata": {},
   "outputs": [],
   "source": [
    "vennDiagram(results2)"
   ]
  },
  {
   "cell_type": "code",
   "execution_count": null,
   "id": "820500b2-1cda-4fc1-b7a4-e473a5214d3f",
   "metadata": {
    "scrolled": true
   },
   "outputs": [],
   "source": [
    "vennCounts(results2)"
   ]
  },
  {
   "cell_type": "code",
   "execution_count": null,
   "id": "087e9556-114a-4a7e-9b44-f46ebee51b9b",
   "metadata": {},
   "outputs": [],
   "source": []
  },
  {
   "cell_type": "code",
   "execution_count": null,
   "id": "eff0ec3b-9970-467d-8799-0bdbb40096bc",
   "metadata": {},
   "outputs": [],
   "source": []
  },
  {
   "cell_type": "code",
   "execution_count": null,
   "id": "6108c3ea-7fd3-4221-9609-184c2d9fbbe8",
   "metadata": {},
   "outputs": [],
   "source": []
  },
  {
   "cell_type": "code",
   "execution_count": null,
   "id": "7ec5a6af-69f0-448f-8583-0786f1106ffe",
   "metadata": {},
   "outputs": [],
   "source": [
    "contrasts_fit_venn_counts <- vennCounts(results2)"
   ]
  },
  {
   "cell_type": "code",
   "execution_count": null,
   "id": "92ffda9b-4736-46aa-a404-6f088c86d8a1",
   "metadata": {},
   "outputs": [],
   "source": [
    "contrasts_fit_venn_counts"
   ]
  },
  {
   "cell_type": "code",
   "execution_count": null,
   "id": "9a9abf9f-5404-422b-939e-8c184a82bb04",
   "metadata": {},
   "outputs": [],
   "source": [
    "head(results2)"
   ]
  },
  {
   "cell_type": "code",
   "execution_count": null,
   "id": "9800a798-dda4-4248-9feb-05204ef8fe84",
   "metadata": {},
   "outputs": [],
   "source": [
    "head(de_results2)"
   ]
  },
  {
   "cell_type": "code",
   "execution_count": null,
   "id": "b10b921a-3668-4bea-ad89-878d26374128",
   "metadata": {},
   "outputs": [],
   "source": [
    "filtered_de_results2 <- de_results2[c((abs(de_results2[,c(\"AMLvsTAM\")]) > 1.5) |\n",
    "                        (abs(de_results2[,c(\"TAMvsAML\")]) > 1.5)),]"
   ]
  },
  {
   "cell_type": "code",
   "execution_count": null,
   "id": "310c8508-fd1e-44f1-9246-0a91f2572dd4",
   "metadata": {},
   "outputs": [],
   "source": [
    "filtered_de_results2"
   ]
  },
  {
   "cell_type": "code",
   "execution_count": null,
   "id": "03d82982-1ca4-497a-8692-bc485da15407",
   "metadata": {},
   "outputs": [],
   "source": [
    "# Assuming you have the 'de_results' object from topTable\n",
    "fold_change_threshold <- 1.5\n",
    "adjusted_pvalue_threshold <- 0.05\n",
    "\n",
    "# Select genes that meet both fold change and adjusted p-value criteria\n",
    "significant_genes <- de_results2[\n",
    "  abs(de_results2$logFC) > fold_change_threshold &\n",
    "  de_results2$adj.P.Val < adjusted_pvalue_threshold,\n",
    "]\n"
   ]
  },
  {
   "cell_type": "code",
   "execution_count": null,
   "id": "37ed6e84-8575-4db5-a5ad-3883759c8345",
   "metadata": {},
   "outputs": [],
   "source": [
    "summary(results2)"
   ]
  },
  {
   "cell_type": "code",
   "execution_count": null,
   "id": "58b3e3ca-729e-49cd-9cd7-d40cd306c877",
   "metadata": {},
   "outputs": [],
   "source": [
    "dim(results2)"
   ]
  },
  {
   "cell_type": "code",
   "execution_count": null,
   "id": "5b117bff-ad3c-40fd-b35c-366647749cb4",
   "metadata": {},
   "outputs": [],
   "source": [
    "library(\"pheatmap\")\n",
    "select <- \n",
    "df <- as.data.frame(colData(dds)[,c(\"condition\",\"patient\")])\n"
   ]
  },
  {
   "cell_type": "code",
   "execution_count": null,
   "id": "6d34709c-4969-4938-9963-54c29736f4e5",
   "metadata": {},
   "outputs": [],
   "source": [
    "ddsLRT <- DESeq(dds, test=\"LRT\", reduced=~1)\n",
    "resLRT <- results(ddsLRT)"
   ]
  },
  {
   "cell_type": "code",
   "execution_count": null,
   "id": "e2ab4d0b-74df-4e12-96bf-67f2dbe0a263",
   "metadata": {},
   "outputs": [],
   "source": [
    "vsd <- vst(dds, blind=FALSE)\n"
   ]
  },
  {
   "cell_type": "code",
   "execution_count": null,
   "id": "52f6d473-4637-40ca-8035-07cc554b6748",
   "metadata": {},
   "outputs": [],
   "source": [
    "??vsd"
   ]
  },
  {
   "cell_type": "code",
   "execution_count": null,
   "id": "5c53ee2f-7f75-411f-9be2-01731df2e7b1",
   "metadata": {},
   "outputs": [],
   "source": []
  },
  {
   "cell_type": "code",
   "execution_count": null,
   "id": "3f2233b4-e2cf-4cfc-ac20-50bbae43fcda",
   "metadata": {},
   "outputs": [],
   "source": [
    "head(assay(vsd), 3)\n"
   ]
  },
  {
   "cell_type": "code",
   "execution_count": null,
   "id": "d2e8c6f9-5d4f-48b6-b29b-8bab3f693893",
   "metadata": {},
   "outputs": [],
   "source": [
    "library(\"vsn\")\n",
    "meanSdPlot(assay(vsd))"
   ]
  },
  {
   "cell_type": "code",
   "execution_count": null,
   "id": "518668cd-dff7-4fcc-9d3c-ec2fa9c5bdbf",
   "metadata": {},
   "outputs": [],
   "source": [
    "vsdBlindTRUE <- vst(dds, blind=TRUE)\n",
    "meanSdPlot(assay(vsdBlindTRUE))"
   ]
  },
  {
   "cell_type": "code",
   "execution_count": null,
   "id": "a175d046-dc2b-42b1-a32e-68736278c33a",
   "metadata": {},
   "outputs": [],
   "source": [
    "# this gives log2(n + 1)\n",
    "ntd <- normTransform(dds)\n",
    "meanSdPlot(assay(ntd))"
   ]
  },
  {
   "cell_type": "code",
   "execution_count": null,
   "id": "043bda4a-bdc1-4b70-921b-02e19e2cc5da",
   "metadata": {},
   "outputs": [],
   "source": [
    "dim(dds)"
   ]
  },
  {
   "cell_type": "code",
   "execution_count": null,
   "id": "5a1f972b-54f3-4c57-91d3-7e6cd425148e",
   "metadata": {},
   "outputs": [],
   "source": [
    "library(\"pheatmap\")\n",
    "select <- order(rowMeans(counts(dds,normalized=FALSE)),\n",
    "                decreasing=FALSE)[87000:97000]\n",
    "df <- as.data.frame(colData(dds)[,c(\"condition\",\"patient\")])\n"
   ]
  },
  {
   "cell_type": "code",
   "execution_count": null,
   "id": "f1ee2607-aeb8-49df-8224-1869bd4ad281",
   "metadata": {},
   "outputs": [],
   "source": [
    "pheatmap(assay(ntd)[select,], cluster_rows5=FALSE, show_rownames=FALSE,\n",
    "         cluster_cols=FALSE, annotation_col=df)"
   ]
  },
  {
   "cell_type": "markdown",
   "id": "33e61d07-360c-4aa7-a754-9d2ed4f599a7",
   "metadata": {},
   "source": [
    "Heatmap of the sample-to-sample distances\n",
    "Another use of the transformed data is sample clustering. Here, we apply the dist function to the transpose of the transformed count matrix to get sample-to-sample distances.\n",
    "\n"
   ]
  },
  {
   "cell_type": "code",
   "execution_count": null,
   "id": "9fe3d5dc-66b3-4111-96d8-3ed916490e84",
   "metadata": {},
   "outputs": [],
   "source": [
    "sampleDists <- dist(t(assay(vsd)))\n"
   ]
  },
  {
   "cell_type": "code",
   "execution_count": null,
   "id": "0f874e56-0ee7-444d-83b2-b5bbcf4bd794",
   "metadata": {},
   "outputs": [],
   "source": [
    "library(\"RColorBrewer\")\n",
    "sampleDistMatrix <- as.matrix(sampleDists)\n"
   ]
  },
  {
   "cell_type": "code",
   "execution_count": null,
   "id": "84789d63-0dc2-4005-ab80-76250b186c74",
   "metadata": {},
   "outputs": [],
   "source": [
    "rownames(sampleDistMatrix) <- paste(vsd$condition, vsd$patient, sep=\"-\")\n",
    "colnames(sampleDistMatrix) <- NULL\n",
    "colors <- colorRampPalette( rev(brewer.pal(9, \"Blues\")) )(255)\n"
   ]
  },
  {
   "cell_type": "code",
   "execution_count": null,
   "id": "b36d7127-dcd0-49ca-8b9b-e81c7fc4402c",
   "metadata": {},
   "outputs": [],
   "source": [
    "pheatmap(sampleDistMatrix,\n",
    "         clustering_distance_rows=sampleDists,\n",
    "         clustering_distance_cols=sampleDists,\n",
    "         col=colors)"
   ]
  },
  {
   "cell_type": "code",
   "execution_count": null,
   "id": "67ddd75d-bf46-47f3-a183-958f9146fa24",
   "metadata": {},
   "outputs": [],
   "source": [
    "plotPCA(vsd, intgroup=c(\"condition\", \"patient\"))\n"
   ]
  },
  {
   "cell_type": "code",
   "execution_count": null,
   "id": "b85ca5fd-a997-4597-a7df-ab2621e7cf4f",
   "metadata": {},
   "outputs": [],
   "source": [
    "library(\"ggplot2\")"
   ]
  },
  {
   "cell_type": "code",
   "execution_count": null,
   "id": "fe695d75-4391-488c-a7ca-a0496dce36cc",
   "metadata": {},
   "outputs": [],
   "source": [
    "pcaData <- plotPCA(vsd, intgroup=c(\"condition\", \"patient\"), returnData=TRUE)\n",
    "percentVar <- round(100 * attr(pcaData, \"percentVar\"))\n",
    "ggplot(pcaData, aes(PC1, PC2, color=condition, shape=patient)) +\n",
    "  geom_point(size=3) +\n",
    "  xlab(paste0(\"PC1: \",percentVar[1],\"% variance\")) +\n",
    "  ylab(paste0(\"PC2: \",percentVar[2],\"% variance\")) + \n",
    "  coord_fixed()\n"
   ]
  },
  {
   "cell_type": "markdown",
   "id": "ccf61f78-0021-4012-adbb-6a30299e63c7",
   "metadata": {},
   "source": [
    "Interactions"
   ]
  },
  {
   "cell_type": "code",
   "execution_count": null,
   "id": "408fe8ff-251c-4d25-bc06-574c403ef693",
   "metadata": {},
   "outputs": [],
   "source": [
    "dds$group <- factor(paste0(dds$patient, dds$condition))\n"
   ]
  },
  {
   "cell_type": "code",
   "execution_count": null,
   "id": "4ceab14a-d4a4-46de-9810-e1280e50dfe8",
   "metadata": {},
   "outputs": [],
   "source": [
    "design(dds) <- ~ group\n"
   ]
  },
  {
   "cell_type": "code",
   "execution_count": null,
   "id": "d4941184-8552-4acf-9a7f-078f861679d3",
   "metadata": {},
   "outputs": [],
   "source": [
    "dds <- DESeq(dds)\n"
   ]
  },
  {
   "cell_type": "code",
   "execution_count": null,
   "id": "344faf76-d6e0-424c-a19f-42db19d78978",
   "metadata": {},
   "outputs": [],
   "source": [
    "levels(ddsMF$condition)"
   ]
  },
  {
   "cell_type": "code",
   "execution_count": null,
   "id": "5a03e574-3eb8-4480-8a30-c8f9272249c3",
   "metadata": {},
   "outputs": [],
   "source": [
    "design(ddsMF) <- formula(~ condition)\n"
   ]
  },
  {
   "cell_type": "code",
   "execution_count": null,
   "id": "846a4fee-86f3-4980-bfee-4f7b962c4a85",
   "metadata": {},
   "outputs": [],
   "source": [
    "ddsMF <- DESeq(ddsMF)\n"
   ]
  },
  {
   "cell_type": "code",
   "execution_count": null,
   "id": "8168539a-ee11-4b64-be84-140b7f68e643",
   "metadata": {},
   "outputs": [],
   "source": [
    "resMFType <- results(ddsMF)\n",
    "head(resMFType)"
   ]
  },
  {
   "cell_type": "code",
   "execution_count": null,
   "id": "32f0c458-edd2-485f-acb5-1ffd46e45e9b",
   "metadata": {},
   "outputs": [],
   "source": [
    "plotMA(resMFType, ylim = c(-20, 20))\n"
   ]
  },
  {
   "cell_type": "code",
   "execution_count": null,
   "id": "ecbd8d70-7dcd-4510-9fa2-5a5b815f0e4d",
   "metadata": {},
   "outputs": [],
   "source": [
    "library(\"BiocParallel\")\n",
    "register(MulticoreParam(2))"
   ]
  },
  {
   "cell_type": "code",
   "execution_count": null,
   "id": "8b6b1b25-d41d-4cde-88c2-d16f4f9583b5",
   "metadata": {},
   "outputs": [],
   "source": [
    "plotMA(res.noshr, ylim = c(-20, 20))\n"
   ]
  },
  {
   "cell_type": "code",
   "execution_count": null,
   "id": "bc1eb74d-9275-441e-9a94-e28b5314b643",
   "metadata": {},
   "outputs": [],
   "source": [
    "reslfc <- lfcShrink(dds, coef=\"condition_AML_vs_TAM\", type=\"apeglm\")"
   ]
  },
  {
   "cell_type": "markdown",
   "id": "b0c3f333-54d9-4ca0-846d-323fa191cec3",
   "metadata": {},
   "source": [
    "res here is using shrinkage to alter the variation sensitive to each of the junctions."
   ]
  },
  {
   "cell_type": "code",
   "execution_count": null,
   "id": "8474f3f1-5283-4f30-b0ed-975b1b455c2f",
   "metadata": {},
   "outputs": [],
   "source": [
    "plotMA(reslfs, ylim = c(-2, 2))"
   ]
  },
  {
   "cell_type": "code",
   "execution_count": null,
   "id": "8cf33809-d077-45fc-a087-30bbd51e3e38",
   "metadata": {},
   "outputs": [],
   "source": [
    "resOrdered <- res[order(res$pvalue),]\n"
   ]
  },
  {
   "cell_type": "code",
   "execution_count": null,
   "id": "8dcd7096-6df8-4c9c-9fb3-90e2383f8e48",
   "metadata": {},
   "outputs": [],
   "source": [
    "par(mar=c(8,5,2,2))\n",
    "boxplot(log10(assays(dds)[[\"cooks\"]]), range=0, las=2)"
   ]
  },
  {
   "cell_type": "code",
   "execution_count": null,
   "id": "507c1ff7-65c5-4be4-a612-8fb1d70fd53f",
   "metadata": {},
   "outputs": [],
   "source": [
    "summary(res)\n"
   ]
  },
  {
   "cell_type": "code",
   "execution_count": null,
   "id": "4bd49940-478f-46e9-9f64-d2d301648135",
   "metadata": {},
   "outputs": [],
   "source": [
    "sum(res$padj < 0.05, na.rm=TRUE)\n"
   ]
  },
  {
   "cell_type": "code",
   "execution_count": null,
   "id": "73918827-d15c-4aea-97ad-7d8e8174edbf",
   "metadata": {},
   "outputs": [],
   "source": [
    "write.csv(as.data.frame(resOrdered), \n",
    "          file=\"condition_AML_vs_TAM_results_apeglm_shrinkage.csv\")"
   ]
  },
  {
   "cell_type": "code",
   "execution_count": null,
   "id": "d26f8393-cbe6-429f-ac85-3666be0efe4c",
   "metadata": {},
   "outputs": [],
   "source": [
    "# because we are interested in treated vs untreated, we set 'coef=2'\n",
    "resNorm <- lfcShrink(dds, coef=2, type=\"normal\")\n",
    "resAsh <- lfcShrink(dds, coef=2, type=\"ashr\")"
   ]
  },
  {
   "cell_type": "code",
   "execution_count": null,
   "id": "1a4b002f-3037-4cbf-8b93-18aca89d4558",
   "metadata": {},
   "outputs": [],
   "source": [
    "plotMA(res, ylim=c(-2,2))\n"
   ]
  },
  {
   "cell_type": "code",
   "execution_count": null,
   "id": "c13cc193-02b1-4350-b58d-cb91e2285ad9",
   "metadata": {},
   "outputs": [],
   "source": [
    "if (!require(\"BiocManager\", quietly = TRUE))\n",
    "    install.packages(\"BiocManager\")\n",
    "\n",
    "BiocManager::install(\"vsn\")"
   ]
  },
  {
   "cell_type": "code",
   "execution_count": null,
   "id": "d00f113d-ffef-4178-810d-5b12cde1d31d",
   "metadata": {},
   "outputs": [],
   "source": [
    "# this gives log2(n + 1)\n",
    "ntd <- normTransform(dds)\n",
    "library(\"vsn\")\n",
    "meanSdPlot(assay(ntd))"
   ]
  },
  {
   "cell_type": "code",
   "execution_count": null,
   "id": "fab9ae74-76fb-488a-9d9a-6ce3c1d060a3",
   "metadata": {},
   "outputs": [],
   "source": [
    "meanSdPlot(assay(vsd))\n"
   ]
  },
  {
   "cell_type": "code",
   "execution_count": null,
   "id": "5aa4a04c-4ccb-49c7-8658-8bcb75a1baa5",
   "metadata": {},
   "outputs": [],
   "source": []
  },
  {
   "cell_type": "code",
   "execution_count": null,
   "id": "54480680-ce55-429c-ae6d-e0e784ec47f5",
   "metadata": {},
   "outputs": [],
   "source": []
  },
  {
   "cell_type": "code",
   "execution_count": null,
   "id": "e5e25f5d-ac3d-4966-a3a6-422aa129c2da",
   "metadata": {},
   "outputs": [],
   "source": []
  }
 ],
 "metadata": {
  "kernelspec": {
   "display_name": "R",
   "language": "R",
   "name": "ir"
  },
  "language_info": {
   "codemirror_mode": "r",
   "file_extension": ".r",
   "mimetype": "text/x-r-source",
   "name": "R",
   "pygments_lexer": "r",
   "version": "4.3.1"
  }
 },
 "nbformat": 4,
 "nbformat_minor": 5
}
