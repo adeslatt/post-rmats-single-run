{
 "cells": [
  {
   "cell_type": "markdown",
   "id": "17cdd25f-23a9-4971-92c3-08278aee5375",
   "metadata": {},
   "source": [
    "Paired TAM (transcient abnormal myleoproliferation) vs AML (acute myeloid leukemia) analysis of patients with the co-occuring condition of Down Syndrome using DESeq2 on IJC counts obtained from rMATS analysis.\n",
    "\n",
    "Using a matrix constructed from Kids First Workflow V4 done on single runs, a series of scripts were created and are stored in this repository.  For each of the splicing types, all the runs considered for analysis are pooled and normalized to have a non-redundant set of splicing events.  A matrix is then constructed for each of the samples to be analyzed.  \n",
    "\n",
    "Each splicing type has a bed file for visualizaiton in UCSC Genome browser of all the events, as well as created a matrix of the single runs normalized to the non-redundant union of files.  Both the source and the normalized bed file are available to ensure interprebility of results. \n",
    "\n",
    "Using associative arrays in an awk script, it was a rapid way to transform the individual counts from each of the individual runs into a matrix that facilitated analysis.\n",
    "\n",
    "Using annotations obtained from the rMATS run that provided the coordinates of each of the splicing events as well as the gene that the junctions came from and the count of the reads that overlapped the junctions.   \n",
    " \n",
    "Limma in this notebook is used to perform analysis of these junction counts provided by the rMATS routine.  Using these counts as junction expression.\n",
    "\n",
    "Between the splicing event differences and the expression differences, between paired samples, biological functional differences may be obtained."
   ]
  },
  {
   "cell_type": "code",
   "execution_count": 1,
   "id": "7a0a13bb-f7d2-48b3-8308-fef6b197843b",
   "metadata": {},
   "outputs": [
    {
     "name": "stderr",
     "output_type": "stream",
     "text": [
      "Bioconductor version '3.18' is out-of-date; the current release version '3.19'\n",
      "  is available with R version '4.4'; see https://bioconductor.org/install\n",
      "\n"
     ]
    }
   ],
   "source": [
    "if (!require(\"BiocManager\", quietly = TRUE))\n",
    "    install.packages(\"BiocManager\", repos = \"https://cloud.r-project.org\")\n"
   ]
  },
  {
   "cell_type": "code",
   "execution_count": 2,
   "id": "2f04c3be-ecdb-4ecd-ad96-cd99b30c64b4",
   "metadata": {},
   "outputs": [
    {
     "name": "stderr",
     "output_type": "stream",
     "text": [
      "'getOption(\"repos\")' replaces Bioconductor standard repositories, see\n",
      "'help(\"repositories\", package = \"BiocManager\")' for details.\n",
      "Replacement repositories:\n",
      "    CRAN: https://cran.r-project.org\n",
      "\n",
      "Bioconductor version 3.18 (BiocManager 1.30.22), R 4.3.3 (2024-02-29)\n",
      "\n",
      "Warning message:\n",
      "“package(s) not installed when version(s) same as or greater than current; use\n",
      "  `force = TRUE` to re-install: 'dplyr'”\n",
      "Old packages: 'bbmle', 'BH', 'BiocManager', 'bslib', 'cachem', 'cli', 'coda',\n",
      "  'codetools', 'cpp11', 'crayon', 'crosstalk', 'curl', 'data.table', 'DESeq2',\n",
      "  'digest', 'edgeR', 'evaluate', 'farver', 'fastmap', 'GenomeInfoDb',\n",
      "  'ggplot2', 'gtable', 'highr', 'htmlwidgets', 'KernSmooth', 'knitr',\n",
      "  'lifecycle', 'locfit', 'munsell', 'mvtnorm', 'nlme', 'openssl', 'plotly',\n",
      "  'RcppArmadillo', 'repr', 'rlang', 'rmarkdown', 'S4Arrays', 'scales',\n",
      "  'segmented', 'SparseArray', 'stringi', 'stringr', 'survival', 'tidyselect',\n",
      "  'tinytex', 'withr', 'xfun', 'zlibbioc'\n",
      "\n"
     ]
    }
   ],
   "source": [
    "BiocManager::install(\"dplyr\")"
   ]
  },
  {
   "cell_type": "code",
   "execution_count": 3,
   "id": "6a5693e5-7f52-4651-a30c-2ba5a1899cd2",
   "metadata": {},
   "outputs": [
    {
     "name": "stderr",
     "output_type": "stream",
     "text": [
      "\n",
      "Attaching package: ‘dplyr’\n",
      "\n",
      "\n",
      "The following objects are masked from ‘package:stats’:\n",
      "\n",
      "    filter, lag\n",
      "\n",
      "\n",
      "The following objects are masked from ‘package:base’:\n",
      "\n",
      "    intersect, setdiff, setequal, union\n",
      "\n",
      "\n",
      "Loading required package: limma\n",
      "\n"
     ]
    }
   ],
   "source": [
    "library(Glimma)\n",
    "library(dplyr)\n",
    "library(edgeR)"
   ]
  },
  {
   "cell_type": "code",
   "execution_count": 4,
   "id": "9efb6cf3-4204-44df-906a-aa961bdcb948",
   "metadata": {},
   "outputs": [],
   "source": [
    "setwd(\"/Users/annedeslattesmays/Scitechcon\\ Dropbox/Anne\\ DeslattesMays/projects/post-rmats-single-run/TAM.AML.all/A3SS_calculate\")"
   ]
  },
  {
   "cell_type": "code",
   "execution_count": 5,
   "id": "ebbacdca-4a2c-49fb-bddd-d8f8ae75c06c",
   "metadata": {},
   "outputs": [
    {
     "data": {
      "text/html": [
       "'/Users/annedeslattesmays/Scitechcon Dropbox/Anne DeslattesMays/projects/post-rmats-single-run/TAM.AML.all/A3SS_calculate'"
      ],
      "text/latex": [
       "'/Users/annedeslattesmays/Scitechcon Dropbox/Anne DeslattesMays/projects/post-rmats-single-run/TAM.AML.all/A3SS\\_calculate'"
      ],
      "text/markdown": [
       "'/Users/annedeslattesmays/Scitechcon Dropbox/Anne DeslattesMays/projects/post-rmats-single-run/TAM.AML.all/A3SS_calculate'"
      ],
      "text/plain": [
       "[1] \"/Users/annedeslattesmays/Scitechcon Dropbox/Anne DeslattesMays/projects/post-rmats-single-run/TAM.AML.all/A3SS_calculate\""
      ]
     },
     "metadata": {},
     "output_type": "display_data"
    }
   ],
   "source": [
    "getwd()\n"
   ]
  },
  {
   "cell_type": "code",
   "execution_count": 6,
   "id": "48a148e7-6e39-4f98-a6e8-064ba01cec41",
   "metadata": {},
   "outputs": [],
   "source": [
    "cts <- as.matrix(read.csv(\"A3SS.IJC.w.coordinates.matrix.csv\",sep=\",\",row.names=\"ID\"))"
   ]
  },
  {
   "cell_type": "code",
   "execution_count": 7,
   "id": "d3a654c3-f7fb-4566-af91-a2edb224780c",
   "metadata": {},
   "outputs": [
    {
     "data": {
      "text/html": [
       "<style>\n",
       ".list-inline {list-style: none; margin:0; padding: 0}\n",
       ".list-inline>li {display: inline-block}\n",
       ".list-inline>li:not(:last-child)::after {content: \"\\00b7\"; padding: 0 .5ex}\n",
       "</style>\n",
       "<ol class=list-inline><li>14527</li><li>126</li></ol>\n"
      ],
      "text/latex": [
       "\\begin{enumerate*}\n",
       "\\item 14527\n",
       "\\item 126\n",
       "\\end{enumerate*}\n"
      ],
      "text/markdown": [
       "1. 14527\n",
       "2. 126\n",
       "\n",
       "\n"
      ],
      "text/plain": [
       "[1] 14527   126"
      ]
     },
     "metadata": {},
     "output_type": "display_data"
    }
   ],
   "source": [
    "dim(cts)"
   ]
  },
  {
   "cell_type": "code",
   "execution_count": 8,
   "id": "4815f6ea-bb3f-40ee-ad49-91199f8be66b",
   "metadata": {},
   "outputs": [
    {
     "data": {
      "text/html": [
       "<table class=\"dataframe\">\n",
       "<caption>A matrix: 3 × 116 of type chr</caption>\n",
       "<thead>\n",
       "\t<tr><th></th><th scope=col>PASNSP.03A</th><th scope=col>PASWXF.03A</th><th scope=col>PASXCL.03A</th><th scope=col>PASXFP.03A</th><th scope=col>PASZBH.03A</th><th scope=col>PATBFK.03A</th><th scope=col>PATDXB.03A</th><th scope=col>PATHYW.03A</th><th scope=col>PATJSM.03A</th><th scope=col>PATJTW.03A</th><th scope=col>⋯</th><th scope=col>PAYEGL.03A</th><th scope=col>PAYFEJ.03A</th><th scope=col>PAYFLR.03A</th><th scope=col>PAYJHN.03A</th><th scope=col>PAYJHS.03A</th><th scope=col>PAYLHE.03A</th><th scope=col>X_1_PAUTLA.03A</th><th scope=col>X_1_PAUTLA.40A</th><th scope=col>X_1_PAVUDU.03A</th><th scope=col>X_1_PAVUDU.40A</th></tr>\n",
       "</thead>\n",
       "<tbody>\n",
       "\t<tr><th scope=row>1</th><td>   19</td><td>    0</td><td>    0</td><td>    0</td><td>    0</td><td>    0</td><td>    0</td><td>    0</td><td>    0</td><td>    0</td><td>⋯</td><td>    0</td><td>    0</td><td>    0</td><td>    9</td><td>    0</td><td>    0</td><td>    0</td><td>    0</td><td>    0</td><td>    0</td></tr>\n",
       "\t<tr><th scope=row>2</th><td>    0</td><td>    0</td><td>    0</td><td>    0</td><td>    0</td><td>    0</td><td>    0</td><td>    0</td><td>    0</td><td>    0</td><td>⋯</td><td>    0</td><td>    0</td><td>    0</td><td>    0</td><td>    0</td><td>    0</td><td>    0</td><td>    0</td><td>    0</td><td>    0</td></tr>\n",
       "\t<tr><th scope=row>3</th><td>    0</td><td>    0</td><td>    0</td><td>    0</td><td>    0</td><td>    0</td><td>    0</td><td>    0</td><td>    0</td><td>    0</td><td>⋯</td><td>    0</td><td>    0</td><td>    0</td><td>    0</td><td>    0</td><td>    0</td><td>    0</td><td>    0</td><td>    0</td><td>    0</td></tr>\n",
       "</tbody>\n",
       "</table>\n"
      ],
      "text/latex": [
       "A matrix: 3 × 116 of type chr\n",
       "\\begin{tabular}{r|lllllllllllllllllllll}\n",
       "  & PASNSP.03A & PASWXF.03A & PASXCL.03A & PASXFP.03A & PASZBH.03A & PATBFK.03A & PATDXB.03A & PATHYW.03A & PATJSM.03A & PATJTW.03A & ⋯ & PAYEGL.03A & PAYFEJ.03A & PAYFLR.03A & PAYJHN.03A & PAYJHS.03A & PAYLHE.03A & X\\_1\\_PAUTLA.03A & X\\_1\\_PAUTLA.40A & X\\_1\\_PAVUDU.03A & X\\_1\\_PAVUDU.40A\\\\\n",
       "\\hline\n",
       "\t1 &    19 &     0 &     0 &     0 &     0 &     0 &     0 &     0 &     0 &     0 & ⋯ &     0 &     0 &     0 &     9 &     0 &     0 &     0 &     0 &     0 &     0\\\\\n",
       "\t2 &     0 &     0 &     0 &     0 &     0 &     0 &     0 &     0 &     0 &     0 & ⋯ &     0 &     0 &     0 &     0 &     0 &     0 &     0 &     0 &     0 &     0\\\\\n",
       "\t3 &     0 &     0 &     0 &     0 &     0 &     0 &     0 &     0 &     0 &     0 & ⋯ &     0 &     0 &     0 &     0 &     0 &     0 &     0 &     0 &     0 &     0\\\\\n",
       "\\end{tabular}\n"
      ],
      "text/markdown": [
       "\n",
       "A matrix: 3 × 116 of type chr\n",
       "\n",
       "| <!--/--> | PASNSP.03A | PASWXF.03A | PASXCL.03A | PASXFP.03A | PASZBH.03A | PATBFK.03A | PATDXB.03A | PATHYW.03A | PATJSM.03A | PATJTW.03A | ⋯ | PAYEGL.03A | PAYFEJ.03A | PAYFLR.03A | PAYJHN.03A | PAYJHS.03A | PAYLHE.03A | X_1_PAUTLA.03A | X_1_PAUTLA.40A | X_1_PAVUDU.03A | X_1_PAVUDU.40A |\n",
       "|---|---|---|---|---|---|---|---|---|---|---|---|---|---|---|---|---|---|---|---|---|---|\n",
       "| 1 |    19 |     0 |     0 |     0 |     0 |     0 |     0 |     0 |     0 |     0 | ⋯ |     0 |     0 |     0 |     9 |     0 |     0 |     0 |     0 |     0 |     0 |\n",
       "| 2 |     0 |     0 |     0 |     0 |     0 |     0 |     0 |     0 |     0 |     0 | ⋯ |     0 |     0 |     0 |     0 |     0 |     0 |     0 |     0 |     0 |     0 |\n",
       "| 3 |     0 |     0 |     0 |     0 |     0 |     0 |     0 |     0 |     0 |     0 | ⋯ |     0 |     0 |     0 |     0 |     0 |     0 |     0 |     0 |     0 |     0 |\n",
       "\n"
      ],
      "text/plain": [
       "  PASNSP.03A PASWXF.03A PASXCL.03A PASXFP.03A PASZBH.03A PATBFK.03A PATDXB.03A\n",
       "1    19          0          0          0          0          0          0     \n",
       "2     0          0          0          0          0          0          0     \n",
       "3     0          0          0          0          0          0          0     \n",
       "  PATHYW.03A PATJSM.03A PATJTW.03A ⋯ PAYEGL.03A PAYFEJ.03A PAYFLR.03A\n",
       "1     0          0          0      ⋯     0          0          0     \n",
       "2     0          0          0      ⋯     0          0          0     \n",
       "3     0          0          0      ⋯     0          0          0     \n",
       "  PAYJHN.03A PAYJHS.03A PAYLHE.03A X_1_PAUTLA.03A X_1_PAUTLA.40A X_1_PAVUDU.03A\n",
       "1     9          0          0          0              0              0         \n",
       "2     0          0          0          0              0              0         \n",
       "3     0          0          0          0              0              0         \n",
       "  X_1_PAVUDU.40A\n",
       "1     0         \n",
       "2     0         \n",
       "3     0         "
      ]
     },
     "metadata": {},
     "output_type": "display_data"
    }
   ],
   "source": [
    "cts[1:3,11:dim(cts)[2]]"
   ]
  },
  {
   "cell_type": "code",
   "execution_count": 9,
   "id": "f5c4a633-56a5-44c6-8c01-0dc196e12eb9",
   "metadata": {},
   "outputs": [
    {
     "data": {
      "text/html": [
       "<table class=\"dataframe\">\n",
       "<caption>A data.frame: 3 × 10</caption>\n",
       "<thead>\n",
       "\t<tr><th></th><th scope=col>GeneID</th><th scope=col>geneSymbol</th><th scope=col>chr</th><th scope=col>strand</th><th scope=col>exonStart_0base</th><th scope=col>exonEnd</th><th scope=col>upstreamES</th><th scope=col>upstreamEE</th><th scope=col>downstreamES</th><th scope=col>downstreamEE</th></tr>\n",
       "\t<tr><th></th><th scope=col>&lt;chr&gt;</th><th scope=col>&lt;chr&gt;</th><th scope=col>&lt;chr&gt;</th><th scope=col>&lt;chr&gt;</th><th scope=col>&lt;chr&gt;</th><th scope=col>&lt;chr&gt;</th><th scope=col>&lt;chr&gt;</th><th scope=col>&lt;chr&gt;</th><th scope=col>&lt;chr&gt;</th><th scope=col>&lt;chr&gt;</th></tr>\n",
       "</thead>\n",
       "<tbody>\n",
       "\t<tr><th scope=row>1</th><td>ENSG00000283761.1 </td><td>ENSG00000283761</td><td>chr1</td><td>+</td><td>100078450</td><td>100080659</td><td>100080495</td><td>100080659</td><td>100067976</td><td>100068195</td></tr>\n",
       "\t<tr><th scope=row>2</th><td>ENSG00000283761.1 </td><td>ENSG00000283761</td><td>chr1</td><td>+</td><td>100078450</td><td>100080659</td><td>100080495</td><td>100080659</td><td>100077164</td><td>100077277</td></tr>\n",
       "\t<tr><th scope=row>3</th><td>ENSG00000122435.11</td><td>TRMT13         </td><td>chr1</td><td>+</td><td>100140407</td><td>100141019</td><td>100140851</td><td>100141019</td><td>100140181</td><td>100140251</td></tr>\n",
       "</tbody>\n",
       "</table>\n"
      ],
      "text/latex": [
       "A data.frame: 3 × 10\n",
       "\\begin{tabular}{r|llllllllll}\n",
       "  & GeneID & geneSymbol & chr & strand & exonStart\\_0base & exonEnd & upstreamES & upstreamEE & downstreamES & downstreamEE\\\\\n",
       "  & <chr> & <chr> & <chr> & <chr> & <chr> & <chr> & <chr> & <chr> & <chr> & <chr>\\\\\n",
       "\\hline\n",
       "\t1 & ENSG00000283761.1  & ENSG00000283761 & chr1 & + & 100078450 & 100080659 & 100080495 & 100080659 & 100067976 & 100068195\\\\\n",
       "\t2 & ENSG00000283761.1  & ENSG00000283761 & chr1 & + & 100078450 & 100080659 & 100080495 & 100080659 & 100077164 & 100077277\\\\\n",
       "\t3 & ENSG00000122435.11 & TRMT13          & chr1 & + & 100140407 & 100141019 & 100140851 & 100141019 & 100140181 & 100140251\\\\\n",
       "\\end{tabular}\n"
      ],
      "text/markdown": [
       "\n",
       "A data.frame: 3 × 10\n",
       "\n",
       "| <!--/--> | GeneID &lt;chr&gt; | geneSymbol &lt;chr&gt; | chr &lt;chr&gt; | strand &lt;chr&gt; | exonStart_0base &lt;chr&gt; | exonEnd &lt;chr&gt; | upstreamES &lt;chr&gt; | upstreamEE &lt;chr&gt; | downstreamES &lt;chr&gt; | downstreamEE &lt;chr&gt; |\n",
       "|---|---|---|---|---|---|---|---|---|---|---|\n",
       "| 1 | ENSG00000283761.1  | ENSG00000283761 | chr1 | + | 100078450 | 100080659 | 100080495 | 100080659 | 100067976 | 100068195 |\n",
       "| 2 | ENSG00000283761.1  | ENSG00000283761 | chr1 | + | 100078450 | 100080659 | 100080495 | 100080659 | 100077164 | 100077277 |\n",
       "| 3 | ENSG00000122435.11 | TRMT13          | chr1 | + | 100140407 | 100141019 | 100140851 | 100141019 | 100140181 | 100140251 |\n",
       "\n"
      ],
      "text/plain": [
       "  GeneID             geneSymbol      chr  strand exonStart_0base exonEnd  \n",
       "1 ENSG00000283761.1  ENSG00000283761 chr1 +      100078450       100080659\n",
       "2 ENSG00000283761.1  ENSG00000283761 chr1 +      100078450       100080659\n",
       "3 ENSG00000122435.11 TRMT13          chr1 +      100140407       100141019\n",
       "  upstreamES upstreamEE downstreamES downstreamEE\n",
       "1 100080495  100080659  100067976    100068195   \n",
       "2 100080495  100080659  100077164    100077277   \n",
       "3 100140851  100141019  100140181    100140251   "
      ]
     },
     "metadata": {},
     "output_type": "display_data"
    }
   ],
   "source": [
    "featureData <- data.frame(cts[,1:10])\n",
    "featureData[1:3,]"
   ]
  },
  {
   "cell_type": "code",
   "execution_count": 10,
   "id": "5278e887-9177-49ab-9ed7-a55a41aaa467",
   "metadata": {},
   "outputs": [],
   "source": [
    "featureData <- featureData[,c(1,2)]"
   ]
  },
  {
   "cell_type": "code",
   "execution_count": 11,
   "id": "25b5f4b3-3a29-4e27-a5ec-e9224179ee04",
   "metadata": {},
   "outputs": [
    {
     "data": {
      "text/html": [
       "<table class=\"dataframe\">\n",
       "<caption>A data.frame: 2 × 2</caption>\n",
       "<thead>\n",
       "\t<tr><th></th><th scope=col>GeneID</th><th scope=col>geneSymbol</th></tr>\n",
       "\t<tr><th></th><th scope=col>&lt;chr&gt;</th><th scope=col>&lt;chr&gt;</th></tr>\n",
       "</thead>\n",
       "<tbody>\n",
       "\t<tr><th scope=row>1</th><td>ENSG00000283761.1</td><td>ENSG00000283761</td></tr>\n",
       "\t<tr><th scope=row>2</th><td>ENSG00000283761.1</td><td>ENSG00000283761</td></tr>\n",
       "</tbody>\n",
       "</table>\n"
      ],
      "text/latex": [
       "A data.frame: 2 × 2\n",
       "\\begin{tabular}{r|ll}\n",
       "  & GeneID & geneSymbol\\\\\n",
       "  & <chr> & <chr>\\\\\n",
       "\\hline\n",
       "\t1 & ENSG00000283761.1 & ENSG00000283761\\\\\n",
       "\t2 & ENSG00000283761.1 & ENSG00000283761\\\\\n",
       "\\end{tabular}\n"
      ],
      "text/markdown": [
       "\n",
       "A data.frame: 2 × 2\n",
       "\n",
       "| <!--/--> | GeneID &lt;chr&gt; | geneSymbol &lt;chr&gt; |\n",
       "|---|---|---|\n",
       "| 1 | ENSG00000283761.1 | ENSG00000283761 |\n",
       "| 2 | ENSG00000283761.1 | ENSG00000283761 |\n",
       "\n"
      ],
      "text/plain": [
       "  GeneID            geneSymbol     \n",
       "1 ENSG00000283761.1 ENSG00000283761\n",
       "2 ENSG00000283761.1 ENSG00000283761"
      ]
     },
     "metadata": {},
     "output_type": "display_data"
    }
   ],
   "source": [
    "head(featureData,2)"
   ]
  },
  {
   "cell_type": "code",
   "execution_count": 12,
   "id": "228be394-ab8d-4d29-96f0-37b7231e4fe4",
   "metadata": {},
   "outputs": [
    {
     "data": {
      "text/html": [
       "TRUE"
      ],
      "text/latex": [
       "TRUE"
      ],
      "text/markdown": [
       "TRUE"
      ],
      "text/plain": [
       "[1] TRUE"
      ]
     },
     "metadata": {},
     "output_type": "display_data"
    }
   ],
   "source": [
    "cts <- data.matrix(cts[,11:dim(cts)[2]])\n",
    "mode(cts) <- \"integer\"\n",
    "is.integer(cts)"
   ]
  },
  {
   "cell_type": "code",
   "execution_count": 13,
   "id": "287a913a-35c3-44d1-b3e0-dce02fd2aca1",
   "metadata": {},
   "outputs": [
    {
     "data": {
      "text/html": [
       "<style>\n",
       ".list-inline {list-style: none; margin:0; padding: 0}\n",
       ".list-inline>li {display: inline-block}\n",
       ".list-inline>li:not(:last-child)::after {content: \"\\00b7\"; padding: 0 .5ex}\n",
       "</style>\n",
       "<ol class=list-inline><li>14527</li><li>116</li></ol>\n"
      ],
      "text/latex": [
       "\\begin{enumerate*}\n",
       "\\item 14527\n",
       "\\item 116\n",
       "\\end{enumerate*}\n"
      ],
      "text/markdown": [
       "1. 14527\n",
       "2. 116\n",
       "\n",
       "\n"
      ],
      "text/plain": [
       "[1] 14527   116"
      ]
     },
     "metadata": {},
     "output_type": "display_data"
    },
    {
     "data": {
      "text/html": [
       "<table class=\"dataframe\">\n",
       "<caption>A matrix: 2 × 116 of type int</caption>\n",
       "<thead>\n",
       "\t<tr><th></th><th scope=col>PASNSP.03A</th><th scope=col>PASWXF.03A</th><th scope=col>PASXCL.03A</th><th scope=col>PASXFP.03A</th><th scope=col>PASZBH.03A</th><th scope=col>PATBFK.03A</th><th scope=col>PATDXB.03A</th><th scope=col>PATHYW.03A</th><th scope=col>PATJSM.03A</th><th scope=col>PATJTW.03A</th><th scope=col>⋯</th><th scope=col>PAYEGL.03A</th><th scope=col>PAYFEJ.03A</th><th scope=col>PAYFLR.03A</th><th scope=col>PAYJHN.03A</th><th scope=col>PAYJHS.03A</th><th scope=col>PAYLHE.03A</th><th scope=col>X_1_PAUTLA.03A</th><th scope=col>X_1_PAUTLA.40A</th><th scope=col>X_1_PAVUDU.03A</th><th scope=col>X_1_PAVUDU.40A</th></tr>\n",
       "</thead>\n",
       "<tbody>\n",
       "\t<tr><th scope=row>1</th><td>19</td><td>0</td><td>0</td><td>0</td><td>0</td><td>0</td><td>0</td><td>0</td><td>0</td><td>0</td><td>⋯</td><td>0</td><td>0</td><td>0</td><td>9</td><td>0</td><td>0</td><td>0</td><td>0</td><td>0</td><td>0</td></tr>\n",
       "\t<tr><th scope=row>2</th><td> 0</td><td>0</td><td>0</td><td>0</td><td>0</td><td>0</td><td>0</td><td>0</td><td>0</td><td>0</td><td>⋯</td><td>0</td><td>0</td><td>0</td><td>0</td><td>0</td><td>0</td><td>0</td><td>0</td><td>0</td><td>0</td></tr>\n",
       "</tbody>\n",
       "</table>\n"
      ],
      "text/latex": [
       "A matrix: 2 × 116 of type int\n",
       "\\begin{tabular}{r|lllllllllllllllllllll}\n",
       "  & PASNSP.03A & PASWXF.03A & PASXCL.03A & PASXFP.03A & PASZBH.03A & PATBFK.03A & PATDXB.03A & PATHYW.03A & PATJSM.03A & PATJTW.03A & ⋯ & PAYEGL.03A & PAYFEJ.03A & PAYFLR.03A & PAYJHN.03A & PAYJHS.03A & PAYLHE.03A & X\\_1\\_PAUTLA.03A & X\\_1\\_PAUTLA.40A & X\\_1\\_PAVUDU.03A & X\\_1\\_PAVUDU.40A\\\\\n",
       "\\hline\n",
       "\t1 & 19 & 0 & 0 & 0 & 0 & 0 & 0 & 0 & 0 & 0 & ⋯ & 0 & 0 & 0 & 9 & 0 & 0 & 0 & 0 & 0 & 0\\\\\n",
       "\t2 &  0 & 0 & 0 & 0 & 0 & 0 & 0 & 0 & 0 & 0 & ⋯ & 0 & 0 & 0 & 0 & 0 & 0 & 0 & 0 & 0 & 0\\\\\n",
       "\\end{tabular}\n"
      ],
      "text/markdown": [
       "\n",
       "A matrix: 2 × 116 of type int\n",
       "\n",
       "| <!--/--> | PASNSP.03A | PASWXF.03A | PASXCL.03A | PASXFP.03A | PASZBH.03A | PATBFK.03A | PATDXB.03A | PATHYW.03A | PATJSM.03A | PATJTW.03A | ⋯ | PAYEGL.03A | PAYFEJ.03A | PAYFLR.03A | PAYJHN.03A | PAYJHS.03A | PAYLHE.03A | X_1_PAUTLA.03A | X_1_PAUTLA.40A | X_1_PAVUDU.03A | X_1_PAVUDU.40A |\n",
       "|---|---|---|---|---|---|---|---|---|---|---|---|---|---|---|---|---|---|---|---|---|---|\n",
       "| 1 | 19 | 0 | 0 | 0 | 0 | 0 | 0 | 0 | 0 | 0 | ⋯ | 0 | 0 | 0 | 9 | 0 | 0 | 0 | 0 | 0 | 0 |\n",
       "| 2 |  0 | 0 | 0 | 0 | 0 | 0 | 0 | 0 | 0 | 0 | ⋯ | 0 | 0 | 0 | 0 | 0 | 0 | 0 | 0 | 0 | 0 |\n",
       "\n"
      ],
      "text/plain": [
       "  PASNSP.03A PASWXF.03A PASXCL.03A PASXFP.03A PASZBH.03A PATBFK.03A PATDXB.03A\n",
       "1 19         0          0          0          0          0          0         \n",
       "2  0         0          0          0          0          0          0         \n",
       "  PATHYW.03A PATJSM.03A PATJTW.03A ⋯ PAYEGL.03A PAYFEJ.03A PAYFLR.03A\n",
       "1 0          0          0          ⋯ 0          0          0         \n",
       "2 0          0          0          ⋯ 0          0          0         \n",
       "  PAYJHN.03A PAYJHS.03A PAYLHE.03A X_1_PAUTLA.03A X_1_PAUTLA.40A X_1_PAVUDU.03A\n",
       "1 9          0          0          0              0              0             \n",
       "2 0          0          0          0              0              0             \n",
       "  X_1_PAVUDU.40A\n",
       "1 0             \n",
       "2 0             "
      ]
     },
     "metadata": {},
     "output_type": "display_data"
    }
   ],
   "source": [
    "dim(cts)\n",
    "head(cts,2)"
   ]
  },
  {
   "cell_type": "code",
   "execution_count": 14,
   "id": "60d94f4e-fdce-4ba4-b760-e84ee6fc210c",
   "metadata": {},
   "outputs": [
    {
     "data": {
      "text/html": [
       "<style>\n",
       ".list-inline {list-style: none; margin:0; padding: 0}\n",
       ".list-inline>li {display: inline-block}\n",
       ".list-inline>li:not(:last-child)::after {content: \"\\00b7\"; padding: 0 .5ex}\n",
       "</style>\n",
       "<ol class=list-inline><li>'PASNSP.03A'</li><li>'PASWXF.03A'</li><li>'PASXCL.03A'</li><li>'PASXFP.03A'</li><li>'PASZBH.03A'</li><li>'PATBFK.03A'</li><li>'PATDXB.03A'</li><li>'PATHYW.03A'</li><li>'PATJSM.03A'</li><li>'PATJTW.03A'</li><li>'PATMYU.03A'</li><li>'PATSAA.03A'</li><li>'PATSBU.03A'</li><li>'PATUHH.03A'</li><li>'PATYHN.03A'</li><li>'PAUCCI.03A'</li><li>'PAUCWF.03A'</li><li>'PAUFEM.03A'</li><li>'PAUGFW.03A'</li><li>'PAUGSR.03A'</li><li>'PAUIRS.03A'</li><li>'PAUJSX.03A'</li><li>'PAUJUA.03A'</li><li>'PAUKTL.03A'</li><li>'PAUMEU.03A'</li><li>'PAURGT.03A'</li><li>'PAURGZ.03A'</li><li>'PAUUSG.03A'</li><li>'PAUVKB.03A'</li><li>'PAUVKY.03A'</li><li>'PAUVKY.40A'</li><li>'PAUWDM.03A'</li><li>'PAUWDN.03A'</li><li>'PAUWWN.03A'</li><li>'PAUXAT.03A'</li><li>'PAUXEH.03A'</li><li>'PAUYAY.03A'</li><li>'PAVCVG.03A'</li><li>'PAVDZT.03A'</li><li>'PAVECW.03A'</li><li>'PAVESU.03A'</li><li>'PAVIIZ.03A'</li><li>'PAVKZU.03A'</li><li>'PAVLZB.03A'</li><li>'PAVMSZ.03A'</li><li>'PAVNSJ.03A'</li><li>'PAVNXY.03A'</li><li>'PAVPJC.03A'</li><li>'PAVRGG.03A'</li><li>'PAVVPL.03A'</li><li>'PAVWDK.03A'</li><li>'PAVWVF.03A'</li><li>'PAVXBW.03A'</li><li>'PAWBDC.03A'</li><li>'PAWCAY.03A'</li><li>'PAWCPC.03A'</li><li>'PAWDIN.03A'</li><li>'PAWEUI.03A'</li><li>'PAWFKB.03A'</li><li>'PAWGFN.03A'</li><li>'PAWGHI.03A'</li><li>'PAWGIG.03A'</li><li>'PAWHHS.03A'</li><li>'PAWHSD.03A'</li><li>'PAWHSD.40A'</li><li>'PAWIAD.03A'</li><li>'PAWJDZ.03A'</li><li>'PAWKFB.03A'</li><li>'PAWRJN.03A'</li><li>'PAWSIP.03A'</li><li>'PAWSNZ.03A'</li><li>'PAWSNZ.40A'</li><li>'PAWSUI.03A'</li><li>'PAWVNF.03A'</li><li>'PAWVRU.03A'</li><li>'PAWWPI.03A'</li><li>'PAWXEX.03A'</li><li>'PAWXPM.03A'</li><li>'PAWYII.03A'</li><li>'PAWYKF.03A'</li><li>'PAXAWN.03A'</li><li>'PAXBAL.03A'</li><li>'PAXBFM.03A'</li><li>'PAXCUK.03A'</li><li>'PAXDHB.03A'</li><li>'PAXDWD.03A'</li><li>'PAXGLA.03A'</li><li>'PAXHDZ.03A'</li><li>'PAXHVP.03A'</li><li>'PAXHYL.03A'</li><li>'PAXJYG.03A'</li><li>'PAXKRG.03A'</li><li>'PAXNFN.03A'</li><li>'PAXNKT.03A'</li><li>'PAXPLA.03A'</li><li>'PAXSBH.03A'</li><li>'PAXSSI.03A'</li><li>'PAXWGW.03A'</li><li>'PAXWZW.03A'</li><li>'PAXXCC.03A'</li><li>'PAXZJT.03A'</li><li>'PAXZLD.03A'</li><li>'PAYAXU.03A'</li><li>'PAYDIX.03A'</li><li>'PAYDXU.03A'</li><li>'PAYDYT.03A'</li><li>'PAYEGL.03A'</li><li>'PAYFEJ.03A'</li><li>'PAYFLR.03A'</li><li>'PAYJHN.03A'</li><li>'PAYJHS.03A'</li><li>'PAYLHE.03A'</li><li>'X_1_PAUTLA.03A'</li><li>'X_1_PAUTLA.40A'</li><li>'X_1_PAVUDU.03A'</li><li>'X_1_PAVUDU.40A'</li></ol>\n"
      ],
      "text/latex": [
       "\\begin{enumerate*}\n",
       "\\item 'PASNSP.03A'\n",
       "\\item 'PASWXF.03A'\n",
       "\\item 'PASXCL.03A'\n",
       "\\item 'PASXFP.03A'\n",
       "\\item 'PASZBH.03A'\n",
       "\\item 'PATBFK.03A'\n",
       "\\item 'PATDXB.03A'\n",
       "\\item 'PATHYW.03A'\n",
       "\\item 'PATJSM.03A'\n",
       "\\item 'PATJTW.03A'\n",
       "\\item 'PATMYU.03A'\n",
       "\\item 'PATSAA.03A'\n",
       "\\item 'PATSBU.03A'\n",
       "\\item 'PATUHH.03A'\n",
       "\\item 'PATYHN.03A'\n",
       "\\item 'PAUCCI.03A'\n",
       "\\item 'PAUCWF.03A'\n",
       "\\item 'PAUFEM.03A'\n",
       "\\item 'PAUGFW.03A'\n",
       "\\item 'PAUGSR.03A'\n",
       "\\item 'PAUIRS.03A'\n",
       "\\item 'PAUJSX.03A'\n",
       "\\item 'PAUJUA.03A'\n",
       "\\item 'PAUKTL.03A'\n",
       "\\item 'PAUMEU.03A'\n",
       "\\item 'PAURGT.03A'\n",
       "\\item 'PAURGZ.03A'\n",
       "\\item 'PAUUSG.03A'\n",
       "\\item 'PAUVKB.03A'\n",
       "\\item 'PAUVKY.03A'\n",
       "\\item 'PAUVKY.40A'\n",
       "\\item 'PAUWDM.03A'\n",
       "\\item 'PAUWDN.03A'\n",
       "\\item 'PAUWWN.03A'\n",
       "\\item 'PAUXAT.03A'\n",
       "\\item 'PAUXEH.03A'\n",
       "\\item 'PAUYAY.03A'\n",
       "\\item 'PAVCVG.03A'\n",
       "\\item 'PAVDZT.03A'\n",
       "\\item 'PAVECW.03A'\n",
       "\\item 'PAVESU.03A'\n",
       "\\item 'PAVIIZ.03A'\n",
       "\\item 'PAVKZU.03A'\n",
       "\\item 'PAVLZB.03A'\n",
       "\\item 'PAVMSZ.03A'\n",
       "\\item 'PAVNSJ.03A'\n",
       "\\item 'PAVNXY.03A'\n",
       "\\item 'PAVPJC.03A'\n",
       "\\item 'PAVRGG.03A'\n",
       "\\item 'PAVVPL.03A'\n",
       "\\item 'PAVWDK.03A'\n",
       "\\item 'PAVWVF.03A'\n",
       "\\item 'PAVXBW.03A'\n",
       "\\item 'PAWBDC.03A'\n",
       "\\item 'PAWCAY.03A'\n",
       "\\item 'PAWCPC.03A'\n",
       "\\item 'PAWDIN.03A'\n",
       "\\item 'PAWEUI.03A'\n",
       "\\item 'PAWFKB.03A'\n",
       "\\item 'PAWGFN.03A'\n",
       "\\item 'PAWGHI.03A'\n",
       "\\item 'PAWGIG.03A'\n",
       "\\item 'PAWHHS.03A'\n",
       "\\item 'PAWHSD.03A'\n",
       "\\item 'PAWHSD.40A'\n",
       "\\item 'PAWIAD.03A'\n",
       "\\item 'PAWJDZ.03A'\n",
       "\\item 'PAWKFB.03A'\n",
       "\\item 'PAWRJN.03A'\n",
       "\\item 'PAWSIP.03A'\n",
       "\\item 'PAWSNZ.03A'\n",
       "\\item 'PAWSNZ.40A'\n",
       "\\item 'PAWSUI.03A'\n",
       "\\item 'PAWVNF.03A'\n",
       "\\item 'PAWVRU.03A'\n",
       "\\item 'PAWWPI.03A'\n",
       "\\item 'PAWXEX.03A'\n",
       "\\item 'PAWXPM.03A'\n",
       "\\item 'PAWYII.03A'\n",
       "\\item 'PAWYKF.03A'\n",
       "\\item 'PAXAWN.03A'\n",
       "\\item 'PAXBAL.03A'\n",
       "\\item 'PAXBFM.03A'\n",
       "\\item 'PAXCUK.03A'\n",
       "\\item 'PAXDHB.03A'\n",
       "\\item 'PAXDWD.03A'\n",
       "\\item 'PAXGLA.03A'\n",
       "\\item 'PAXHDZ.03A'\n",
       "\\item 'PAXHVP.03A'\n",
       "\\item 'PAXHYL.03A'\n",
       "\\item 'PAXJYG.03A'\n",
       "\\item 'PAXKRG.03A'\n",
       "\\item 'PAXNFN.03A'\n",
       "\\item 'PAXNKT.03A'\n",
       "\\item 'PAXPLA.03A'\n",
       "\\item 'PAXSBH.03A'\n",
       "\\item 'PAXSSI.03A'\n",
       "\\item 'PAXWGW.03A'\n",
       "\\item 'PAXWZW.03A'\n",
       "\\item 'PAXXCC.03A'\n",
       "\\item 'PAXZJT.03A'\n",
       "\\item 'PAXZLD.03A'\n",
       "\\item 'PAYAXU.03A'\n",
       "\\item 'PAYDIX.03A'\n",
       "\\item 'PAYDXU.03A'\n",
       "\\item 'PAYDYT.03A'\n",
       "\\item 'PAYEGL.03A'\n",
       "\\item 'PAYFEJ.03A'\n",
       "\\item 'PAYFLR.03A'\n",
       "\\item 'PAYJHN.03A'\n",
       "\\item 'PAYJHS.03A'\n",
       "\\item 'PAYLHE.03A'\n",
       "\\item 'X\\_1\\_PAUTLA.03A'\n",
       "\\item 'X\\_1\\_PAUTLA.40A'\n",
       "\\item 'X\\_1\\_PAVUDU.03A'\n",
       "\\item 'X\\_1\\_PAVUDU.40A'\n",
       "\\end{enumerate*}\n"
      ],
      "text/markdown": [
       "1. 'PASNSP.03A'\n",
       "2. 'PASWXF.03A'\n",
       "3. 'PASXCL.03A'\n",
       "4. 'PASXFP.03A'\n",
       "5. 'PASZBH.03A'\n",
       "6. 'PATBFK.03A'\n",
       "7. 'PATDXB.03A'\n",
       "8. 'PATHYW.03A'\n",
       "9. 'PATJSM.03A'\n",
       "10. 'PATJTW.03A'\n",
       "11. 'PATMYU.03A'\n",
       "12. 'PATSAA.03A'\n",
       "13. 'PATSBU.03A'\n",
       "14. 'PATUHH.03A'\n",
       "15. 'PATYHN.03A'\n",
       "16. 'PAUCCI.03A'\n",
       "17. 'PAUCWF.03A'\n",
       "18. 'PAUFEM.03A'\n",
       "19. 'PAUGFW.03A'\n",
       "20. 'PAUGSR.03A'\n",
       "21. 'PAUIRS.03A'\n",
       "22. 'PAUJSX.03A'\n",
       "23. 'PAUJUA.03A'\n",
       "24. 'PAUKTL.03A'\n",
       "25. 'PAUMEU.03A'\n",
       "26. 'PAURGT.03A'\n",
       "27. 'PAURGZ.03A'\n",
       "28. 'PAUUSG.03A'\n",
       "29. 'PAUVKB.03A'\n",
       "30. 'PAUVKY.03A'\n",
       "31. 'PAUVKY.40A'\n",
       "32. 'PAUWDM.03A'\n",
       "33. 'PAUWDN.03A'\n",
       "34. 'PAUWWN.03A'\n",
       "35. 'PAUXAT.03A'\n",
       "36. 'PAUXEH.03A'\n",
       "37. 'PAUYAY.03A'\n",
       "38. 'PAVCVG.03A'\n",
       "39. 'PAVDZT.03A'\n",
       "40. 'PAVECW.03A'\n",
       "41. 'PAVESU.03A'\n",
       "42. 'PAVIIZ.03A'\n",
       "43. 'PAVKZU.03A'\n",
       "44. 'PAVLZB.03A'\n",
       "45. 'PAVMSZ.03A'\n",
       "46. 'PAVNSJ.03A'\n",
       "47. 'PAVNXY.03A'\n",
       "48. 'PAVPJC.03A'\n",
       "49. 'PAVRGG.03A'\n",
       "50. 'PAVVPL.03A'\n",
       "51. 'PAVWDK.03A'\n",
       "52. 'PAVWVF.03A'\n",
       "53. 'PAVXBW.03A'\n",
       "54. 'PAWBDC.03A'\n",
       "55. 'PAWCAY.03A'\n",
       "56. 'PAWCPC.03A'\n",
       "57. 'PAWDIN.03A'\n",
       "58. 'PAWEUI.03A'\n",
       "59. 'PAWFKB.03A'\n",
       "60. 'PAWGFN.03A'\n",
       "61. 'PAWGHI.03A'\n",
       "62. 'PAWGIG.03A'\n",
       "63. 'PAWHHS.03A'\n",
       "64. 'PAWHSD.03A'\n",
       "65. 'PAWHSD.40A'\n",
       "66. 'PAWIAD.03A'\n",
       "67. 'PAWJDZ.03A'\n",
       "68. 'PAWKFB.03A'\n",
       "69. 'PAWRJN.03A'\n",
       "70. 'PAWSIP.03A'\n",
       "71. 'PAWSNZ.03A'\n",
       "72. 'PAWSNZ.40A'\n",
       "73. 'PAWSUI.03A'\n",
       "74. 'PAWVNF.03A'\n",
       "75. 'PAWVRU.03A'\n",
       "76. 'PAWWPI.03A'\n",
       "77. 'PAWXEX.03A'\n",
       "78. 'PAWXPM.03A'\n",
       "79. 'PAWYII.03A'\n",
       "80. 'PAWYKF.03A'\n",
       "81. 'PAXAWN.03A'\n",
       "82. 'PAXBAL.03A'\n",
       "83. 'PAXBFM.03A'\n",
       "84. 'PAXCUK.03A'\n",
       "85. 'PAXDHB.03A'\n",
       "86. 'PAXDWD.03A'\n",
       "87. 'PAXGLA.03A'\n",
       "88. 'PAXHDZ.03A'\n",
       "89. 'PAXHVP.03A'\n",
       "90. 'PAXHYL.03A'\n",
       "91. 'PAXJYG.03A'\n",
       "92. 'PAXKRG.03A'\n",
       "93. 'PAXNFN.03A'\n",
       "94. 'PAXNKT.03A'\n",
       "95. 'PAXPLA.03A'\n",
       "96. 'PAXSBH.03A'\n",
       "97. 'PAXSSI.03A'\n",
       "98. 'PAXWGW.03A'\n",
       "99. 'PAXWZW.03A'\n",
       "100. 'PAXXCC.03A'\n",
       "101. 'PAXZJT.03A'\n",
       "102. 'PAXZLD.03A'\n",
       "103. 'PAYAXU.03A'\n",
       "104. 'PAYDIX.03A'\n",
       "105. 'PAYDXU.03A'\n",
       "106. 'PAYDYT.03A'\n",
       "107. 'PAYEGL.03A'\n",
       "108. 'PAYFEJ.03A'\n",
       "109. 'PAYFLR.03A'\n",
       "110. 'PAYJHN.03A'\n",
       "111. 'PAYJHS.03A'\n",
       "112. 'PAYLHE.03A'\n",
       "113. 'X_1_PAUTLA.03A'\n",
       "114. 'X_1_PAUTLA.40A'\n",
       "115. 'X_1_PAVUDU.03A'\n",
       "116. 'X_1_PAVUDU.40A'\n",
       "\n",
       "\n"
      ],
      "text/plain": [
       "  [1] \"PASNSP.03A\"     \"PASWXF.03A\"     \"PASXCL.03A\"     \"PASXFP.03A\"    \n",
       "  [5] \"PASZBH.03A\"     \"PATBFK.03A\"     \"PATDXB.03A\"     \"PATHYW.03A\"    \n",
       "  [9] \"PATJSM.03A\"     \"PATJTW.03A\"     \"PATMYU.03A\"     \"PATSAA.03A\"    \n",
       " [13] \"PATSBU.03A\"     \"PATUHH.03A\"     \"PATYHN.03A\"     \"PAUCCI.03A\"    \n",
       " [17] \"PAUCWF.03A\"     \"PAUFEM.03A\"     \"PAUGFW.03A\"     \"PAUGSR.03A\"    \n",
       " [21] \"PAUIRS.03A\"     \"PAUJSX.03A\"     \"PAUJUA.03A\"     \"PAUKTL.03A\"    \n",
       " [25] \"PAUMEU.03A\"     \"PAURGT.03A\"     \"PAURGZ.03A\"     \"PAUUSG.03A\"    \n",
       " [29] \"PAUVKB.03A\"     \"PAUVKY.03A\"     \"PAUVKY.40A\"     \"PAUWDM.03A\"    \n",
       " [33] \"PAUWDN.03A\"     \"PAUWWN.03A\"     \"PAUXAT.03A\"     \"PAUXEH.03A\"    \n",
       " [37] \"PAUYAY.03A\"     \"PAVCVG.03A\"     \"PAVDZT.03A\"     \"PAVECW.03A\"    \n",
       " [41] \"PAVESU.03A\"     \"PAVIIZ.03A\"     \"PAVKZU.03A\"     \"PAVLZB.03A\"    \n",
       " [45] \"PAVMSZ.03A\"     \"PAVNSJ.03A\"     \"PAVNXY.03A\"     \"PAVPJC.03A\"    \n",
       " [49] \"PAVRGG.03A\"     \"PAVVPL.03A\"     \"PAVWDK.03A\"     \"PAVWVF.03A\"    \n",
       " [53] \"PAVXBW.03A\"     \"PAWBDC.03A\"     \"PAWCAY.03A\"     \"PAWCPC.03A\"    \n",
       " [57] \"PAWDIN.03A\"     \"PAWEUI.03A\"     \"PAWFKB.03A\"     \"PAWGFN.03A\"    \n",
       " [61] \"PAWGHI.03A\"     \"PAWGIG.03A\"     \"PAWHHS.03A\"     \"PAWHSD.03A\"    \n",
       " [65] \"PAWHSD.40A\"     \"PAWIAD.03A\"     \"PAWJDZ.03A\"     \"PAWKFB.03A\"    \n",
       " [69] \"PAWRJN.03A\"     \"PAWSIP.03A\"     \"PAWSNZ.03A\"     \"PAWSNZ.40A\"    \n",
       " [73] \"PAWSUI.03A\"     \"PAWVNF.03A\"     \"PAWVRU.03A\"     \"PAWWPI.03A\"    \n",
       " [77] \"PAWXEX.03A\"     \"PAWXPM.03A\"     \"PAWYII.03A\"     \"PAWYKF.03A\"    \n",
       " [81] \"PAXAWN.03A\"     \"PAXBAL.03A\"     \"PAXBFM.03A\"     \"PAXCUK.03A\"    \n",
       " [85] \"PAXDHB.03A\"     \"PAXDWD.03A\"     \"PAXGLA.03A\"     \"PAXHDZ.03A\"    \n",
       " [89] \"PAXHVP.03A\"     \"PAXHYL.03A\"     \"PAXJYG.03A\"     \"PAXKRG.03A\"    \n",
       " [93] \"PAXNFN.03A\"     \"PAXNKT.03A\"     \"PAXPLA.03A\"     \"PAXSBH.03A\"    \n",
       " [97] \"PAXSSI.03A\"     \"PAXWGW.03A\"     \"PAXWZW.03A\"     \"PAXXCC.03A\"    \n",
       "[101] \"PAXZJT.03A\"     \"PAXZLD.03A\"     \"PAYAXU.03A\"     \"PAYDIX.03A\"    \n",
       "[105] \"PAYDXU.03A\"     \"PAYDYT.03A\"     \"PAYEGL.03A\"     \"PAYFEJ.03A\"    \n",
       "[109] \"PAYFLR.03A\"     \"PAYJHN.03A\"     \"PAYJHS.03A\"     \"PAYLHE.03A\"    \n",
       "[113] \"X_1_PAUTLA.03A\" \"X_1_PAUTLA.40A\" \"X_1_PAVUDU.03A\" \"X_1_PAVUDU.40A\""
      ]
     },
     "metadata": {},
     "output_type": "display_data"
    }
   ],
   "source": [
    "colnames(cts)"
   ]
  },
  {
   "cell_type": "code",
   "execution_count": 15,
   "id": "98842189-19c7-4bb6-a615-f50ff023aed1",
   "metadata": {},
   "outputs": [
    {
     "data": {
      "text/html": [
       "<style>\n",
       ".list-inline {list-style: none; margin:0; padding: 0}\n",
       ".list-inline>li {display: inline-block}\n",
       ".list-inline>li:not(:last-child)::after {content: \"\\00b7\"; padding: 0 .5ex}\n",
       "</style>\n",
       "<ol class=list-inline><li>'X_1_PAUTLA.03A'</li><li>'X_1_PAUTLA.40A'</li><li>'X_1_PAVUDU.03A'</li><li>'X_1_PAVUDU.40A'</li></ol>\n"
      ],
      "text/latex": [
       "\\begin{enumerate*}\n",
       "\\item 'X\\_1\\_PAUTLA.03A'\n",
       "\\item 'X\\_1\\_PAUTLA.40A'\n",
       "\\item 'X\\_1\\_PAVUDU.03A'\n",
       "\\item 'X\\_1\\_PAVUDU.40A'\n",
       "\\end{enumerate*}\n"
      ],
      "text/markdown": [
       "1. 'X_1_PAUTLA.03A'\n",
       "2. 'X_1_PAUTLA.40A'\n",
       "3. 'X_1_PAVUDU.03A'\n",
       "4. 'X_1_PAVUDU.40A'\n",
       "\n",
       "\n"
      ],
      "text/plain": [
       "[1] \"X_1_PAUTLA.03A\" \"X_1_PAUTLA.40A\" \"X_1_PAVUDU.03A\" \"X_1_PAVUDU.40A\""
      ]
     },
     "metadata": {},
     "output_type": "display_data"
    }
   ],
   "source": [
    "colnames(cts[,c(113:116)])"
   ]
  },
  {
   "cell_type": "markdown",
   "id": "932aa706-1680-4f66-9cf4-202e0874c1a1",
   "metadata": {},
   "source": [
    "I tried to rename colnames but it did not rename the existing object, rather it created a new object.\n",
    "\n",
    "From code co-pilot: The issue with your code arises from the fact that when you use subsetting in R with cts[, c(113:116)], it returns a new object, and changing the column names of this new object does not affect the original data frame. To reassign the column names in the original data frame, you need to directly access and modify the colnames attribute of the cts data frame.\n"
   ]
  },
  {
   "cell_type": "code",
   "execution_count": 16,
   "id": "0d0a93f3-dcee-4e2e-8b07-71bc0c9d7b8e",
   "metadata": {},
   "outputs": [
    {
     "data": {
      "text/html": [
       "<style>\n",
       ".list-inline {list-style: none; margin:0; padding: 0}\n",
       ".list-inline>li {display: inline-block}\n",
       ".list-inline>li:not(:last-child)::after {content: \"\\00b7\"; padding: 0 .5ex}\n",
       "</style>\n",
       "<ol class=list-inline><li>'PAUTLA.03A'</li><li>'PAUTLA.40A'</li><li>'PAVUDU.03A'</li><li>'PAVUDU.40A'</li></ol>\n"
      ],
      "text/latex": [
       "\\begin{enumerate*}\n",
       "\\item 'PAUTLA.03A'\n",
       "\\item 'PAUTLA.40A'\n",
       "\\item 'PAVUDU.03A'\n",
       "\\item 'PAVUDU.40A'\n",
       "\\end{enumerate*}\n"
      ],
      "text/markdown": [
       "1. 'PAUTLA.03A'\n",
       "2. 'PAUTLA.40A'\n",
       "3. 'PAVUDU.03A'\n",
       "4. 'PAVUDU.40A'\n",
       "\n",
       "\n"
      ],
      "text/plain": [
       "[1] \"PAUTLA.03A\" \"PAUTLA.40A\" \"PAVUDU.03A\" \"PAVUDU.40A\""
      ]
     },
     "metadata": {},
     "output_type": "display_data"
    }
   ],
   "source": [
    "# Assign new column names directly to the specified columns\n",
    "colnames(cts)[c(113:116)] <- c(\"PAUTLA.03A\", \"PAUTLA.40A\", \"PAVUDU.03A\", \"PAVUDU.40A\")\n",
    "\n",
    "# Verify the column names\n",
    "colnames(cts)[c(113:116)]"
   ]
  },
  {
   "cell_type": "markdown",
   "id": "7fe24ef2-7043-4206-a8a7-4c8883ead3e5",
   "metadata": {},
   "source": [
    "The PAWHSD samples are not TAM and AML but in fact TAM and TAM - the resulting heatmap when included showed they clustered together.  We will eliminate them from subsequent analyses.   To find and replace we need to work on the existing object. Get the mask object (which columns equal PAWHSD)."
   ]
  },
  {
   "cell_type": "code",
   "execution_count": 17,
   "id": "0900dee4-d43f-4088-8e41-6a4649f3366e",
   "metadata": {},
   "outputs": [
    {
     "data": {
      "text/html": [
       "<style>\n",
       ".list-inline {list-style: none; margin:0; padding: 0}\n",
       ".list-inline>li {display: inline-block}\n",
       ".list-inline>li:not(:last-child)::after {content: \"\\00b7\"; padding: 0 .5ex}\n",
       "</style>\n",
       "<ol class=list-inline><li>14527</li><li>116</li></ol>\n"
      ],
      "text/latex": [
       "\\begin{enumerate*}\n",
       "\\item 14527\n",
       "\\item 116\n",
       "\\end{enumerate*}\n"
      ],
      "text/markdown": [
       "1. 14527\n",
       "2. 116\n",
       "\n",
       "\n"
      ],
      "text/plain": [
       "[1] 14527   116"
      ]
     },
     "metadata": {},
     "output_type": "display_data"
    },
    {
     "data": {
      "text/html": [
       "<style>\n",
       ".list-inline {list-style: none; margin:0; padding: 0}\n",
       ".list-inline>li {display: inline-block}\n",
       ".list-inline>li:not(:last-child)::after {content: \"\\00b7\"; padding: 0 .5ex}\n",
       "</style>\n",
       "<ol class=list-inline><li>14527</li><li>114</li></ol>\n"
      ],
      "text/latex": [
       "\\begin{enumerate*}\n",
       "\\item 14527\n",
       "\\item 114\n",
       "\\end{enumerate*}\n"
      ],
      "text/markdown": [
       "1. 14527\n",
       "2. 114\n",
       "\n",
       "\n"
      ],
      "text/plain": [
       "[1] 14527   114"
      ]
     },
     "metadata": {},
     "output_type": "display_data"
    }
   ],
   "source": [
    "dim (cts)\n",
    "# Find column numbers for column names that contain \"PAWHSD\"\n",
    "column_numbers <- grep(\"PAWHSD\", colnames(cts))\n",
    "\n",
    "# Remove these columns from the cts data frame\n",
    "cts <- cts[, -column_numbers]\n",
    "dim(cts)"
   ]
  },
  {
   "cell_type": "code",
   "execution_count": 20,
   "id": "08793c4e-08c9-4203-b9a1-86301ee37b90",
   "metadata": {},
   "outputs": [],
   "source": [
    "coldata <- read.csv(\"/Users/annedeslattesmays/Scitechcon\\ Dropbox/Anne\\ DeslattesMays/projects/post-rmats-single-run/design/design_all_matrix.csv\", row.names=1)"
   ]
  },
  {
   "cell_type": "code",
   "execution_count": 21,
   "id": "3036d592-5c3a-40bf-b86b-21252d68f307",
   "metadata": {},
   "outputs": [
    {
     "data": {
      "text/html": [
       "<table class=\"dataframe\">\n",
       "<caption>A data.frame: 6 × 3</caption>\n",
       "<thead>\n",
       "\t<tr><th></th><th scope=col>patient</th><th scope=col>condition</th><th scope=col>paired</th></tr>\n",
       "\t<tr><th></th><th scope=col>&lt;chr&gt;</th><th scope=col>&lt;chr&gt;</th><th scope=col>&lt;chr&gt;</th></tr>\n",
       "</thead>\n",
       "<tbody>\n",
       "\t<tr><th scope=row>PAUVKY.03A</th><td>PAUVKY</td><td>preAML</td><td>yes</td></tr>\n",
       "\t<tr><th scope=row>PAUVKY.40A</th><td>PAUVKY</td><td>AML   </td><td>yes</td></tr>\n",
       "\t<tr><th scope=row>PAUTLA.03A</th><td>PAUTLA</td><td>preAML</td><td>yes</td></tr>\n",
       "\t<tr><th scope=row>PAUTLA.40A</th><td>PAUTLA</td><td>AML   </td><td>yes</td></tr>\n",
       "\t<tr><th scope=row>PAVUDU.03A</th><td>PAVUDU</td><td>preAML</td><td>yes</td></tr>\n",
       "\t<tr><th scope=row>PAVUDU.40A</th><td>PAVUDU</td><td>AML   </td><td>yes</td></tr>\n",
       "</tbody>\n",
       "</table>\n"
      ],
      "text/latex": [
       "A data.frame: 6 × 3\n",
       "\\begin{tabular}{r|lll}\n",
       "  & patient & condition & paired\\\\\n",
       "  & <chr> & <chr> & <chr>\\\\\n",
       "\\hline\n",
       "\tPAUVKY.03A & PAUVKY & preAML & yes\\\\\n",
       "\tPAUVKY.40A & PAUVKY & AML    & yes\\\\\n",
       "\tPAUTLA.03A & PAUTLA & preAML & yes\\\\\n",
       "\tPAUTLA.40A & PAUTLA & AML    & yes\\\\\n",
       "\tPAVUDU.03A & PAVUDU & preAML & yes\\\\\n",
       "\tPAVUDU.40A & PAVUDU & AML    & yes\\\\\n",
       "\\end{tabular}\n"
      ],
      "text/markdown": [
       "\n",
       "A data.frame: 6 × 3\n",
       "\n",
       "| <!--/--> | patient &lt;chr&gt; | condition &lt;chr&gt; | paired &lt;chr&gt; |\n",
       "|---|---|---|---|\n",
       "| PAUVKY.03A | PAUVKY | preAML | yes |\n",
       "| PAUVKY.40A | PAUVKY | AML    | yes |\n",
       "| PAUTLA.03A | PAUTLA | preAML | yes |\n",
       "| PAUTLA.40A | PAUTLA | AML    | yes |\n",
       "| PAVUDU.03A | PAVUDU | preAML | yes |\n",
       "| PAVUDU.40A | PAVUDU | AML    | yes |\n",
       "\n"
      ],
      "text/plain": [
       "           patient condition paired\n",
       "PAUVKY.03A PAUVKY  preAML    yes   \n",
       "PAUVKY.40A PAUVKY  AML       yes   \n",
       "PAUTLA.03A PAUTLA  preAML    yes   \n",
       "PAUTLA.40A PAUTLA  AML       yes   \n",
       "PAVUDU.03A PAVUDU  preAML    yes   \n",
       "PAVUDU.40A PAVUDU  AML       yes   "
      ]
     },
     "metadata": {},
     "output_type": "display_data"
    }
   ],
   "source": [
    "head(coldata)"
   ]
  },
  {
   "cell_type": "code",
   "execution_count": 22,
   "id": "336db694-e00b-48dd-ba79-6171d3ebca25",
   "metadata": {},
   "outputs": [
    {
     "data": {
      "text/html": [
       "<table class=\"dataframe\">\n",
       "<caption>A data.frame: 6 × 4</caption>\n",
       "<thead>\n",
       "\t<tr><th></th><th scope=col>patient</th><th scope=col>condition</th><th scope=col>paired</th><th scope=col>name</th></tr>\n",
       "\t<tr><th></th><th scope=col>&lt;chr&gt;</th><th scope=col>&lt;chr&gt;</th><th scope=col>&lt;chr&gt;</th><th scope=col>&lt;chr&gt;</th></tr>\n",
       "</thead>\n",
       "<tbody>\n",
       "\t<tr><th scope=row>PAUVKY.03A</th><td>PAUVKY</td><td>preAML</td><td>yes</td><td>PAUVKY.03A</td></tr>\n",
       "\t<tr><th scope=row>PAUVKY.40A</th><td>PAUVKY</td><td>AML   </td><td>yes</td><td>PAUVKY.40A</td></tr>\n",
       "\t<tr><th scope=row>PAUTLA.03A</th><td>PAUTLA</td><td>preAML</td><td>yes</td><td>PAUTLA.03A</td></tr>\n",
       "\t<tr><th scope=row>PAUTLA.40A</th><td>PAUTLA</td><td>AML   </td><td>yes</td><td>PAUTLA.40A</td></tr>\n",
       "\t<tr><th scope=row>PAVUDU.03A</th><td>PAVUDU</td><td>preAML</td><td>yes</td><td>PAVUDU.03A</td></tr>\n",
       "\t<tr><th scope=row>PAVUDU.40A</th><td>PAVUDU</td><td>AML   </td><td>yes</td><td>PAVUDU.40A</td></tr>\n",
       "</tbody>\n",
       "</table>\n"
      ],
      "text/latex": [
       "A data.frame: 6 × 4\n",
       "\\begin{tabular}{r|llll}\n",
       "  & patient & condition & paired & name\\\\\n",
       "  & <chr> & <chr> & <chr> & <chr>\\\\\n",
       "\\hline\n",
       "\tPAUVKY.03A & PAUVKY & preAML & yes & PAUVKY.03A\\\\\n",
       "\tPAUVKY.40A & PAUVKY & AML    & yes & PAUVKY.40A\\\\\n",
       "\tPAUTLA.03A & PAUTLA & preAML & yes & PAUTLA.03A\\\\\n",
       "\tPAUTLA.40A & PAUTLA & AML    & yes & PAUTLA.40A\\\\\n",
       "\tPAVUDU.03A & PAVUDU & preAML & yes & PAVUDU.03A\\\\\n",
       "\tPAVUDU.40A & PAVUDU & AML    & yes & PAVUDU.40A\\\\\n",
       "\\end{tabular}\n"
      ],
      "text/markdown": [
       "\n",
       "A data.frame: 6 × 4\n",
       "\n",
       "| <!--/--> | patient &lt;chr&gt; | condition &lt;chr&gt; | paired &lt;chr&gt; | name &lt;chr&gt; |\n",
       "|---|---|---|---|---|\n",
       "| PAUVKY.03A | PAUVKY | preAML | yes | PAUVKY.03A |\n",
       "| PAUVKY.40A | PAUVKY | AML    | yes | PAUVKY.40A |\n",
       "| PAUTLA.03A | PAUTLA | preAML | yes | PAUTLA.03A |\n",
       "| PAUTLA.40A | PAUTLA | AML    | yes | PAUTLA.40A |\n",
       "| PAVUDU.03A | PAVUDU | preAML | yes | PAVUDU.03A |\n",
       "| PAVUDU.40A | PAVUDU | AML    | yes | PAVUDU.40A |\n",
       "\n"
      ],
      "text/plain": [
       "           patient condition paired name      \n",
       "PAUVKY.03A PAUVKY  preAML    yes    PAUVKY.03A\n",
       "PAUVKY.40A PAUVKY  AML       yes    PAUVKY.40A\n",
       "PAUTLA.03A PAUTLA  preAML    yes    PAUTLA.03A\n",
       "PAUTLA.40A PAUTLA  AML       yes    PAUTLA.40A\n",
       "PAVUDU.03A PAVUDU  preAML    yes    PAVUDU.03A\n",
       "PAVUDU.40A PAVUDU  AML       yes    PAVUDU.40A"
      ]
     },
     "metadata": {},
     "output_type": "display_data"
    }
   ],
   "source": [
    "# Create a new column 'name' with rownames\n",
    "coldata$name <- rownames(coldata)\n",
    "head(coldata)"
   ]
  },
  {
   "cell_type": "code",
   "execution_count": 23,
   "id": "3408dae6-b4f7-43f2-8a40-9e71741e6eee",
   "metadata": {},
   "outputs": [
    {
     "data": {
      "text/html": [
       "<style>\n",
       ".list-inline {list-style: none; margin:0; padding: 0}\n",
       ".list-inline>li {display: inline-block}\n",
       ".list-inline>li:not(:last-child)::after {content: \"\\00b7\"; padding: 0 .5ex}\n",
       "</style>\n",
       "<ol class=list-inline><li>'PASNSP.03A'</li><li>'PASWXF.03A'</li><li>'PASXCL.03A'</li><li>'PASXFP.03A'</li><li>'PASZBH.03A'</li><li>'PATBFK.03A'</li><li>'PATDXB.03A'</li><li>'PATHYW.03A'</li><li>'PATJSM.03A'</li><li>'PATJTW.03A'</li><li>'PATMYU.03A'</li><li>'PATSAA.03A'</li><li>'PATSBU.03A'</li><li>'PATUHH.03A'</li><li>'PATYHN.03A'</li><li>'PAUCCI.03A'</li><li>'PAUCWF.03A'</li><li>'PAUFEM.03A'</li><li>'PAUGFW.03A'</li><li>'PAUGSR.03A'</li><li>'PAUIRS.03A'</li><li>'PAUJSX.03A'</li><li>'PAUJUA.03A'</li><li>'PAUKTL.03A'</li><li>'PAUMEU.03A'</li><li>'PAURGT.03A'</li><li>'PAURGZ.03A'</li><li>'PAUUSG.03A'</li><li>'PAUVKB.03A'</li><li>'PAUWDM.03A'</li><li>'PAUWDN.03A'</li><li>'PAUXAT.03A'</li><li>'PAUXEH.03A'</li><li>'PAUYAY.03A'</li><li>'PAVCVG.03A'</li><li>'PAVDZT.03A'</li><li>'PAVECW.03A'</li><li>'PAVESU.03A'</li><li>'PAVIIZ.03A'</li><li>'PAVKZU.03A'</li><li>'PAVMSZ.03A'</li><li>'PAVNSJ.03A'</li><li>'PAVNXY.03A'</li><li>'PAVPJC.03A'</li><li>'PAVRGG.03A'</li><li>'PAVVPL.03A'</li><li>'PAVWVF.03A'</li><li>'PAWBDC.03A'</li><li>'PAWCAY.03A'</li><li>'PAWCPC.03A'</li><li>'PAWDIN.03A'</li><li>'PAWEUI.03A'</li><li>'PAWFKB.03A'</li><li>'PAWGFN.03A'</li><li>'PAWGHI.03A'</li><li>'PAWGIG.03A'</li><li>'PAWHHS.03A'</li><li>'PAWIAD.03A'</li><li>'PAWJDZ.03A'</li><li>'PAWKFB.03A'</li><li>'PAWRJN.03A'</li><li>'PAWSIP.03A'</li><li>'PAWSUI.03A'</li><li>'PAWVNF.03A'</li><li>'PAWVRU.03A'</li><li>'PAWWPI.03A'</li><li>'PAWXEX.03A'</li><li>'PAWXPM.03A'</li><li>'PAWYII.03A'</li><li>'PAWYKF.03A'</li><li>'PAXAWN.03A'</li><li>'PAXBAL.03A'</li><li>'PAXBFM.03A'</li><li>'PAXCUK.03A'</li><li>'PAXDHB.03A'</li><li>'PAXGLA.03A'</li><li>'PAXHDZ.03A'</li><li>'PAXHVP.03A'</li><li>'PAXHYL.03A'</li><li>'PAXJYG.03A'</li><li>'PAXNFN.03A'</li><li>'PAXNKT.03A'</li><li>'PAXPLA.03A'</li><li>'PAXSBH.03A'</li><li>'PAXSSI.03A'</li><li>'PAXWGW.03A'</li><li>'PAXWZW.03A'</li><li>'PAXXCC.03A'</li><li>'PAXZLD.03A'</li><li>'PAYAXU.03A'</li><li>'PAYDIX.03A'</li><li>'PAYDXU.03A'</li><li>'PAYDYT.03A'</li><li>'PAYEGL.03A'</li><li>'PAYFEJ.03A'</li><li>'PAYFLR.03A'</li><li>'PAYJHN.03A'</li><li>'PAYJHS.03A'</li><li>'PAYLHE.03A'</li></ol>\n"
      ],
      "text/latex": [
       "\\begin{enumerate*}\n",
       "\\item 'PASNSP.03A'\n",
       "\\item 'PASWXF.03A'\n",
       "\\item 'PASXCL.03A'\n",
       "\\item 'PASXFP.03A'\n",
       "\\item 'PASZBH.03A'\n",
       "\\item 'PATBFK.03A'\n",
       "\\item 'PATDXB.03A'\n",
       "\\item 'PATHYW.03A'\n",
       "\\item 'PATJSM.03A'\n",
       "\\item 'PATJTW.03A'\n",
       "\\item 'PATMYU.03A'\n",
       "\\item 'PATSAA.03A'\n",
       "\\item 'PATSBU.03A'\n",
       "\\item 'PATUHH.03A'\n",
       "\\item 'PATYHN.03A'\n",
       "\\item 'PAUCCI.03A'\n",
       "\\item 'PAUCWF.03A'\n",
       "\\item 'PAUFEM.03A'\n",
       "\\item 'PAUGFW.03A'\n",
       "\\item 'PAUGSR.03A'\n",
       "\\item 'PAUIRS.03A'\n",
       "\\item 'PAUJSX.03A'\n",
       "\\item 'PAUJUA.03A'\n",
       "\\item 'PAUKTL.03A'\n",
       "\\item 'PAUMEU.03A'\n",
       "\\item 'PAURGT.03A'\n",
       "\\item 'PAURGZ.03A'\n",
       "\\item 'PAUUSG.03A'\n",
       "\\item 'PAUVKB.03A'\n",
       "\\item 'PAUWDM.03A'\n",
       "\\item 'PAUWDN.03A'\n",
       "\\item 'PAUXAT.03A'\n",
       "\\item 'PAUXEH.03A'\n",
       "\\item 'PAUYAY.03A'\n",
       "\\item 'PAVCVG.03A'\n",
       "\\item 'PAVDZT.03A'\n",
       "\\item 'PAVECW.03A'\n",
       "\\item 'PAVESU.03A'\n",
       "\\item 'PAVIIZ.03A'\n",
       "\\item 'PAVKZU.03A'\n",
       "\\item 'PAVMSZ.03A'\n",
       "\\item 'PAVNSJ.03A'\n",
       "\\item 'PAVNXY.03A'\n",
       "\\item 'PAVPJC.03A'\n",
       "\\item 'PAVRGG.03A'\n",
       "\\item 'PAVVPL.03A'\n",
       "\\item 'PAVWVF.03A'\n",
       "\\item 'PAWBDC.03A'\n",
       "\\item 'PAWCAY.03A'\n",
       "\\item 'PAWCPC.03A'\n",
       "\\item 'PAWDIN.03A'\n",
       "\\item 'PAWEUI.03A'\n",
       "\\item 'PAWFKB.03A'\n",
       "\\item 'PAWGFN.03A'\n",
       "\\item 'PAWGHI.03A'\n",
       "\\item 'PAWGIG.03A'\n",
       "\\item 'PAWHHS.03A'\n",
       "\\item 'PAWIAD.03A'\n",
       "\\item 'PAWJDZ.03A'\n",
       "\\item 'PAWKFB.03A'\n",
       "\\item 'PAWRJN.03A'\n",
       "\\item 'PAWSIP.03A'\n",
       "\\item 'PAWSUI.03A'\n",
       "\\item 'PAWVNF.03A'\n",
       "\\item 'PAWVRU.03A'\n",
       "\\item 'PAWWPI.03A'\n",
       "\\item 'PAWXEX.03A'\n",
       "\\item 'PAWXPM.03A'\n",
       "\\item 'PAWYII.03A'\n",
       "\\item 'PAWYKF.03A'\n",
       "\\item 'PAXAWN.03A'\n",
       "\\item 'PAXBAL.03A'\n",
       "\\item 'PAXBFM.03A'\n",
       "\\item 'PAXCUK.03A'\n",
       "\\item 'PAXDHB.03A'\n",
       "\\item 'PAXGLA.03A'\n",
       "\\item 'PAXHDZ.03A'\n",
       "\\item 'PAXHVP.03A'\n",
       "\\item 'PAXHYL.03A'\n",
       "\\item 'PAXJYG.03A'\n",
       "\\item 'PAXNFN.03A'\n",
       "\\item 'PAXNKT.03A'\n",
       "\\item 'PAXPLA.03A'\n",
       "\\item 'PAXSBH.03A'\n",
       "\\item 'PAXSSI.03A'\n",
       "\\item 'PAXWGW.03A'\n",
       "\\item 'PAXWZW.03A'\n",
       "\\item 'PAXXCC.03A'\n",
       "\\item 'PAXZLD.03A'\n",
       "\\item 'PAYAXU.03A'\n",
       "\\item 'PAYDIX.03A'\n",
       "\\item 'PAYDXU.03A'\n",
       "\\item 'PAYDYT.03A'\n",
       "\\item 'PAYEGL.03A'\n",
       "\\item 'PAYFEJ.03A'\n",
       "\\item 'PAYFLR.03A'\n",
       "\\item 'PAYJHN.03A'\n",
       "\\item 'PAYJHS.03A'\n",
       "\\item 'PAYLHE.03A'\n",
       "\\end{enumerate*}\n"
      ],
      "text/markdown": [
       "1. 'PASNSP.03A'\n",
       "2. 'PASWXF.03A'\n",
       "3. 'PASXCL.03A'\n",
       "4. 'PASXFP.03A'\n",
       "5. 'PASZBH.03A'\n",
       "6. 'PATBFK.03A'\n",
       "7. 'PATDXB.03A'\n",
       "8. 'PATHYW.03A'\n",
       "9. 'PATJSM.03A'\n",
       "10. 'PATJTW.03A'\n",
       "11. 'PATMYU.03A'\n",
       "12. 'PATSAA.03A'\n",
       "13. 'PATSBU.03A'\n",
       "14. 'PATUHH.03A'\n",
       "15. 'PATYHN.03A'\n",
       "16. 'PAUCCI.03A'\n",
       "17. 'PAUCWF.03A'\n",
       "18. 'PAUFEM.03A'\n",
       "19. 'PAUGFW.03A'\n",
       "20. 'PAUGSR.03A'\n",
       "21. 'PAUIRS.03A'\n",
       "22. 'PAUJSX.03A'\n",
       "23. 'PAUJUA.03A'\n",
       "24. 'PAUKTL.03A'\n",
       "25. 'PAUMEU.03A'\n",
       "26. 'PAURGT.03A'\n",
       "27. 'PAURGZ.03A'\n",
       "28. 'PAUUSG.03A'\n",
       "29. 'PAUVKB.03A'\n",
       "30. 'PAUWDM.03A'\n",
       "31. 'PAUWDN.03A'\n",
       "32. 'PAUXAT.03A'\n",
       "33. 'PAUXEH.03A'\n",
       "34. 'PAUYAY.03A'\n",
       "35. 'PAVCVG.03A'\n",
       "36. 'PAVDZT.03A'\n",
       "37. 'PAVECW.03A'\n",
       "38. 'PAVESU.03A'\n",
       "39. 'PAVIIZ.03A'\n",
       "40. 'PAVKZU.03A'\n",
       "41. 'PAVMSZ.03A'\n",
       "42. 'PAVNSJ.03A'\n",
       "43. 'PAVNXY.03A'\n",
       "44. 'PAVPJC.03A'\n",
       "45. 'PAVRGG.03A'\n",
       "46. 'PAVVPL.03A'\n",
       "47. 'PAVWVF.03A'\n",
       "48. 'PAWBDC.03A'\n",
       "49. 'PAWCAY.03A'\n",
       "50. 'PAWCPC.03A'\n",
       "51. 'PAWDIN.03A'\n",
       "52. 'PAWEUI.03A'\n",
       "53. 'PAWFKB.03A'\n",
       "54. 'PAWGFN.03A'\n",
       "55. 'PAWGHI.03A'\n",
       "56. 'PAWGIG.03A'\n",
       "57. 'PAWHHS.03A'\n",
       "58. 'PAWIAD.03A'\n",
       "59. 'PAWJDZ.03A'\n",
       "60. 'PAWKFB.03A'\n",
       "61. 'PAWRJN.03A'\n",
       "62. 'PAWSIP.03A'\n",
       "63. 'PAWSUI.03A'\n",
       "64. 'PAWVNF.03A'\n",
       "65. 'PAWVRU.03A'\n",
       "66. 'PAWWPI.03A'\n",
       "67. 'PAWXEX.03A'\n",
       "68. 'PAWXPM.03A'\n",
       "69. 'PAWYII.03A'\n",
       "70. 'PAWYKF.03A'\n",
       "71. 'PAXAWN.03A'\n",
       "72. 'PAXBAL.03A'\n",
       "73. 'PAXBFM.03A'\n",
       "74. 'PAXCUK.03A'\n",
       "75. 'PAXDHB.03A'\n",
       "76. 'PAXGLA.03A'\n",
       "77. 'PAXHDZ.03A'\n",
       "78. 'PAXHVP.03A'\n",
       "79. 'PAXHYL.03A'\n",
       "80. 'PAXJYG.03A'\n",
       "81. 'PAXNFN.03A'\n",
       "82. 'PAXNKT.03A'\n",
       "83. 'PAXPLA.03A'\n",
       "84. 'PAXSBH.03A'\n",
       "85. 'PAXSSI.03A'\n",
       "86. 'PAXWGW.03A'\n",
       "87. 'PAXWZW.03A'\n",
       "88. 'PAXXCC.03A'\n",
       "89. 'PAXZLD.03A'\n",
       "90. 'PAYAXU.03A'\n",
       "91. 'PAYDIX.03A'\n",
       "92. 'PAYDXU.03A'\n",
       "93. 'PAYDYT.03A'\n",
       "94. 'PAYEGL.03A'\n",
       "95. 'PAYFEJ.03A'\n",
       "96. 'PAYFLR.03A'\n",
       "97. 'PAYJHN.03A'\n",
       "98. 'PAYJHS.03A'\n",
       "99. 'PAYLHE.03A'\n",
       "\n",
       "\n"
      ],
      "text/plain": [
       " [1] \"PASNSP.03A\" \"PASWXF.03A\" \"PASXCL.03A\" \"PASXFP.03A\" \"PASZBH.03A\"\n",
       " [6] \"PATBFK.03A\" \"PATDXB.03A\" \"PATHYW.03A\" \"PATJSM.03A\" \"PATJTW.03A\"\n",
       "[11] \"PATMYU.03A\" \"PATSAA.03A\" \"PATSBU.03A\" \"PATUHH.03A\" \"PATYHN.03A\"\n",
       "[16] \"PAUCCI.03A\" \"PAUCWF.03A\" \"PAUFEM.03A\" \"PAUGFW.03A\" \"PAUGSR.03A\"\n",
       "[21] \"PAUIRS.03A\" \"PAUJSX.03A\" \"PAUJUA.03A\" \"PAUKTL.03A\" \"PAUMEU.03A\"\n",
       "[26] \"PAURGT.03A\" \"PAURGZ.03A\" \"PAUUSG.03A\" \"PAUVKB.03A\" \"PAUWDM.03A\"\n",
       "[31] \"PAUWDN.03A\" \"PAUXAT.03A\" \"PAUXEH.03A\" \"PAUYAY.03A\" \"PAVCVG.03A\"\n",
       "[36] \"PAVDZT.03A\" \"PAVECW.03A\" \"PAVESU.03A\" \"PAVIIZ.03A\" \"PAVKZU.03A\"\n",
       "[41] \"PAVMSZ.03A\" \"PAVNSJ.03A\" \"PAVNXY.03A\" \"PAVPJC.03A\" \"PAVRGG.03A\"\n",
       "[46] \"PAVVPL.03A\" \"PAVWVF.03A\" \"PAWBDC.03A\" \"PAWCAY.03A\" \"PAWCPC.03A\"\n",
       "[51] \"PAWDIN.03A\" \"PAWEUI.03A\" \"PAWFKB.03A\" \"PAWGFN.03A\" \"PAWGHI.03A\"\n",
       "[56] \"PAWGIG.03A\" \"PAWHHS.03A\" \"PAWIAD.03A\" \"PAWJDZ.03A\" \"PAWKFB.03A\"\n",
       "[61] \"PAWRJN.03A\" \"PAWSIP.03A\" \"PAWSUI.03A\" \"PAWVNF.03A\" \"PAWVRU.03A\"\n",
       "[66] \"PAWWPI.03A\" \"PAWXEX.03A\" \"PAWXPM.03A\" \"PAWYII.03A\" \"PAWYKF.03A\"\n",
       "[71] \"PAXAWN.03A\" \"PAXBAL.03A\" \"PAXBFM.03A\" \"PAXCUK.03A\" \"PAXDHB.03A\"\n",
       "[76] \"PAXGLA.03A\" \"PAXHDZ.03A\" \"PAXHVP.03A\" \"PAXHYL.03A\" \"PAXJYG.03A\"\n",
       "[81] \"PAXNFN.03A\" \"PAXNKT.03A\" \"PAXPLA.03A\" \"PAXSBH.03A\" \"PAXSSI.03A\"\n",
       "[86] \"PAXWGW.03A\" \"PAXWZW.03A\" \"PAXXCC.03A\" \"PAXZLD.03A\" \"PAYAXU.03A\"\n",
       "[91] \"PAYDIX.03A\" \"PAYDXU.03A\" \"PAYDYT.03A\" \"PAYEGL.03A\" \"PAYFEJ.03A\"\n",
       "[96] \"PAYFLR.03A\" \"PAYJHN.03A\" \"PAYJHS.03A\" \"PAYLHE.03A\""
      ]
     },
     "metadata": {},
     "output_type": "display_data"
    },
    {
     "data": {
      "text/html": [
       "<style>\n",
       ".list-inline {list-style: none; margin:0; padding: 0}\n",
       ".list-inline>li {display: inline-block}\n",
       ".list-inline>li:not(:last-child)::after {content: \"\\00b7\"; padding: 0 .5ex}\n",
       "</style>\n",
       "<ol class=list-inline><li>'PAUVKY.03A'</li><li>'PAUTLA.03A'</li><li>'PAVUDU.03A'</li><li>'PAWSNZ.03A'</li><li>'PAUWWN.03A'</li><li>'PAVLZB.03A'</li><li>'PAVWDK.03A'</li><li>'PAVXBW.03A'</li><li>'PAXDWD.03A'</li><li>'PAXKRG.03A'</li><li>'PAXZJT.03A'</li></ol>\n"
      ],
      "text/latex": [
       "\\begin{enumerate*}\n",
       "\\item 'PAUVKY.03A'\n",
       "\\item 'PAUTLA.03A'\n",
       "\\item 'PAVUDU.03A'\n",
       "\\item 'PAWSNZ.03A'\n",
       "\\item 'PAUWWN.03A'\n",
       "\\item 'PAVLZB.03A'\n",
       "\\item 'PAVWDK.03A'\n",
       "\\item 'PAVXBW.03A'\n",
       "\\item 'PAXDWD.03A'\n",
       "\\item 'PAXKRG.03A'\n",
       "\\item 'PAXZJT.03A'\n",
       "\\end{enumerate*}\n"
      ],
      "text/markdown": [
       "1. 'PAUVKY.03A'\n",
       "2. 'PAUTLA.03A'\n",
       "3. 'PAVUDU.03A'\n",
       "4. 'PAWSNZ.03A'\n",
       "5. 'PAUWWN.03A'\n",
       "6. 'PAVLZB.03A'\n",
       "7. 'PAVWDK.03A'\n",
       "8. 'PAVXBW.03A'\n",
       "9. 'PAXDWD.03A'\n",
       "10. 'PAXKRG.03A'\n",
       "11. 'PAXZJT.03A'\n",
       "\n",
       "\n"
      ],
      "text/plain": [
       " [1] \"PAUVKY.03A\" \"PAUTLA.03A\" \"PAVUDU.03A\" \"PAWSNZ.03A\" \"PAUWWN.03A\"\n",
       " [6] \"PAVLZB.03A\" \"PAVWDK.03A\" \"PAVXBW.03A\" \"PAXDWD.03A\" \"PAXKRG.03A\"\n",
       "[11] \"PAXZJT.03A\""
      ]
     },
     "metadata": {},
     "output_type": "display_data"
    },
    {
     "data": {
      "text/html": [
       "<style>\n",
       ".list-inline {list-style: none; margin:0; padding: 0}\n",
       ".list-inline>li {display: inline-block}\n",
       ".list-inline>li:not(:last-child)::after {content: \"\\00b7\"; padding: 0 .5ex}\n",
       "</style>\n",
       "<ol class=list-inline><li>'PAUVKY.03A'</li><li>'PAUTLA.03A'</li><li>'PAVUDU.03A'</li><li>'PAWSNZ.03A'</li><li>'PAUWWN.03A'</li><li>'PAVLZB.03A'</li><li>'PAVWDK.03A'</li><li>'PAVXBW.03A'</li><li>'PAXDWD.03A'</li><li>'PAXKRG.03A'</li><li>'PAXZJT.03A'</li></ol>\n"
      ],
      "text/latex": [
       "\\begin{enumerate*}\n",
       "\\item 'PAUVKY.03A'\n",
       "\\item 'PAUTLA.03A'\n",
       "\\item 'PAVUDU.03A'\n",
       "\\item 'PAWSNZ.03A'\n",
       "\\item 'PAUWWN.03A'\n",
       "\\item 'PAVLZB.03A'\n",
       "\\item 'PAVWDK.03A'\n",
       "\\item 'PAVXBW.03A'\n",
       "\\item 'PAXDWD.03A'\n",
       "\\item 'PAXKRG.03A'\n",
       "\\item 'PAXZJT.03A'\n",
       "\\end{enumerate*}\n"
      ],
      "text/markdown": [
       "1. 'PAUVKY.03A'\n",
       "2. 'PAUTLA.03A'\n",
       "3. 'PAVUDU.03A'\n",
       "4. 'PAWSNZ.03A'\n",
       "5. 'PAUWWN.03A'\n",
       "6. 'PAVLZB.03A'\n",
       "7. 'PAVWDK.03A'\n",
       "8. 'PAVXBW.03A'\n",
       "9. 'PAXDWD.03A'\n",
       "10. 'PAXKRG.03A'\n",
       "11. 'PAXZJT.03A'\n",
       "\n",
       "\n"
      ],
      "text/plain": [
       " [1] \"PAUVKY.03A\" \"PAUTLA.03A\" \"PAVUDU.03A\" \"PAWSNZ.03A\" \"PAUWWN.03A\"\n",
       " [6] \"PAVLZB.03A\" \"PAVWDK.03A\" \"PAVXBW.03A\" \"PAXDWD.03A\" \"PAXKRG.03A\"\n",
       "[11] \"PAXZJT.03A\""
      ]
     },
     "metadata": {},
     "output_type": "display_data"
    }
   ],
   "source": [
    "# Extract patient names for each condition\n",
    "patients_TAM <- coldata$name[coldata$condition == \"TAM\"]\n",
    "patients_preAML <- coldata$name[coldata$condition == \"preAML\"]\n",
    "patients_AML <- coldata$name[coldata$condition == \"AML\"]\n",
    "\n",
    "patients_TAM\n",
    "patients_preAML\n",
    "patients_preAML"
   ]
  },
  {
   "cell_type": "code",
   "execution_count": 24,
   "id": "58e4ce6f-dcba-4267-a67e-2d337e735243",
   "metadata": {},
   "outputs": [
    {
     "data": {
      "text/html": [
       "TRUE"
      ],
      "text/latex": [
       "TRUE"
      ],
      "text/markdown": [
       "TRUE"
      ],
      "text/plain": [
       "[1] TRUE"
      ]
     },
     "metadata": {},
     "output_type": "display_data"
    }
   ],
   "source": [
    "# Ensure the column names are character vectors\n",
    "patients_TAM <- as.character(patients_TAM)\n",
    "patients_preAML <- as.character(patients_preAML)\n",
    "patients_AML <- as.character(patients_AML)\n",
    "\n",
    "# Ensure colnames of cts match the 'name' column in design_all_matrix\n",
    "# Assuming 'cts' is already loaded in the R environment\n",
    "#matching_cols <- colnames(cts) %in% \n",
    "\n",
    "all(coldata$name %in% colnames(cts))\n"
   ]
  },
  {
   "cell_type": "code",
   "execution_count": 25,
   "id": "91e37c8e-656c-4c48-a255-bfb44658cd62",
   "metadata": {},
   "outputs": [
    {
     "name": "stdout",
     "output_type": "stream",
     "text": [
      "The following names are missing from cts:\n",
      "character(0)\n"
     ]
    }
   ],
   "source": [
    "missing_names <- coldata$name[!coldata$name %in% colnames(cts)]\n",
    "\n",
    "# Print the missing names\n",
    "cat(\"The following names are missing from cts:\\n\")\n",
    "print(missing_names)\n"
   ]
  },
  {
   "cell_type": "markdown",
   "id": "c7304414-86ad-4232-b205-b9c63c805eec",
   "metadata": {},
   "source": [
    "This is an interesting catch - this was an inadvertant add -- I had removed it from all the references so I don't include it going forward.  But did not remove it from the design matrix."
   ]
  },
  {
   "cell_type": "code",
   "execution_count": 26,
   "id": "028ae624-e2a9-4aed-8675-7caa5d711a31",
   "metadata": {},
   "outputs": [
    {
     "name": "stdout",
     "output_type": "stream",
     "text": [
      "Dimensions of cts_TAM:\n",
      "[1] 14527    99\n",
      "\n",
      "First few rows of cts_TAM:\n",
      "  PASNSP.03A PASWXF.03A PASXCL.03A PASXFP.03A PASZBH.03A PATBFK.03A PATDXB.03A\n",
      "1         19          0          0          0          0          0          0\n",
      "2          0          0          0          0          0          0          0\n",
      "3          0          0          0          0          0          0          0\n",
      "4         51         51         40         36         59         23         44\n",
      "5          0          0          0          0          0          0          0\n",
      "6         51         54         41          0          0         22          0\n",
      "  PATHYW.03A PATJSM.03A PATJTW.03A PATMYU.03A PATSAA.03A PATSBU.03A PATUHH.03A\n",
      "1          0          0          0          0          0          0          0\n",
      "2          0          0          0          0          0          0          0\n",
      "3          0          0          0          0          0          0          0\n",
      "4         51         36         75         47         48         43         35\n",
      "5          0          0          0          0          0          0          0\n",
      "6          0          0          0          0          0         45          0\n",
      "  PATYHN.03A PAUCCI.03A PAUCWF.03A PAUFEM.03A PAUGFW.03A PAUGSR.03A PAUIRS.03A\n",
      "1          0          0          0          0          0          0          0\n",
      "2          0          0          0          0          0          0          0\n",
      "3          0          0          0          0          0          0          0\n",
      "4         50         36         20         54         39         33         37\n",
      "5          0          0          0          0          0          0          0\n",
      "6         51          0          0         53          0          0          0\n",
      "  PAUJSX.03A PAUJUA.03A PAUKTL.03A PAUMEU.03A PAURGT.03A PAURGZ.03A PAUUSG.03A\n",
      "1          0          0          0          0          0          0          0\n",
      "2        251        186          0          0          0          0          0\n",
      "3          0          0          0          0          0          0          0\n",
      "4         72         28         40         41         36         46         32\n",
      "5          0          0          0          0         34          0          0\n",
      "6          0          0         41          0          0          0          0\n",
      "  PAUVKB.03A PAUWDM.03A PAUWDN.03A PAUXAT.03A PAUXEH.03A PAUYAY.03A PAVCVG.03A\n",
      "1          0          0          0          0          0          0          0\n",
      "2          0          0          0          0          0          0          0\n",
      "3          0          0          0          0          0          0          0\n",
      "4         35         32         48         49         28         45         45\n",
      "5          0          0          0          0          0          0          0\n",
      "6          0          0          0          0          0         46         45\n",
      "  PAVDZT.03A PAVECW.03A PAVESU.03A PAVIIZ.03A PAVKZU.03A PAVMSZ.03A PAVNSJ.03A\n",
      "1          0          0          0          0          0         12          0\n",
      "2        216          0          0          0          0          0          0\n",
      "3          0          0          9          0          0          0          0\n",
      "4         31         70         43         48         39         42         52\n",
      "5          0          0          0          0          0          0          0\n",
      "6          0          0          0         49          0          0          0\n",
      "  PAVNXY.03A PAVPJC.03A PAVRGG.03A PAVVPL.03A PAVWVF.03A PAWBDC.03A PAWCAY.03A\n",
      "1          0          0          0          0          0          0          0\n",
      "2          0          0          0          0          0          0          0\n",
      "3          0          0          0          0          0          0          0\n",
      "4         32         29         35         41         37         47         55\n",
      "5          0          0          0          0          0          0          0\n",
      "6          0          0         34          0         37          0         59\n",
      "  PAWCPC.03A PAWDIN.03A PAWEUI.03A PAWFKB.03A PAWGFN.03A PAWGHI.03A PAWGIG.03A\n",
      "1          0          0          0          0          0          0          0\n",
      "2          0          0        248          0          0          0          0\n",
      "3          0          0          0          0          0          0          0\n",
      "4         50         43         58         29         81         27         56\n",
      "5          0          0          0          0          0          0          0\n",
      "6          0          0         59          0          0          0          0\n",
      "  PAWHHS.03A PAWIAD.03A PAWJDZ.03A PAWKFB.03A PAWRJN.03A PAWSIP.03A PAWSUI.03A\n",
      "1          0          0          0          0          0          0          0\n",
      "2          0          0          0        273          0        288          0\n",
      "3          0          0          0          0          0          0          0\n",
      "4         34         39         57         50         66         38         65\n",
      "5          0          0          0          0          0          0          0\n",
      "6         34          0         61         50          0         39          0\n",
      "  PAWVNF.03A PAWVRU.03A PAWWPI.03A PAWXEX.03A PAWXPM.03A PAWYII.03A PAWYKF.03A\n",
      "1          0          0          0          0          0          0          0\n",
      "2          0          0          0          0          0          0          0\n",
      "3          0          0          0          0          0          0          0\n",
      "4         50         20         15         59         43         57         28\n",
      "5          0          0          0          0          0          0          0\n",
      "6          0          0          0         58          0         58          0\n",
      "  PAXAWN.03A PAXBAL.03A PAXBFM.03A PAXCUK.03A PAXDHB.03A PAXGLA.03A PAXHDZ.03A\n",
      "1          0          0          0          0          0          0          0\n",
      "2          0          0          0          0          0          0          0\n",
      "3          0          0          0          0          0          0          0\n",
      "4         54         26         55         26         34         51         30\n",
      "5          0          0         54          0          0          0          0\n",
      "6          0          0          0          0         35         50          0\n",
      "  PAXHVP.03A PAXHYL.03A PAXJYG.03A PAXNFN.03A PAXNKT.03A PAXPLA.03A PAXSBH.03A\n",
      "1          0          0          0          0          0          0          0\n",
      "2          0          0          0          0          0          0          0\n",
      "3          0          0          0          0          0          0          0\n",
      "4         38         43         50         51         46         41         51\n",
      "5          0         43          0          0          0          0          0\n",
      "6          0         43          0          0          0         41          0\n",
      "  PAXSSI.03A PAXWGW.03A PAXWZW.03A PAXXCC.03A PAXZLD.03A PAYAXU.03A PAYDIX.03A\n",
      "1          0          0          0         15          0          0          0\n",
      "2          0          0          0          0          0          0          0\n",
      "3          0          0          0          0          0          0          0\n",
      "4         58         47         61         36         31         35         26\n",
      "5          0          0          0          0          0          0          0\n",
      "6         58          0         62          0          0          0          0\n",
      "  PAYDXU.03A PAYDYT.03A PAYEGL.03A PAYFEJ.03A PAYFLR.03A PAYJHN.03A PAYJHS.03A\n",
      "1          0          0          0          0          0          9          0\n",
      "2          0          0          0          0          0          0          0\n",
      "3          0          0          0          0          0          0          0\n",
      "4         45         67         34         32         62         41          0\n",
      "5          0          0          0          0          0          0          0\n",
      "6         46          0         33          0          0          0          0\n",
      "  PAYLHE.03A\n",
      "1          0\n",
      "2          0\n",
      "3          0\n",
      "4         37\n",
      "5          0\n",
      "6          0\n",
      "\n",
      "Dimensions of cts_preAML:\n",
      "[1] 14527    11\n",
      "\n",
      "First few rows of cts_preAML:\n",
      "  PAUVKY.03A PAUWWN.03A PAVLZB.03A PAVWDK.03A PAVXBW.03A PAWSNZ.03A PAXDWD.03A\n",
      "1          0          0          0          0          0          0          0\n",
      "2          0        143          0          0          0          0          0\n",
      "3          0          0          0          0          0          0          0\n",
      "4         36         52         25         51         32         83         26\n",
      "5          0          0         26          0          0          0          0\n",
      "6          0          0         26          0         32         82         25\n",
      "  PAXKRG.03A PAXZJT.03A PAUTLA.03A PAVUDU.03A\n",
      "1          0          0          0          0\n",
      "2          0          0          0          0\n",
      "3          0          0          0          0\n",
      "4         61         42         50         41\n",
      "5          0          0         50          0\n",
      "6         61          0          0         40\n",
      "\n",
      "Dimensions of cts_AML:\n",
      "[1] 14527    11\n",
      "\n",
      "First few rows of cts_AML:\n",
      "  PAUVKY.03A PAUWWN.03A PAVLZB.03A PAVWDK.03A PAVXBW.03A PAWSNZ.03A PAXDWD.03A\n",
      "1          0          0          0          0          0          0          0\n",
      "2          0        143          0          0          0          0          0\n",
      "3          0          0          0          0          0          0          0\n",
      "4         36         52         25         51         32         83         26\n",
      "5          0          0         26          0          0          0          0\n",
      "6          0          0         26          0         32         82         25\n",
      "  PAXKRG.03A PAXZJT.03A PAUTLA.03A PAVUDU.03A\n",
      "1          0          0          0          0\n",
      "2          0          0          0          0\n",
      "3          0          0          0          0\n",
      "4         61         42         50         41\n",
      "5          0          0         50          0\n",
      "6         61          0          0         40\n"
     ]
    }
   ],
   "source": [
    "# Create sub-matrices based on these patient names\n",
    "cts_TAM <- cts[, colnames(cts) %in% patients_TAM, drop = FALSE]\n",
    "cts_preAML <- cts[, colnames(cts) %in% patients_preAML, drop = FALSE]\n",
    "cts_AML <- cts[, colnames(cts) %in% patients_preAML, drop = FALSE]\n",
    "\n",
    "\n",
    "# Print summaries of the sub-matrices to verify\n",
    "cat(\"Dimensions of cts_TAM:\\n\")\n",
    "print(dim(cts_TAM))\n",
    "cat(\"\\nFirst few rows of cts_TAM:\\n\")\n",
    "print(head(cts_TAM))\n",
    "\n",
    "cat(\"\\nDimensions of cts_preAML:\\n\")\n",
    "print(dim(cts_preAML))\n",
    "cat(\"\\nFirst few rows of cts_preAML:\\n\")\n",
    "print(head(cts_preAML))\n",
    "\n",
    "cat(\"\\nDimensions of cts_AML:\\n\")\n",
    "print(dim(cts_AML))\n",
    "cat(\"\\nFirst few rows of cts_AML:\\n\")\n",
    "print(head(cts_AML))"
   ]
  },
  {
   "cell_type": "code",
   "execution_count": 62,
   "id": "8933b0a7-6660-417a-9e56-db88ceb5938f",
   "metadata": {},
   "outputs": [
    {
     "data": {
      "text/html": [
       "2004"
      ],
      "text/latex": [
       "2004"
      ],
      "text/markdown": [
       "2004"
      ],
      "text/plain": [
       "[1] 2004"
      ]
     },
     "metadata": {},
     "output_type": "display_data"
    }
   ],
   "source": [
    "sum(rowSums(cts_preAML) > 1000)"
   ]
  },
  {
   "cell_type": "markdown",
   "id": "190f24df-7c2b-44f7-96f6-744b59d2fa55",
   "metadata": {},
   "source": [
    "**Key Points:**\n",
    "\n",
    "1. **Threshold Definition:** Define a count threshold (e.g., 1000).\n",
    "2. **Criteria for Selection:** Define a function to select rows that have counts above the threshold in at least half of the samples in each condition.\n",
    "3. **Row Selection:** Apply this criteria to each condition's sub-matrix.\n",
    "4. **Combine Rows:** Combine the selected rows from all conditions to form the final matrix.\n",
    "5. **MDS Plot:** Proceed with the MDS plot using the final matrix.\n",
    "This approach ensures that the rows included in the final matrix have significant counts in most of the samples for each condition, which should help to maximize the differences in the signals."
   ]
  },
  {
   "cell_type": "code",
   "execution_count": 69,
   "id": "0780dd0d-d0ea-41d5-958c-77f4c14d71b1",
   "metadata": {},
   "outputs": [
    {
     "name": "stdout",
     "output_type": "stream",
     "text": [
      "Dimensions of the final matrix:\n",
      "[1] 481 114\n",
      "[1] \"AML_yes\"    \"preAML_no\"  \"preAML_yes\" \"TAM_no\"    \n"
     ]
    },
    {
     "data": {
      "image/png": "[encoded data removed]",
      "text/plain": [
       "plot without title"
      ]
     },
     "metadata": {
      "image/png": {
       "height": 420,
       "width": 420
      }
     },
     "output_type": "display_data"
    }
   ],
   "source": [
    "# Create sub-matrices based on these patient names\n",
    "patients_TAM <- coldata$name[coldata$condition == \"TAM\"]\n",
    "patients_preAML <- coldata$name[coldata$condition == \"preAML\"]\n",
    "patients_AML <- coldata$name[coldata$condition == \"AML\"]\n",
    "\n",
    "cts_TAM <- cts[, colnames(cts) %in% patients_TAM, drop = FALSE]\n",
    "cts_preAML <- cts[, colnames(cts) %in% patients_preAML, drop = FALSE]\n",
    "cts_AML <- cts[, colnames(cts) %in% patients_AML, drop = FALSE]\n",
    "\n",
    "# Define the threshold for counts and the criteria for \"most\"\n",
    "threshold <- 10\n",
    "min_samples <- function(mat) {\n",
    "  apply(mat, 1, function(row) sum(row > threshold) >= (ncol(mat) / 2))\n",
    "}\n",
    "\n",
    "# Apply the criteria to each sub-matrix\n",
    "preAML_rows_condition <- min_samples(cts_preAML)\n",
    "TAM_rows_condition <- min_samples(cts_TAM)\n",
    "AML_rows_condition <- min_samples(cts_AML)\n",
    "\n",
    "# Combine the selected rows from all conditions\n",
    "combined_condition <- preAML_rows_condition | TAM_rows_condition | AML_rows_condition\n",
    "final_matrix <- cts[combined_condition, ]\n",
    "\n",
    "# Print the dimensions of the final matrix to verify\n",
    "cat(\"Dimensions of the final matrix:\\n\")\n",
    "print(dim(final_matrix))\n",
    "\n",
    "# Proceed with the analysis (e.g., MDS plot)\n",
    "# Create a combined factor for the conditions and paired status\n",
    "coldata$group <- factor(paste(coldata$condition, coldata$paired, sep = \"_\"))\n",
    "\n",
    "# Check the levels of the group factor\n",
    "print(levels(coldata$group))\n",
    "\n",
    "# Proceed with the analysis (e.g., MDS plot)\n",
    "# Create a factor for the conditions\n",
    "coldata$condition <- factor(coldata$condition)\n",
    "\n",
    "# Filter coldata to match the final matrix columns\n",
    "coldata_filtered <- coldata[coldata$name %in% colnames(final_matrix), ]\n",
    "        \n",
    "# Convert the count data to a DGEList object\n",
    "dge <- DGEList(counts = final_matrix)\n",
    "\n",
    "# Normalize the data using the TMM method\n",
    "dge <- calcNormFactors(dge)\n",
    "\n",
    "# Compute the log-transformed counts per million (CPM)\n",
    "logCPM <- cpm(dge, log=TRUE, prior.count=3)\n",
    "\n",
    "# Define colors for each condition\n",
    "condition_colors <- as.numeric(coldata_filtered$condition)\n",
    "color_palette <- c(\"red\", \"blue\", \"green\")\n",
    "colors <- color_palette[condition_colors]\n",
    "\n",
    "# Create MDS plot with colors for each condition\n",
    "plotMDS(logCPM, col=colors, labels=coldata_filtered$condition, top=500)\n",
    "legend(\"topright\", legend=levels(coldata_filtered$condition), col=color_palette, pch=16)\n"
   ]
  },
  {
   "cell_type": "code",
   "execution_count": 70,
   "id": "093f3b1e-20c9-44f9-9007-801b78b28374",
   "metadata": {},
   "outputs": [],
   "source": [
    "# Save the sub-matrices to CSV files\n",
    "write.csv(cts_TAM, \"A3SS_cts_TAM.csv\", row.names = FALSE)\n",
    "write.csv(cts_preAML, \"A3SS_cts_preAML.csv\", row.names = FALSE)\n",
    "write.csv(cts_AML, \"A3SS_cts_AML.csv\", row.names = FALSE)\n"
   ]
  },
  {
   "cell_type": "code",
   "execution_count": 71,
   "id": "71b63bea-6ba2-4a62-a16d-c5473952e45a",
   "metadata": {},
   "outputs": [],
   "source": [
    "cts <- final_matrix\n",
    "\n",
    "featureData <- featureData[rownames(cts),]"
   ]
  },
  {
   "cell_type": "code",
   "execution_count": 72,
   "id": "a2f1e118-e229-4f22-bc95-025cfaaa0e70",
   "metadata": {},
   "outputs": [
    {
     "data": {
      "text/html": [
       "<style>\n",
       ".list-inline {list-style: none; margin:0; padding: 0}\n",
       ".list-inline>li {display: inline-block}\n",
       ".list-inline>li:not(:last-child)::after {content: \"\\00b7\"; padding: 0 .5ex}\n",
       "</style>\n",
       "<ol class=list-inline><li>481</li><li>114</li></ol>\n"
      ],
      "text/latex": [
       "\\begin{enumerate*}\n",
       "\\item 481\n",
       "\\item 114\n",
       "\\end{enumerate*}\n"
      ],
      "text/markdown": [
       "1. 481\n",
       "2. 114\n",
       "\n",
       "\n"
      ],
      "text/plain": [
       "[1] 481 114"
      ]
     },
     "metadata": {},
     "output_type": "display_data"
    },
    {
     "data": {
      "text/html": [
       "<style>\n",
       ".list-inline {list-style: none; margin:0; padding: 0}\n",
       ".list-inline>li {display: inline-block}\n",
       ".list-inline>li:not(:last-child)::after {content: \"\\00b7\"; padding: 0 .5ex}\n",
       "</style>\n",
       "<ol class=list-inline><li>481</li><li>2</li></ol>\n"
      ],
      "text/latex": [
       "\\begin{enumerate*}\n",
       "\\item 481\n",
       "\\item 2\n",
       "\\end{enumerate*}\n"
      ],
      "text/markdown": [
       "1. 481\n",
       "2. 2\n",
       "\n",
       "\n"
      ],
      "text/plain": [
       "[1] 481   2"
      ]
     },
     "metadata": {},
     "output_type": "display_data"
    }
   ],
   "source": [
    "dim(cts)\n",
    "dim(featureData)"
   ]
  },
  {
   "cell_type": "markdown",
   "id": "72975ad2-b3c8-42a1-a287-010b7c2838bb",
   "metadata": {},
   "source": [
    "## Explanation\n",
    "1. **Library loading:** We load the limma and edgeR libraries required for the analysis.\n",
    "2. **Group factor:** We create a factor group based on the condition column in coldata.\n",
    "3. **Design matrix:** We create a design matrix using model.matrix where each column corresponds to a condition.\n",
    "4. **Contrast matrix:** We define a contrast matrix using makeContrasts for the comparisons of interest.\n",
    "5. **DGEList object:** We convert the count data to a DGEList object and normalize it.\n",
    "6. **Voom transformation:** We apply the voom transformation to the normalized data.\n",
    "7. **Linear model fitting:** We fit a linear model to the transformed data using lmFit.\n",
    "8. **Contrast fitting:** We apply the contrasts to the fitted model using contrasts.fit.\n",
    "9. **eBayes:** We compute the statistics using eBayes.\n",
    "10. **TopTable:** We extract the top differentially expressed genes for each comparison using topTable."
   ]
  },
  {
   "cell_type": "code",
   "execution_count": 73,
   "id": "b94c24aa-954b-4863-9bcb-87f0f60d731b",
   "metadata": {},
   "outputs": [
    {
     "data": {
      "text/html": [
       "TRUE"
      ],
      "text/latex": [
       "TRUE"
      ],
      "text/markdown": [
       "TRUE"
      ],
      "text/plain": [
       "[1] TRUE"
      ]
     },
     "metadata": {},
     "output_type": "display_data"
    }
   ],
   "source": [
    "# Load necessary libraries\n",
    "library(limma)\n",
    "library(edgeR)\n",
    "library(statmod)\n",
    "\n",
    "# Load the design_all_matrix.csv file into coldata\n",
    "coldata <- read.csv(\"/Users/annedeslattesmays/Scitechcon\\ Dropbox/Anne\\ DeslattesMays/projects/post-rmats-single-run/design/design_all_matrix.csv\", row.names=1)\n",
    "\n",
    "# Create a new column 'name' with rownames\n",
    "coldata$name <- rownames(coldata)\n",
    "\n",
    "# Verify that all names in coldata are present in the column names of cts\n",
    "if (!all(coldata$name %in% colnames(cts))) {\n",
    "  stop(\"Not all names in coldata are present in the column names of cts\")\n",
    "}\n",
    "\n",
    "# Filter coldata to only include names present in cts\n",
    "coldata <- coldata[coldata$name %in% colnames(cts), ]\n",
    "\n",
    "# Assuming cts is your count matrix and coldata is your sample information\n",
    "# Make sure coldata$name matches the column names of cts\n",
    "all(coldata$name %in% colnames(cts)) # This should return TRUE\n"
   ]
  },
  {
   "cell_type": "code",
   "execution_count": 74,
   "id": "9d41bd0d-5b71-4ef9-b4be-6af655908a7e",
   "metadata": {},
   "outputs": [
    {
     "data": {
      "text/html": [
       "<table class=\"dataframe\">\n",
       "<caption>A matrix: 6 × 3 of type dbl</caption>\n",
       "<thead>\n",
       "\t<tr><th></th><th scope=col>AML</th><th scope=col>preAML</th><th scope=col>TAM</th></tr>\n",
       "</thead>\n",
       "<tbody>\n",
       "\t<tr><th scope=row>1</th><td>0</td><td>1</td><td>0</td></tr>\n",
       "\t<tr><th scope=row>2</th><td>1</td><td>0</td><td>0</td></tr>\n",
       "\t<tr><th scope=row>3</th><td>0</td><td>1</td><td>0</td></tr>\n",
       "\t<tr><th scope=row>4</th><td>1</td><td>0</td><td>0</td></tr>\n",
       "\t<tr><th scope=row>5</th><td>0</td><td>1</td><td>0</td></tr>\n",
       "\t<tr><th scope=row>6</th><td>1</td><td>0</td><td>0</td></tr>\n",
       "</tbody>\n",
       "</table>\n"
      ],
      "text/latex": [
       "A matrix: 6 × 3 of type dbl\n",
       "\\begin{tabular}{r|lll}\n",
       "  & AML & preAML & TAM\\\\\n",
       "\\hline\n",
       "\t1 & 0 & 1 & 0\\\\\n",
       "\t2 & 1 & 0 & 0\\\\\n",
       "\t3 & 0 & 1 & 0\\\\\n",
       "\t4 & 1 & 0 & 0\\\\\n",
       "\t5 & 0 & 1 & 0\\\\\n",
       "\t6 & 1 & 0 & 0\\\\\n",
       "\\end{tabular}\n"
      ],
      "text/markdown": [
       "\n",
       "A matrix: 6 × 3 of type dbl\n",
       "\n",
       "| <!--/--> | AML | preAML | TAM |\n",
       "|---|---|---|---|\n",
       "| 1 | 0 | 1 | 0 |\n",
       "| 2 | 1 | 0 | 0 |\n",
       "| 3 | 0 | 1 | 0 |\n",
       "| 4 | 1 | 0 | 0 |\n",
       "| 5 | 0 | 1 | 0 |\n",
       "| 6 | 1 | 0 | 0 |\n",
       "\n"
      ],
      "text/plain": [
       "  AML preAML TAM\n",
       "1 0   1      0  \n",
       "2 1   0      0  \n",
       "3 0   1      0  \n",
       "4 1   0      0  \n",
       "5 0   1      0  \n",
       "6 1   0      0  "
      ]
     },
     "metadata": {},
     "output_type": "display_data"
    },
    {
     "name": "stdout",
     "output_type": "stream",
     "text": [
      "        Contrasts\n",
      "Levels   TAM_vs_preAML TAM_vs_AML preAML_vs_AML\n",
      "  AML                0         -1            -1\n",
      "  preAML            -1          0             1\n",
      "  TAM                1          1             0\n"
     ]
    },
    {
     "data": {
      "text/html": [
       "TRUE"
      ],
      "text/latex": [
       "TRUE"
      ],
      "text/markdown": [
       "TRUE"
      ],
      "text/plain": [
       "[1] TRUE"
      ]
     },
     "metadata": {},
     "output_type": "display_data"
    },
    {
     "data": {
      "text/html": [
       "481"
      ],
      "text/latex": [
       "481"
      ],
      "text/markdown": [
       "481"
      ],
      "text/plain": [
       "[1] 481"
      ]
     },
     "metadata": {},
     "output_type": "display_data"
    }
   ],
   "source": [
    "# Ensure that the column names of cts are in the same order as the rownames of coldata\n",
    "cts <- cts[, coldata$name]\n",
    "\n",
    "# Create a factor for the conditions\n",
    "group <- factor(coldata$condition)\n",
    "\n",
    "# Create the design matrix\n",
    "design <- model.matrix(~0 + group)\n",
    "colnames(design) <- levels(group)\n",
    "\n",
    "# Print the design matrix to verify\n",
    "head(design)\n",
    "\n",
    "# Define the contrast matrix for the comparisons\n",
    "# We want to compare TAM vs preAML, TAM vs AML, preAML vs AML\n",
    "contrast_matrix <- makeContrasts(\n",
    "  TAM_vs_preAML = TAM - preAML,\n",
    "  TAM_vs_AML = TAM - AML,\n",
    "  preAML_vs_AML = preAML - AML,\n",
    "  levels = design\n",
    ")\n",
    "\n",
    "# Print the contrast matrix to verify\n",
    "print(contrast_matrix)\n",
    "\n",
    "# Convert the count data to a DGEList object\n",
    "dge <- DGEList(counts = cts)\n",
    "\n",
    "# normalize and filter\n",
    "keep          <-filterByExpr(dge, design)\n",
    "\n",
    "is.logical(keep)\n",
    "sum(keep==TRUE)\n",
    "\n",
    "dge          <- dge         [keep,,keep.lib.size=FALSE]\n",
    "\n",
    "# Normalize the data using the TMM method\n",
    "dge <- calcNormFactors(dge)\n"
   ]
  },
  {
   "cell_type": "markdown",
   "id": "e0ae4434-25da-4c4f-9a5c-a205ce856657",
   "metadata": {},
   "source": [
    "## Key Points\n",
    "1. **Check Levels:** Print the levels of the group factor to ensure it is being created correctly.\n",
    "2. **Color Palette:** Use a color palette that matches the number of unique groups.\n",
    "3. **Legend:** Ensure that the legend matches the levels of the group factor.\n",
    "   \n",
    "This code will:\n",
    "\n",
    "1. Load the coldata and ensure the row names match the column names of cts.\n",
    "2. Create a new group factor combining the condition and paired status.\n",
    "3. Verify the levels of the group factor.\n",
    "4. Normalize the count data and compute log-transformed CPM values.\n",
    "5. Generate an MDS plot with colors representing each unique group.\n",
    "6. Add a legend to the plot corresponding to the group levels."
   ]
  },
  {
   "cell_type": "code",
   "execution_count": 75,
   "id": "2f8117ce-563e-4eda-bcba-25f53237cc0f",
   "metadata": {},
   "outputs": [
    {
     "data": {
      "image/png": "[encoded data removed]",
      "text/plain": [
       "plot without title"
      ]
     },
     "metadata": {
      "image/png": {
       "height": 420,
       "width": 420
      }
     },
     "output_type": "display_data"
    }
   ],
   "source": [
    "# Compute the log-transformed counts per million (CPM)\n",
    "logCPM <- cpm(dge, log=TRUE, prior.count=3)\n",
    "\n",
    "# Create a combined factor for the conditions and paired status\n",
    "coldata$group <- factor(paste(coldata$condition, coldata$paired, sep = \"_\"))\n",
    "\n",
    "# Define colors for each condition and paired status\n",
    "condition_colors <- as.numeric(coldata$group)\n",
    "color_palette <- rainbow(length(unique(coldata$group)))\n",
    "colors <- color_palette[condition_colors]\n",
    "\n",
    "# Create MDS plot with colors for each condition and paired status\n",
    "plotMDS(logCPM, col=colors, labels=coldata$group, top=500)\n",
    "legend(\"topright\", legend=levels(coldata$group), col=color_palette, pch=16)"
   ]
  },
  {
   "cell_type": "code",
   "execution_count": 76,
   "id": "120bf64b-8e74-4067-baa0-b0df9494f6d9",
   "metadata": {},
   "outputs": [
    {
     "data": {
      "text/html": [
       "481"
      ],
      "text/latex": [
       "481"
      ],
      "text/markdown": [
       "481"
      ],
      "text/plain": [
       "[1] 481"
      ]
     },
     "metadata": {},
     "output_type": "display_data"
    },
    {
     "data": {
      "text/html": [
       "481"
      ],
      "text/latex": [
       "481"
      ],
      "text/markdown": [
       "481"
      ],
      "text/plain": [
       "[1] 481"
      ]
     },
     "metadata": {},
     "output_type": "display_data"
    },
    {
     "data": {
      "text/html": [
       "481"
      ],
      "text/latex": [
       "481"
      ],
      "text/markdown": [
       "481"
      ],
      "text/plain": [
       "[1] 481"
      ]
     },
     "metadata": {},
     "output_type": "display_data"
    }
   ],
   "source": [
    "\n",
    "fit <- lmFit(logCPM, design)\n",
    "fit <- eBayes(fit, trend=TRUE)\n",
    "\n",
    "\n",
    "# Apply contrasts\n",
    "fit2 <- contrasts.fit(fit, contrast_matrix)\n",
    "\n",
    "# Compute the statistics\n",
    "fit2 <- eBayes(fit2)\n",
    "\n",
    "# Print the top differentially expressed genes for each comparison\n",
    "TAM_vs_preAML_results <- topTable(fit2, coef = \"TAM_vs_preAML\", n=Inf)\n",
    "TAM_vs_AML_results <- topTable(fit2, coef = \"TAM_vs_AML\",n=Inf)\n",
    "preAML_vs_AML_results <- topTable(fit2, coef = \"preAML_vs_AML\",n=Inf)\n",
    "\n",
    "TAM_vs_preAML_lookup <- rownames(TAM_vs_preAML_results)\n",
    "TAM_vs_AML_lookup <- rownames(TAM_vs_AML_results)\n",
    "preAML_vs_AML_lookup <- rownames(preAML_vs_AML_results)\n",
    "\n",
    "length(TAM_vs_preAML_lookup)\n",
    "length(TAM_vs_AML_lookup)\n",
    "length(preAML_vs_AML_lookup)"
   ]
  },
  {
   "cell_type": "code",
   "execution_count": 77,
   "id": "dfe3cc22-124a-4666-b8d4-b5637879f4e3",
   "metadata": {},
   "outputs": [
    {
     "data": {
      "text/html": [
       "<table class=\"dataframe\">\n",
       "<caption>A data.frame: 10 × 6</caption>\n",
       "<thead>\n",
       "\t<tr><th></th><th scope=col>logFC</th><th scope=col>AveExpr</th><th scope=col>t</th><th scope=col>P.Value</th><th scope=col>adj.P.Val</th><th scope=col>B</th></tr>\n",
       "\t<tr><th></th><th scope=col>&lt;dbl&gt;</th><th scope=col>&lt;dbl&gt;</th><th scope=col>&lt;dbl&gt;</th><th scope=col>&lt;dbl&gt;</th><th scope=col>&lt;dbl&gt;</th><th scope=col>&lt;dbl&gt;</th></tr>\n",
       "</thead>\n",
       "<tbody>\n",
       "\t<tr><th scope=row>14203</th><td> 0.7187102</td><td> 9.674744</td><td> 3.809452</td><td>0.0002273802</td><td>0.09105729</td><td> 0.38492150</td></tr>\n",
       "\t<tr><th scope=row>13938</th><td> 0.3559367</td><td> 9.940651</td><td> 3.665168</td><td>0.0003786166</td><td>0.09105729</td><td>-0.03954368</td></tr>\n",
       "\t<tr><th scope=row>2454</th><td>-0.4269117</td><td>11.642275</td><td>-3.198185</td><td>0.0017961037</td><td>0.14882239</td><td>-1.32546581</td></tr>\n",
       "\t<tr><th scope=row>6177</th><td> 2.7484135</td><td> 5.782619</td><td> 3.086988</td><td>0.0025458548</td><td>0.14882239</td><td>-1.61086729</td></tr>\n",
       "\t<tr><th scope=row>5998</th><td> 0.4714142</td><td>10.065924</td><td> 3.055400</td><td>0.0028066264</td><td>0.14882239</td><td>-1.69042352</td></tr>\n",
       "\t<tr><th scope=row>3802</th><td>-0.4020426</td><td>11.134630</td><td>-3.047815</td><td>0.0028728258</td><td>0.14882239</td><td>-1.70942731</td></tr>\n",
       "\t<tr><th scope=row>609</th><td> 0.5723057</td><td> 9.867470</td><td> 3.030065</td><td>0.0030334124</td><td>0.14882239</td><td>-1.75374189</td></tr>\n",
       "\t<tr><th scope=row>2455</th><td>-0.4212753</td><td>12.763972</td><td>-3.013775</td><td>0.0031880538</td><td>0.14882239</td><td>-1.79422259</td></tr>\n",
       "\t<tr><th scope=row>2776</th><td>-0.4160393</td><td> 9.768459</td><td>-3.004645</td><td>0.0032778813</td><td>0.14882239</td><td>-1.81683219</td></tr>\n",
       "\t<tr><th scope=row>9799</th><td> 0.2568621</td><td>10.922522</td><td> 2.986944</td><td>0.0034587174</td><td>0.14882239</td><td>-1.86050186</td></tr>\n",
       "</tbody>\n",
       "</table>\n"
      ],
      "text/latex": [
       "A data.frame: 10 × 6\n",
       "\\begin{tabular}{r|llllll}\n",
       "  & logFC & AveExpr & t & P.Value & adj.P.Val & B\\\\\n",
       "  & <dbl> & <dbl> & <dbl> & <dbl> & <dbl> & <dbl>\\\\\n",
       "\\hline\n",
       "\t14203 &  0.7187102 &  9.674744 &  3.809452 & 0.0002273802 & 0.09105729 &  0.38492150\\\\\n",
       "\t13938 &  0.3559367 &  9.940651 &  3.665168 & 0.0003786166 & 0.09105729 & -0.03954368\\\\\n",
       "\t2454 & -0.4269117 & 11.642275 & -3.198185 & 0.0017961037 & 0.14882239 & -1.32546581\\\\\n",
       "\t6177 &  2.7484135 &  5.782619 &  3.086988 & 0.0025458548 & 0.14882239 & -1.61086729\\\\\n",
       "\t5998 &  0.4714142 & 10.065924 &  3.055400 & 0.0028066264 & 0.14882239 & -1.69042352\\\\\n",
       "\t3802 & -0.4020426 & 11.134630 & -3.047815 & 0.0028728258 & 0.14882239 & -1.70942731\\\\\n",
       "\t609 &  0.5723057 &  9.867470 &  3.030065 & 0.0030334124 & 0.14882239 & -1.75374189\\\\\n",
       "\t2455 & -0.4212753 & 12.763972 & -3.013775 & 0.0031880538 & 0.14882239 & -1.79422259\\\\\n",
       "\t2776 & -0.4160393 &  9.768459 & -3.004645 & 0.0032778813 & 0.14882239 & -1.81683219\\\\\n",
       "\t9799 &  0.2568621 & 10.922522 &  2.986944 & 0.0034587174 & 0.14882239 & -1.86050186\\\\\n",
       "\\end{tabular}\n"
      ],
      "text/markdown": [
       "\n",
       "A data.frame: 10 × 6\n",
       "\n",
       "| <!--/--> | logFC &lt;dbl&gt; | AveExpr &lt;dbl&gt; | t &lt;dbl&gt; | P.Value &lt;dbl&gt; | adj.P.Val &lt;dbl&gt; | B &lt;dbl&gt; |\n",
       "|---|---|---|---|---|---|---|\n",
       "| 14203 |  0.7187102 |  9.674744 |  3.809452 | 0.0002273802 | 0.09105729 |  0.38492150 |\n",
       "| 13938 |  0.3559367 |  9.940651 |  3.665168 | 0.0003786166 | 0.09105729 | -0.03954368 |\n",
       "| 2454 | -0.4269117 | 11.642275 | -3.198185 | 0.0017961037 | 0.14882239 | -1.32546581 |\n",
       "| 6177 |  2.7484135 |  5.782619 |  3.086988 | 0.0025458548 | 0.14882239 | -1.61086729 |\n",
       "| 5998 |  0.4714142 | 10.065924 |  3.055400 | 0.0028066264 | 0.14882239 | -1.69042352 |\n",
       "| 3802 | -0.4020426 | 11.134630 | -3.047815 | 0.0028728258 | 0.14882239 | -1.70942731 |\n",
       "| 609 |  0.5723057 |  9.867470 |  3.030065 | 0.0030334124 | 0.14882239 | -1.75374189 |\n",
       "| 2455 | -0.4212753 | 12.763972 | -3.013775 | 0.0031880538 | 0.14882239 | -1.79422259 |\n",
       "| 2776 | -0.4160393 |  9.768459 | -3.004645 | 0.0032778813 | 0.14882239 | -1.81683219 |\n",
       "| 9799 |  0.2568621 | 10.922522 |  2.986944 | 0.0034587174 | 0.14882239 | -1.86050186 |\n",
       "\n"
      ],
      "text/plain": [
       "      logFC      AveExpr   t         P.Value      adj.P.Val  B          \n",
       "14203  0.7187102  9.674744  3.809452 0.0002273802 0.09105729  0.38492150\n",
       "13938  0.3559367  9.940651  3.665168 0.0003786166 0.09105729 -0.03954368\n",
       "2454  -0.4269117 11.642275 -3.198185 0.0017961037 0.14882239 -1.32546581\n",
       "6177   2.7484135  5.782619  3.086988 0.0025458548 0.14882239 -1.61086729\n",
       "5998   0.4714142 10.065924  3.055400 0.0028066264 0.14882239 -1.69042352\n",
       "3802  -0.4020426 11.134630 -3.047815 0.0028728258 0.14882239 -1.70942731\n",
       "609    0.5723057  9.867470  3.030065 0.0030334124 0.14882239 -1.75374189\n",
       "2455  -0.4212753 12.763972 -3.013775 0.0031880538 0.14882239 -1.79422259\n",
       "2776  -0.4160393  9.768459 -3.004645 0.0032778813 0.14882239 -1.81683219\n",
       "9799   0.2568621 10.922522  2.986944 0.0034587174 0.14882239 -1.86050186"
      ]
     },
     "metadata": {},
     "output_type": "display_data"
    }
   ],
   "source": [
    "head(TAM_vs_preAML_results,10)"
   ]
  },
  {
   "cell_type": "code",
   "execution_count": 78,
   "id": "56719de4-34d6-4cc1-a776-4e231af67c22",
   "metadata": {},
   "outputs": [
    {
     "data": {
      "text/html": [
       "<table class=\"dataframe\">\n",
       "<caption>A data.frame: 10 × 6</caption>\n",
       "<thead>\n",
       "\t<tr><th></th><th scope=col>logFC</th><th scope=col>AveExpr</th><th scope=col>t</th><th scope=col>P.Value</th><th scope=col>adj.P.Val</th><th scope=col>B</th></tr>\n",
       "\t<tr><th></th><th scope=col>&lt;dbl&gt;</th><th scope=col>&lt;dbl&gt;</th><th scope=col>&lt;dbl&gt;</th><th scope=col>&lt;dbl&gt;</th><th scope=col>&lt;dbl&gt;</th><th scope=col>&lt;dbl&gt;</th></tr>\n",
       "</thead>\n",
       "<tbody>\n",
       "\t<tr><th scope=row>9366</th><td>-3.4270223</td><td> 2.781468</td><td>-4.761955</td><td>5.751553e-06</td><td>0.002766497</td><td> 3.5391791</td></tr>\n",
       "\t<tr><th scope=row>195</th><td> 1.3986033</td><td> 8.568684</td><td> 3.531039</td><td>6.009643e-04</td><td>0.144531918</td><td>-0.4075779</td></tr>\n",
       "\t<tr><th scope=row>3758</th><td> 0.8726998</td><td>10.518821</td><td> 3.221470</td><td>1.667760e-03</td><td>0.165130740</td><td>-1.2600012</td></tr>\n",
       "\t<tr><th scope=row>1026</th><td>-0.6124977</td><td> 9.992481</td><td>-3.166964</td><td>1.982652e-03</td><td>0.165130740</td><td>-1.4035566</td></tr>\n",
       "\t<tr><th scope=row>3376</th><td> 1.1623507</td><td> 9.597572</td><td> 3.151079</td><td>2.084345e-03</td><td>0.165130740</td><td>-1.4450190</td></tr>\n",
       "\t<tr><th scope=row>12556</th><td> 0.7558502</td><td> 8.926336</td><td> 3.065734</td><td>2.718716e-03</td><td>0.165130740</td><td>-1.6648297</td></tr>\n",
       "\t<tr><th scope=row>3295</th><td> 0.9689421</td><td>11.084666</td><td> 3.042011</td><td>2.924450e-03</td><td>0.165130740</td><td>-1.7250416</td></tr>\n",
       "\t<tr><th scope=row>2428</th><td>-0.5168502</td><td>13.776877</td><td>-3.020238</td><td>3.125847e-03</td><td>0.165130740</td><td>-1.7799602</td></tr>\n",
       "\t<tr><th scope=row>3299</th><td> 0.5618655</td><td>10.338602</td><td> 2.964170</td><td>3.704918e-03</td><td>0.165130740</td><td>-1.9198687</td></tr>\n",
       "\t<tr><th scope=row>12282</th><td>-3.6241167</td><td> 6.329984</td><td>-2.953546</td><td>3.825205e-03</td><td>0.165130740</td><td>-1.9461310</td></tr>\n",
       "</tbody>\n",
       "</table>\n"
      ],
      "text/latex": [
       "A data.frame: 10 × 6\n",
       "\\begin{tabular}{r|llllll}\n",
       "  & logFC & AveExpr & t & P.Value & adj.P.Val & B\\\\\n",
       "  & <dbl> & <dbl> & <dbl> & <dbl> & <dbl> & <dbl>\\\\\n",
       "\\hline\n",
       "\t9366 & -3.4270223 &  2.781468 & -4.761955 & 5.751553e-06 & 0.002766497 &  3.5391791\\\\\n",
       "\t195 &  1.3986033 &  8.568684 &  3.531039 & 6.009643e-04 & 0.144531918 & -0.4075779\\\\\n",
       "\t3758 &  0.8726998 & 10.518821 &  3.221470 & 1.667760e-03 & 0.165130740 & -1.2600012\\\\\n",
       "\t1026 & -0.6124977 &  9.992481 & -3.166964 & 1.982652e-03 & 0.165130740 & -1.4035566\\\\\n",
       "\t3376 &  1.1623507 &  9.597572 &  3.151079 & 2.084345e-03 & 0.165130740 & -1.4450190\\\\\n",
       "\t12556 &  0.7558502 &  8.926336 &  3.065734 & 2.718716e-03 & 0.165130740 & -1.6648297\\\\\n",
       "\t3295 &  0.9689421 & 11.084666 &  3.042011 & 2.924450e-03 & 0.165130740 & -1.7250416\\\\\n",
       "\t2428 & -0.5168502 & 13.776877 & -3.020238 & 3.125847e-03 & 0.165130740 & -1.7799602\\\\\n",
       "\t3299 &  0.5618655 & 10.338602 &  2.964170 & 3.704918e-03 & 0.165130740 & -1.9198687\\\\\n",
       "\t12282 & -3.6241167 &  6.329984 & -2.953546 & 3.825205e-03 & 0.165130740 & -1.9461310\\\\\n",
       "\\end{tabular}\n"
      ],
      "text/markdown": [
       "\n",
       "A data.frame: 10 × 6\n",
       "\n",
       "| <!--/--> | logFC &lt;dbl&gt; | AveExpr &lt;dbl&gt; | t &lt;dbl&gt; | P.Value &lt;dbl&gt; | adj.P.Val &lt;dbl&gt; | B &lt;dbl&gt; |\n",
       "|---|---|---|---|---|---|---|\n",
       "| 9366 | -3.4270223 |  2.781468 | -4.761955 | 5.751553e-06 | 0.002766497 |  3.5391791 |\n",
       "| 195 |  1.3986033 |  8.568684 |  3.531039 | 6.009643e-04 | 0.144531918 | -0.4075779 |\n",
       "| 3758 |  0.8726998 | 10.518821 |  3.221470 | 1.667760e-03 | 0.165130740 | -1.2600012 |\n",
       "| 1026 | -0.6124977 |  9.992481 | -3.166964 | 1.982652e-03 | 0.165130740 | -1.4035566 |\n",
       "| 3376 |  1.1623507 |  9.597572 |  3.151079 | 2.084345e-03 | 0.165130740 | -1.4450190 |\n",
       "| 12556 |  0.7558502 |  8.926336 |  3.065734 | 2.718716e-03 | 0.165130740 | -1.6648297 |\n",
       "| 3295 |  0.9689421 | 11.084666 |  3.042011 | 2.924450e-03 | 0.165130740 | -1.7250416 |\n",
       "| 2428 | -0.5168502 | 13.776877 | -3.020238 | 3.125847e-03 | 0.165130740 | -1.7799602 |\n",
       "| 3299 |  0.5618655 | 10.338602 |  2.964170 | 3.704918e-03 | 0.165130740 | -1.9198687 |\n",
       "| 12282 | -3.6241167 |  6.329984 | -2.953546 | 3.825205e-03 | 0.165130740 | -1.9461310 |\n",
       "\n"
      ],
      "text/plain": [
       "      logFC      AveExpr   t         P.Value      adj.P.Val   B         \n",
       "9366  -3.4270223  2.781468 -4.761955 5.751553e-06 0.002766497  3.5391791\n",
       "195    1.3986033  8.568684  3.531039 6.009643e-04 0.144531918 -0.4075779\n",
       "3758   0.8726998 10.518821  3.221470 1.667760e-03 0.165130740 -1.2600012\n",
       "1026  -0.6124977  9.992481 -3.166964 1.982652e-03 0.165130740 -1.4035566\n",
       "3376   1.1623507  9.597572  3.151079 2.084345e-03 0.165130740 -1.4450190\n",
       "12556  0.7558502  8.926336  3.065734 2.718716e-03 0.165130740 -1.6648297\n",
       "3295   0.9689421 11.084666  3.042011 2.924450e-03 0.165130740 -1.7250416\n",
       "2428  -0.5168502 13.776877 -3.020238 3.125847e-03 0.165130740 -1.7799602\n",
       "3299   0.5618655 10.338602  2.964170 3.704918e-03 0.165130740 -1.9198687\n",
       "12282 -3.6241167  6.329984 -2.953546 3.825205e-03 0.165130740 -1.9461310"
      ]
     },
     "metadata": {},
     "output_type": "display_data"
    }
   ],
   "source": [
    "head(TAM_vs_AML_results,10)"
   ]
  },
  {
   "cell_type": "code",
   "execution_count": 79,
   "id": "1ca0ae88-899c-4cc4-a97a-e004ee6fd307",
   "metadata": {},
   "outputs": [
    {
     "data": {
      "text/html": [
       "<table class=\"dataframe\">\n",
       "<caption>A data.frame: 10 × 6</caption>\n",
       "<thead>\n",
       "\t<tr><th></th><th scope=col>logFC</th><th scope=col>AveExpr</th><th scope=col>t</th><th scope=col>P.Value</th><th scope=col>adj.P.Val</th><th scope=col>B</th></tr>\n",
       "\t<tr><th></th><th scope=col>&lt;dbl&gt;</th><th scope=col>&lt;dbl&gt;</th><th scope=col>&lt;dbl&gt;</th><th scope=col>&lt;dbl&gt;</th><th scope=col>&lt;dbl&gt;</th><th scope=col>&lt;dbl&gt;</th></tr>\n",
       "</thead>\n",
       "<tbody>\n",
       "\t<tr><th scope=row>9366</th><td>-3.6584920</td><td> 2.781468</td><td>-4.440401</td><td>2.107553e-05</td><td>0.01013733</td><td> 0.9187583</td></tr>\n",
       "\t<tr><th scope=row>3295</th><td> 0.9753343</td><td>11.084666</td><td> 2.674657</td><td>8.594877e-03</td><td>0.53134231</td><td>-2.8055597</td></tr>\n",
       "\t<tr><th scope=row>12348</th><td> 0.6548435</td><td>14.703874</td><td> 2.666487</td><td>8.793622e-03</td><td>0.53134231</td><td>-2.8193989</td></tr>\n",
       "\t<tr><th scope=row>9680</th><td> 0.5811773</td><td> 9.736330</td><td> 2.634403</td><td>9.614905e-03</td><td>0.53134231</td><td>-2.8733957</td></tr>\n",
       "\t<tr><th scope=row>2657</th><td> 4.2037724</td><td> 7.251800</td><td> 2.586081</td><td>1.098303e-02</td><td>0.53134231</td><td>-2.9536763</td></tr>\n",
       "\t<tr><th scope=row>13434</th><td> 0.8880998</td><td>10.632623</td><td> 2.576276</td><td>1.128113e-02</td><td>0.53134231</td><td>-2.9698107</td></tr>\n",
       "\t<tr><th scope=row>1026</th><td>-0.5695494</td><td> 9.992481</td><td>-2.572302</td><td>1.140404e-02</td><td>0.53134231</td><td>-2.9763365</td></tr>\n",
       "\t<tr><th scope=row>3296</th><td> 0.8951027</td><td>10.643060</td><td> 2.535201</td><td>1.261074e-02</td><td>0.53134231</td><td>-3.0368376</td></tr>\n",
       "\t<tr><th scope=row>1033</th><td>-0.5988440</td><td> 9.572742</td><td>-2.477661</td><td>1.470961e-02</td><td>0.53134231</td><td>-3.1291760</td></tr>\n",
       "\t<tr><th scope=row>9019</th><td>-0.9517458</td><td> 9.804959</td><td>-2.454517</td><td>1.563827e-02</td><td>0.53134231</td><td>-3.1658007</td></tr>\n",
       "</tbody>\n",
       "</table>\n"
      ],
      "text/latex": [
       "A data.frame: 10 × 6\n",
       "\\begin{tabular}{r|llllll}\n",
       "  & logFC & AveExpr & t & P.Value & adj.P.Val & B\\\\\n",
       "  & <dbl> & <dbl> & <dbl> & <dbl> & <dbl> & <dbl>\\\\\n",
       "\\hline\n",
       "\t9366 & -3.6584920 &  2.781468 & -4.440401 & 2.107553e-05 & 0.01013733 &  0.9187583\\\\\n",
       "\t3295 &  0.9753343 & 11.084666 &  2.674657 & 8.594877e-03 & 0.53134231 & -2.8055597\\\\\n",
       "\t12348 &  0.6548435 & 14.703874 &  2.666487 & 8.793622e-03 & 0.53134231 & -2.8193989\\\\\n",
       "\t9680 &  0.5811773 &  9.736330 &  2.634403 & 9.614905e-03 & 0.53134231 & -2.8733957\\\\\n",
       "\t2657 &  4.2037724 &  7.251800 &  2.586081 & 1.098303e-02 & 0.53134231 & -2.9536763\\\\\n",
       "\t13434 &  0.8880998 & 10.632623 &  2.576276 & 1.128113e-02 & 0.53134231 & -2.9698107\\\\\n",
       "\t1026 & -0.5695494 &  9.992481 & -2.572302 & 1.140404e-02 & 0.53134231 & -2.9763365\\\\\n",
       "\t3296 &  0.8951027 & 10.643060 &  2.535201 & 1.261074e-02 & 0.53134231 & -3.0368376\\\\\n",
       "\t1033 & -0.5988440 &  9.572742 & -2.477661 & 1.470961e-02 & 0.53134231 & -3.1291760\\\\\n",
       "\t9019 & -0.9517458 &  9.804959 & -2.454517 & 1.563827e-02 & 0.53134231 & -3.1658007\\\\\n",
       "\\end{tabular}\n"
      ],
      "text/markdown": [
       "\n",
       "A data.frame: 10 × 6\n",
       "\n",
       "| <!--/--> | logFC &lt;dbl&gt; | AveExpr &lt;dbl&gt; | t &lt;dbl&gt; | P.Value &lt;dbl&gt; | adj.P.Val &lt;dbl&gt; | B &lt;dbl&gt; |\n",
       "|---|---|---|---|---|---|---|\n",
       "| 9366 | -3.6584920 |  2.781468 | -4.440401 | 2.107553e-05 | 0.01013733 |  0.9187583 |\n",
       "| 3295 |  0.9753343 | 11.084666 |  2.674657 | 8.594877e-03 | 0.53134231 | -2.8055597 |\n",
       "| 12348 |  0.6548435 | 14.703874 |  2.666487 | 8.793622e-03 | 0.53134231 | -2.8193989 |\n",
       "| 9680 |  0.5811773 |  9.736330 |  2.634403 | 9.614905e-03 | 0.53134231 | -2.8733957 |\n",
       "| 2657 |  4.2037724 |  7.251800 |  2.586081 | 1.098303e-02 | 0.53134231 | -2.9536763 |\n",
       "| 13434 |  0.8880998 | 10.632623 |  2.576276 | 1.128113e-02 | 0.53134231 | -2.9698107 |\n",
       "| 1026 | -0.5695494 |  9.992481 | -2.572302 | 1.140404e-02 | 0.53134231 | -2.9763365 |\n",
       "| 3296 |  0.8951027 | 10.643060 |  2.535201 | 1.261074e-02 | 0.53134231 | -3.0368376 |\n",
       "| 1033 | -0.5988440 |  9.572742 | -2.477661 | 1.470961e-02 | 0.53134231 | -3.1291760 |\n",
       "| 9019 | -0.9517458 |  9.804959 | -2.454517 | 1.563827e-02 | 0.53134231 | -3.1658007 |\n",
       "\n"
      ],
      "text/plain": [
       "      logFC      AveExpr   t         P.Value      adj.P.Val  B         \n",
       "9366  -3.6584920  2.781468 -4.440401 2.107553e-05 0.01013733  0.9187583\n",
       "3295   0.9753343 11.084666  2.674657 8.594877e-03 0.53134231 -2.8055597\n",
       "12348  0.6548435 14.703874  2.666487 8.793622e-03 0.53134231 -2.8193989\n",
       "9680   0.5811773  9.736330  2.634403 9.614905e-03 0.53134231 -2.8733957\n",
       "2657   4.2037724  7.251800  2.586081 1.098303e-02 0.53134231 -2.9536763\n",
       "13434  0.8880998 10.632623  2.576276 1.128113e-02 0.53134231 -2.9698107\n",
       "1026  -0.5695494  9.992481 -2.572302 1.140404e-02 0.53134231 -2.9763365\n",
       "3296   0.8951027 10.643060  2.535201 1.261074e-02 0.53134231 -3.0368376\n",
       "1033  -0.5988440  9.572742 -2.477661 1.470961e-02 0.53134231 -3.1291760\n",
       "9019  -0.9517458  9.804959 -2.454517 1.563827e-02 0.53134231 -3.1658007"
      ]
     },
     "metadata": {},
     "output_type": "display_data"
    }
   ],
   "source": [
    "head(preAML_vs_AML_results,10)"
   ]
  },
  {
   "cell_type": "code",
   "execution_count": 55,
   "id": "31a49a27-9532-460c-b72e-0224909b1227",
   "metadata": {},
   "outputs": [
    {
     "data": {
      "text/html": [
       "<style>\n",
       ".list-inline {list-style: none; margin:0; padding: 0}\n",
       ".list-inline>li {display: inline-block}\n",
       ".list-inline>li:not(:last-child)::after {content: \"\\00b7\"; padding: 0 .5ex}\n",
       "</style>\n",
       "<ol class=list-inline><li>0</li><li>6</li></ol>\n"
      ],
      "text/latex": [
       "\\begin{enumerate*}\n",
       "\\item 0\n",
       "\\item 6\n",
       "\\end{enumerate*}\n"
      ],
      "text/markdown": [
       "1. 0\n",
       "2. 6\n",
       "\n",
       "\n"
      ],
      "text/plain": [
       "[1] 0 6"
      ]
     },
     "metadata": {},
     "output_type": "display_data"
    }
   ],
   "source": [
    "# There are too many values - lets reduce the size a bit more\n",
    "# Assuming you have the 'de_results' object from topTable\n",
    "fold_change_threshold <- 2\n",
    "adjusted_pvalue_threshold <- 0.05\n",
    "\n",
    "# Select genes that meet both fold change and adjusted p-value criteria\n",
    "TAM_vs_preAML_significant_genes <- TAM_vs_preAML_results[\n",
    "  abs(TAM_vs_preAML_results$logFC) > fold_change_threshold &\n",
    "  TAM_vs_preAML_results$adj.P.Val < adjusted_pvalue_threshold,\n",
    "]\n",
    "dim(TAM_vs_preAML_significant_genes)"
   ]
  },
  {
   "cell_type": "code",
   "execution_count": null,
   "id": "931ab774-67d1-47fe-9764-ff5d09d238f8",
   "metadata": {},
   "outputs": [],
   "source": [
    "lookup <- rownames(significant_genes)\n",
    "df <- as.data.frame(coldata[,c(\"condition\",\"patient\")])\n",
    "\n",
    "significant_expression <- dge[lookup,]\n",
    "dim(significant_expression)\n",
    "length(lookup)"
   ]
  },
  {
   "cell_type": "code",
   "execution_count": null,
   "id": "16c8db18-7070-4fe6-aade-7379f4cb45b2",
   "metadata": {},
   "outputs": [],
   "source": [
    "library(\"pheatmap\")\n",
    "\n",
    "significant_out <- pheatmap(significant_expression, \n",
    "                            cluster_rows5=TRUE, \n",
    "                            show_rownames=FALSE,\n",
    "                            cluster_cols=TRUE, \n",
    "                            annotation_col=df, \n",
    "                            scale=\"row\",\n",
    "                            clustering_method = \"ward.D2\",\n",
    "                            clustering_distance_cols = \"minkowski\", \n",
    "                            clustering_distance_rows = \"minkowski\" )"
   ]
  },
  {
   "cell_type": "code",
   "execution_count": 80,
   "id": "58e5f03a-9279-4b58-ada9-e7b189fa2f61",
   "metadata": {},
   "outputs": [
    {
     "data": {
      "image/png": "[encoded data removed]",
      "text/plain": [
       "Plot with title “voom: Mean-variance trend”"
      ]
     },
     "metadata": {
      "image/png": {
       "height": 420,
       "width": 420
      }
     },
     "output_type": "display_data"
    }
   ],
   "source": [
    "# weighting \n",
    "v <- voom(dge, plot=TRUE, normalize=\"quantile\")"
   ]
  },
  {
   "cell_type": "code",
   "execution_count": 83,
   "id": "be433a20-f849-4ef6-81ed-26665d38a0e4",
   "metadata": {},
   "outputs": [
    {
     "data": {
      "text/html": [
       "481"
      ],
      "text/latex": [
       "481"
      ],
      "text/markdown": [
       "481"
      ],
      "text/plain": [
       "[1] 481"
      ]
     },
     "metadata": {},
     "output_type": "display_data"
    },
    {
     "data": {
      "text/html": [
       "481"
      ],
      "text/latex": [
       "481"
      ],
      "text/markdown": [
       "481"
      ],
      "text/plain": [
       "[1] 481"
      ]
     },
     "metadata": {},
     "output_type": "display_data"
    },
    {
     "data": {
      "text/html": [
       "481"
      ],
      "text/latex": [
       "481"
      ],
      "text/markdown": [
       "481"
      ],
      "text/plain": [
       "[1] 481"
      ]
     },
     "metadata": {},
     "output_type": "display_data"
    },
    {
     "data": {
      "text/html": [
       "<style>\n",
       ".list-inline {list-style: none; margin:0; padding: 0}\n",
       ".list-inline>li {display: inline-block}\n",
       ".list-inline>li:not(:last-child)::after {content: \"\\00b7\"; padding: 0 .5ex}\n",
       "</style>\n",
       "<ol class=list-inline><li>'MAGED2'</li><li>'ALOX12'</li><li>'VCP'</li><li>'ANK1'</li><li>'CERS2'</li><li>'ANK1'</li></ol>\n"
      ],
      "text/latex": [
       "\\begin{enumerate*}\n",
       "\\item 'MAGED2'\n",
       "\\item 'ALOX12'\n",
       "\\item 'VCP'\n",
       "\\item 'ANK1'\n",
       "\\item 'CERS2'\n",
       "\\item 'ANK1'\n",
       "\\end{enumerate*}\n"
      ],
      "text/markdown": [
       "1. 'MAGED2'\n",
       "2. 'ALOX12'\n",
       "3. 'VCP'\n",
       "4. 'ANK1'\n",
       "5. 'CERS2'\n",
       "6. 'ANK1'\n",
       "\n",
       "\n"
      ],
      "text/plain": [
       "[1] \"MAGED2\" \"ALOX12\" \"VCP\"    \"ANK1\"   \"CERS2\"  \"ANK1\"  "
      ]
     },
     "metadata": {},
     "output_type": "display_data"
    },
    {
     "data": {
      "text/html": [
       "<style>\n",
       ".list-inline {list-style: none; margin:0; padding: 0}\n",
       ".list-inline>li {display: inline-block}\n",
       ".list-inline>li:not(:last-child)::after {content: \"\\00b7\"; padding: 0 .5ex}\n",
       "</style>\n",
       "<ol class=list-inline><li>'LAT'</li><li>'GAS5'</li><li>'RPS3'</li><li>'DMTN'</li><li>'MYL6'</li><li>'MYL6'</li></ol>\n"
      ],
      "text/latex": [
       "\\begin{enumerate*}\n",
       "\\item 'LAT'\n",
       "\\item 'GAS5'\n",
       "\\item 'RPS3'\n",
       "\\item 'DMTN'\n",
       "\\item 'MYL6'\n",
       "\\item 'MYL6'\n",
       "\\end{enumerate*}\n"
      ],
      "text/markdown": [
       "1. 'LAT'\n",
       "2. 'GAS5'\n",
       "3. 'RPS3'\n",
       "4. 'DMTN'\n",
       "5. 'MYL6'\n",
       "6. 'MYL6'\n",
       "\n",
       "\n"
      ],
      "text/plain": [
       "[1] \"LAT\"  \"GAS5\" \"RPS3\" \"DMTN\" \"MYL6\" \"MYL6\""
      ]
     },
     "metadata": {},
     "output_type": "display_data"
    },
    {
     "data": {
      "text/html": [
       "<style>\n",
       ".list-inline {list-style: none; margin:0; padding: 0}\n",
       ".list-inline>li {display: inline-block}\n",
       ".list-inline>li:not(:last-child)::after {content: \"\\00b7\"; padding: 0 .5ex}\n",
       "</style>\n",
       "<ol class=list-inline><li>'RPS3'</li><li>'ASAH1'</li><li>'ASAH1'</li><li>'ASAH1'</li><li>'ASAH1'</li><li>'SNRPB'</li></ol>\n"
      ],
      "text/latex": [
       "\\begin{enumerate*}\n",
       "\\item 'RPS3'\n",
       "\\item 'ASAH1'\n",
       "\\item 'ASAH1'\n",
       "\\item 'ASAH1'\n",
       "\\item 'ASAH1'\n",
       "\\item 'SNRPB'\n",
       "\\end{enumerate*}\n"
      ],
      "text/markdown": [
       "1. 'RPS3'\n",
       "2. 'ASAH1'\n",
       "3. 'ASAH1'\n",
       "4. 'ASAH1'\n",
       "5. 'ASAH1'\n",
       "6. 'SNRPB'\n",
       "\n",
       "\n"
      ],
      "text/plain": [
       "[1] \"RPS3\"  \"ASAH1\" \"ASAH1\" \"ASAH1\" \"ASAH1\" \"SNRPB\""
      ]
     },
     "metadata": {},
     "output_type": "display_data"
    },
    {
     "data": {
      "text/html": [
       "<table class=\"dataframe\">\n",
       "<caption>A data.frame: 10 × 6</caption>\n",
       "<thead>\n",
       "\t<tr><th></th><th scope=col>logFC</th><th scope=col>AveExpr</th><th scope=col>t</th><th scope=col>P.Value</th><th scope=col>adj.P.Val</th><th scope=col>B</th></tr>\n",
       "\t<tr><th></th><th scope=col>&lt;dbl&gt;</th><th scope=col>&lt;dbl&gt;</th><th scope=col>&lt;dbl&gt;</th><th scope=col>&lt;dbl&gt;</th><th scope=col>&lt;dbl&gt;</th><th scope=col>&lt;dbl&gt;</th></tr>\n",
       "</thead>\n",
       "<tbody>\n",
       "\t<tr><th scope=row>14203</th><td>0.6324226</td><td>9.659564</td><td>4.073856</td><td>8.587236e-05</td><td>0.0413046</td><td> 0.757413</td></tr>\n",
       "\t<tr><th scope=row>6177</th><td>3.6648540</td><td>4.823726</td><td>3.212856</td><td>1.709900e-03</td><td>0.2375769</td><td>-1.486756</td></tr>\n",
       "\t<tr><th scope=row>13938</th><td>0.2592537</td><td>9.933532</td><td>3.223012</td><td>1.655356e-03</td><td>0.2375769</td><td>-2.090878</td></tr>\n",
       "\t<tr><th scope=row>13414</th><td>1.3111449</td><td>7.998166</td><td>2.900267</td><td>4.476573e-03</td><td>0.2375769</td><td>-2.315246</td></tr>\n",
       "\t<tr><th scope=row>820</th><td>0.4795482</td><td>9.506356</td><td>3.081777</td><td>2.581631e-03</td><td>0.2375769</td><td>-2.374579</td></tr>\n",
       "\t<tr><th scope=row>13415</th><td>1.3577567</td><td>9.165114</td><td>3.034409</td><td>2.987182e-03</td><td>0.2375769</td><td>-2.383404</td></tr>\n",
       "\t<tr><th scope=row>609</th><td>0.5216948</td><td>9.884826</td><td>2.982159</td><td>3.502336e-03</td><td>0.2375769</td><td>-2.768702</td></tr>\n",
       "\t<tr><th scope=row>13416</th><td>1.3084337</td><td>9.053424</td><td>2.826972</td><td>5.553441e-03</td><td>0.2375769</td><td>-2.901760</td></tr>\n",
       "\t<tr><th scope=row>824</th><td>2.3318644</td><td>6.165166</td><td>2.504136</td><td>1.369327e-02</td><td>0.2375769</td><td>-2.950310</td></tr>\n",
       "\t<tr><th scope=row>6070</th><td>1.5913222</td><td>6.984623</td><td>2.462133</td><td>1.531161e-02</td><td>0.2375769</td><td>-3.132188</td></tr>\n",
       "</tbody>\n",
       "</table>\n"
      ],
      "text/latex": [
       "A data.frame: 10 × 6\n",
       "\\begin{tabular}{r|llllll}\n",
       "  & logFC & AveExpr & t & P.Value & adj.P.Val & B\\\\\n",
       "  & <dbl> & <dbl> & <dbl> & <dbl> & <dbl> & <dbl>\\\\\n",
       "\\hline\n",
       "\t14203 & 0.6324226 & 9.659564 & 4.073856 & 8.587236e-05 & 0.0413046 &  0.757413\\\\\n",
       "\t6177 & 3.6648540 & 4.823726 & 3.212856 & 1.709900e-03 & 0.2375769 & -1.486756\\\\\n",
       "\t13938 & 0.2592537 & 9.933532 & 3.223012 & 1.655356e-03 & 0.2375769 & -2.090878\\\\\n",
       "\t13414 & 1.3111449 & 7.998166 & 2.900267 & 4.476573e-03 & 0.2375769 & -2.315246\\\\\n",
       "\t820 & 0.4795482 & 9.506356 & 3.081777 & 2.581631e-03 & 0.2375769 & -2.374579\\\\\n",
       "\t13415 & 1.3577567 & 9.165114 & 3.034409 & 2.987182e-03 & 0.2375769 & -2.383404\\\\\n",
       "\t609 & 0.5216948 & 9.884826 & 2.982159 & 3.502336e-03 & 0.2375769 & -2.768702\\\\\n",
       "\t13416 & 1.3084337 & 9.053424 & 2.826972 & 5.553441e-03 & 0.2375769 & -2.901760\\\\\n",
       "\t824 & 2.3318644 & 6.165166 & 2.504136 & 1.369327e-02 & 0.2375769 & -2.950310\\\\\n",
       "\t6070 & 1.5913222 & 6.984623 & 2.462133 & 1.531161e-02 & 0.2375769 & -3.132188\\\\\n",
       "\\end{tabular}\n"
      ],
      "text/markdown": [
       "\n",
       "A data.frame: 10 × 6\n",
       "\n",
       "| <!--/--> | logFC &lt;dbl&gt; | AveExpr &lt;dbl&gt; | t &lt;dbl&gt; | P.Value &lt;dbl&gt; | adj.P.Val &lt;dbl&gt; | B &lt;dbl&gt; |\n",
       "|---|---|---|---|---|---|---|\n",
       "| 14203 | 0.6324226 | 9.659564 | 4.073856 | 8.587236e-05 | 0.0413046 |  0.757413 |\n",
       "| 6177 | 3.6648540 | 4.823726 | 3.212856 | 1.709900e-03 | 0.2375769 | -1.486756 |\n",
       "| 13938 | 0.2592537 | 9.933532 | 3.223012 | 1.655356e-03 | 0.2375769 | -2.090878 |\n",
       "| 13414 | 1.3111449 | 7.998166 | 2.900267 | 4.476573e-03 | 0.2375769 | -2.315246 |\n",
       "| 820 | 0.4795482 | 9.506356 | 3.081777 | 2.581631e-03 | 0.2375769 | -2.374579 |\n",
       "| 13415 | 1.3577567 | 9.165114 | 3.034409 | 2.987182e-03 | 0.2375769 | -2.383404 |\n",
       "| 609 | 0.5216948 | 9.884826 | 2.982159 | 3.502336e-03 | 0.2375769 | -2.768702 |\n",
       "| 13416 | 1.3084337 | 9.053424 | 2.826972 | 5.553441e-03 | 0.2375769 | -2.901760 |\n",
       "| 824 | 2.3318644 | 6.165166 | 2.504136 | 1.369327e-02 | 0.2375769 | -2.950310 |\n",
       "| 6070 | 1.5913222 | 6.984623 | 2.462133 | 1.531161e-02 | 0.2375769 | -3.132188 |\n",
       "\n"
      ],
      "text/plain": [
       "      logFC     AveExpr  t        P.Value      adj.P.Val B        \n",
       "14203 0.6324226 9.659564 4.073856 8.587236e-05 0.0413046  0.757413\n",
       "6177  3.6648540 4.823726 3.212856 1.709900e-03 0.2375769 -1.486756\n",
       "13938 0.2592537 9.933532 3.223012 1.655356e-03 0.2375769 -2.090878\n",
       "13414 1.3111449 7.998166 2.900267 4.476573e-03 0.2375769 -2.315246\n",
       "820   0.4795482 9.506356 3.081777 2.581631e-03 0.2375769 -2.374579\n",
       "13415 1.3577567 9.165114 3.034409 2.987182e-03 0.2375769 -2.383404\n",
       "609   0.5216948 9.884826 2.982159 3.502336e-03 0.2375769 -2.768702\n",
       "13416 1.3084337 9.053424 2.826972 5.553441e-03 0.2375769 -2.901760\n",
       "824   2.3318644 6.165166 2.504136 1.369327e-02 0.2375769 -2.950310\n",
       "6070  1.5913222 6.984623 2.462133 1.531161e-02 0.2375769 -3.132188"
      ]
     },
     "metadata": {},
     "output_type": "display_data"
    },
    {
     "data": {
      "text/html": [
       "<table class=\"dataframe\">\n",
       "<caption>A data.frame: 10 × 6</caption>\n",
       "<thead>\n",
       "\t<tr><th></th><th scope=col>logFC</th><th scope=col>AveExpr</th><th scope=col>t</th><th scope=col>P.Value</th><th scope=col>adj.P.Val</th><th scope=col>B</th></tr>\n",
       "\t<tr><th></th><th scope=col>&lt;dbl&gt;</th><th scope=col>&lt;dbl&gt;</th><th scope=col>&lt;dbl&gt;</th><th scope=col>&lt;dbl&gt;</th><th scope=col>&lt;dbl&gt;</th><th scope=col>&lt;dbl&gt;</th></tr>\n",
       "</thead>\n",
       "<tbody>\n",
       "\t<tr><th scope=row>14203</th><td>0.6324226</td><td>9.659564</td><td>4.073856</td><td>8.587236e-05</td><td>0.0413046</td><td> 0.757413</td></tr>\n",
       "\t<tr><th scope=row>6177</th><td>3.6648540</td><td>4.823726</td><td>3.212856</td><td>1.709900e-03</td><td>0.2375769</td><td>-1.486756</td></tr>\n",
       "\t<tr><th scope=row>13938</th><td>0.2592537</td><td>9.933532</td><td>3.223012</td><td>1.655356e-03</td><td>0.2375769</td><td>-2.090878</td></tr>\n",
       "\t<tr><th scope=row>13414</th><td>1.3111449</td><td>7.998166</td><td>2.900267</td><td>4.476573e-03</td><td>0.2375769</td><td>-2.315246</td></tr>\n",
       "\t<tr><th scope=row>820</th><td>0.4795482</td><td>9.506356</td><td>3.081777</td><td>2.581631e-03</td><td>0.2375769</td><td>-2.374579</td></tr>\n",
       "\t<tr><th scope=row>13415</th><td>1.3577567</td><td>9.165114</td><td>3.034409</td><td>2.987182e-03</td><td>0.2375769</td><td>-2.383404</td></tr>\n",
       "\t<tr><th scope=row>609</th><td>0.5216948</td><td>9.884826</td><td>2.982159</td><td>3.502336e-03</td><td>0.2375769</td><td>-2.768702</td></tr>\n",
       "\t<tr><th scope=row>13416</th><td>1.3084337</td><td>9.053424</td><td>2.826972</td><td>5.553441e-03</td><td>0.2375769</td><td>-2.901760</td></tr>\n",
       "\t<tr><th scope=row>824</th><td>2.3318644</td><td>6.165166</td><td>2.504136</td><td>1.369327e-02</td><td>0.2375769</td><td>-2.950310</td></tr>\n",
       "\t<tr><th scope=row>6070</th><td>1.5913222</td><td>6.984623</td><td>2.462133</td><td>1.531161e-02</td><td>0.2375769</td><td>-3.132188</td></tr>\n",
       "</tbody>\n",
       "</table>\n"
      ],
      "text/latex": [
       "A data.frame: 10 × 6\n",
       "\\begin{tabular}{r|llllll}\n",
       "  & logFC & AveExpr & t & P.Value & adj.P.Val & B\\\\\n",
       "  & <dbl> & <dbl> & <dbl> & <dbl> & <dbl> & <dbl>\\\\\n",
       "\\hline\n",
       "\t14203 & 0.6324226 & 9.659564 & 4.073856 & 8.587236e-05 & 0.0413046 &  0.757413\\\\\n",
       "\t6177 & 3.6648540 & 4.823726 & 3.212856 & 1.709900e-03 & 0.2375769 & -1.486756\\\\\n",
       "\t13938 & 0.2592537 & 9.933532 & 3.223012 & 1.655356e-03 & 0.2375769 & -2.090878\\\\\n",
       "\t13414 & 1.3111449 & 7.998166 & 2.900267 & 4.476573e-03 & 0.2375769 & -2.315246\\\\\n",
       "\t820 & 0.4795482 & 9.506356 & 3.081777 & 2.581631e-03 & 0.2375769 & -2.374579\\\\\n",
       "\t13415 & 1.3577567 & 9.165114 & 3.034409 & 2.987182e-03 & 0.2375769 & -2.383404\\\\\n",
       "\t609 & 0.5216948 & 9.884826 & 2.982159 & 3.502336e-03 & 0.2375769 & -2.768702\\\\\n",
       "\t13416 & 1.3084337 & 9.053424 & 2.826972 & 5.553441e-03 & 0.2375769 & -2.901760\\\\\n",
       "\t824 & 2.3318644 & 6.165166 & 2.504136 & 1.369327e-02 & 0.2375769 & -2.950310\\\\\n",
       "\t6070 & 1.5913222 & 6.984623 & 2.462133 & 1.531161e-02 & 0.2375769 & -3.132188\\\\\n",
       "\\end{tabular}\n"
      ],
      "text/markdown": [
       "\n",
       "A data.frame: 10 × 6\n",
       "\n",
       "| <!--/--> | logFC &lt;dbl&gt; | AveExpr &lt;dbl&gt; | t &lt;dbl&gt; | P.Value &lt;dbl&gt; | adj.P.Val &lt;dbl&gt; | B &lt;dbl&gt; |\n",
       "|---|---|---|---|---|---|---|\n",
       "| 14203 | 0.6324226 | 9.659564 | 4.073856 | 8.587236e-05 | 0.0413046 |  0.757413 |\n",
       "| 6177 | 3.6648540 | 4.823726 | 3.212856 | 1.709900e-03 | 0.2375769 | -1.486756 |\n",
       "| 13938 | 0.2592537 | 9.933532 | 3.223012 | 1.655356e-03 | 0.2375769 | -2.090878 |\n",
       "| 13414 | 1.3111449 | 7.998166 | 2.900267 | 4.476573e-03 | 0.2375769 | -2.315246 |\n",
       "| 820 | 0.4795482 | 9.506356 | 3.081777 | 2.581631e-03 | 0.2375769 | -2.374579 |\n",
       "| 13415 | 1.3577567 | 9.165114 | 3.034409 | 2.987182e-03 | 0.2375769 | -2.383404 |\n",
       "| 609 | 0.5216948 | 9.884826 | 2.982159 | 3.502336e-03 | 0.2375769 | -2.768702 |\n",
       "| 13416 | 1.3084337 | 9.053424 | 2.826972 | 5.553441e-03 | 0.2375769 | -2.901760 |\n",
       "| 824 | 2.3318644 | 6.165166 | 2.504136 | 1.369327e-02 | 0.2375769 | -2.950310 |\n",
       "| 6070 | 1.5913222 | 6.984623 | 2.462133 | 1.531161e-02 | 0.2375769 | -3.132188 |\n",
       "\n"
      ],
      "text/plain": [
       "      logFC     AveExpr  t        P.Value      adj.P.Val B        \n",
       "14203 0.6324226 9.659564 4.073856 8.587236e-05 0.0413046  0.757413\n",
       "6177  3.6648540 4.823726 3.212856 1.709900e-03 0.2375769 -1.486756\n",
       "13938 0.2592537 9.933532 3.223012 1.655356e-03 0.2375769 -2.090878\n",
       "13414 1.3111449 7.998166 2.900267 4.476573e-03 0.2375769 -2.315246\n",
       "820   0.4795482 9.506356 3.081777 2.581631e-03 0.2375769 -2.374579\n",
       "13415 1.3577567 9.165114 3.034409 2.987182e-03 0.2375769 -2.383404\n",
       "609   0.5216948 9.884826 2.982159 3.502336e-03 0.2375769 -2.768702\n",
       "13416 1.3084337 9.053424 2.826972 5.553441e-03 0.2375769 -2.901760\n",
       "824   2.3318644 6.165166 2.504136 1.369327e-02 0.2375769 -2.950310\n",
       "6070  1.5913222 6.984623 2.462133 1.531161e-02 0.2375769 -3.132188"
      ]
     },
     "metadata": {},
     "output_type": "display_data"
    },
    {
     "data": {
      "text/html": [
       "<table class=\"dataframe\">\n",
       "<caption>A data.frame: 10 × 6</caption>\n",
       "<thead>\n",
       "\t<tr><th></th><th scope=col>logFC</th><th scope=col>AveExpr</th><th scope=col>t</th><th scope=col>P.Value</th><th scope=col>adj.P.Val</th><th scope=col>B</th></tr>\n",
       "\t<tr><th></th><th scope=col>&lt;dbl&gt;</th><th scope=col>&lt;dbl&gt;</th><th scope=col>&lt;dbl&gt;</th><th scope=col>&lt;dbl&gt;</th><th scope=col>&lt;dbl&gt;</th><th scope=col>&lt;dbl&gt;</th></tr>\n",
       "</thead>\n",
       "<tbody>\n",
       "\t<tr><th scope=row>2428</th><td>-0.6142684</td><td>13.8174188</td><td>-3.427688</td><td>0.0008483705</td><td>0.2040331</td><td>-1.439857</td></tr>\n",
       "\t<tr><th scope=row>13377</th><td>-0.9489521</td><td> 9.4789223</td><td>-3.010122</td><td>0.0032172502</td><td>0.2741909</td><td>-2.164916</td></tr>\n",
       "\t<tr><th scope=row>13386</th><td>-1.0766628</td><td> 9.7864234</td><td>-2.979902</td><td>0.0035263372</td><td>0.2741909</td><td>-2.342590</td></tr>\n",
       "\t<tr><th scope=row>13385</th><td>-1.0690676</td><td> 9.8155944</td><td>-2.960150</td><td>0.0037429185</td><td>0.2741909</td><td>-2.404769</td></tr>\n",
       "\t<tr><th scope=row>13384</th><td>-1.0672429</td><td> 9.8503715</td><td>-2.955708</td><td>0.0037932766</td><td>0.2741909</td><td>-2.426801</td></tr>\n",
       "\t<tr><th scope=row>9366</th><td>-5.0383728</td><td> 0.9168145</td><td>-3.747911</td><td>0.0002818665</td><td>0.1355778</td><td>-2.737730</td></tr>\n",
       "\t<tr><th scope=row>3296</th><td> 0.9360073</td><td>10.6684022</td><td> 2.849402</td><td>0.0052010744</td><td>0.2741909</td><td>-2.885207</td></tr>\n",
       "\t<tr><th scope=row>1026</th><td>-0.7695298</td><td> 9.9489388</td><td>-2.787676</td><td>0.0062237839</td><td>0.2741909</td><td>-2.899929</td></tr>\n",
       "\t<tr><th scope=row>3299</th><td> 0.5351233</td><td>10.3483027</td><td> 2.801815</td><td>0.0059745305</td><td>0.2741909</td><td>-2.958437</td></tr>\n",
       "\t<tr><th scope=row>5227</th><td> 4.9686555</td><td> 7.5881863</td><td> 2.451004</td><td>0.0157680431</td><td>0.4492846</td><td>-3.066108</td></tr>\n",
       "</tbody>\n",
       "</table>\n"
      ],
      "text/latex": [
       "A data.frame: 10 × 6\n",
       "\\begin{tabular}{r|llllll}\n",
       "  & logFC & AveExpr & t & P.Value & adj.P.Val & B\\\\\n",
       "  & <dbl> & <dbl> & <dbl> & <dbl> & <dbl> & <dbl>\\\\\n",
       "\\hline\n",
       "\t2428 & -0.6142684 & 13.8174188 & -3.427688 & 0.0008483705 & 0.2040331 & -1.439857\\\\\n",
       "\t13377 & -0.9489521 &  9.4789223 & -3.010122 & 0.0032172502 & 0.2741909 & -2.164916\\\\\n",
       "\t13386 & -1.0766628 &  9.7864234 & -2.979902 & 0.0035263372 & 0.2741909 & -2.342590\\\\\n",
       "\t13385 & -1.0690676 &  9.8155944 & -2.960150 & 0.0037429185 & 0.2741909 & -2.404769\\\\\n",
       "\t13384 & -1.0672429 &  9.8503715 & -2.955708 & 0.0037932766 & 0.2741909 & -2.426801\\\\\n",
       "\t9366 & -5.0383728 &  0.9168145 & -3.747911 & 0.0002818665 & 0.1355778 & -2.737730\\\\\n",
       "\t3296 &  0.9360073 & 10.6684022 &  2.849402 & 0.0052010744 & 0.2741909 & -2.885207\\\\\n",
       "\t1026 & -0.7695298 &  9.9489388 & -2.787676 & 0.0062237839 & 0.2741909 & -2.899929\\\\\n",
       "\t3299 &  0.5351233 & 10.3483027 &  2.801815 & 0.0059745305 & 0.2741909 & -2.958437\\\\\n",
       "\t5227 &  4.9686555 &  7.5881863 &  2.451004 & 0.0157680431 & 0.4492846 & -3.066108\\\\\n",
       "\\end{tabular}\n"
      ],
      "text/markdown": [
       "\n",
       "A data.frame: 10 × 6\n",
       "\n",
       "| <!--/--> | logFC &lt;dbl&gt; | AveExpr &lt;dbl&gt; | t &lt;dbl&gt; | P.Value &lt;dbl&gt; | adj.P.Val &lt;dbl&gt; | B &lt;dbl&gt; |\n",
       "|---|---|---|---|---|---|---|\n",
       "| 2428 | -0.6142684 | 13.8174188 | -3.427688 | 0.0008483705 | 0.2040331 | -1.439857 |\n",
       "| 13377 | -0.9489521 |  9.4789223 | -3.010122 | 0.0032172502 | 0.2741909 | -2.164916 |\n",
       "| 13386 | -1.0766628 |  9.7864234 | -2.979902 | 0.0035263372 | 0.2741909 | -2.342590 |\n",
       "| 13385 | -1.0690676 |  9.8155944 | -2.960150 | 0.0037429185 | 0.2741909 | -2.404769 |\n",
       "| 13384 | -1.0672429 |  9.8503715 | -2.955708 | 0.0037932766 | 0.2741909 | -2.426801 |\n",
       "| 9366 | -5.0383728 |  0.9168145 | -3.747911 | 0.0002818665 | 0.1355778 | -2.737730 |\n",
       "| 3296 |  0.9360073 | 10.6684022 |  2.849402 | 0.0052010744 | 0.2741909 | -2.885207 |\n",
       "| 1026 | -0.7695298 |  9.9489388 | -2.787676 | 0.0062237839 | 0.2741909 | -2.899929 |\n",
       "| 3299 |  0.5351233 | 10.3483027 |  2.801815 | 0.0059745305 | 0.2741909 | -2.958437 |\n",
       "| 5227 |  4.9686555 |  7.5881863 |  2.451004 | 0.0157680431 | 0.4492846 | -3.066108 |\n",
       "\n"
      ],
      "text/plain": [
       "      logFC      AveExpr    t         P.Value      adj.P.Val B        \n",
       "2428  -0.6142684 13.8174188 -3.427688 0.0008483705 0.2040331 -1.439857\n",
       "13377 -0.9489521  9.4789223 -3.010122 0.0032172502 0.2741909 -2.164916\n",
       "13386 -1.0766628  9.7864234 -2.979902 0.0035263372 0.2741909 -2.342590\n",
       "13385 -1.0690676  9.8155944 -2.960150 0.0037429185 0.2741909 -2.404769\n",
       "13384 -1.0672429  9.8503715 -2.955708 0.0037932766 0.2741909 -2.426801\n",
       "9366  -5.0383728  0.9168145 -3.747911 0.0002818665 0.1355778 -2.737730\n",
       "3296   0.9360073 10.6684022  2.849402 0.0052010744 0.2741909 -2.885207\n",
       "1026  -0.7695298  9.9489388 -2.787676 0.0062237839 0.2741909 -2.899929\n",
       "3299   0.5351233 10.3483027  2.801815 0.0059745305 0.2741909 -2.958437\n",
       "5227   4.9686555  7.5881863  2.451004 0.0157680431 0.4492846 -3.066108"
      ]
     },
     "metadata": {},
     "output_type": "display_data"
    }
   ],
   "source": [
    "vfit <- lmFit(v, design)\n",
    "vfit <- eBayes(vfit, trend=TRUE)\n",
    "\n",
    "# Apply contrasts\n",
    "vfit2 <- contrasts.fit(vfit, contrast_matrix)\n",
    "\n",
    "# Compute the statistics\n",
    "vfit2 <- eBayes(vfit2)\n",
    "\n",
    "# Print the top differentially expressed genes for each comparison\n",
    "TAM_vs_preAML_results <- topTable(vfit2, coef = \"TAM_vs_preAML\", n=Inf)\n",
    "TAM_vs_AML_results <- topTable(vfit2, coef = \"TAM_vs_AML\",n=Inf)\n",
    "preAML_vs_AML_results <- topTable(vfit2, coef = \"preAML_vs_AML\",n=Inf)\n",
    "\n",
    "TAM_vs_preAML_lookup <- rownames(TAM_vs_preAML_results)\n",
    "TAM_vs_AML_lookup <- rownames(TAM_vs_AML_results)\n",
    "preAML_vs_AML_lookup <- rownames(preAML_vs_AML_results)\n",
    "\n",
    "length(TAM_vs_preAML_lookup)\n",
    "length(TAM_vs_AML_lookup)\n",
    "length(preAML_vs_AML_lookup)\n",
    "\n",
    "head(featureData[TAM_vs_preAML_lookup,2])\n",
    "head(featureData[TAM_vs_AML_lookup,2])\n",
    "head(featureData[preAML_vs_AML_lookup,2])\n",
    "head(TAM_vs_preAML_results,10)\n",
    "head(TAM_vs_preAML_results,10)\n",
    "head(preAML_vs_AML_results,10)\n"
   ]
  },
  {
   "cell_type": "code",
   "execution_count": null,
   "id": "a725def4-10aa-4926-a3d3-277352efa2c7",
   "metadata": {},
   "outputs": [],
   "source": [
    "# Assuming you have the 'de_results' object from topTable\n",
    "fold_change_threshold <- 9\n",
    "adjusted_pvalue_threshold <- 0.05\n",
    "\n",
    "# Select genes that meet both fold change and adjusted p-value criteria\n",
    "significant_genes <- de_results[\n",
    "  abs(de_results$logFC) > fold_change_threshold &\n",
    "  de_results$adj.P.Val < adjusted_pvalue_threshold,\n",
    "]\n",
    "dim(significant_genes)"
   ]
  },
  {
   "cell_type": "code",
   "execution_count": null,
   "id": "49da1a92-ac68-4e3d-9f45-88654c220fa5",
   "metadata": {},
   "outputs": [],
   "source": [
    "lookup <- rownames(significant_genes)\n",
    "significant_expression <- dge[lookup,]"
   ]
  },
  {
   "cell_type": "code",
   "execution_count": null,
   "id": "21c6bc45-2e8f-4d78-91a0-380c90f38a4f",
   "metadata": {},
   "outputs": [],
   "source": [
    "significant_out <- pheatmap(significant_expression, \n",
    "                            cluster_rows5=TRUE, \n",
    "                            show_rownames=FALSE,\n",
    "                            cluster_cols=TRUE, \n",
    "                            annotation_col=df, \n",
    "                            scale=\"row\",\n",
    "                            clustering_method = \"ward.D2\",\n",
    "                            clustering_distance_cols = \"minkowski\", \n",
    "                            clustering_distance_rows = \"minkowski\" )"
   ]
  },
  {
   "cell_type": "code",
   "execution_count": null,
   "id": "869620fe-d8b8-4239-b1d9-6151bbdb02e8",
   "metadata": {},
   "outputs": [],
   "source": [
    "featureData[head(rownames(significant_expression),5),2]"
   ]
  },
  {
   "cell_type": "code",
   "execution_count": null,
   "id": "6bb1557c-f3b8-495e-a76c-23f7247b34d8",
   "metadata": {},
   "outputs": [],
   "source": [
    "top_gene_list <- as.matrix(featureData[rownames(significant_expression),2])\n",
    "length(top_gene_list)"
   ]
  },
  {
   "cell_type": "code",
   "execution_count": null,
   "id": "fdfa4654-0d41-4372-af99-4ae115f8ebf6",
   "metadata": {},
   "outputs": [],
   "source": [
    "top_significant_genes <- dge[rownames(significant_genes),]"
   ]
  },
  {
   "cell_type": "code",
   "execution_count": null,
   "id": "e72c487d-3949-4eaa-b560-6b3fd9e39597",
   "metadata": {},
   "outputs": [],
   "source": [
    "start=1\n",
    "stop=length(top_gene_list)\n",
    "date=\"2024Jun04_A3SS_voom\"\n",
    "piece <-top_significant_genes[significant_out$tree_row$order[start:stop],]\n",
    "fd <- data.frame(featureData[rownames(piece),])\n",
    "genejunction <- paste(featureData[rownames(piece),2],rownames(piece),sep=\".\")\n",
    "rownames(fd) <- genejunction\n",
    "rownames(piece) <- genejunction\n",
    "outpiece<-pheatmap(piece, cluster_rows5=TRUE, show_rownames=TRUE,\n",
    "         cluster_cols=TRUE, annotation_col=df, scale=\"row\",clustering_distance_cols = \"minkowski\", clustering_distance_rows = \"minkowski\" )\n",
    "piece_filename <- paste(paste(paste(paste(date,\"SE_string_top_gene_list\",sep=\"_\"),start,sep=\"_\"),stop,sep=\"_\"),\"csv\",sep=\".\")\n",
    "\n",
    "# Order by TAM elements, followed by AML elements\n",
    "piece_exp <- piece[,c(1,3,5,7,2,4,6,8)]\n",
    "colnames(piece_exp) <- colnames(piece[,c(1,3,5,7,2,4,6,8)])\n",
    "rownames(piece_exp) <- rownames(piece)\n",
    "string_filename <- paste(paste(paste(paste(date,\"string_top_gene_list\",sep=\"_\"),start,sep=\"_\"),stop,sep=\"_\"),\"csv\",sep=\".\")\n",
    "piece_exp_filename <- paste(paste(paste(paste(date,\"expression_top_gene_list\",sep=\"_\"),start,sep=\"_\"),stop,sep=\"_\"),\"csv\",sep=\".\")\n",
    "write.csv(piece_exp$counts,piece_exp_filename,quote=FALSE)\n",
    "write.csv(rownames(piece),piece_filename,quote=FALSE,row.names=FALSE)\n",
    "write.csv(fd[,2],string_filename,quote=FALSE,row.names=FALSE)\n",
    "violin_plot_filename = piece_exp_filename"
   ]
  },
  {
   "cell_type": "code",
   "execution_count": null,
   "id": "9bff7560-9725-4e4b-8379-8e60eeb3b077",
   "metadata": {},
   "outputs": [],
   "source": [
    "#If you want something like gene-to-cluster assignment, you can 'cut' your row dendrogram into a pre-selected number of groups as follows:\n",
    "# -- inspecating above the rows seem to fall into 7 groups\n",
    "clusters<- as.matrix(row_clusters<- sort(cutree(significant_out$tree_row, k=7)),nrows=dim(top_genes_expression)[1],ncols=1)\n",
    "genes_in_clusters = featureData[rownames(clusters),2]\n",
    "genes_in_clusters.df <- data.frame(featureData[rownames(clusters),2], clusters)\n",
    "colnames(genes_in_clusters.df) <- c(\"geneSymbol\",\"cluster\")\n",
    "dim(genes_in_clusters.df)\n",
    "cluster_1_genes <- genes_in_clusters.df[genes_in_clusters.df$cluster == 1,]\n",
    "cluster_2_genes <- genes_in_clusters.df[genes_in_clusters.df$cluster == 2,]\n",
    "cluster_3_genes <- genes_in_clusters.df[genes_in_clusters.df$cluster == 3,]\n",
    "cluster_4_genes <- genes_in_clusters.df[genes_in_clusters.df$cluster == 4,]\n",
    "cluster_5_genes <- genes_in_clusters.df[genes_in_clusters.df$cluster == 5,]\n",
    "cluster_6_genes <- genes_in_clusters.df[genes_in_clusters.df$cluster == 6,]\n",
    "cluster_7_genes <- genes_in_clusters.df[genes_in_clusters.df$cluster == 7,]\n",
    "\n",
    "cluster_1_filename <- paste(paste(date, \"cluster_1\", sep=\"_\"),\"csv\",sep=\".\")\n",
    "cluster_2_filename <- paste(paste(date, \"cluster_2\", sep=\"_\"),\"csv\",sep=\".\")\n",
    "cluster_3_filename <- paste(paste(date, \"cluster_3\", sep=\"_\"),\"csv\",sep=\".\")\n",
    "cluster_4_filename <- paste(paste(date, \"cluster_4\", sep=\"_\"),\"csv\",sep=\".\")\n",
    "cluster_5_filename <- paste(paste(date, \"cluster_5\", sep=\"_\"),\"csv\",sep=\".\")\n",
    "cluster_6_filename <- paste(paste(date, \"cluster_6\", sep=\"_\"),\"csv\",sep=\".\")\n",
    "cluster_7_filename <- paste(paste(date, \"cluster_7\", sep=\"_\"),\"csv\",sep=\".\")\n",
    "\n",
    "write.csv(cluster_1_genes$geneSymbol,cluster_1_filename,quote=FALSE,row.names=FALSE)\n",
    "write.csv(cluster_2_genes$geneSymbol,cluster_2_filename,quote=FALSE,row.names=FALSE)\n",
    "write.csv(cluster_3_genes$geneSymbol,cluster_3_filename,quote=FALSE,row.names=FALSE)\n",
    "write.csv(cluster_4_genes$geneSymbol,cluster_4_filename,quote=FALSE,row.names=FALSE)\n",
    "write.csv(cluster_5_genes$geneSymbol,cluster_5_filename,quote=FALSE,row.names=FALSE)\n",
    "write.csv(cluster_6_genes$geneSymbol,cluster_6_filename,quote=FALSE,row.names=FALSE)\n",
    "write.csv(cluster_7_genes$geneSymbol,cluster_7_filename,quote=FALSE,row.names=FALSE)\n"
   ]
  },
  {
   "cell_type": "code",
   "execution_count": 86,
   "id": "a1d9a72d-a31f-4fd8-aa1d-846a151c0fcc",
   "metadata": {},
   "outputs": [
    {
     "data": {
      "image/png": "[encoded data removed]",
      "text/plain": [
       "Plot with title “Sample-specific weights”"
      ]
     },
     "metadata": {
      "image/png": {
       "height": 420,
       "width": 420
      }
     },
     "output_type": "display_data"
    }
   ],
   "source": [
    "vwts <- voomWithQualityWeights(dge, design=design, normalize.method=\"quantile\", plot=TRUE)"
   ]
  },
  {
   "cell_type": "code",
   "execution_count": 87,
   "id": "5b3b6e0d-778a-4b39-8852-5e84a107f1a4",
   "metadata": {},
   "outputs": [],
   "source": [
    "vwtsfit <- lmFit(vwts, design, weights = vwts$weights )\n",
    "# no other weighting at this time.\n",
    " #* c(1.0,1.0,1.0,1.0,1.0,1.0,1.0,1.0))"
   ]
  },
  {
   "cell_type": "code",
   "execution_count": 88,
   "id": "0cf22797-9027-49f4-900f-c0fc06ae0034",
   "metadata": {},
   "outputs": [
    {
     "data": {
      "text/html": [
       "481"
      ],
      "text/latex": [
       "481"
      ],
      "text/markdown": [
       "481"
      ],
      "text/plain": [
       "[1] 481"
      ]
     },
     "metadata": {},
     "output_type": "display_data"
    },
    {
     "data": {
      "text/html": [
       "481"
      ],
      "text/latex": [
       "481"
      ],
      "text/markdown": [
       "481"
      ],
      "text/plain": [
       "[1] 481"
      ]
     },
     "metadata": {},
     "output_type": "display_data"
    },
    {
     "data": {
      "text/html": [
       "481"
      ],
      "text/latex": [
       "481"
      ],
      "text/markdown": [
       "481"
      ],
      "text/plain": [
       "[1] 481"
      ]
     },
     "metadata": {},
     "output_type": "display_data"
    },
    {
     "data": {
      "text/html": [
       "<style>\n",
       ".list-inline {list-style: none; margin:0; padding: 0}\n",
       ".list-inline>li {display: inline-block}\n",
       ".list-inline>li:not(:last-child)::after {content: \"\\00b7\"; padding: 0 .5ex}\n",
       "</style>\n",
       "<ol class=list-inline><li>'AP2M1'</li><li>'OGT'</li><li>'PGGHG'</li><li>'ARHGEF1'</li><li>'RPS15A'</li><li>'HLA-DQB1'</li></ol>\n"
      ],
      "text/latex": [
       "\\begin{enumerate*}\n",
       "\\item 'AP2M1'\n",
       "\\item 'OGT'\n",
       "\\item 'PGGHG'\n",
       "\\item 'ARHGEF1'\n",
       "\\item 'RPS15A'\n",
       "\\item 'HLA-DQB1'\n",
       "\\end{enumerate*}\n"
      ],
      "text/markdown": [
       "1. 'AP2M1'\n",
       "2. 'OGT'\n",
       "3. 'PGGHG'\n",
       "4. 'ARHGEF1'\n",
       "5. 'RPS15A'\n",
       "6. 'HLA-DQB1'\n",
       "\n",
       "\n"
      ],
      "text/plain": [
       "[1] \"AP2M1\"    \"OGT\"      \"PGGHG\"    \"ARHGEF1\"  \"RPS15A\"   \"HLA-DQB1\""
      ]
     },
     "metadata": {},
     "output_type": "display_data"
    },
    {
     "data": {
      "text/html": [
       "<style>\n",
       ".list-inline {list-style: none; margin:0; padding: 0}\n",
       ".list-inline>li {display: inline-block}\n",
       ".list-inline>li:not(:last-child)::after {content: \"\\00b7\"; padding: 0 .5ex}\n",
       "</style>\n",
       "<ol class=list-inline><li>'HLA-DQB1'</li><li>'CCNI'</li><li>'CD37'</li><li>'CSDE1'</li><li>'PTMA'</li><li>'CSDE1'</li></ol>\n"
      ],
      "text/latex": [
       "\\begin{enumerate*}\n",
       "\\item 'HLA-DQB1'\n",
       "\\item 'CCNI'\n",
       "\\item 'CD37'\n",
       "\\item 'CSDE1'\n",
       "\\item 'PTMA'\n",
       "\\item 'CSDE1'\n",
       "\\end{enumerate*}\n"
      ],
      "text/markdown": [
       "1. 'HLA-DQB1'\n",
       "2. 'CCNI'\n",
       "3. 'CD37'\n",
       "4. 'CSDE1'\n",
       "5. 'PTMA'\n",
       "6. 'CSDE1'\n",
       "\n",
       "\n"
      ],
      "text/plain": [
       "[1] \"HLA-DQB1\" \"CCNI\"     \"CD37\"     \"CSDE1\"    \"PTMA\"     \"CSDE1\"   "
      ]
     },
     "metadata": {},
     "output_type": "display_data"
    },
    {
     "data": {
      "text/html": [
       "<style>\n",
       ".list-inline {list-style: none; margin:0; padding: 0}\n",
       ".list-inline>li {display: inline-block}\n",
       ".list-inline>li:not(:last-child)::after {content: \"\\00b7\"; padding: 0 .5ex}\n",
       "</style>\n",
       "<ol class=list-inline><li>'HLA-DQB1'</li><li>'RPS3A'</li><li>'RPS3'</li><li>'CCNI'</li><li>'SNRPB'</li><li>'PTMA'</li></ol>\n"
      ],
      "text/latex": [
       "\\begin{enumerate*}\n",
       "\\item 'HLA-DQB1'\n",
       "\\item 'RPS3A'\n",
       "\\item 'RPS3'\n",
       "\\item 'CCNI'\n",
       "\\item 'SNRPB'\n",
       "\\item 'PTMA'\n",
       "\\end{enumerate*}\n"
      ],
      "text/markdown": [
       "1. 'HLA-DQB1'\n",
       "2. 'RPS3A'\n",
       "3. 'RPS3'\n",
       "4. 'CCNI'\n",
       "5. 'SNRPB'\n",
       "6. 'PTMA'\n",
       "\n",
       "\n"
      ],
      "text/plain": [
       "[1] \"HLA-DQB1\" \"RPS3A\"    \"RPS3\"     \"CCNI\"     \"SNRPB\"    \"PTMA\"    "
      ]
     },
     "metadata": {},
     "output_type": "display_data"
    },
    {
     "data": {
      "text/html": [
       "<table class=\"dataframe\">\n",
       "<caption>A data.frame: 10 × 6</caption>\n",
       "<thead>\n",
       "\t<tr><th></th><th scope=col>logFC</th><th scope=col>AveExpr</th><th scope=col>t</th><th scope=col>P.Value</th><th scope=col>adj.P.Val</th><th scope=col>B</th></tr>\n",
       "\t<tr><th></th><th scope=col>&lt;dbl&gt;</th><th scope=col>&lt;dbl&gt;</th><th scope=col>&lt;dbl&gt;</th><th scope=col>&lt;dbl&gt;</th><th scope=col>&lt;dbl&gt;</th><th scope=col>&lt;dbl&gt;</th></tr>\n",
       "</thead>\n",
       "<tbody>\n",
       "\t<tr><th scope=row>10252</th><td>-3.5579461</td><td> 6.714957</td><td>-6.470071</td><td>2.577067e-09</td><td>1.239569e-06</td><td>10.707277</td></tr>\n",
       "\t<tr><th scope=row>14251</th><td>-0.9948991</td><td> 9.109106</td><td>-5.404161</td><td>3.640702e-07</td><td>8.755889e-05</td><td> 6.256455</td></tr>\n",
       "\t<tr><th scope=row>2087</th><td>-2.5512746</td><td> 7.790432</td><td>-4.996567</td><td>2.136859e-06</td><td>2.525556e-04</td><td> 4.629648</td></tr>\n",
       "\t<tr><th scope=row>7489</th><td>-1.3505530</td><td> 9.078365</td><td>-4.947948</td><td>2.625319e-06</td><td>2.525556e-04</td><td> 4.323557</td></tr>\n",
       "\t<tr><th scope=row>5574</th><td>-0.3471896</td><td>13.378573</td><td>-4.956659</td><td>2.530467e-06</td><td>2.525556e-04</td><td> 4.019044</td></tr>\n",
       "\t<tr><th scope=row>12282</th><td>-2.9998843</td><td> 5.253233</td><td>-4.888115</td><td>3.376893e-06</td><td>2.707143e-04</td><td> 3.765955</td></tr>\n",
       "\t<tr><th scope=row>383</th><td>-0.5270466</td><td> 8.900236</td><td>-4.751171</td><td>5.967768e-06</td><td>3.204365e-04</td><td> 3.699248</td></tr>\n",
       "\t<tr><th scope=row>2086</th><td>-2.6364011</td><td> 8.142841</td><td>-4.750039</td><td>5.995693e-06</td><td>3.204365e-04</td><td> 3.601304</td></tr>\n",
       "\t<tr><th scope=row>2776</th><td>-0.5715836</td><td> 9.718570</td><td>-4.752671</td><td>5.930989e-06</td><td>3.204365e-04</td><td> 3.524056</td></tr>\n",
       "\t<tr><th scope=row>5575</th><td>-0.4502217</td><td>10.743219</td><td>-4.712598</td><td>6.993822e-06</td><td>3.364029e-04</td><td> 3.279049</td></tr>\n",
       "</tbody>\n",
       "</table>\n"
      ],
      "text/latex": [
       "A data.frame: 10 × 6\n",
       "\\begin{tabular}{r|llllll}\n",
       "  & logFC & AveExpr & t & P.Value & adj.P.Val & B\\\\\n",
       "  & <dbl> & <dbl> & <dbl> & <dbl> & <dbl> & <dbl>\\\\\n",
       "\\hline\n",
       "\t10252 & -3.5579461 &  6.714957 & -6.470071 & 2.577067e-09 & 1.239569e-06 & 10.707277\\\\\n",
       "\t14251 & -0.9948991 &  9.109106 & -5.404161 & 3.640702e-07 & 8.755889e-05 &  6.256455\\\\\n",
       "\t2087 & -2.5512746 &  7.790432 & -4.996567 & 2.136859e-06 & 2.525556e-04 &  4.629648\\\\\n",
       "\t7489 & -1.3505530 &  9.078365 & -4.947948 & 2.625319e-06 & 2.525556e-04 &  4.323557\\\\\n",
       "\t5574 & -0.3471896 & 13.378573 & -4.956659 & 2.530467e-06 & 2.525556e-04 &  4.019044\\\\\n",
       "\t12282 & -2.9998843 &  5.253233 & -4.888115 & 3.376893e-06 & 2.707143e-04 &  3.765955\\\\\n",
       "\t383 & -0.5270466 &  8.900236 & -4.751171 & 5.967768e-06 & 3.204365e-04 &  3.699248\\\\\n",
       "\t2086 & -2.6364011 &  8.142841 & -4.750039 & 5.995693e-06 & 3.204365e-04 &  3.601304\\\\\n",
       "\t2776 & -0.5715836 &  9.718570 & -4.752671 & 5.930989e-06 & 3.204365e-04 &  3.524056\\\\\n",
       "\t5575 & -0.4502217 & 10.743219 & -4.712598 & 6.993822e-06 & 3.364029e-04 &  3.279049\\\\\n",
       "\\end{tabular}\n"
      ],
      "text/markdown": [
       "\n",
       "A data.frame: 10 × 6\n",
       "\n",
       "| <!--/--> | logFC &lt;dbl&gt; | AveExpr &lt;dbl&gt; | t &lt;dbl&gt; | P.Value &lt;dbl&gt; | adj.P.Val &lt;dbl&gt; | B &lt;dbl&gt; |\n",
       "|---|---|---|---|---|---|---|\n",
       "| 10252 | -3.5579461 |  6.714957 | -6.470071 | 2.577067e-09 | 1.239569e-06 | 10.707277 |\n",
       "| 14251 | -0.9948991 |  9.109106 | -5.404161 | 3.640702e-07 | 8.755889e-05 |  6.256455 |\n",
       "| 2087 | -2.5512746 |  7.790432 | -4.996567 | 2.136859e-06 | 2.525556e-04 |  4.629648 |\n",
       "| 7489 | -1.3505530 |  9.078365 | -4.947948 | 2.625319e-06 | 2.525556e-04 |  4.323557 |\n",
       "| 5574 | -0.3471896 | 13.378573 | -4.956659 | 2.530467e-06 | 2.525556e-04 |  4.019044 |\n",
       "| 12282 | -2.9998843 |  5.253233 | -4.888115 | 3.376893e-06 | 2.707143e-04 |  3.765955 |\n",
       "| 383 | -0.5270466 |  8.900236 | -4.751171 | 5.967768e-06 | 3.204365e-04 |  3.699248 |\n",
       "| 2086 | -2.6364011 |  8.142841 | -4.750039 | 5.995693e-06 | 3.204365e-04 |  3.601304 |\n",
       "| 2776 | -0.5715836 |  9.718570 | -4.752671 | 5.930989e-06 | 3.204365e-04 |  3.524056 |\n",
       "| 5575 | -0.4502217 | 10.743219 | -4.712598 | 6.993822e-06 | 3.364029e-04 |  3.279049 |\n",
       "\n"
      ],
      "text/plain": [
       "      logFC      AveExpr   t         P.Value      adj.P.Val    B        \n",
       "10252 -3.5579461  6.714957 -6.470071 2.577067e-09 1.239569e-06 10.707277\n",
       "14251 -0.9948991  9.109106 -5.404161 3.640702e-07 8.755889e-05  6.256455\n",
       "2087  -2.5512746  7.790432 -4.996567 2.136859e-06 2.525556e-04  4.629648\n",
       "7489  -1.3505530  9.078365 -4.947948 2.625319e-06 2.525556e-04  4.323557\n",
       "5574  -0.3471896 13.378573 -4.956659 2.530467e-06 2.525556e-04  4.019044\n",
       "12282 -2.9998843  5.253233 -4.888115 3.376893e-06 2.707143e-04  3.765955\n",
       "383   -0.5270466  8.900236 -4.751171 5.967768e-06 3.204365e-04  3.699248\n",
       "2086  -2.6364011  8.142841 -4.750039 5.995693e-06 3.204365e-04  3.601304\n",
       "2776  -0.5715836  9.718570 -4.752671 5.930989e-06 3.204365e-04  3.524056\n",
       "5575  -0.4502217 10.743219 -4.712598 6.993822e-06 3.364029e-04  3.279049"
      ]
     },
     "metadata": {},
     "output_type": "display_data"
    },
    {
     "data": {
      "text/html": [
       "<table class=\"dataframe\">\n",
       "<caption>A data.frame: 10 × 6</caption>\n",
       "<thead>\n",
       "\t<tr><th></th><th scope=col>logFC</th><th scope=col>AveExpr</th><th scope=col>t</th><th scope=col>P.Value</th><th scope=col>adj.P.Val</th><th scope=col>B</th></tr>\n",
       "\t<tr><th></th><th scope=col>&lt;dbl&gt;</th><th scope=col>&lt;dbl&gt;</th><th scope=col>&lt;dbl&gt;</th><th scope=col>&lt;dbl&gt;</th><th scope=col>&lt;dbl&gt;</th><th scope=col>&lt;dbl&gt;</th></tr>\n",
       "</thead>\n",
       "<tbody>\n",
       "\t<tr><th scope=row>10252</th><td>-3.5579461</td><td> 6.714957</td><td>-6.470071</td><td>2.577067e-09</td><td>1.239569e-06</td><td>10.707277</td></tr>\n",
       "\t<tr><th scope=row>14251</th><td>-0.9948991</td><td> 9.109106</td><td>-5.404161</td><td>3.640702e-07</td><td>8.755889e-05</td><td> 6.256455</td></tr>\n",
       "\t<tr><th scope=row>2087</th><td>-2.5512746</td><td> 7.790432</td><td>-4.996567</td><td>2.136859e-06</td><td>2.525556e-04</td><td> 4.629648</td></tr>\n",
       "\t<tr><th scope=row>7489</th><td>-1.3505530</td><td> 9.078365</td><td>-4.947948</td><td>2.625319e-06</td><td>2.525556e-04</td><td> 4.323557</td></tr>\n",
       "\t<tr><th scope=row>5574</th><td>-0.3471896</td><td>13.378573</td><td>-4.956659</td><td>2.530467e-06</td><td>2.525556e-04</td><td> 4.019044</td></tr>\n",
       "\t<tr><th scope=row>12282</th><td>-2.9998843</td><td> 5.253233</td><td>-4.888115</td><td>3.376893e-06</td><td>2.707143e-04</td><td> 3.765955</td></tr>\n",
       "\t<tr><th scope=row>383</th><td>-0.5270466</td><td> 8.900236</td><td>-4.751171</td><td>5.967768e-06</td><td>3.204365e-04</td><td> 3.699248</td></tr>\n",
       "\t<tr><th scope=row>2086</th><td>-2.6364011</td><td> 8.142841</td><td>-4.750039</td><td>5.995693e-06</td><td>3.204365e-04</td><td> 3.601304</td></tr>\n",
       "\t<tr><th scope=row>2776</th><td>-0.5715836</td><td> 9.718570</td><td>-4.752671</td><td>5.930989e-06</td><td>3.204365e-04</td><td> 3.524056</td></tr>\n",
       "\t<tr><th scope=row>5575</th><td>-0.4502217</td><td>10.743219</td><td>-4.712598</td><td>6.993822e-06</td><td>3.364029e-04</td><td> 3.279049</td></tr>\n",
       "</tbody>\n",
       "</table>\n"
      ],
      "text/latex": [
       "A data.frame: 10 × 6\n",
       "\\begin{tabular}{r|llllll}\n",
       "  & logFC & AveExpr & t & P.Value & adj.P.Val & B\\\\\n",
       "  & <dbl> & <dbl> & <dbl> & <dbl> & <dbl> & <dbl>\\\\\n",
       "\\hline\n",
       "\t10252 & -3.5579461 &  6.714957 & -6.470071 & 2.577067e-09 & 1.239569e-06 & 10.707277\\\\\n",
       "\t14251 & -0.9948991 &  9.109106 & -5.404161 & 3.640702e-07 & 8.755889e-05 &  6.256455\\\\\n",
       "\t2087 & -2.5512746 &  7.790432 & -4.996567 & 2.136859e-06 & 2.525556e-04 &  4.629648\\\\\n",
       "\t7489 & -1.3505530 &  9.078365 & -4.947948 & 2.625319e-06 & 2.525556e-04 &  4.323557\\\\\n",
       "\t5574 & -0.3471896 & 13.378573 & -4.956659 & 2.530467e-06 & 2.525556e-04 &  4.019044\\\\\n",
       "\t12282 & -2.9998843 &  5.253233 & -4.888115 & 3.376893e-06 & 2.707143e-04 &  3.765955\\\\\n",
       "\t383 & -0.5270466 &  8.900236 & -4.751171 & 5.967768e-06 & 3.204365e-04 &  3.699248\\\\\n",
       "\t2086 & -2.6364011 &  8.142841 & -4.750039 & 5.995693e-06 & 3.204365e-04 &  3.601304\\\\\n",
       "\t2776 & -0.5715836 &  9.718570 & -4.752671 & 5.930989e-06 & 3.204365e-04 &  3.524056\\\\\n",
       "\t5575 & -0.4502217 & 10.743219 & -4.712598 & 6.993822e-06 & 3.364029e-04 &  3.279049\\\\\n",
       "\\end{tabular}\n"
      ],
      "text/markdown": [
       "\n",
       "A data.frame: 10 × 6\n",
       "\n",
       "| <!--/--> | logFC &lt;dbl&gt; | AveExpr &lt;dbl&gt; | t &lt;dbl&gt; | P.Value &lt;dbl&gt; | adj.P.Val &lt;dbl&gt; | B &lt;dbl&gt; |\n",
       "|---|---|---|---|---|---|---|\n",
       "| 10252 | -3.5579461 |  6.714957 | -6.470071 | 2.577067e-09 | 1.239569e-06 | 10.707277 |\n",
       "| 14251 | -0.9948991 |  9.109106 | -5.404161 | 3.640702e-07 | 8.755889e-05 |  6.256455 |\n",
       "| 2087 | -2.5512746 |  7.790432 | -4.996567 | 2.136859e-06 | 2.525556e-04 |  4.629648 |\n",
       "| 7489 | -1.3505530 |  9.078365 | -4.947948 | 2.625319e-06 | 2.525556e-04 |  4.323557 |\n",
       "| 5574 | -0.3471896 | 13.378573 | -4.956659 | 2.530467e-06 | 2.525556e-04 |  4.019044 |\n",
       "| 12282 | -2.9998843 |  5.253233 | -4.888115 | 3.376893e-06 | 2.707143e-04 |  3.765955 |\n",
       "| 383 | -0.5270466 |  8.900236 | -4.751171 | 5.967768e-06 | 3.204365e-04 |  3.699248 |\n",
       "| 2086 | -2.6364011 |  8.142841 | -4.750039 | 5.995693e-06 | 3.204365e-04 |  3.601304 |\n",
       "| 2776 | -0.5715836 |  9.718570 | -4.752671 | 5.930989e-06 | 3.204365e-04 |  3.524056 |\n",
       "| 5575 | -0.4502217 | 10.743219 | -4.712598 | 6.993822e-06 | 3.364029e-04 |  3.279049 |\n",
       "\n"
      ],
      "text/plain": [
       "      logFC      AveExpr   t         P.Value      adj.P.Val    B        \n",
       "10252 -3.5579461  6.714957 -6.470071 2.577067e-09 1.239569e-06 10.707277\n",
       "14251 -0.9948991  9.109106 -5.404161 3.640702e-07 8.755889e-05  6.256455\n",
       "2087  -2.5512746  7.790432 -4.996567 2.136859e-06 2.525556e-04  4.629648\n",
       "7489  -1.3505530  9.078365 -4.947948 2.625319e-06 2.525556e-04  4.323557\n",
       "5574  -0.3471896 13.378573 -4.956659 2.530467e-06 2.525556e-04  4.019044\n",
       "12282 -2.9998843  5.253233 -4.888115 3.376893e-06 2.707143e-04  3.765955\n",
       "383   -0.5270466  8.900236 -4.751171 5.967768e-06 3.204365e-04  3.699248\n",
       "2086  -2.6364011  8.142841 -4.750039 5.995693e-06 3.204365e-04  3.601304\n",
       "2776  -0.5715836  9.718570 -4.752671 5.930989e-06 3.204365e-04  3.524056\n",
       "5575  -0.4502217 10.743219 -4.712598 6.993822e-06 3.364029e-04  3.279049"
      ]
     },
     "metadata": {},
     "output_type": "display_data"
    },
    {
     "data": {
      "text/html": [
       "<table class=\"dataframe\">\n",
       "<caption>A data.frame: 10 × 6</caption>\n",
       "<thead>\n",
       "\t<tr><th></th><th scope=col>logFC</th><th scope=col>AveExpr</th><th scope=col>t</th><th scope=col>P.Value</th><th scope=col>adj.P.Val</th><th scope=col>B</th></tr>\n",
       "\t<tr><th></th><th scope=col>&lt;dbl&gt;</th><th scope=col>&lt;dbl&gt;</th><th scope=col>&lt;dbl&gt;</th><th scope=col>&lt;dbl&gt;</th><th scope=col>&lt;dbl&gt;</th><th scope=col>&lt;dbl&gt;</th></tr>\n",
       "</thead>\n",
       "<tbody>\n",
       "\t<tr><th scope=row>12282</th><td>-2.3235376</td><td> 5.2532331</td><td>-4.170031</td><td>5.981158e-05</td><td>0.01438468</td><td> 1.4305667</td></tr>\n",
       "\t<tr><th scope=row>10944</th><td>-0.8136499</td><td>13.4507662</td><td>-4.336776</td><td>3.147300e-05</td><td>0.01438468</td><td> 1.3122855</td></tr>\n",
       "\t<tr><th scope=row>2428</th><td>-0.4692608</td><td>13.8174188</td><td>-3.869263</td><td>1.826701e-04</td><td>0.02196608</td><td>-0.3694135</td></tr>\n",
       "\t<tr><th scope=row>11211</th><td>-6.0765593</td><td> 4.5128419</td><td>-3.381948</td><td>9.881578e-04</td><td>0.07921731</td><td>-0.8196005</td></tr>\n",
       "\t<tr><th scope=row>9366</th><td>-3.6128557</td><td> 0.9168145</td><td>-3.900545</td><td>1.630616e-04</td><td>0.02196608</td><td>-1.4942292</td></tr>\n",
       "\t<tr><th scope=row>8494</th><td>-6.3338971</td><td> 2.0799091</td><td>-3.395222</td><td>9.457045e-04</td><td>0.07921731</td><td>-1.5960497</td></tr>\n",
       "\t<tr><th scope=row>13377</th><td>-0.8605710</td><td> 9.4789223</td><td>-3.197835</td><td>1.794645e-03</td><td>0.08632242</td><td>-1.8000037</td></tr>\n",
       "\t<tr><th scope=row>13385</th><td>-0.9902064</td><td> 9.8155944</td><td>-3.226683</td><td>1.636973e-03</td><td>0.08632242</td><td>-1.8294834</td></tr>\n",
       "\t<tr><th scope=row>13384</th><td>-0.9825644</td><td> 9.8503715</td><td>-3.223629</td><td>1.653034e-03</td><td>0.08632242</td><td>-1.8532807</td></tr>\n",
       "\t<tr><th scope=row>13386</th><td>-0.9854336</td><td> 9.7864234</td><td>-3.204296</td><td>1.758152e-03</td><td>0.08632242</td><td>-1.8851120</td></tr>\n",
       "</tbody>\n",
       "</table>\n"
      ],
      "text/latex": [
       "A data.frame: 10 × 6\n",
       "\\begin{tabular}{r|llllll}\n",
       "  & logFC & AveExpr & t & P.Value & adj.P.Val & B\\\\\n",
       "  & <dbl> & <dbl> & <dbl> & <dbl> & <dbl> & <dbl>\\\\\n",
       "\\hline\n",
       "\t12282 & -2.3235376 &  5.2532331 & -4.170031 & 5.981158e-05 & 0.01438468 &  1.4305667\\\\\n",
       "\t10944 & -0.8136499 & 13.4507662 & -4.336776 & 3.147300e-05 & 0.01438468 &  1.3122855\\\\\n",
       "\t2428 & -0.4692608 & 13.8174188 & -3.869263 & 1.826701e-04 & 0.02196608 & -0.3694135\\\\\n",
       "\t11211 & -6.0765593 &  4.5128419 & -3.381948 & 9.881578e-04 & 0.07921731 & -0.8196005\\\\\n",
       "\t9366 & -3.6128557 &  0.9168145 & -3.900545 & 1.630616e-04 & 0.02196608 & -1.4942292\\\\\n",
       "\t8494 & -6.3338971 &  2.0799091 & -3.395222 & 9.457045e-04 & 0.07921731 & -1.5960497\\\\\n",
       "\t13377 & -0.8605710 &  9.4789223 & -3.197835 & 1.794645e-03 & 0.08632242 & -1.8000037\\\\\n",
       "\t13385 & -0.9902064 &  9.8155944 & -3.226683 & 1.636973e-03 & 0.08632242 & -1.8294834\\\\\n",
       "\t13384 & -0.9825644 &  9.8503715 & -3.223629 & 1.653034e-03 & 0.08632242 & -1.8532807\\\\\n",
       "\t13386 & -0.9854336 &  9.7864234 & -3.204296 & 1.758152e-03 & 0.08632242 & -1.8851120\\\\\n",
       "\\end{tabular}\n"
      ],
      "text/markdown": [
       "\n",
       "A data.frame: 10 × 6\n",
       "\n",
       "| <!--/--> | logFC &lt;dbl&gt; | AveExpr &lt;dbl&gt; | t &lt;dbl&gt; | P.Value &lt;dbl&gt; | adj.P.Val &lt;dbl&gt; | B &lt;dbl&gt; |\n",
       "|---|---|---|---|---|---|---|\n",
       "| 12282 | -2.3235376 |  5.2532331 | -4.170031 | 5.981158e-05 | 0.01438468 |  1.4305667 |\n",
       "| 10944 | -0.8136499 | 13.4507662 | -4.336776 | 3.147300e-05 | 0.01438468 |  1.3122855 |\n",
       "| 2428 | -0.4692608 | 13.8174188 | -3.869263 | 1.826701e-04 | 0.02196608 | -0.3694135 |\n",
       "| 11211 | -6.0765593 |  4.5128419 | -3.381948 | 9.881578e-04 | 0.07921731 | -0.8196005 |\n",
       "| 9366 | -3.6128557 |  0.9168145 | -3.900545 | 1.630616e-04 | 0.02196608 | -1.4942292 |\n",
       "| 8494 | -6.3338971 |  2.0799091 | -3.395222 | 9.457045e-04 | 0.07921731 | -1.5960497 |\n",
       "| 13377 | -0.8605710 |  9.4789223 | -3.197835 | 1.794645e-03 | 0.08632242 | -1.8000037 |\n",
       "| 13385 | -0.9902064 |  9.8155944 | -3.226683 | 1.636973e-03 | 0.08632242 | -1.8294834 |\n",
       "| 13384 | -0.9825644 |  9.8503715 | -3.223629 | 1.653034e-03 | 0.08632242 | -1.8532807 |\n",
       "| 13386 | -0.9854336 |  9.7864234 | -3.204296 | 1.758152e-03 | 0.08632242 | -1.8851120 |\n",
       "\n"
      ],
      "text/plain": [
       "      logFC      AveExpr    t         P.Value      adj.P.Val  B         \n",
       "12282 -2.3235376  5.2532331 -4.170031 5.981158e-05 0.01438468  1.4305667\n",
       "10944 -0.8136499 13.4507662 -4.336776 3.147300e-05 0.01438468  1.3122855\n",
       "2428  -0.4692608 13.8174188 -3.869263 1.826701e-04 0.02196608 -0.3694135\n",
       "11211 -6.0765593  4.5128419 -3.381948 9.881578e-04 0.07921731 -0.8196005\n",
       "9366  -3.6128557  0.9168145 -3.900545 1.630616e-04 0.02196608 -1.4942292\n",
       "8494  -6.3338971  2.0799091 -3.395222 9.457045e-04 0.07921731 -1.5960497\n",
       "13377 -0.8605710  9.4789223 -3.197835 1.794645e-03 0.08632242 -1.8000037\n",
       "13385 -0.9902064  9.8155944 -3.226683 1.636973e-03 0.08632242 -1.8294834\n",
       "13384 -0.9825644  9.8503715 -3.223629 1.653034e-03 0.08632242 -1.8532807\n",
       "13386 -0.9854336  9.7864234 -3.204296 1.758152e-03 0.08632242 -1.8851120"
      ]
     },
     "metadata": {},
     "output_type": "display_data"
    }
   ],
   "source": [
    "# Apply contrasts\n",
    "vwtsfit2 <- contrasts.fit(vwtsfit, contrast_matrix)\n",
    "\n",
    "# Compute the statistics\n",
    "vwtsfit2 <- eBayes(vwtsfit2)\n",
    "\n",
    "# Print the top differentially expressed genes for each comparison\n",
    "TAM_vs_preAML_results <- topTable(vwtsfit2, coef = \"TAM_vs_preAML\", n=Inf)\n",
    "TAM_vs_AML_results <- topTable(vwtsfit2, coef = \"TAM_vs_AML\",n=Inf)\n",
    "preAML_vs_AML_results <- topTable(vwtsfit2, coef = \"preAML_vs_AML\",n=Inf)\n",
    "\n",
    "TAM_vs_preAML_lookup <- rownames(TAM_vs_preAML_results)\n",
    "TAM_vs_AML_lookup <- rownames(TAM_vs_AML_results)\n",
    "preAML_vs_AML_lookup <- rownames(preAML_vs_AML_results)\n",
    "\n",
    "length(TAM_vs_preAML_lookup)\n",
    "length(TAM_vs_AML_lookup)\n",
    "length(preAML_vs_AML_lookup)\n",
    "\n",
    "head(featureData[TAM_vs_preAML_lookup,2])\n",
    "head(featureData[TAM_vs_AML_lookup,2])\n",
    "head(featureData[preAML_vs_AML_lookup,2])\n",
    "head(TAM_vs_preAML_results,10)\n",
    "head(TAM_vs_preAML_results,10)\n",
    "head(preAML_vs_AML_results,10)"
   ]
  },
  {
   "cell_type": "code",
   "execution_count": 101,
   "id": "93131a9e-fc04-4c4f-9a6b-c9adcf17f032",
   "metadata": {},
   "outputs": [
    {
     "data": {
      "text/html": [
       "<style>\n",
       ".list-inline {list-style: none; margin:0; padding: 0}\n",
       ".list-inline>li {display: inline-block}\n",
       ".list-inline>li:not(:last-child)::after {content: \"\\00b7\"; padding: 0 .5ex}\n",
       "</style>\n",
       "<ol class=list-inline><li>16</li><li>6</li></ol>\n"
      ],
      "text/latex": [
       "\\begin{enumerate*}\n",
       "\\item 16\n",
       "\\item 6\n",
       "\\end{enumerate*}\n"
      ],
      "text/markdown": [
       "1. 16\n",
       "2. 6\n",
       "\n",
       "\n"
      ],
      "text/plain": [
       "[1] 16  6"
      ]
     },
     "metadata": {},
     "output_type": "display_data"
    }
   ],
   "source": [
    "# Assuming you have the 'de_results' object from topTable\n",
    "fold_change_threshold <- 2\n",
    "adjusted_pvalue_threshold <- 0.05\n",
    "\n",
    "# Select genes that meet both fold change and adjusted p-value criteria\n",
    "TAM_vs_preAML_significant_genes <- TAM_vs_preAML_results[\n",
    "  abs(TAM_vs_preAML_results$logFC) > fold_change_threshold &\n",
    "  TAM_vs_preAML_results$adj.P.Val < adjusted_pvalue_threshold,\n",
    "]\n",
    "dim(TAM_vs_preAML_significant_genes)"
   ]
  },
  {
   "cell_type": "code",
   "execution_count": 102,
   "id": "9858352f-cc2e-4c5f-8346-bf20f95e310d",
   "metadata": {},
   "outputs": [],
   "source": [
    "TAM_vs_preAML_lookup <- rownames(TAM_vs_preAML_significant_genes)\n",
    "TAM_vs_preAML_significant_expression <- dge[TAM_vs_preAML_lookup,]"
   ]
  },
  {
   "cell_type": "code",
   "execution_count": 107,
   "id": "2dfbba48-c20a-460e-8d07-d01c99877c02",
   "metadata": {},
   "outputs": [
    {
     "data": {
      "text/html": [
       "<table class=\"dataframe\">\n",
       "<caption>A data.frame: 16 × 6</caption>\n",
       "<thead>\n",
       "\t<tr><th></th><th scope=col>logFC</th><th scope=col>AveExpr</th><th scope=col>t</th><th scope=col>P.Value</th><th scope=col>adj.P.Val</th><th scope=col>B</th></tr>\n",
       "\t<tr><th></th><th scope=col>&lt;dbl&gt;</th><th scope=col>&lt;dbl&gt;</th><th scope=col>&lt;dbl&gt;</th><th scope=col>&lt;dbl&gt;</th><th scope=col>&lt;dbl&gt;</th><th scope=col>&lt;dbl&gt;</th></tr>\n",
       "</thead>\n",
       "<tbody>\n",
       "\t<tr><th scope=row>10252</th><td>-3.557946</td><td>6.714957</td><td>-6.470071</td><td>2.577067e-09</td><td>1.239569e-06</td><td>10.7072772</td></tr>\n",
       "\t<tr><th scope=row>2087</th><td>-2.551275</td><td>7.790432</td><td>-4.996567</td><td>2.136859e-06</td><td>2.525556e-04</td><td> 4.6296483</td></tr>\n",
       "\t<tr><th scope=row>12282</th><td>-2.999884</td><td>5.253233</td><td>-4.888115</td><td>3.376893e-06</td><td>2.707143e-04</td><td> 3.7659545</td></tr>\n",
       "\t<tr><th scope=row>2086</th><td>-2.636401</td><td>8.142841</td><td>-4.750039</td><td>5.995693e-06</td><td>3.204365e-04</td><td> 3.6013036</td></tr>\n",
       "\t<tr><th scope=row>9919</th><td>-3.455853</td><td>8.318684</td><td>-4.479498</td><td>1.793977e-05</td><td>5.376221e-04</td><td> 2.5518523</td></tr>\n",
       "\t<tr><th scope=row>6878</th><td>-3.852636</td><td>4.642827</td><td>-3.796651</td><td>2.372011e-04</td><td>3.127156e-03</td><td> 0.2330670</td></tr>\n",
       "\t<tr><th scope=row>193</th><td>-2.835182</td><td>4.854438</td><td>-3.636211</td><td>4.174877e-04</td><td>4.482734e-03</td><td>-0.4174172</td></tr>\n",
       "\t<tr><th scope=row>1687</th><td>-2.024663</td><td>4.499742</td><td>-3.582623</td><td>5.023961e-04</td><td>4.931684e-03</td><td>-1.1812322</td></tr>\n",
       "\t<tr><th scope=row>5597</th><td>-3.331219</td><td>3.634108</td><td>-3.416111</td><td>8.823443e-04</td><td>7.578707e-03</td><td>-1.4012104</td></tr>\n",
       "\t<tr><th scope=row>7803</th><td>-2.872414</td><td>4.134238</td><td>-3.482434</td><td>7.065995e-04</td><td>6.293969e-03</td><td>-1.4771155</td></tr>\n",
       "\t<tr><th scope=row>13414</th><td> 2.400589</td><td>7.998166</td><td> 3.321774</td><td>1.204018e-03</td><td>9.048946e-03</td><td>-1.5042201</td></tr>\n",
       "\t<tr><th scope=row>7176</th><td>-2.466586</td><td>8.376843</td><td>-3.166629</td><td>1.981067e-03</td><td>1.237524e-02</td><td>-1.8311984</td></tr>\n",
       "\t<tr><th scope=row>13415</th><td> 2.431378</td><td>9.165114</td><td> 2.880123</td><td>4.753468e-03</td><td>2.136839e-02</td><td>-2.1552251</td></tr>\n",
       "\t<tr><th scope=row>13416</th><td> 2.320946</td><td>9.053424</td><td> 2.797200</td><td>6.056976e-03</td><td>2.539059e-02</td><td>-2.3309478</td></tr>\n",
       "\t<tr><th scope=row>758</th><td>-3.600974</td><td>2.294245</td><td>-3.196805</td><td>1.800530e-03</td><td>1.202854e-02</td><td>-2.3797154</td></tr>\n",
       "\t<tr><th scope=row>2488</th><td>-2.216647</td><td>8.342694</td><td>-2.694540</td><td>8.119476e-03</td><td>3.124374e-02</td><td>-3.0972135</td></tr>\n",
       "</tbody>\n",
       "</table>\n"
      ],
      "text/latex": [
       "A data.frame: 16 × 6\n",
       "\\begin{tabular}{r|llllll}\n",
       "  & logFC & AveExpr & t & P.Value & adj.P.Val & B\\\\\n",
       "  & <dbl> & <dbl> & <dbl> & <dbl> & <dbl> & <dbl>\\\\\n",
       "\\hline\n",
       "\t10252 & -3.557946 & 6.714957 & -6.470071 & 2.577067e-09 & 1.239569e-06 & 10.7072772\\\\\n",
       "\t2087 & -2.551275 & 7.790432 & -4.996567 & 2.136859e-06 & 2.525556e-04 &  4.6296483\\\\\n",
       "\t12282 & -2.999884 & 5.253233 & -4.888115 & 3.376893e-06 & 2.707143e-04 &  3.7659545\\\\\n",
       "\t2086 & -2.636401 & 8.142841 & -4.750039 & 5.995693e-06 & 3.204365e-04 &  3.6013036\\\\\n",
       "\t9919 & -3.455853 & 8.318684 & -4.479498 & 1.793977e-05 & 5.376221e-04 &  2.5518523\\\\\n",
       "\t6878 & -3.852636 & 4.642827 & -3.796651 & 2.372011e-04 & 3.127156e-03 &  0.2330670\\\\\n",
       "\t193 & -2.835182 & 4.854438 & -3.636211 & 4.174877e-04 & 4.482734e-03 & -0.4174172\\\\\n",
       "\t1687 & -2.024663 & 4.499742 & -3.582623 & 5.023961e-04 & 4.931684e-03 & -1.1812322\\\\\n",
       "\t5597 & -3.331219 & 3.634108 & -3.416111 & 8.823443e-04 & 7.578707e-03 & -1.4012104\\\\\n",
       "\t7803 & -2.872414 & 4.134238 & -3.482434 & 7.065995e-04 & 6.293969e-03 & -1.4771155\\\\\n",
       "\t13414 &  2.400589 & 7.998166 &  3.321774 & 1.204018e-03 & 9.048946e-03 & -1.5042201\\\\\n",
       "\t7176 & -2.466586 & 8.376843 & -3.166629 & 1.981067e-03 & 1.237524e-02 & -1.8311984\\\\\n",
       "\t13415 &  2.431378 & 9.165114 &  2.880123 & 4.753468e-03 & 2.136839e-02 & -2.1552251\\\\\n",
       "\t13416 &  2.320946 & 9.053424 &  2.797200 & 6.056976e-03 & 2.539059e-02 & -2.3309478\\\\\n",
       "\t758 & -3.600974 & 2.294245 & -3.196805 & 1.800530e-03 & 1.202854e-02 & -2.3797154\\\\\n",
       "\t2488 & -2.216647 & 8.342694 & -2.694540 & 8.119476e-03 & 3.124374e-02 & -3.0972135\\\\\n",
       "\\end{tabular}\n"
      ],
      "text/markdown": [
       "\n",
       "A data.frame: 16 × 6\n",
       "\n",
       "| <!--/--> | logFC &lt;dbl&gt; | AveExpr &lt;dbl&gt; | t &lt;dbl&gt; | P.Value &lt;dbl&gt; | adj.P.Val &lt;dbl&gt; | B &lt;dbl&gt; |\n",
       "|---|---|---|---|---|---|---|\n",
       "| 10252 | -3.557946 | 6.714957 | -6.470071 | 2.577067e-09 | 1.239569e-06 | 10.7072772 |\n",
       "| 2087 | -2.551275 | 7.790432 | -4.996567 | 2.136859e-06 | 2.525556e-04 |  4.6296483 |\n",
       "| 12282 | -2.999884 | 5.253233 | -4.888115 | 3.376893e-06 | 2.707143e-04 |  3.7659545 |\n",
       "| 2086 | -2.636401 | 8.142841 | -4.750039 | 5.995693e-06 | 3.204365e-04 |  3.6013036 |\n",
       "| 9919 | -3.455853 | 8.318684 | -4.479498 | 1.793977e-05 | 5.376221e-04 |  2.5518523 |\n",
       "| 6878 | -3.852636 | 4.642827 | -3.796651 | 2.372011e-04 | 3.127156e-03 |  0.2330670 |\n",
       "| 193 | -2.835182 | 4.854438 | -3.636211 | 4.174877e-04 | 4.482734e-03 | -0.4174172 |\n",
       "| 1687 | -2.024663 | 4.499742 | -3.582623 | 5.023961e-04 | 4.931684e-03 | -1.1812322 |\n",
       "| 5597 | -3.331219 | 3.634108 | -3.416111 | 8.823443e-04 | 7.578707e-03 | -1.4012104 |\n",
       "| 7803 | -2.872414 | 4.134238 | -3.482434 | 7.065995e-04 | 6.293969e-03 | -1.4771155 |\n",
       "| 13414 |  2.400589 | 7.998166 |  3.321774 | 1.204018e-03 | 9.048946e-03 | -1.5042201 |\n",
       "| 7176 | -2.466586 | 8.376843 | -3.166629 | 1.981067e-03 | 1.237524e-02 | -1.8311984 |\n",
       "| 13415 |  2.431378 | 9.165114 |  2.880123 | 4.753468e-03 | 2.136839e-02 | -2.1552251 |\n",
       "| 13416 |  2.320946 | 9.053424 |  2.797200 | 6.056976e-03 | 2.539059e-02 | -2.3309478 |\n",
       "| 758 | -3.600974 | 2.294245 | -3.196805 | 1.800530e-03 | 1.202854e-02 | -2.3797154 |\n",
       "| 2488 | -2.216647 | 8.342694 | -2.694540 | 8.119476e-03 | 3.124374e-02 | -3.0972135 |\n",
       "\n"
      ],
      "text/plain": [
       "      logFC     AveExpr  t         P.Value      adj.P.Val    B         \n",
       "10252 -3.557946 6.714957 -6.470071 2.577067e-09 1.239569e-06 10.7072772\n",
       "2087  -2.551275 7.790432 -4.996567 2.136859e-06 2.525556e-04  4.6296483\n",
       "12282 -2.999884 5.253233 -4.888115 3.376893e-06 2.707143e-04  3.7659545\n",
       "2086  -2.636401 8.142841 -4.750039 5.995693e-06 3.204365e-04  3.6013036\n",
       "9919  -3.455853 8.318684 -4.479498 1.793977e-05 5.376221e-04  2.5518523\n",
       "6878  -3.852636 4.642827 -3.796651 2.372011e-04 3.127156e-03  0.2330670\n",
       "193   -2.835182 4.854438 -3.636211 4.174877e-04 4.482734e-03 -0.4174172\n",
       "1687  -2.024663 4.499742 -3.582623 5.023961e-04 4.931684e-03 -1.1812322\n",
       "5597  -3.331219 3.634108 -3.416111 8.823443e-04 7.578707e-03 -1.4012104\n",
       "7803  -2.872414 4.134238 -3.482434 7.065995e-04 6.293969e-03 -1.4771155\n",
       "13414  2.400589 7.998166  3.321774 1.204018e-03 9.048946e-03 -1.5042201\n",
       "7176  -2.466586 8.376843 -3.166629 1.981067e-03 1.237524e-02 -1.8311984\n",
       "13415  2.431378 9.165114  2.880123 4.753468e-03 2.136839e-02 -2.1552251\n",
       "13416  2.320946 9.053424  2.797200 6.056976e-03 2.539059e-02 -2.3309478\n",
       "758   -3.600974 2.294245 -3.196805 1.800530e-03 1.202854e-02 -2.3797154\n",
       "2488  -2.216647 8.342694 -2.694540 8.119476e-03 3.124374e-02 -3.0972135"
      ]
     },
     "metadata": {},
     "output_type": "display_data"
    },
    {
     "data": {
      "text/html": [
       "<style>\n",
       ".list-inline {list-style: none; margin:0; padding: 0}\n",
       ".list-inline>li {display: inline-block}\n",
       ".list-inline>li:not(:last-child)::after {content: \"\\00b7\"; padding: 0 .5ex}\n",
       "</style>\n",
       "<ol class=list-inline><li>'AP2M1'</li><li>'PGGHG'</li><li>'HLA-DQB1'</li><li>'PGGHG'</li><li>'MYH9'</li><li>'ACTG1'</li><li>'LMNA'</li><li>'IFIT2'</li><li>'RNPS1'</li><li>'AKAP8L'</li><li>'ANK1'</li><li>'CALR'</li><li>'ANK1'</li><li>'ANK1'</li><li>'CSDE1'</li><li>'EIF4G2'</li></ol>\n"
      ],
      "text/latex": [
       "\\begin{enumerate*}\n",
       "\\item 'AP2M1'\n",
       "\\item 'PGGHG'\n",
       "\\item 'HLA-DQB1'\n",
       "\\item 'PGGHG'\n",
       "\\item 'MYH9'\n",
       "\\item 'ACTG1'\n",
       "\\item 'LMNA'\n",
       "\\item 'IFIT2'\n",
       "\\item 'RNPS1'\n",
       "\\item 'AKAP8L'\n",
       "\\item 'ANK1'\n",
       "\\item 'CALR'\n",
       "\\item 'ANK1'\n",
       "\\item 'ANK1'\n",
       "\\item 'CSDE1'\n",
       "\\item 'EIF4G2'\n",
       "\\end{enumerate*}\n"
      ],
      "text/markdown": [
       "1. 'AP2M1'\n",
       "2. 'PGGHG'\n",
       "3. 'HLA-DQB1'\n",
       "4. 'PGGHG'\n",
       "5. 'MYH9'\n",
       "6. 'ACTG1'\n",
       "7. 'LMNA'\n",
       "8. 'IFIT2'\n",
       "9. 'RNPS1'\n",
       "10. 'AKAP8L'\n",
       "11. 'ANK1'\n",
       "12. 'CALR'\n",
       "13. 'ANK1'\n",
       "14. 'ANK1'\n",
       "15. 'CSDE1'\n",
       "16. 'EIF4G2'\n",
       "\n",
       "\n"
      ],
      "text/plain": [
       " [1] \"AP2M1\"    \"PGGHG\"    \"HLA-DQB1\" \"PGGHG\"    \"MYH9\"     \"ACTG1\"   \n",
       " [7] \"LMNA\"     \"IFIT2\"    \"RNPS1\"    \"AKAP8L\"   \"ANK1\"     \"CALR\"    \n",
       "[13] \"ANK1\"     \"ANK1\"     \"CSDE1\"    \"EIF4G2\"  "
      ]
     },
     "metadata": {},
     "output_type": "display_data"
    }
   ],
   "source": [
    "TAM_vs_preAML_significant_genes\n",
    "featureData[rownames(TAM_vs_preAML_significant_expression),2]"
   ]
  },
  {
   "cell_type": "code",
   "execution_count": 97,
   "id": "6f830617-1f17-44ac-822e-0ebd52af6435",
   "metadata": {},
   "outputs": [],
   "source": [
    "library(pheatmap)"
   ]
  },
  {
   "cell_type": "code",
   "execution_count": 98,
   "id": "a7948602-b1c0-4127-89f5-7762d8197b82",
   "metadata": {},
   "outputs": [
    {
     "name": "stderr",
     "output_type": "stream",
     "text": [
      "Warning message in is.na(x):\n",
      "“is.na() applied to non-(list or vector) of type 'closure'”\n",
      "Warning message in is.na(x):\n",
      "“is.na() applied to non-(list or vector) of type 'closure'”\n"
     ]
    },
    {
     "ename": "ERROR",
     "evalue": "Error in annotation_col[colnames(mat), , drop = F]: object of type 'closure' is not subsettable\n",
     "output_type": "error",
     "traceback": [
      "Error in annotation_col[colnames(mat), , drop = F]: object of type 'closure' is not subsettable\nTraceback:\n"
     ]
    }
   ],
   "source": [
    "TAM_vs_preAML_significant_out <- pheatmap(TAM_vs_preAML_significant_expression, \n",
    "                            cluster_rows5=TRUE, \n",
    "                            show_rownames=FALSE,\n",
    "                            cluster_cols=TRUE, \n",
    "                            annotation_col=df, \n",
    "                            scale=\"row\",\n",
    "                            clustering_method = \"ward.D2\",\n",
    "                            clustering_distance_cols = \"minkowski\", \n",
    "                            clustering_distance_rows = \"minkowski\" )"
   ]
  },
  {
   "cell_type": "code",
   "execution_count": 99,
   "id": "f324a076-ee12-424f-b6fe-2b3e03e48be5",
   "metadata": {},
   "outputs": [
    {
     "data": {
      "text/html": [
       "<style>\n",
       ".list-inline {list-style: none; margin:0; padding: 0}\n",
       ".list-inline>li {display: inline-block}\n",
       ".list-inline>li:not(:last-child)::after {content: \"\\00b7\"; padding: 0 .5ex}\n",
       "</style>\n",
       "<ol class=list-inline><li>'AP2M1'</li><li>'PGGHG'</li><li>'HLA-DQB1'</li><li>'PGGHG'</li><li>'IFITM1'</li></ol>\n"
      ],
      "text/latex": [
       "\\begin{enumerate*}\n",
       "\\item 'AP2M1'\n",
       "\\item 'PGGHG'\n",
       "\\item 'HLA-DQB1'\n",
       "\\item 'PGGHG'\n",
       "\\item 'IFITM1'\n",
       "\\end{enumerate*}\n"
      ],
      "text/markdown": [
       "1. 'AP2M1'\n",
       "2. 'PGGHG'\n",
       "3. 'HLA-DQB1'\n",
       "4. 'PGGHG'\n",
       "5. 'IFITM1'\n",
       "\n",
       "\n"
      ],
      "text/plain": [
       "[1] \"AP2M1\"    \"PGGHG\"    \"HLA-DQB1\" \"PGGHG\"    \"IFITM1\"  "
      ]
     },
     "metadata": {},
     "output_type": "display_data"
    }
   ],
   "source": [
    "featureData[head(rownames(TAM_vs_preAML_significant_expression),5),2]"
   ]
  },
  {
   "cell_type": "code",
   "execution_count": 100,
   "id": "065231a3-b004-4740-b01a-f87907ec39f5",
   "metadata": {},
   "outputs": [
    {
     "data": {
      "text/html": [
       "23"
      ],
      "text/latex": [
       "23"
      ],
      "text/markdown": [
       "23"
      ],
      "text/plain": [
       "[1] 23"
      ]
     },
     "metadata": {},
     "output_type": "display_data"
    }
   ],
   "source": [
    "top_gene_list <- as.matrix(featureData[rownames(TAM_vs_preAML_significant_expression),2])\n",
    "length(top_gene_list)"
   ]
  },
  {
   "cell_type": "code",
   "execution_count": null,
   "id": "e1716688-eb74-49d7-8bec-2cd0a7e0849d",
   "metadata": {},
   "outputs": [],
   "source": [
    "top_significant_genes <- dge[rownames(significant_genes),]"
   ]
  },
  {
   "cell_type": "code",
   "execution_count": null,
   "id": "fc719874-a4f9-422a-ac06-02a26c60f9ed",
   "metadata": {},
   "outputs": [],
   "source": [
    "start=1\n",
    "stop=length(top_gene_list)\n",
    "date=\"2024Jun04_A3SS_vwts\"\n",
    "piece <-top_significant_genes[significant_out$tree_row$order[start:stop],]\n",
    "fd <- data.frame(featureData[rownames(piece),])\n",
    "genejunction <- paste(featureData[rownames(piece),2],rownames(piece),sep=\".\")\n",
    "rownames(fd) <- genejunction\n",
    "rownames(piece) <- genejunction\n",
    "outpiece<-pheatmap(piece, cluster_rows5=TRUE, show_rownames=TRUE,\n",
    "         cluster_cols=TRUE, annotation_col=df, scale=\"row\",clustering_distance_cols = \"minkowski\", clustering_distance_rows = \"minkowski\" )\n",
    "piece_filename <- paste(paste(paste(paste(date,\"string_top_gene_list\",sep=\"_\"),start,sep=\"_\"),stop,sep=\"_\"),\"csv\",sep=\".\")\n",
    "\n",
    "# Order by TAM elements, followed by AML elements\n",
    "piece_exp <- piece[,c(1,3,5,7,2,4,6,8)]\n",
    "colnames(piece_exp) <- colnames(piece[,c(1,3,5,7,2,4,6,8)])\n",
    "rownames(piece_exp) <- rownames(piece)\n",
    "string_filename <- paste(paste(paste(paste(date,\"string_top_gene_list\",sep=\"_\"),start,sep=\"_\"),stop,sep=\"_\"),\"csv\",sep=\".\")\n",
    "piece_exp_filename <- paste(paste(paste(paste(date,\"expression_top_gene_list\",sep=\"_\"),start,sep=\"_\"),stop,sep=\"_\"),\"csv\",sep=\".\")\n",
    "write.csv(piece_exp$counts,piece_exp_filename,quote=FALSE)\n",
    "write.csv(rownames(piece),piece_filename,quote=FALSE,row.names=FALSE)\n",
    "write.csv(fd[,2],string_filename,quote=FALSE,row.names=FALSE)\n",
    "violin_plot_filename = piece_exp_filename"
   ]
  },
  {
   "cell_type": "code",
   "execution_count": null,
   "id": "3fd05508-82f8-46e0-b786-85d3cba6560d",
   "metadata": {},
   "outputs": [],
   "source": [
    "save_pheatmap_pdf <- function(x, filename, width=7, height=7) {\n",
    "   stopifnot(!missing(x))\n",
    "   stopifnot(!missing(filename))\n",
    "   pdf(filename, width=width, height=height)\n",
    "   grid::grid.newpage()\n",
    "   grid::grid.draw(x$gtable)\n",
    "   dev.off()\n",
    "}\n",
    "save_pheatmap_pdf(outpiece, \"2024Jun04_A3SS_vwts_10fold_top_significant_genes.pdf\")"
   ]
  },
  {
   "cell_type": "code",
   "execution_count": null,
   "id": "e5e25f5d-ac3d-4966-a3a6-422aa129c2da",
   "metadata": {},
   "outputs": [],
   "source": [
    "#If you want something like gene-to-cluster assignment, you can 'cut' your row dendrogram into a pre-selected number of groups as follows:\n",
    "# -- inspecating above the rows seem to fall into 7 groups\n",
    "clusters<- as.matrix(row_clusters<- sort(cutree(significant_out$tree_row, k=7)),nrows=dim(top_genes_expression)[1],ncols=1)\n",
    "genes_in_clusters = featureData[rownames(clusters),2]\n",
    "genes_in_clusters.df <- data.frame(featureData[rownames(clusters),2], clusters)\n",
    "colnames(genes_in_clusters.df) <- c(\"geneSymbol\",\"cluster\")\n",
    "dim(genes_in_clusters.df)\n",
    "cluster_1_genes <- genes_in_clusters.df[genes_in_clusters.df$cluster == 1,]\n",
    "cluster_2_genes <- genes_in_clusters.df[genes_in_clusters.df$cluster == 2,]\n",
    "cluster_3_genes <- genes_in_clusters.df[genes_in_clusters.df$cluster == 3,]\n",
    "cluster_4_genes <- genes_in_clusters.df[genes_in_clusters.df$cluster == 4,]\n",
    "cluster_5_genes <- genes_in_clusters.df[genes_in_clusters.df$cluster == 5,]\n",
    "cluster_6_genes <- genes_in_clusters.df[genes_in_clusters.df$cluster == 6,]\n",
    "cluster_7_genes <- genes_in_clusters.df[genes_in_clusters.df$cluster == 7,]\n",
    "\n",
    "cluster_1_filename <- paste(paste(date, \"cluster_1\", sep=\"_\"),\"csv\",sep=\".\")\n",
    "cluster_2_filename <- paste(paste(date, \"cluster_2\", sep=\"_\"),\"csv\",sep=\".\")\n",
    "cluster_3_filename <- paste(paste(date, \"cluster_3\", sep=\"_\"),\"csv\",sep=\".\")\n",
    "cluster_4_filename <- paste(paste(date, \"cluster_4\", sep=\"_\"),\"csv\",sep=\".\")\n",
    "cluster_5_filename <- paste(paste(date, \"cluster_5\", sep=\"_\"),\"csv\",sep=\".\")\n",
    "cluster_6_filename <- paste(paste(date, \"cluster_6\", sep=\"_\"),\"csv\",sep=\".\")\n",
    "cluster_7_filename <- paste(paste(date, \"cluster_7\", sep=\"_\"),\"csv\",sep=\".\")\n",
    "\n",
    "write.csv(cluster_1_genes$geneSymbol,cluster_1_filename,quote=FALSE,row.names=FALSE)\n",
    "write.csv(cluster_2_genes$geneSymbol,cluster_2_filename,quote=FALSE,row.names=FALSE)\n",
    "write.csv(cluster_3_genes$geneSymbol,cluster_3_filename,quote=FALSE,row.names=FALSE)\n",
    "write.csv(cluster_4_genes$geneSymbol,cluster_4_filename,quote=FALSE,row.names=FALSE)\n",
    "write.csv(cluster_5_genes$geneSymbol,cluster_5_filename,quote=FALSE,row.names=FALSE)\n",
    "write.csv(cluster_6_genes$geneSymbol,cluster_6_filename,quote=FALSE,row.names=FALSE)\n",
    "write.csv(cluster_7_genes$geneSymbol,cluster_7_filename,quote=FALSE,row.names=FALSE)\n"
   ]
  },
  {
   "cell_type": "markdown",
   "id": "b1af96a2-e1cc-4dca-821b-f627190a9563",
   "metadata": {},
   "source": [
    "Make violin plots for each of the IDs which are for each row encoded as GeneSymbol.UniqueJunctionIdentifier"
   ]
  },
  {
   "cell_type": "code",
   "execution_count": null,
   "id": "9153e413-4453-43f0-b1fb-1a368fb0381f",
   "metadata": {},
   "outputs": [],
   "source": [
    "# Load necessary libraries\n",
    "library(ggplot2)\n",
    "library(reshape2)\n",
    "library(dplyr)\n",
    "library(tidyr)\n",
    "\n",
    "# Read the CSV file (assuming file path is already defined as violin_plot_filename)\n",
    "data <- read.csv(violin_plot_filename, stringsAsFactors = FALSE)\n",
    "\n",
    "# Transform the data from wide to long format\n",
    "data_long <- melt(data, id.vars = \"X\", variable.name = \"Sample\", value.name = \"Expression\")\n",
    "\n",
    "# Ensure the Sample column is treated as a character vector\n",
    "data_long$Sample <- as.character(data_long$Sample)\n",
    "\n",
    "# Extract individual and state information from Sample column\n",
    "data_long <- data_long %>%\n",
    "  mutate(Individual = sapply(strsplit(Sample, \"\\\\.\"), `[`, 1),\n",
    "         State = sapply(strsplit(Sample, \"\\\\.\"), `[`, 2))\n",
    "\n",
    "# Map state codes to state names\n",
    "state_mapping <- c(\"03A\" = \"TAM\", \"40A\" = \"AML\")\n",
    "data_long$State <- state_mapping[data_long$State]\n",
    "\n",
    "# Calculate the mean differences between AML and TAM for sorting\n",
    "mean_diffs <- data_long %>%\n",
    "  group_by(X, State) %>%\n",
    "  summarise(Mean = mean(Expression), .groups = 'drop') %>%\n",
    "  pivot_wider(names_from = State, values_from = Mean) %>%\n",
    "  mutate(Diff = AML - TAM) %>%\n",
    "  arrange(Diff)\n",
    "\n",
    "# Store the plots in a list\n",
    "plots <- list()\n",
    "\n",
    "# Plot violin plots for each gene symbol and splicing junction identifier in sorted order\n",
    "for (gene_id in mean_diffs$X) {\n",
    "  gene_data <- subset(data_long, X == gene_id)\n",
    "  gene_data$State <- factor(gene_data$State, levels = c(\"TAM\", \"AML\")) # Ensure TAM is plotted first\n",
    "  \n",
    "  mean_TAM <- mean(gene_data$Expression[gene_data$State == \"TAM\"])\n",
    "  mean_AML <- mean(gene_data$Expression[gene_data$State == \"AML\"])\n",
    "  line_data <- data.frame(State = c(\"TAM\", \"AML\"), Mean = c(mean_TAM, mean_AML))\n",
    "  \n",
    "  p <- ggplot(gene_data, aes(x = State, y = Expression, fill = State)) +\n",
    "    geom_violin() +\n",
    "    geom_jitter(width = 0.2, size = 1.5, alpha = 0.6) + # Add individual expression values as dots\n",
    "    geom_line(aes(group = Individual), color = \"blue\", alpha = 0.5) + # Line connecting samples of the same individual\n",
    "    stat_summary(fun = mean, geom = \"point\", color = \"red\", size = 3) + # Plot mean as points\n",
    "    ggtitle(paste(\"Violin Plot for\", gene_id)) +\n",
    "    theme(axis.text.x = element_text(angle = 90, hjust = 1)) +\n",
    "    scale_fill_manual(values = c(\"TAM\" = \"skyblue\", \"AML\" = \"salmon\")) + # Custom colors for states\n",
    "    geom_line(data = line_data, aes(x = State, y = Mean, group = 1), color = \"red\", linewidth = 1) # Line connecting means\n",
    "  \n",
    "  print(p)  # Print the plot to the notebook\n",
    "  \n",
    "  # Save the plot to the list\n",
    "  plots[[gene_id]] <- p\n",
    "}\n",
    "# Load necessary libraries\n",
    "library(pdftools)\n",
    "\n",
    "# Directory to save individual PDF files\n",
    "dir.create(\"violin_plots\")\n",
    "\n",
    "# Save each plot to a separate PDF file\n",
    "pdf_files <- c()\n",
    "for (i in seq_along(plots)) {\n",
    "  plot_name <- paste0(\"violin_plots/A3SS_violin_plot_\", names(plots)[i], \".pdf\")\n",
    "  ggsave(plot_name, plot = plots[[i]], width = 10, height = 8)\n",
    "  pdf_files <- c(pdf_files, plot_name)\n",
    "}\n",
    "\n",
    "# Combine individual PDF files into a single PDF\n",
    "pdf_combine(input = pdf_files, output = \"A3SS_violin_plots_sorted.pdf\")\n",
    "\n",
    "# Cleanup: remove the individual PDF files\n",
    "#file.remove(pdf_files)"
   ]
  },
  {
   "cell_type": "code",
   "execution_count": null,
   "id": "41fac00a-9565-4b92-8c30-418ed6f71daa",
   "metadata": {},
   "outputs": [],
   "source": []
  }
 ],
 "metadata": {
  "kernelspec": {
   "display_name": "R",
   "language": "R",
   "name": "ir"
  },
  "language_info": {
   "codemirror_mode": "r",
   "file_extension": ".r",
   "mimetype": "text/x-r-source",
   "name": "R",
   "pygments_lexer": "r",
   "version": "4.3.3"
  }
 },
 "nbformat": 4,
 "nbformat_minor": 5
}
