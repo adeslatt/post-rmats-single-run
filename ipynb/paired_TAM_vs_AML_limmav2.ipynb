{
 "cells": [
  {
   "cell_type": "markdown",
   "id": "17cdd25f-23a9-4971-92c3-08278aee5375",
   "metadata": {},
   "source": [
    "Paired TAM (transcient abnormal myleoproliferation) vs AML (acute myeloid leukemia) analysis of patients with the co-occuring condition of Down Syndrome using DESeq2 on IJC counts obtained from rMATS analysis.\n",
    "\n",
    "Using a matrix constructed from Kids First Workflow V4 done on single runs, a post-rMATS-single-run prepareSEfiles.sh was run that created a bed file for visualizaiton in UCSC Genome browser of all the events, as well as created a matrix of the single runs normalized to the non-redundant union of files.  Using associative arrays in an awk script, it was a rapid way to transform the individual counts from each of the individual runs into a matrix that facilitated analysis.\n",
    "\n",
    "Using annotations obtained from the rMATS run that provided the coordinates of each of the splicing events as well as the gene that the junctions came from and the count of the reads that overlapped the junctions.   \n",
    " \n",
    "We will use Limma to perform analysis of these junction counts in the identical way that a gene analysis would be completed.\n"
   ]
  },
  {
   "cell_type": "code",
   "execution_count": null,
   "id": "7a0a13bb-f7d2-48b3-8308-fef6b197843b",
   "metadata": {},
   "outputs": [],
   "source": [
    "if (!require(\"BiocManager\", quietly = TRUE))\n",
    "    install.packages(\"BiocManager\", repos = \"https://cloud.r-project.org\")\n"
   ]
  },
  {
   "cell_type": "code",
   "execution_count": null,
   "id": "2f04c3be-ecdb-4ecd-ad96-cd99b30c64b4",
   "metadata": {},
   "outputs": [],
   "source": [
    "BiocManager::install(\"dplyr\")"
   ]
  },
  {
   "cell_type": "code",
   "execution_count": null,
   "id": "6a5693e5-7f52-4651-a30c-2ba5a1899cd2",
   "metadata": {},
   "outputs": [],
   "source": [
    "library(Glimma)\n",
    "library(dplyr)\n",
    "library(edgeR)"
   ]
  },
  {
   "cell_type": "code",
   "execution_count": null,
   "id": "9efb6cf3-4204-44df-906a-aa961bdcb948",
   "metadata": {},
   "outputs": [],
   "source": [
    "setwd(\"../data/\")\n"
   ]
  },
  {
   "cell_type": "code",
   "execution_count": null,
   "id": "ebbacdca-4a2c-49fb-bddd-d8f8ae75c06c",
   "metadata": {},
   "outputs": [],
   "source": [
    "getwd()\n"
   ]
  },
  {
   "cell_type": "code",
   "execution_count": null,
   "id": "48a148e7-6e39-4f98-a6e8-064ba01cec41",
   "metadata": {},
   "outputs": [],
   "source": [
    "cts <- as.matrix(read.csv(\"SE.IJC.paired.TAM.AML.csv\",sep=\",\",row.names=\"ID\"))"
   ]
  },
  {
   "cell_type": "code",
   "execution_count": null,
   "id": "f5c4a633-56a5-44c6-8c01-0dc196e12eb9",
   "metadata": {},
   "outputs": [],
   "source": [
    "featureData <- data.frame(read.csv(\"SE.coordinates.matrix.csv\", sep=\",\",row.names=\"ID\"))"
   ]
  },
  {
   "cell_type": "code",
   "execution_count": null,
   "id": "76618ff4-f52a-406c-8d28-0627b0849285",
   "metadata": {},
   "outputs": [],
   "source": [
    "head(featureData,2)"
   ]
  },
  {
   "cell_type": "code",
   "execution_count": null,
   "id": "5278e887-9177-49ab-9ed7-a55a41aaa467",
   "metadata": {},
   "outputs": [],
   "source": [
    "featureData <- featureData[,c(1,2)]"
   ]
  },
  {
   "cell_type": "code",
   "execution_count": null,
   "id": "25b5f4b3-3a29-4e27-a5ec-e9224179ee04",
   "metadata": {},
   "outputs": [],
   "source": [
    "head(featureData,2)"
   ]
  },
  {
   "cell_type": "code",
   "execution_count": null,
   "id": "287a913a-35c3-44d1-b3e0-dce02fd2aca1",
   "metadata": {},
   "outputs": [],
   "source": [
    "dim(cts)\n",
    "head(cts,2)"
   ]
  },
  {
   "cell_type": "code",
   "execution_count": null,
   "id": "4883d9ba-9ca6-4c49-b7f8-c49fb700be0f",
   "metadata": {},
   "outputs": [],
   "source": [
    "dim(featureData)\n",
    "head(featureData,2)"
   ]
  },
  {
   "cell_type": "code",
   "execution_count": null,
   "id": "b06a2c1c-53d5-47b9-b6e9-2bb035424d71",
   "metadata": {},
   "outputs": [],
   "source": [
    "coldata <- read.csv(\"design_matrix.csv\",row.names=1)"
   ]
  },
  {
   "cell_type": "code",
   "execution_count": null,
   "id": "8bb5bc20-4c04-4770-b70c-79a73f51acfd",
   "metadata": {},
   "outputs": [],
   "source": [
    "coldata\n"
   ]
  },
  {
   "cell_type": "code",
   "execution_count": null,
   "id": "4c9070b8-dd6e-4e6a-b0ac-63e5b5929706",
   "metadata": {},
   "outputs": [],
   "source": [
    "coldata <- coldata[,c(\"patient\",\"condition\")]\n",
    "coldata$condition <- factor(coldata$condition)\n",
    "coldata$patient <- factor(coldata$patient)"
   ]
  },
  {
   "cell_type": "code",
   "execution_count": null,
   "id": "8af6a639-6b22-44be-998d-ff752b37dd5d",
   "metadata": {},
   "outputs": [],
   "source": [
    "rownames(coldata)"
   ]
  },
  {
   "cell_type": "code",
   "execution_count": null,
   "id": "9b1d0636-c20d-407a-861a-0420c519b2f7",
   "metadata": {},
   "outputs": [],
   "source": [
    "rownames(coldata) <-sub(\"-\",\".\",rownames(coldata))"
   ]
  },
  {
   "cell_type": "code",
   "execution_count": null,
   "id": "30feeda5-ac47-42d5-890a-0e2deb97df5d",
   "metadata": {},
   "outputs": [],
   "source": [
    "colnames(cts)"
   ]
  },
  {
   "cell_type": "code",
   "execution_count": null,
   "id": "5eb757dc-5605-4d63-bffd-caf6e4e62e9d",
   "metadata": {},
   "outputs": [],
   "source": [
    "all(rownames(coldata) %in% colnames(cts))"
   ]
  },
  {
   "cell_type": "code",
   "execution_count": null,
   "id": "7495c68e-3bfb-45dc-a4a0-fa607fcf6117",
   "metadata": {},
   "outputs": [],
   "source": [
    "colnames(cts)"
   ]
  },
  {
   "cell_type": "code",
   "execution_count": null,
   "id": "c1159601-71ca-4346-848b-045adb323711",
   "metadata": {},
   "outputs": [],
   "source": [
    "grouping_variable <- c(\"TAM\",\"AML\",\"TAM\",\"AML\",\"TAM\",\"AML\",\"TAM\",\"AML\")\n",
    "grouping_variable"
   ]
  },
  {
   "cell_type": "code",
   "execution_count": null,
   "id": "dc6d3c5e-5596-467c-a936-98b285d5c7cc",
   "metadata": {},
   "outputs": [],
   "source": [
    "TAM_group <- cts[,grouping_variable == \"TAM\"]\n",
    "colnames(TAM_group)\n",
    "TAM_group_df <- data.frame(TAM_group)\n",
    "AML_group <- cts[,grouping_variable == \"AML\"]\n",
    "AML_group_df <- data.frame(AML_group)\n",
    "colnames(AML_group)"
   ]
  },
  {
   "cell_type": "code",
   "execution_count": null,
   "id": "4cf83a9d-e450-4f66-b7af-e7948ac4df50",
   "metadata": {},
   "outputs": [],
   "source": [
    "dim(cts)\n",
    "head(cts,4)"
   ]
  },
  {
   "cell_type": "code",
   "execution_count": null,
   "id": "bc75377c-f890-48a8-8dfa-646e3e7364ee",
   "metadata": {},
   "outputs": [],
   "source": [
    "TAM_rowmeans <- rowMeans(TAM_group_df,na.rm=TRUE)\n",
    "head(TAM_rowmeans,3)\n",
    "length(TAM_rowmeans)\n",
    "AML_rowmeans <- rowMeans(AML_group_df,na.rm=TRUE)\n",
    "head(AML_rowmeans,3)\n",
    "length(AML_rowmeans)"
   ]
  },
  {
   "cell_type": "code",
   "execution_count": null,
   "id": "89478273-c3a0-4947-a925-c3db203eff1f",
   "metadata": {},
   "outputs": [],
   "source": [
    "install.packages(\"matrixStats\")\n",
    "library(matrixStats)"
   ]
  },
  {
   "cell_type": "code",
   "execution_count": null,
   "id": "367815f3-4500-4f26-b97b-5c82838ddcfb",
   "metadata": {},
   "outputs": [],
   "source": [
    "TAM_rowsds = rowSds(as.matrix(TAM_group_df))\n",
    "AML_rowsds = rowSds(as.matrix(AML_group_df))\n",
    "length(TAM_rowsds)\n",
    "length(AML_rowsds)"
   ]
  },
  {
   "cell_type": "code",
   "execution_count": null,
   "id": "540fd168-c611-4e28-8200-02e43abbc6b6",
   "metadata": {},
   "outputs": [],
   "source": [
    "TAM_withinsds <- as.logical(abs((TAM_group[,1] - TAM_rowmeans) <= TAM_rowsds)) &\n",
    "                 as.logical(abs((TAM_group[,2] - TAM_rowmeans) <= TAM_rowsds)) &\n",
    "                 as.logical(abs((TAM_group[,3] - TAM_rowmeans) <= TAM_rowsds)) &\n",
    "                 as.logical(abs((TAM_group[,4] - TAM_rowmeans) <= TAM_rowsds)) \n",
    "is.logical(TAM_withinsds)\n",
    "length(TAM_withinsds)\n",
    "dim(TAM_withinsds)\n",
    "head(TAM_withinsds)\n",
    "sum(TAM_withinsds == TRUE)"
   ]
  },
  {
   "cell_type": "code",
   "execution_count": null,
   "id": "bcd27287-a7fd-4d07-aaf3-eef34077f1d1",
   "metadata": {},
   "outputs": [],
   "source": [
    "AML_withinsds <- as.logical(abs((AML_group[,1] - AML_rowmeans) <= AML_rowsds)) &\n",
    "                 as.logical(abs((AML_group[,2] - AML_rowmeans) <= AML_rowsds)) &\n",
    "                 as.logical(abs((AML_group[,3] - AML_rowmeans) <= AML_rowsds)) &\n",
    "                 as.logical(abs((AML_group[,4] - AML_rowmeans) <= AML_rowsds))\n",
    "is.logical(AML_withinsds)\n",
    "length(AML_withinsds)\n",
    "dim(AML_withinsds)\n",
    "head(AML_withinsds)\n",
    "sum(AML_withinsds == TRUE)"
   ]
  },
  {
   "cell_type": "code",
   "execution_count": null,
   "id": "7f68620e-6ac9-431c-bd35-28f2f0ae9c28",
   "metadata": {},
   "outputs": [],
   "source": [
    "filter_cts_logical <- AML_withinsds & TAM_withinsds\n",
    "is.logical(filter_cts_logical)\n",
    "length(filter_cts_logical)\n",
    "dim(filter_cts_logical)\n",
    "head(filter_cts_logical)\n",
    "sum(filter_cts_logical == TRUE)"
   ]
  },
  {
   "cell_type": "code",
   "execution_count": null,
   "id": "28a9e31f-72fa-4ad6-9972-994125c17d35",
   "metadata": {},
   "outputs": [],
   "source": [
    "head(cts,2)\n",
    "filtered_cts <- cts[filter_cts_logical,]\n",
    "dim(filtered_cts)\n",
    "max(filtered_cts)\n",
    "max(filtered_cts[,c(1,3,5,7)])\n",
    "max(filtered_cts[,c(2,4,6,8)])"
   ]
  },
  {
   "cell_type": "code",
   "execution_count": null,
   "id": "b5c54046-8b3e-4c97-bbf0-6ee3e0d298e5",
   "metadata": {},
   "outputs": [],
   "source": [
    "# lets look at limma/voom\n",
    "BiocManager::install(\"limma\")"
   ]
  },
  {
   "cell_type": "code",
   "execution_count": null,
   "id": "e30dfcee-76b1-4efb-b56d-948f7a8de44f",
   "metadata": {},
   "outputs": [],
   "source": [
    "BiocManager::install(\"statmod\")"
   ]
  },
  {
   "cell_type": "code",
   "execution_count": null,
   "id": "da040196-cae0-4a10-ab43-0da299c3a79f",
   "metadata": {},
   "outputs": [],
   "source": [
    "library(limma)\n",
    "library(edgeR)\n",
    "library(statmod)"
   ]
  },
  {
   "cell_type": "code",
   "execution_count": null,
   "id": "d9e51d30-1986-4a7a-a9eb-a3b6fd0562ca",
   "metadata": {},
   "outputs": [],
   "source": [
    "# making a counts matrix\n",
    "dge <- DGEList(counts=cts)\n",
    "filtered_dge <- DGEList(counts=filtered_cts)"
   ]
  },
  {
   "cell_type": "code",
   "execution_count": null,
   "id": "693ed341-3d5c-4ee8-a123-ba6a366271c5",
   "metadata": {},
   "outputs": [],
   "source": [
    "colnames(dge)"
   ]
  },
  {
   "cell_type": "code",
   "execution_count": null,
   "id": "6664a001-18a0-4d0b-8fcb-8bfc5ac8c8c7",
   "metadata": {},
   "outputs": [],
   "source": [
    "head(dge,2)\n",
    "head(filtered_dge)"
   ]
  },
  {
   "cell_type": "code",
   "execution_count": null,
   "id": "20f53b49-24b1-4599-ab86-31e338555f66",
   "metadata": {},
   "outputs": [],
   "source": [
    "design <- model.matrix(~ 0 + factor(c(1,2,1,2,1,2,1,2)))\n",
    "colnames(design) <- c(\"TAM\",\"AML\")"
   ]
  },
  {
   "cell_type": "code",
   "execution_count": null,
   "id": "1e3ee690-7fc1-4d4d-96cb-c8f190553042",
   "metadata": {},
   "outputs": [],
   "source": [
    "design"
   ]
  },
  {
   "cell_type": "code",
   "execution_count": null,
   "id": "d50b9a7e-f4f7-43d3-b51a-2bcc3e659230",
   "metadata": {},
   "outputs": [],
   "source": [
    "# normalize and filter\n",
    "keep          <-filterByExpr(dge, design)\n",
    "filtered_keep <-filterByExpr(filtered_dge, design)"
   ]
  },
  {
   "cell_type": "code",
   "execution_count": null,
   "id": "0f9a6be8-7cbb-414f-af8a-a915f2f4a9e0",
   "metadata": {},
   "outputs": [],
   "source": [
    "is.logical(keep)\n",
    "is.logical(filtered_keep)"
   ]
  },
  {
   "cell_type": "code",
   "execution_count": null,
   "id": "0b0b2483-0edd-49b5-8d1b-9eda5c916e8d",
   "metadata": {},
   "outputs": [],
   "source": [
    "dge          <- dge         [keep,,keep.lib.size=FALSE]\n",
    "filtered_dge <- filtered_dge[filtered_keep,,keep.lib.size=FALSE]"
   ]
  },
  {
   "cell_type": "code",
   "execution_count": null,
   "id": "a041b234-6bba-440a-8033-42c651ff5919",
   "metadata": {},
   "outputs": [],
   "source": [
    "# apply scale normalization\n",
    "dge          <- calcNormFactors(dge)\n",
    "filtered_dge <- calcNormFactors(filtered_dge)"
   ]
  },
  {
   "cell_type": "code",
   "execution_count": null,
   "id": "e30666d3-1b01-4a2c-9790-5f55b03444da",
   "metadata": {},
   "outputs": [],
   "source": [
    "# MDS Plot - can we separate the samples well?\n",
    "logCPM <- cpm(dge, log=TRUE, prior.count=3)\n",
    "plotMDS(logCPM,labels=coldata$condition,top=10, col=c(rep(c(\"red\",\"black\"),3)))"
   ]
  },
  {
   "cell_type": "code",
   "execution_count": null,
   "id": "4f723d60-0c5c-45be-b784-f4981f92474b",
   "metadata": {},
   "outputs": [],
   "source": [
    "# MDS Plot - can we separate the samples well?\n",
    "filteredlogCPM <- cpm(filtered_dge, log=TRUE, prior.count=3)\n",
    "plotMDS(filteredlogCPM,labels=coldata$condition,top=10, col=c(rep(c(\"red\",\"black\"),3)))"
   ]
  },
  {
   "cell_type": "code",
   "execution_count": null,
   "id": "9948ffce-7db1-40b9-b5b0-e6008013579e",
   "metadata": {},
   "outputs": [],
   "source": [
    "fit <- lmFit(logCPM, design)\n",
    "fit <- eBayes(fit, trend=TRUE)\n",
    "de_results <- topTable(fit, coef=ncol(design), n=Inf) \n",
    "lookup <- rownames(de_results)\n",
    "length(featureData[lookup,2])\n",
    "head(featureData[lookup,2])"
   ]
  },
  {
   "cell_type": "code",
   "execution_count": null,
   "id": "f1e4906e-39df-4f6e-b060-e20a0be50bb4",
   "metadata": {},
   "outputs": [],
   "source": [
    "filtered_fit <- lmFit(filteredlogCPM, design)\n",
    "filtered_fit <- eBayes(filtered_fit, trend=TRUE)\n",
    "filtered_de_results <- topTable(filtered_fit, coef=ncol(design), n=Inf) \n",
    "filtered_lookup <- rownames(filtered_de_results)\n",
    "length(featureData[filtered_lookup,2])\n",
    "head(featureData[filtered_lookup,2])"
   ]
  },
  {
   "cell_type": "code",
   "execution_count": null,
   "id": "a84151dc-c059-4ed4-807d-5f6136b7bf97",
   "metadata": {},
   "outputs": [],
   "source": [
    "library(\"pheatmap\")\n",
    "df <- as.data.frame(coldata[,c(\"condition\",\"patient\")])\n",
    "filtered_dge_expression <- filtered_dge[filtered_lookup,]\n",
    "out <- pheatmap(filtered_dge_expression, cluster_rows5=TRUE, show_rownames=FALSE,\n",
    "         cluster_cols=TRUE, annotation_col=df, scale=\"row\",clustering_distance_cols = \"minkowski\", clustering_distance_rows = \"minkowski\" )"
   ]
  },
  {
   "cell_type": "code",
   "execution_count": null,
   "id": "56064fd7-d3d5-4ffe-b188-0e07f42f8dc5",
   "metadata": {},
   "outputs": [],
   "source": [
    "# Assuming you have the 'de_results' object from topTable\n",
    "fold_change_threshold <- 8\n",
    "adjusted_pvalue_threshold <- 0.05\n",
    "\n",
    "# Select genes that meet both fold change and adjusted p-value criteria\n",
    "significant_filtered_genes <- filtered_de_results[\n",
    "  abs(filtered_de_results$logFC) > fold_change_threshold &\n",
    "  filtered_de_results$adj.P.Val < adjusted_pvalue_threshold,\n",
    "]\n",
    "dim(significant_filtered_genes)"
   ]
  },
  {
   "cell_type": "code",
   "execution_count": null,
   "id": "fc47f1b7-d020-4033-acb4-2408456003b8",
   "metadata": {},
   "outputs": [],
   "source": [
    "filtered_lookup <- rownames(significant_filtered_genes)\n",
    "significant_filtered_expression <- filtered_dge[filtered_lookup,]"
   ]
  },
  {
   "cell_type": "code",
   "execution_count": null,
   "id": "27af11e3-8745-4cf4-b1d0-5cc32502268f",
   "metadata": {},
   "outputs": [],
   "source": [
    "significant_filtered_out <- pheatmap(significant_filtered_expression, \n",
    "                            cluster_rows5=TRUE, \n",
    "                            show_rownames=FALSE,\n",
    "                            cluster_cols=TRUE, \n",
    "                            annotation_col=df, \n",
    "                            scale=\"row\",\n",
    "                            clustering_method = \"ward.D2\",\n",
    "                            clustering_distance_cols = \"minkowski\", \n",
    "                            clustering_distance_rows = \"minkowski\" )\n"
   ]
  },
  {
   "cell_type": "code",
   "execution_count": null,
   "id": "58e5f03a-9279-4b58-ada9-e7b189fa2f61",
   "metadata": {},
   "outputs": [],
   "source": [
    "# weighting \n",
    "v <- voom(filtered_dge, plot=TRUE, normalize=\"quantile\")"
   ]
  },
  {
   "cell_type": "code",
   "execution_count": null,
   "id": "a1d9a72d-a31f-4fd8-aa1d-846a151c0fcc",
   "metadata": {},
   "outputs": [],
   "source": [
    "vwts <- voomWithQualityWeights(filtered_dge, design=design, normalize.method=\"quantile\", plot=TRUE)"
   ]
  },
  {
   "cell_type": "code",
   "execution_count": null,
   "id": "5b3b6e0d-778a-4b39-8852-5e84a107f1a4",
   "metadata": {},
   "outputs": [],
   "source": [
    "vwtsfit <- lmFit(vwts, design, weights = vwts$weights )\n",
    "# no other weighting at this time.\n",
    " #* c(1.0,1.0,1.0,1.0,1.0,1.0,1.0,1.0))\n"
   ]
  },
  {
   "cell_type": "code",
   "execution_count": null,
   "id": "93131a9e-fc04-4c4f-9a6b-c9adcf17f032",
   "metadata": {},
   "outputs": [],
   "source": [
    "summary(vwtsfit)"
   ]
  },
  {
   "cell_type": "code",
   "execution_count": null,
   "id": "325afc7c-bd49-4078-92f7-4669a0cc22da",
   "metadata": {},
   "outputs": [],
   "source": [
    "vwtsfit <- eBayes (vwtsfit)\n",
    "vwtsfit <- treat(vwtsfit, lfc=log2(1.2))\n",
    "topTreat(vwtsfit, coef=ncol(design),sort.by=\"logFC\")"
   ]
  },
  {
   "cell_type": "code",
   "execution_count": null,
   "id": "50cc013f-cc15-4eb1-a7ef-db1f1e8065e8",
   "metadata": {},
   "outputs": [],
   "source": [
    "de_vwts_results <- topTreat(vwtsfit, coef=ncol(design), n=Inf, sort.by=\"logFC\")"
   ]
  },
  {
   "cell_type": "code",
   "execution_count": null,
   "id": "a0da4b38-769f-4965-90bb-d3271729c4d8",
   "metadata": {},
   "outputs": [],
   "source": [
    "sum(de_vwts_results[,\"logFC\"] >= 1.5)\n",
    "sum(de_vwts_results[,\"logFC\"] >= 2.0)\n",
    "sum(de_vwts_results[,\"logFC\"] >= 4.0)\n",
    "sum(de_vwts_results[,\"logFC\"] >= 8.0)\n",
    "sum(de_vwts_results[,\"logFC\"] >= 9.0)"
   ]
  },
  {
   "cell_type": "code",
   "execution_count": null,
   "id": "18dad96e-fb53-490b-9f8c-f39fbd70552f",
   "metadata": {},
   "outputs": [],
   "source": [
    "# Assuming you have the 'de_results' object from topTable\n",
    "fold_change_threshold <- 9\n",
    "adjusted_pvalue_threshold <- 0.05\n",
    "\n",
    "# Select genes that meet both fold change and adjusted p-value criteria\n",
    "significant_genes <- de_vwts_results[\n",
    "  abs(de_vwts_results$logFC) > fold_change_threshold &\n",
    "  de_vwts_results$adj.P.Val < adjusted_pvalue_threshold,\n",
    "]\n"
   ]
  },
  {
   "cell_type": "code",
   "execution_count": null,
   "id": "48454ac2-159f-41b9-aa98-6f812dc726a5",
   "metadata": {},
   "outputs": [],
   "source": [
    "dim(significant_genes)"
   ]
  },
  {
   "cell_type": "code",
   "execution_count": null,
   "id": "9858352f-cc2e-4c5f-8346-bf20f95e310d",
   "metadata": {},
   "outputs": [],
   "source": [
    "transformed_expression <- vwts$E"
   ]
  },
  {
   "cell_type": "code",
   "execution_count": null,
   "id": "9ca6a13b-dbe7-41d5-8d80-b430a597f1fa",
   "metadata": {},
   "outputs": [],
   "source": [
    "dim(transformed_expression)"
   ]
  },
  {
   "cell_type": "code",
   "execution_count": null,
   "id": "8884eee5-03f1-409c-a25c-8001c9390c83",
   "metadata": {},
   "outputs": [],
   "source": [
    "significant_transformed_expression <- transformed_expression[rownames(significant_genes),]\n",
    "dim(significant_transformed_expression)"
   ]
  },
  {
   "cell_type": "code",
   "execution_count": null,
   "id": "96f2b735-a3f7-4ffa-a06b-eedce7b517fd",
   "metadata": {},
   "outputs": [],
   "source": [
    "featureData[head(rownames(significant_transformed_expression),5),2]"
   ]
  },
  {
   "cell_type": "code",
   "execution_count": null,
   "id": "f1ad712a-0b45-491e-a7a3-a1d3ee00cf0b",
   "metadata": {},
   "outputs": [],
   "source": [
    "string_gene_list <- as.matrix(featureData[rownames(significant_genes),2])\n",
    "length(string_gene_list)\n",
    "#string_gene_list"
   ]
  },
  {
   "cell_type": "code",
   "execution_count": null,
   "id": "db718651-37df-4098-81a9-fd45c9980e5b",
   "metadata": {},
   "outputs": [],
   "source": [
    "top_significant_genes <- dge[rownames(significant_genes),]"
   ]
  },
  {
   "cell_type": "code",
   "execution_count": null,
   "id": "f9405aef-5e48-4fe6-96ca-8b5970f5aff6",
   "metadata": {},
   "outputs": [],
   "source": [
    "dim(top_significant_genes)"
   ]
  },
  {
   "cell_type": "code",
   "execution_count": null,
   "id": "f3575f36-24a1-4a0f-84b2-a74faaae20ea",
   "metadata": {},
   "outputs": [],
   "source": [
    "head(top_significant_genes,5)\n",
    "featureData[rownames(head(top_significant_genes,5)),2]"
   ]
  },
  {
   "cell_type": "code",
   "execution_count": null,
   "id": "37bc9e10-e282-48ff-9dc5-887a0c327118",
   "metadata": {},
   "outputs": [],
   "source": [
    "head(vwts,5)"
   ]
  },
  {
   "cell_type": "code",
   "execution_count": null,
   "id": "eef5585b-9f82-42d2-99db-a4bb620ec6f7",
   "metadata": {},
   "outputs": [],
   "source": [
    "library(\"pheatmap\")\n",
    "df <- as.data.frame(coldata[,c(\"condition\",\"patient\")])"
   ]
  },
  {
   "cell_type": "code",
   "execution_count": null,
   "id": "80c65d4d-8d62-4973-81db-7fcdb1a6618a",
   "metadata": {},
   "outputs": [],
   "source": [
    "out<-pheatmap(significant_transformed_expression, cluster_rows5=TRUE, show_rownames=FALSE,\n",
    "         cluster_cols=TRUE, annotation_col=df, scale=\"row\",clustering_distance_cols = \"minkowski\", clustering_distance_rows = \"minkowski\" )"
   ]
  },
  {
   "cell_type": "code",
   "execution_count": null,
   "id": "0c136b33-6a6e-45a0-bca2-c622ce2b5417",
   "metadata": {},
   "outputs": [],
   "source": [
    "head(top_genes_expression[out$tree_row$order,],3)"
   ]
  },
  {
   "cell_type": "code",
   "execution_count": null,
   "id": "fdeb66c9-ed4d-4e58-8ce0-9206895c26cc",
   "metadata": {
    "scrolled": true
   },
   "outputs": [],
   "source": [
    "top_genes_expression[out$tree_row$order[1:10],]"
   ]
  },
  {
   "cell_type": "code",
   "execution_count": null,
   "id": "6cfb9097-685a-4717-ac1a-ef0124c57e45",
   "metadata": {},
   "outputs": [],
   "source": [
    "start=1\n",
    "stop=441\n",
    "date=\"2023Aug28\"\n",
    "piece <-top_genes_expression[out$tree_row$order[start:stop],]\n",
    "fd <- data.frame(featureData[rownames(piece),])\n",
    "genejunction <- paste(featureData[rownames(piece),2],rownames(piece),sep=\".\")\n",
    "rownames(fd) <- genejunction\n",
    "rownames(piece) <- genejunction\n",
    "outpiece<-pheatmap(piece, cluster_rows5=TRUE, show_rownames=TRUE,\n",
    "         cluster_cols=TRUE, annotation_col=df, scale=\"row\",clustering_distance_cols = \"minkowski\", clustering_distance_rows = \"minkowski\" )\n",
    "piece_filename <- paste(paste(paste(paste(date,\"string_SE_gene_junction\",sep=\"_\"),start,sep=\"_\"),stop,sep=\"_\"),\"csv\",sep=\".\")\n",
    "piece_exp <- piece[,c(1,3,5,7,2,4,6,8)]\n",
    "colnames(piece_exp) <- colnames(piece[,c(1,3,5,7,2,4,6,8)])\n",
    "rownames(piece_exp) <- rownames(piece)\n",
    "string_filename <- paste(paste(paste(paste(date,\"string_SE_gene\",sep=\"_\"),start,sep=\"_\"),stop,sep=\"_\"),\"csv\",sep=\".\")\n",
    "piece_exp_filename <- paste(paste(paste(paste(date,\"SE_expression\",sep=\"_\"),start,sep=\"_\"),stop,sep=\"_\"),\"csv\",sep=\".\")\n",
    "write.csv(piece_exp$counts,piece_exp_filename,quote=FALSE)\n",
    "write.csv(rownames(piece),piece_filename,quote=FALSE,row.names=FALSE)\n",
    "write.csv(fd[,2],string_filename,quote=FALSE,row.names=FALSE)"
   ]
  },
  {
   "cell_type": "code",
   "execution_count": null,
   "id": "6dadebbc-c213-4300-b690-4c7a97107b94",
   "metadata": {},
   "outputs": [],
   "source": [
    "summary(out)"
   ]
  },
  {
   "cell_type": "code",
   "execution_count": null,
   "id": "1e67a836-307f-4bd6-b0cd-10b9552b3de0",
   "metadata": {},
   "outputs": [],
   "source": [
    "length(featureData[out$tree_row$order,2])"
   ]
  },
  {
   "cell_type": "code",
   "execution_count": null,
   "id": "3948f87d-4d0c-442a-b87f-1dd7f53a0efb",
   "metadata": {},
   "outputs": [],
   "source": [
    "save_pheatmap_pdf <- function(x, filename, width=7, height=7) {\n",
    "   stopifnot(!missing(x))\n",
    "   stopifnot(!missing(filename))\n",
    "   pdf(filename, width=width, height=height)\n",
    "   grid::grid.newpage()\n",
    "   grid::grid.draw(x$gtable)\n",
    "   dev.off()\n",
    "}\n",
    "save_pheatmap_pdf(out, \"top_genes_expression.pdf\")"
   ]
  },
  {
   "cell_type": "code",
   "execution_count": null,
   "id": "0a482bd3-45d8-44f0-ab78-975d35e1765b",
   "metadata": {},
   "outputs": [],
   "source": [
    "#Re-order original data (genes) to match ordering in heatmap (top-to-bottom)\n",
    "rn <- rownames(top_genes_expression[out$tree_row[[\"order\"]],])\n",
    "cn <- colnames(top_genes_expression[,out$tree_col[[\"order\"]]])"
   ]
  },
  {
   "cell_type": "code",
   "execution_count": null,
   "id": "2074d59a-238d-4813-9417-d4abd12b41cf",
   "metadata": {},
   "outputs": [],
   "source": [
    "#If you want something like gene-to-cluster assignment, you can 'cut' your row dendrogram into a pre-selected number of groups as follows:\n",
    "#8 groups\n",
    "clusters<- as.matrix(row_clusters<- sort(cutree(out$tree_row, k=6)),nrows=dim(top_genes_expression)[1],ncols=1)\n",
    "genes_in_clusters = featureData[rownames(clusters),2]\n",
    "genes_in_clusters.df <- data.frame(featureData[rownames(clusters),2], clusters)\n",
    "colnames(genes_in_clusters.df) <- c(\"geneSymbol\",\"cluster\")\n",
    "dim(genes_in_clusters.df)\n",
    "cluster_1_genes <- genes_in_clusters.df[genes_in_clusters.df$cluster == 1,]\n",
    "cluster_2_genes <- genes_in_clusters.df[genes_in_clusters.df$cluster == 2,]\n",
    "cluster_3_genes <- genes_in_clusters.df[genes_in_clusters.df$cluster == 3,]\n",
    "cluster_4_genes <- genes_in_clusters.df[genes_in_clusters.df$cluster == 4,]\n",
    "cluster_5_genes <- genes_in_clusters.df[genes_in_clusters.df$cluster == 5,]\n",
    "cluster_6_genes <- genes_in_clusters.df[genes_in_clusters.df$cluster == 6,]\n",
    "#cluster_7_genes <- genes_in_clusters.df[genes_in_clusters.df$cluster == 7,]\n",
    "write.csv(cluster_1_genes$geneSymbol,\"string_list_cluster_1.csv\",quote=FALSE,row.names=FALSE)\n",
    "write.csv(cluster_2_genes$geneSymbol,\"string_list_cluster_2.csv\",quote=FALSE,row.names=FALSE)\n",
    "write.csv(cluster_3_genes$geneSymbol,\"string_list_cluster_3.csv\",quote=FALSE,row.names=FALSE)\n",
    "write.csv(cluster_4_genes$geneSymbol,\"string_list_cluster_4.csv\",quote=FALSE,row.names=FALSE)\n",
    "write.csv(cluster_5_genes$geneSymbol,\"string_list_cluster_5.csv\",quote=FALSE,row.names=FALSE)\n",
    "write.csv(cluster_6_genes$geneSymbol,\"string_list_cluster_6.csv\",quote=FALSE,row.names=FALSE)\n",
    "#write.csv(cluster_7_genes$geneSymbol,\"string_list_cluster_7.csv\",quote=FALSE,row.names=FALSE)\n"
   ]
  },
  {
   "cell_type": "code",
   "execution_count": null,
   "id": "abfac5c3-f3d2-479d-8050-756aee020895",
   "metadata": {},
   "outputs": [],
   "source": [
    "#to understand the difference between AML and TAM, we will use contrasts"
   ]
  },
  {
   "cell_type": "code",
   "execution_count": null,
   "id": "a293fc78-6fed-4a94-a4fc-4c447b58f096",
   "metadata": {},
   "outputs": [],
   "source": [
    "fit2 <- eBayes(fit2)"
   ]
  },
  {
   "cell_type": "code",
   "execution_count": null,
   "id": "958c687d-4f03-4962-bbc9-b4a36606fc25",
   "metadata": {},
   "outputs": [],
   "source": [
    "topTable(fit2, adjust=\"BH\")"
   ]
  },
  {
   "cell_type": "code",
   "execution_count": null,
   "id": "e9f5cb77-1c9a-4a5d-bc6f-d1f9b26e642f",
   "metadata": {},
   "outputs": [],
   "source": [
    "de_results_fit2 <- topTable(fit2, adjust=\"BH\", n=Inf)\n",
    "dim(de_results_fit2)"
   ]
  },
  {
   "cell_type": "code",
   "execution_count": null,
   "id": "467906e9-d5d9-48f0-8a45-dbeb783a4de7",
   "metadata": {},
   "outputs": [],
   "source": [
    "results2 <- decideTests(fit2)"
   ]
  },
  {
   "cell_type": "markdown",
   "id": "06953d27-47e6-4a11-838d-5e4b810b7311",
   "metadata": {},
   "source": [
    "To permit the comparison and analysis of the group as distinguished by difference between the two conditions, TAM and AML, categorically, that is a means method.\n",
    "We do this using contrasts."
   ]
  },
  {
   "cell_type": "code",
   "execution_count": null,
   "id": "7ec5a6af-69f0-448f-8583-0786f1106ffe",
   "metadata": {},
   "outputs": [],
   "source": [
    "contrasts_fit_venn_counts <- vennCounts(results2)"
   ]
  },
  {
   "cell_type": "code",
   "execution_count": null,
   "id": "92ffda9b-4736-46aa-a404-6f088c86d8a1",
   "metadata": {},
   "outputs": [],
   "source": [
    "contrasts_fit_venn_counts"
   ]
  },
  {
   "cell_type": "code",
   "execution_count": null,
   "id": "9a9abf9f-5404-422b-939e-8c184a82bb04",
   "metadata": {},
   "outputs": [],
   "source": [
    "head(results2)"
   ]
  },
  {
   "cell_type": "code",
   "execution_count": null,
   "id": "9800a798-dda4-4248-9feb-05204ef8fe84",
   "metadata": {},
   "outputs": [],
   "source": [
    "head(de_results2)"
   ]
  },
  {
   "cell_type": "code",
   "execution_count": null,
   "id": "b10b921a-3668-4bea-ad89-878d26374128",
   "metadata": {},
   "outputs": [],
   "source": [
    "filtered_de_results2 <- de_results2[c((abs(de_results2[,c(\"AMLvsTAM\")]) > 1.5) |\n",
    "                        (abs(de_results2[,c(\"TAMvsAML\")]) > 1.5)),]"
   ]
  },
  {
   "cell_type": "code",
   "execution_count": null,
   "id": "310c8508-fd1e-44f1-9246-0a91f2572dd4",
   "metadata": {},
   "outputs": [],
   "source": [
    "filtered_de_results2"
   ]
  },
  {
   "cell_type": "code",
   "execution_count": null,
   "id": "5aa4a04c-4ccb-49c7-8658-8bcb75a1baa5",
   "metadata": {},
   "outputs": [],
   "source": []
  },
  {
   "cell_type": "code",
   "execution_count": null,
   "id": "54480680-ce55-429c-ae6d-e0e784ec47f5",
   "metadata": {},
   "outputs": [],
   "source": []
  },
  {
   "cell_type": "code",
   "execution_count": null,
   "id": "e5e25f5d-ac3d-4966-a3a6-422aa129c2da",
   "metadata": {},
   "outputs": [],
   "source": []
  }
 ],
 "metadata": {
  "kernelspec": {
   "display_name": "R",
   "language": "R",
   "name": "ir"
  },
  "language_info": {
   "codemirror_mode": "r",
   "file_extension": ".r",
   "mimetype": "text/x-r-source",
   "name": "R",
   "pygments_lexer": "r",
   "version": "4.3.1"
  }
 },
 "nbformat": 4,
 "nbformat_minor": 5
}
