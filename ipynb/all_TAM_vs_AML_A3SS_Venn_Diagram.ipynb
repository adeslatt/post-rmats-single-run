{
 "cells": [
  {
   "cell_type": "markdown",
   "id": "201bad75-d315-4f5a-9db6-e09752dfa557",
   "metadata": {},
   "source": [
    "Venn Diagram Gene Lists"
   ]
  },
  {
   "cell_type": "code",
   "execution_count": null,
   "id": "d7e88a09-7671-4be7-ba2f-04c88d24c87a",
   "metadata": {},
   "outputs": [],
   "source": [
    "# Load necessary libraries\n",
    "library(VennDiagram)\n",
    "library(dplyr)\n",
    "\n",
    "# Read the CSV files\n",
    "paired_preAML_paired_AML <- read.csv(\"2024July30_A3SS_paired_preAML_paired_AML_voom_vwts_string_top_gene_list_1_258.csv\", stringsAsFactors = FALSE)\n",
    "unpaired_preAML_paired_AML <- read.csv(\"2024July30_A3SS_unpaired_preAML_paired_AML_voom_string_top_gene_list_1_261.csv\", stringsAsFactors = FALSE)\n",
    "unpaired_noAML_paired_preAML <- read.csv(\"2024July30_A3SS_unpaired_noAML_paired_AML_voom_string_top_gene_list_1_284.csv\", stringsAsFactors = FALSE)\n",
    "\n",
    "head(paired_preAML_paired_AML,2)\n",
    "head(unpaired_preAML_paired_AML,2)\n",
    "head(unpaired_noAML_paired_AML,2)\n",
    "# Extract gene lists\n",
    "genes_paired_preAML_paired_AML <- paired_preAML_paired_AML$x\n",
    "genes_unpaired_preAML_paired_AML <- unpaired_preAML_paired_AML$x\n",
    "genes_unpaired_noAML_paired_AML <- unpaired_noAML_paired_AML$x\n",
    "\n",
    "head(genes_paired_preAML_paired_AML,2)\n",
    "head(genes_unpaired_preAML_paired_AML,2)\n",
    "head(genes_unpaired_noAML_paired_AML,2)"
   ]
  },
  {
   "cell_type": "code",
   "execution_count": null,
   "id": "c73cc6e9-3e1c-4742-ba75-233a3a75a95c",
   "metadata": {},
   "outputs": [],
   "source": [
    "\n",
    "# Create Venn diagram\n",
    "venn_plot <- venn.diagram(\n",
    "  x = gene_lists,\n",
    "  category.names = names(gene_lists),\n",
    "  filename = NULL,\n",
    "  output = TRUE,\n",
    "  fill = c(\"red\", \"blue\", \"green\"),\n",
    "  alpha = 0.5,\n",
    "  cex = 1.5,\n",
    "  cat.cex = 1.5,\n",
    "  main = \"Venn Diagram of Gene Intersections\"\n",
    ")\n",
    "\n",
    "# Save Venn diagram to PDF\n",
    "pdf(\"venn_diagram_genes.pdf\", width = 8, height = 8)\n",
    "grid.draw(venn_plot)\n",
    "dev.off()\n",
    "\n",
    "# Find intersections\n",
    "intersection_all <- Reduce(intersect, gene_lists)\n",
    "intersection_paired_unpaired_preAML <- intersect(genes_paired_preAML_paired_AML, genes_unpaired_preAML_paired_AML)\n",
    "intersection_paired_unpaired_noAML <- intersect(genes_paired_preAML_paired_AML, genes_unpaired_noAML_paired_AML)\n",
    "intersection_unpaired_preAML_noAML <- intersect(genes_unpaired_preAML_paired_noAML, genes_unpaired_noAML_paired_preAML)\n",
    "\n",
    "# Save intersections to CSV files\n",
    "write.csv(intersection_all, \"intersection_all.csv\", row.names = FALSE)\n",
    "write.csv(intersection_paired_unpaired_preAML, \"intersection_paired_unpaired_preAML.csv\", row.names = FALSE)\n",
    "write.csv(intersection_paired_unpaired_noAML, \"intersection_paired_unpaired_noAML.csv\", row.names = FALSE)\n",
    "write.csv(intersection_unpaired_preAML_noAML, \"intersection_unpaired_preAML_noAML.csv\", row.names = FALSE)\n",
    "\n",
    "# Print intersections\n",
    "cat(\"Genes in all three lists:\\n\")\n",
    "print(intersection_all)\n",
    "\n",
    "cat(\"\\nGenes in Paired preAML - Paired AML and Unpaired preAML - Paired AML:\\n\")\n",
    "print(intersection_paired_unpaired_preAML)\n",
    "\n",
    "cat(\"\\nGenes in Paired preAML - Paired AML and Unpaired noAML - Paired AML:\\n\")\n",
    "print(intersection_paired_unpaired_noAML)\n",
    "\n",
    "cat(\"\\nGenes in Unpaired preAML - Paired AML and Unpaired noAML - Paired AML:\\n\")\n",
    "print(intersection_unpaired_preAML_noAML)\n"
   ]
  }
 ],
 "metadata": {
  "kernelspec": {
   "display_name": "R",
   "language": "R",
   "name": "ir"
  },
  "language_info": {
   "codemirror_mode": "r",
   "file_extension": ".r",
   "mimetype": "text/x-r-source",
   "name": "R",
   "pygments_lexer": "r",
   "version": "4.3.3"
  }
 },
 "nbformat": 4,
 "nbformat_minor": 5
}
