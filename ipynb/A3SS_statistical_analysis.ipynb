{
 "cells": [
  {
   "cell_type": "markdown",
   "id": "b3a928c3-d88a-4600-8037-e17fa8823bfd",
   "metadata": {},
   "source": [
    "# A3SS Statistical Analysis \n",
    "\n",
    "## 1. Load Libraries\n",
    "\n",
    "## 2. Read Data\n",
    "\n",
    "* Read unpaired_final_matrix.csv\n",
    "* Read paired_final_matrix.csv\n",
    "\n",
    "## 3. Data Transformation\n",
    "\n",
    "* Convert paired and unpaired data to long format\n",
    "* Calculate mean expressions\n",
    "* Calculate slopes for paired and unpaired data\n",
    "* Combine slope data for consistent and opposite analysis\n",
    "\n",
    "## 4. Statistical Tests\n",
    "\n",
    "* Perform Fisher's Exact Test for consistent slopes\n",
    "* Perform Fisher's Exact Test for opposite slopes\n",
    "\n",
    "## 5. Output Results\n",
    "\n",
    "* Save cluster gene symbols to CSV files"
   ]
  },
  {
   "cell_type": "code",
   "execution_count": 1,
   "id": "eb7c9523-feae-4e36-8799-e9ec2a18c8a7",
   "metadata": {},
   "outputs": [
    {
     "data": {
      "text/html": [
       "'/Users/annedeslattesmays/Scitechcon Dropbox/Anne DeslattesMays/projects/post-rmats-single-run/ipynb'"
      ],
      "text/latex": [
       "'/Users/annedeslattesmays/Scitechcon Dropbox/Anne DeslattesMays/projects/post-rmats-single-run/ipynb'"
      ],
      "text/markdown": [
       "'/Users/annedeslattesmays/Scitechcon Dropbox/Anne DeslattesMays/projects/post-rmats-single-run/ipynb'"
      ],
      "text/plain": [
       "[1] \"/Users/annedeslattesmays/Scitechcon Dropbox/Anne DeslattesMays/projects/post-rmats-single-run/ipynb\""
      ]
     },
     "metadata": {},
     "output_type": "display_data"
    }
   ],
   "source": [
    "getwd()"
   ]
  },
  {
   "cell_type": "code",
   "execution_count": 2,
   "id": "f9395364-7fbc-4768-a0bc-711d4411f242",
   "metadata": {},
   "outputs": [],
   "source": [
    "setwd(\"/Users/annedeslattesmays/Scitechcon\\ Dropbox/Anne\\ DeslattesMays/projects/post-rmats-single-run/TAM.AML.all/A3SS_calculate\")"
   ]
  },
  {
   "cell_type": "code",
   "execution_count": 3,
   "id": "01292f09-0369-4bfc-b9ba-b74831015962",
   "metadata": {},
   "outputs": [
    {
     "name": "stderr",
     "output_type": "stream",
     "text": [
      "\n",
      "Attaching package: ‘dplyr’\n",
      "\n",
      "\n",
      "The following objects are masked from ‘package:stats’:\n",
      "\n",
      "    filter, lag\n",
      "\n",
      "\n",
      "The following objects are masked from ‘package:base’:\n",
      "\n",
      "    intersect, setdiff, setequal, union\n",
      "\n",
      "\n",
      "\n",
      "Attaching package: ‘reshape2’\n",
      "\n",
      "\n",
      "The following object is masked from ‘package:tidyr’:\n",
      "\n",
      "    smiths\n",
      "\n",
      "\n",
      "Using poppler version 24.04.0\n",
      "\n",
      "\n",
      "Attaching package: ‘gridExtra’\n",
      "\n",
      "\n",
      "The following object is masked from ‘package:dplyr’:\n",
      "\n",
      "    combine\n",
      "\n",
      "\n"
     ]
    },
    {
     "ename": "ERROR",
     "evalue": "\u001b[1m\u001b[33mError\u001b[39m in `mutate()`:\u001b[22m\n\u001b[1m\u001b[22m\u001b[36mℹ\u001b[39m In argument: `Paired_Slope = AML - preAML`.\n\u001b[1mCaused by error:\u001b[22m\n\u001b[33m!\u001b[39m object 'AML' not found\n",
     "output_type": "error",
     "traceback": [
      "\u001b[1m\u001b[33mError\u001b[39m in `mutate()`:\u001b[22m\n\u001b[1m\u001b[22m\u001b[36mℹ\u001b[39m In argument: `Paired_Slope = AML - preAML`.\n\u001b[1mCaused by error:\u001b[22m\n\u001b[33m!\u001b[39m object 'AML' not found\nTraceback:\n",
      "1. paired_data_long %>% filter(State %in% c(\"preAML\", \"AML\")) %>% \n .     group_by(X, State) %>% summarise(Mean = mean(Expression), \n .     .groups = \"drop\") %>% pivot_wider(names_from = State, values_from = Mean) %>% \n .     mutate(Paired_Slope = AML - preAML)",
      "2. mutate(., Paired_Slope = AML - preAML)",
      "3. mutate.data.frame(., Paired_Slope = AML - preAML)",
      "4. mutate_cols(.data, dplyr_quosures(...), by)",
      "5. withCallingHandlers(for (i in seq_along(dots)) {\n .     poke_error_context(dots, i, mask = mask)\n .     context_poke(\"column\", old_current_column)\n .     new_columns <- mutate_col(dots[[i]], data, mask, new_columns)\n . }, error = dplyr_error_handler(dots = dots, mask = mask, bullets = mutate_bullets, \n .     error_call = error_call, error_class = \"dplyr:::mutate_error\"), \n .     warning = dplyr_warning_handler(state = warnings_state, mask = mask, \n .         error_call = error_call))",
      "6. mutate_col(dots[[i]], data, mask, new_columns)",
      "7. mask$eval_all_mutate(quo)",
      "8. eval()",
      "9. .handleSimpleError(function (cnd) \n . {\n .     local_error_context(dots, i = frame[[i_sym]], mask = mask)\n .     if (inherits(cnd, \"dplyr:::internal_error\")) {\n .         parent <- error_cnd(message = bullets(cnd))\n .     }\n .     else {\n .         parent <- cnd\n .     }\n .     message <- c(cnd_bullet_header(action), i = if (has_active_group_context(mask)) cnd_bullet_cur_group_label())\n .     abort(message, class = error_class, parent = parent, call = error_call)\n . }, \"object 'AML' not found\", base::quote(NULL))",
      "10. h(simpleError(msg, call))",
      "11. abort(message, class = error_class, parent = parent, call = error_call)",
      "12. signal_abort(cnd, .file)"
     ]
    }
   ],
   "source": [
    "# Load necessary libraries\n",
    "library(dplyr)\n",
    "library(tidyr)\n",
    "library(reshape2)\n",
    "library(ggplot2)\n",
    "library(pdftools)\n",
    "library(gridExtra)\n",
    "\n",
    "# Read the datasets\n",
    "unpaired_data <- read.csv(\"unpaired_final_matrix.csv\", stringsAsFactors = FALSE)\n",
    "paired_data <- read.csv(\"paired_final_matrix.csv\", stringsAsFactors = FALSE)\n",
    "\n",
    "# Transform paired data to long format\n",
    "paired_data_long <- paired_data %>%\n",
    "  pivot_longer(cols = -X, names_to = \"State\", values_to = \"Expression\")\n",
    "\n",
    "# Calculate mean expression for paired data\n",
    "mean_AML_paired <- paired_data_long %>%\n",
    "  filter(State == \"AML\") %>%\n",
    "  group_by(X) %>%\n",
    "  summarise(mean_AML = mean(Expression), .groups = 'drop')\n",
    "\n",
    "# Calculate slopes for paired data\n",
    "paired_slopes <- paired_data_long %>%\n",
    "  filter(State %in% c(\"preAML\", \"AML\")) %>%\n",
    "  group_by(X, State) %>%\n",
    "  summarise(Mean = mean(Expression), .groups = 'drop') %>%\n",
    "  pivot_wider(names_from = State, values_from = Mean) %>%\n",
    "  mutate(Paired_Slope = AML - preAML)\n",
    "\n",
    "# Transform unpaired data to long format\n",
    "unpaired_data_long <- unpaired_data %>%\n",
    "  pivot_longer(cols = -X, names_to = \"State\", values_to = \"Expression\")\n",
    "\n",
    "# Calculate slopes for unpaired data using mean_AML from paired data\n",
    "unpaired_slopes <- unpaired_data_long %>%\n",
    "  filter(State %in% c(\"preAML\", \"noAML\")) %>%\n",
    "  group_by(X, State) %>%\n",
    "  summarise(Mean = mean(Expression), .groups = 'drop') %>%\n",
    "  pivot_wider(names_from = State, values_from = Mean) %>%\n",
    "  left_join(mean_AML_paired, by = \"X\") %>%\n",
    "  mutate(Unpaired_Slope_preAML = mean_AML - preAML,\n",
    "         Unpaired_Slope_noAML = mean_AML - noAML)\n",
    "\n",
    "# Combine slopes data\n",
    "slope_data_consistent <- paired_slopes %>%\n",
    "  left_join(unpaired_slopes %>% select(X, Unpaired_Slope_preAML), by = \"X\") %>%\n",
    "  filter(!is.na(Paired_Slope) & !is.na(Unpaired_Slope_preAML)) %>%\n",
    "  mutate(Consistent = sign(Paired_Slope) == sign(Unpaired_Slope_preAML))\n",
    "\n",
    "slope_data_opposite <- paired_slopes %>%\n",
    "  left_join(unpaired_slopes %>% select(X, Unpaired_Slope_noAML), by = \"X\") %>%\n",
    "  filter(!is.na(Paired_Slope) & !is.na(Unpaired_Slope_noAML)) %>%\n",
    "  mutate(Opposite = sign(Paired_Slope) != sign(Unpaired_Slope_noAML))\n",
    "\n",
    "\n"
   ]
  },
  {
   "cell_type": "code",
   "execution_count": null,
   "id": "ddfb530b-8eae-4784-a4d9-7172c20f4789",
   "metadata": {},
   "outputs": [],
   "source": [
    "# Perform Fisher's Exact Test for consistent\n",
    "consistent_table <- table(slope_data_consistent$Consistent)\n",
    "if (length(consistent_table) == 2) {\n",
    "  fisher_test_consistent <- fisher.test(matrix(consistent_table, ncol = 2))\n",
    "} else {\n",
    "  fisher_test_consistent <- NULL\n",
    "  cat(\"Not enough data for Fisher's Exact Test on consistent slopes.\\n\")\n",
    "}\n",
    "\n",
    "# Perform Fisher's Exact Test for opposite\n",
    "opposite_table <- table(slope_data_opposite$Opposite)\n",
    "if (length(opposite_table) == 2) {\n",
    "  fisher_test_opposite <- fisher.test(matrix(opposite_table, ncol = 2))\n",
    "} else {\n",
    "  fisher_test_opposite <- NULL\n",
    "  cat(\"Not enough data for Fisher's Exact Test on opposite slopes.\\n\")\n",
    "}\n"
   ]
  },
  {
   "cell_type": "code",
   "execution_count": null,
   "id": "c836369c-d489-4ead-878f-6b6996209909",
   "metadata": {},
   "outputs": [],
   "source": []
  }
 ],
 "metadata": {
  "kernelspec": {
   "display_name": "R",
   "language": "R",
   "name": "ir"
  },
  "language_info": {
   "codemirror_mode": "r",
   "file_extension": ".r",
   "mimetype": "text/x-r-source",
   "name": "R",
   "pygments_lexer": "r",
   "version": "4.3.3"
  }
 },
 "nbformat": 4,
 "nbformat_minor": 5
}
