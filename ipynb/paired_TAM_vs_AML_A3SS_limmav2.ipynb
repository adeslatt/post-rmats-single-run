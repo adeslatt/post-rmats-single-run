{
 "cells": [
  {
   "cell_type": "markdown",
   "id": "17cdd25f-23a9-4971-92c3-08278aee5375",
   "metadata": {},
   "source": [
    "Paired TAM (transcient abnormal myleoproliferation) vs AML (acute myeloid leukemia) analysis of patients with the co-occuring condition of Down Syndrome using DESeq2 on IJC counts obtained from rMATS analysis.\n",
    "\n",
    "Using a matrix constructed from Kids First Workflow V4 done on single runs, a series of scripts were created and are stored in this repository.  For each of the splicing types, all the runs considered for analysis are pooled and normalized to have a non-redundant set of splicing events.  A matrix is then constructed for each of the samples to be analyzed.  \n",
    "\n",
    "Each splicing type has a bed file for visualizaiton in UCSC Genome browser of all the events, as well as created a matrix of the single runs normalized to the non-redundant union of files.  Both the source and the normalized bed file are available to ensure interprebility of results. \n",
    "\n",
    "Using associative arrays in an awk script, it was a rapid way to transform the individual counts from each of the individual runs into a matrix that facilitated analysis.\n",
    "\n",
    "Using annotations obtained from the rMATS run that provided the coordinates of each of the splicing events as well as the gene that the junctions came from and the count of the reads that overlapped the junctions.   \n",
    " \n",
    "Limma in this notebook is used to perform analysis of these junction counts provided by the rMATS routine.  Using these counts as junction expression.\n",
    "\n",
    "Between the splicing event differences and the expression differences, between paired samples, biological functional differences may be obtained."
   ]
  },
  {
   "cell_type": "code",
   "execution_count": 1,
   "id": "7a0a13bb-f7d2-48b3-8308-fef6b197843b",
   "metadata": {},
   "outputs": [
    {
     "name": "stderr",
     "output_type": "stream",
     "text": [
      "Bioconductor version '3.18' is out-of-date; the current release version '3.19'\n",
      "  is available with R version '4.4'; see https://bioconductor.org/install\n",
      "\n"
     ]
    }
   ],
   "source": [
    "if (!require(\"BiocManager\", quietly = TRUE))\n",
    "    install.packages(\"BiocManager\", repos = \"https://cloud.r-project.org\")\n"
   ]
  },
  {
   "cell_type": "code",
   "execution_count": 2,
   "id": "2f04c3be-ecdb-4ecd-ad96-cd99b30c64b4",
   "metadata": {},
   "outputs": [
    {
     "name": "stderr",
     "output_type": "stream",
     "text": [
      "'getOption(\"repos\")' replaces Bioconductor standard repositories, see\n",
      "'help(\"repositories\", package = \"BiocManager\")' for details.\n",
      "Replacement repositories:\n",
      "    CRAN: https://cran.r-project.org\n",
      "\n",
      "Bioconductor version 3.18 (BiocManager 1.30.22), R 4.3.3 (2024-02-29)\n",
      "\n",
      "Warning message:\n",
      "“package(s) not installed when version(s) same as or greater than current; use\n",
      "  `force = TRUE` to re-install: 'dplyr'”\n",
      "Old packages: 'abind', 'bbmle', 'BH', 'BiocManager', 'bitops', 'bslib',\n",
      "  'cachem', 'caTools', 'cli', 'coda', 'codetools', 'colorspace', 'cpp11',\n",
      "  'crayon', 'crosstalk', 'curl', 'data.table', 'DESeq2', 'digest', 'e1071',\n",
      "  'edgeR', 'evaluate', 'farver', 'fastDummies', 'fastmap', 'fitdistrplus',\n",
      "  'future', 'GenomeInfoDb', 'ggplot2', 'ggrepel', 'gtable', 'highr',\n",
      "  'htmlwidgets', 'kernlab', 'KernSmooth', 'knitr', 'lifecycle', 'locfit',\n",
      "  'matrixStats', 'munsell', 'mvtnorm', 'nlme', 'openssl', 'parallelly',\n",
      "  'patchwork', 'pbdZMQ', 'plotly', 'polyclip', 'RANN', 'Rcpp', 'RcppArmadillo',\n",
      "  'RcppEigen', 'RcppSpdlog', 'RCurl', 'repr', 'reticulate', 'rlang',\n",
      "  'rmarkdown', 'RSpectra', 'S4Arrays', 'scales', 'segmented', 'shiny',\n",
      "  'SparseArray', 'spatstat.explore', 'spatstat.geom', 'spatstat.random',\n",
      "  'spatstat.utils', 'stringi', 'stringr', 'survival', 'tidyselect', 'tinytex',\n",
      "  'uuid', 'withr', 'xfun', 'yaml', 'zlibbioc'\n",
      "\n"
     ]
    }
   ],
   "source": [
    "BiocManager::install(\"dplyr\")"
   ]
  },
  {
   "cell_type": "code",
   "execution_count": 4,
   "id": "6a5693e5-7f52-4651-a30c-2ba5a1899cd2",
   "metadata": {},
   "outputs": [],
   "source": [
    "library(Glimma)\n",
    "library(dplyr)\n",
    "library(edgeR)"
   ]
  },
  {
   "cell_type": "code",
   "execution_count": 6,
   "id": "9efb6cf3-4204-44df-906a-aa961bdcb948",
   "metadata": {},
   "outputs": [],
   "source": [
    "setwd(\"/Users/annedeslattesmays/Scitechcon Dropbox/Anne DeslattesMays/projects/post-rmats-single-run/paired.TAM.AMLv2/A3SS_calculate\")\n"
   ]
  },
  {
   "cell_type": "code",
   "execution_count": 7,
   "id": "ebbacdca-4a2c-49fb-bddd-d8f8ae75c06c",
   "metadata": {},
   "outputs": [
    {
     "data": {
      "text/html": [
       "'/Users/annedeslattesmays/Scitechcon Dropbox/Anne DeslattesMays/projects/post-rmats-single-run/paired.TAM.AMLv2/A3SS_calculate'"
      ],
      "text/latex": [
       "'/Users/annedeslattesmays/Scitechcon Dropbox/Anne DeslattesMays/projects/post-rmats-single-run/paired.TAM.AMLv2/A3SS\\_calculate'"
      ],
      "text/markdown": [
       "'/Users/annedeslattesmays/Scitechcon Dropbox/Anne DeslattesMays/projects/post-rmats-single-run/paired.TAM.AMLv2/A3SS_calculate'"
      ],
      "text/plain": [
       "[1] \"/Users/annedeslattesmays/Scitechcon Dropbox/Anne DeslattesMays/projects/post-rmats-single-run/paired.TAM.AMLv2/A3SS_calculate\""
      ]
     },
     "metadata": {},
     "output_type": "display_data"
    }
   ],
   "source": [
    "getwd()\n"
   ]
  },
  {
   "cell_type": "code",
   "execution_count": 8,
   "id": "48a148e7-6e39-4f98-a6e8-064ba01cec41",
   "metadata": {},
   "outputs": [],
   "source": [
    "cts <- as.matrix(read.csv(\"A3SS.IJC.w.coordinates.matrix.csv\",sep=\",\",row.names=\"ID\"))"
   ]
  },
  {
   "cell_type": "code",
   "execution_count": 9,
   "id": "4815f6ea-bb3f-40ee-ad49-91199f8be66b",
   "metadata": {},
   "outputs": [
    {
     "data": {
      "text/html": [
       "<table class=\"dataframe\">\n",
       "<caption>A matrix: 3 × 10 of type chr</caption>\n",
       "<thead>\n",
       "\t<tr><th></th><th scope=col>PAUVKY.03A</th><th scope=col>PAUVKY.40A</th><th scope=col>PAWHSD.03A</th><th scope=col>PAWHSD.40A</th><th scope=col>PAWSNZ.03A</th><th scope=col>PAWSNZ.40A</th><th scope=col>X_1_PAUTLA.03A</th><th scope=col>X_1_PAUTLA.40A</th><th scope=col>X_1_PAVUDU.03A</th><th scope=col>X_1_PAVUDU.40A</th></tr>\n",
       "</thead>\n",
       "<tbody>\n",
       "\t<tr><th scope=row>1</th><td>    0</td><td>  151</td><td>    0</td><td>   0</td><td>    0</td><td>    0</td><td>    0</td><td>    0</td><td>    0</td><td>    0</td></tr>\n",
       "\t<tr><th scope=row>2</th><td>   36</td><td>   46</td><td>   21</td><td>  10</td><td>   83</td><td>   45</td><td>   50</td><td>   52</td><td>   41</td><td>   69</td></tr>\n",
       "\t<tr><th scope=row>3</th><td>    0</td><td>    0</td><td>   22</td><td>   0</td><td>    0</td><td>    0</td><td>   50</td><td>    0</td><td>    0</td><td>    0</td></tr>\n",
       "</tbody>\n",
       "</table>\n"
      ],
      "text/latex": [
       "A matrix: 3 × 10 of type chr\n",
       "\\begin{tabular}{r|llllllllll}\n",
       "  & PAUVKY.03A & PAUVKY.40A & PAWHSD.03A & PAWHSD.40A & PAWSNZ.03A & PAWSNZ.40A & X\\_1\\_PAUTLA.03A & X\\_1\\_PAUTLA.40A & X\\_1\\_PAVUDU.03A & X\\_1\\_PAVUDU.40A\\\\\n",
       "\\hline\n",
       "\t1 &     0 &   151 &     0 &    0 &     0 &     0 &     0 &     0 &     0 &     0\\\\\n",
       "\t2 &    36 &    46 &    21 &   10 &    83 &    45 &    50 &    52 &    41 &    69\\\\\n",
       "\t3 &     0 &     0 &    22 &    0 &     0 &     0 &    50 &     0 &     0 &     0\\\\\n",
       "\\end{tabular}\n"
      ],
      "text/markdown": [
       "\n",
       "A matrix: 3 × 10 of type chr\n",
       "\n",
       "| <!--/--> | PAUVKY.03A | PAUVKY.40A | PAWHSD.03A | PAWHSD.40A | PAWSNZ.03A | PAWSNZ.40A | X_1_PAUTLA.03A | X_1_PAUTLA.40A | X_1_PAVUDU.03A | X_1_PAVUDU.40A |\n",
       "|---|---|---|---|---|---|---|---|---|---|---|\n",
       "| 1 |     0 |   151 |     0 |    0 |     0 |     0 |     0 |     0 |     0 |     0 |\n",
       "| 2 |    36 |    46 |    21 |   10 |    83 |    45 |    50 |    52 |    41 |    69 |\n",
       "| 3 |     0 |     0 |    22 |    0 |     0 |     0 |    50 |     0 |     0 |     0 |\n",
       "\n"
      ],
      "text/plain": [
       "  PAUVKY.03A PAUVKY.40A PAWHSD.03A PAWHSD.40A PAWSNZ.03A PAWSNZ.40A\n",
       "1     0        151          0         0           0          0     \n",
       "2    36         46         21        10          83         45     \n",
       "3     0          0         22         0           0          0     \n",
       "  X_1_PAUTLA.03A X_1_PAUTLA.40A X_1_PAVUDU.03A X_1_PAVUDU.40A\n",
       "1     0              0              0              0         \n",
       "2    50             52             41             69         \n",
       "3    50              0              0              0         "
      ]
     },
     "metadata": {},
     "output_type": "display_data"
    }
   ],
   "source": [
    "cts[1:3,11:dim(cts)[2]]"
   ]
  },
  {
   "cell_type": "code",
   "execution_count": 10,
   "id": "f5c4a633-56a5-44c6-8c01-0dc196e12eb9",
   "metadata": {},
   "outputs": [
    {
     "data": {
      "text/html": [
       "<table class=\"dataframe\">\n",
       "<caption>A data.frame: 3 × 10</caption>\n",
       "<thead>\n",
       "\t<tr><th></th><th scope=col>GeneID</th><th scope=col>geneSymbol</th><th scope=col>chr</th><th scope=col>strand</th><th scope=col>exonStart_0base</th><th scope=col>exonEnd</th><th scope=col>upstreamES</th><th scope=col>upstreamEE</th><th scope=col>downstreamES</th><th scope=col>downstreamEE</th></tr>\n",
       "\t<tr><th></th><th scope=col>&lt;chr&gt;</th><th scope=col>&lt;chr&gt;</th><th scope=col>&lt;chr&gt;</th><th scope=col>&lt;chr&gt;</th><th scope=col>&lt;chr&gt;</th><th scope=col>&lt;chr&gt;</th><th scope=col>&lt;chr&gt;</th><th scope=col>&lt;chr&gt;</th><th scope=col>&lt;chr&gt;</th><th scope=col>&lt;chr&gt;</th></tr>\n",
       "</thead>\n",
       "<tbody>\n",
       "\t<tr><th scope=row>1</th><td>ENSG00000283761.1 </td><td>ENSG00000283761</td><td>chr1</td><td>+</td><td>100078450</td><td>100080659</td><td>100080495</td><td>100080659</td><td>100077164</td><td>100077277</td></tr>\n",
       "\t<tr><th scope=row>2</th><td>ENSG00000137996.13</td><td>RTCA           </td><td>chr1</td><td>+</td><td>100268073</td><td>100268295</td><td>100268151</td><td>100268295</td><td>100266523</td><td>100266624</td></tr>\n",
       "\t<tr><th scope=row>3</th><td>ENSG00000137996.13</td><td>RTCA           </td><td>chr1</td><td>+</td><td>100268073</td><td>100268295</td><td>100268151</td><td>100268295</td><td>100267165</td><td>100267245</td></tr>\n",
       "</tbody>\n",
       "</table>\n"
      ],
      "text/latex": [
       "A data.frame: 3 × 10\n",
       "\\begin{tabular}{r|llllllllll}\n",
       "  & GeneID & geneSymbol & chr & strand & exonStart\\_0base & exonEnd & upstreamES & upstreamEE & downstreamES & downstreamEE\\\\\n",
       "  & <chr> & <chr> & <chr> & <chr> & <chr> & <chr> & <chr> & <chr> & <chr> & <chr>\\\\\n",
       "\\hline\n",
       "\t1 & ENSG00000283761.1  & ENSG00000283761 & chr1 & + & 100078450 & 100080659 & 100080495 & 100080659 & 100077164 & 100077277\\\\\n",
       "\t2 & ENSG00000137996.13 & RTCA            & chr1 & + & 100268073 & 100268295 & 100268151 & 100268295 & 100266523 & 100266624\\\\\n",
       "\t3 & ENSG00000137996.13 & RTCA            & chr1 & + & 100268073 & 100268295 & 100268151 & 100268295 & 100267165 & 100267245\\\\\n",
       "\\end{tabular}\n"
      ],
      "text/markdown": [
       "\n",
       "A data.frame: 3 × 10\n",
       "\n",
       "| <!--/--> | GeneID &lt;chr&gt; | geneSymbol &lt;chr&gt; | chr &lt;chr&gt; | strand &lt;chr&gt; | exonStart_0base &lt;chr&gt; | exonEnd &lt;chr&gt; | upstreamES &lt;chr&gt; | upstreamEE &lt;chr&gt; | downstreamES &lt;chr&gt; | downstreamEE &lt;chr&gt; |\n",
       "|---|---|---|---|---|---|---|---|---|---|---|\n",
       "| 1 | ENSG00000283761.1  | ENSG00000283761 | chr1 | + | 100078450 | 100080659 | 100080495 | 100080659 | 100077164 | 100077277 |\n",
       "| 2 | ENSG00000137996.13 | RTCA            | chr1 | + | 100268073 | 100268295 | 100268151 | 100268295 | 100266523 | 100266624 |\n",
       "| 3 | ENSG00000137996.13 | RTCA            | chr1 | + | 100268073 | 100268295 | 100268151 | 100268295 | 100267165 | 100267245 |\n",
       "\n"
      ],
      "text/plain": [
       "  GeneID             geneSymbol      chr  strand exonStart_0base exonEnd  \n",
       "1 ENSG00000283761.1  ENSG00000283761 chr1 +      100078450       100080659\n",
       "2 ENSG00000137996.13 RTCA            chr1 +      100268073       100268295\n",
       "3 ENSG00000137996.13 RTCA            chr1 +      100268073       100268295\n",
       "  upstreamES upstreamEE downstreamES downstreamEE\n",
       "1 100080495  100080659  100077164    100077277   \n",
       "2 100268151  100268295  100266523    100266624   \n",
       "3 100268151  100268295  100267165    100267245   "
      ]
     },
     "metadata": {},
     "output_type": "display_data"
    }
   ],
   "source": [
    "featureData <- data.frame(cts[,1:10])\n",
    "featureData[1:3,]"
   ]
  },
  {
   "cell_type": "code",
   "execution_count": 11,
   "id": "5278e887-9177-49ab-9ed7-a55a41aaa467",
   "metadata": {},
   "outputs": [],
   "source": [
    "featureData <- featureData[,c(1,2)]"
   ]
  },
  {
   "cell_type": "code",
   "execution_count": 12,
   "id": "25b5f4b3-3a29-4e27-a5ec-e9224179ee04",
   "metadata": {},
   "outputs": [
    {
     "data": {
      "text/html": [
       "<table class=\"dataframe\">\n",
       "<caption>A data.frame: 2 × 2</caption>\n",
       "<thead>\n",
       "\t<tr><th></th><th scope=col>GeneID</th><th scope=col>geneSymbol</th></tr>\n",
       "\t<tr><th></th><th scope=col>&lt;chr&gt;</th><th scope=col>&lt;chr&gt;</th></tr>\n",
       "</thead>\n",
       "<tbody>\n",
       "\t<tr><th scope=row>1</th><td>ENSG00000283761.1 </td><td>ENSG00000283761</td></tr>\n",
       "\t<tr><th scope=row>2</th><td>ENSG00000137996.13</td><td>RTCA           </td></tr>\n",
       "</tbody>\n",
       "</table>\n"
      ],
      "text/latex": [
       "A data.frame: 2 × 2\n",
       "\\begin{tabular}{r|ll}\n",
       "  & GeneID & geneSymbol\\\\\n",
       "  & <chr> & <chr>\\\\\n",
       "\\hline\n",
       "\t1 & ENSG00000283761.1  & ENSG00000283761\\\\\n",
       "\t2 & ENSG00000137996.13 & RTCA           \\\\\n",
       "\\end{tabular}\n"
      ],
      "text/markdown": [
       "\n",
       "A data.frame: 2 × 2\n",
       "\n",
       "| <!--/--> | GeneID &lt;chr&gt; | geneSymbol &lt;chr&gt; |\n",
       "|---|---|---|\n",
       "| 1 | ENSG00000283761.1  | ENSG00000283761 |\n",
       "| 2 | ENSG00000137996.13 | RTCA            |\n",
       "\n"
      ],
      "text/plain": [
       "  GeneID             geneSymbol     \n",
       "1 ENSG00000283761.1  ENSG00000283761\n",
       "2 ENSG00000137996.13 RTCA           "
      ]
     },
     "metadata": {},
     "output_type": "display_data"
    }
   ],
   "source": [
    "head(featureData,2)"
   ]
  },
  {
   "cell_type": "code",
   "execution_count": 13,
   "id": "228be394-ab8d-4d29-96f0-37b7231e4fe4",
   "metadata": {},
   "outputs": [
    {
     "data": {
      "text/html": [
       "TRUE"
      ],
      "text/latex": [
       "TRUE"
      ],
      "text/markdown": [
       "TRUE"
      ],
      "text/plain": [
       "[1] TRUE"
      ]
     },
     "metadata": {},
     "output_type": "display_data"
    }
   ],
   "source": [
    "cts <- data.matrix(cts[,11:20])\n",
    "mode(cts) <- \"integer\"\n",
    "is.integer(cts)"
   ]
  },
  {
   "cell_type": "code",
   "execution_count": 14,
   "id": "287a913a-35c3-44d1-b3e0-dce02fd2aca1",
   "metadata": {},
   "outputs": [
    {
     "data": {
      "text/html": [
       "<style>\n",
       ".list-inline {list-style: none; margin:0; padding: 0}\n",
       ".list-inline>li {display: inline-block}\n",
       ".list-inline>li:not(:last-child)::after {content: \"\\00b7\"; padding: 0 .5ex}\n",
       "</style>\n",
       "<ol class=list-inline><li>10452</li><li>10</li></ol>\n"
      ],
      "text/latex": [
       "\\begin{enumerate*}\n",
       "\\item 10452\n",
       "\\item 10\n",
       "\\end{enumerate*}\n"
      ],
      "text/markdown": [
       "1. 10452\n",
       "2. 10\n",
       "\n",
       "\n"
      ],
      "text/plain": [
       "[1] 10452    10"
      ]
     },
     "metadata": {},
     "output_type": "display_data"
    },
    {
     "data": {
      "text/html": [
       "<table class=\"dataframe\">\n",
       "<caption>A matrix: 2 × 10 of type int</caption>\n",
       "<thead>\n",
       "\t<tr><th></th><th scope=col>PAUVKY.03A</th><th scope=col>PAUVKY.40A</th><th scope=col>PAWHSD.03A</th><th scope=col>PAWHSD.40A</th><th scope=col>PAWSNZ.03A</th><th scope=col>PAWSNZ.40A</th><th scope=col>X_1_PAUTLA.03A</th><th scope=col>X_1_PAUTLA.40A</th><th scope=col>X_1_PAVUDU.03A</th><th scope=col>X_1_PAVUDU.40A</th></tr>\n",
       "</thead>\n",
       "<tbody>\n",
       "\t<tr><th scope=row>1</th><td> 0</td><td>151</td><td> 0</td><td> 0</td><td> 0</td><td> 0</td><td> 0</td><td> 0</td><td> 0</td><td> 0</td></tr>\n",
       "\t<tr><th scope=row>2</th><td>36</td><td> 46</td><td>21</td><td>10</td><td>83</td><td>45</td><td>50</td><td>52</td><td>41</td><td>69</td></tr>\n",
       "</tbody>\n",
       "</table>\n"
      ],
      "text/latex": [
       "A matrix: 2 × 10 of type int\n",
       "\\begin{tabular}{r|llllllllll}\n",
       "  & PAUVKY.03A & PAUVKY.40A & PAWHSD.03A & PAWHSD.40A & PAWSNZ.03A & PAWSNZ.40A & X\\_1\\_PAUTLA.03A & X\\_1\\_PAUTLA.40A & X\\_1\\_PAVUDU.03A & X\\_1\\_PAVUDU.40A\\\\\n",
       "\\hline\n",
       "\t1 &  0 & 151 &  0 &  0 &  0 &  0 &  0 &  0 &  0 &  0\\\\\n",
       "\t2 & 36 &  46 & 21 & 10 & 83 & 45 & 50 & 52 & 41 & 69\\\\\n",
       "\\end{tabular}\n"
      ],
      "text/markdown": [
       "\n",
       "A matrix: 2 × 10 of type int\n",
       "\n",
       "| <!--/--> | PAUVKY.03A | PAUVKY.40A | PAWHSD.03A | PAWHSD.40A | PAWSNZ.03A | PAWSNZ.40A | X_1_PAUTLA.03A | X_1_PAUTLA.40A | X_1_PAVUDU.03A | X_1_PAVUDU.40A |\n",
       "|---|---|---|---|---|---|---|---|---|---|---|\n",
       "| 1 |  0 | 151 |  0 |  0 |  0 |  0 |  0 |  0 |  0 |  0 |\n",
       "| 2 | 36 |  46 | 21 | 10 | 83 | 45 | 50 | 52 | 41 | 69 |\n",
       "\n"
      ],
      "text/plain": [
       "  PAUVKY.03A PAUVKY.40A PAWHSD.03A PAWHSD.40A PAWSNZ.03A PAWSNZ.40A\n",
       "1  0         151         0          0          0          0        \n",
       "2 36          46        21         10         83         45        \n",
       "  X_1_PAUTLA.03A X_1_PAUTLA.40A X_1_PAVUDU.03A X_1_PAVUDU.40A\n",
       "1  0              0              0              0            \n",
       "2 50             52             41             69            "
      ]
     },
     "metadata": {},
     "output_type": "display_data"
    }
   ],
   "source": [
    "dim(cts)\n",
    "head(cts,2)"
   ]
  },
  {
   "cell_type": "code",
   "execution_count": 15,
   "id": "60d94f4e-fdce-4ba4-b760-e84ee6fc210c",
   "metadata": {},
   "outputs": [],
   "source": [
    "colnames(cts) <- c(\"PAUVKY.03A\",\"PAUVKY.40A\",\"PAWHSD.03A\",\"PAWHSD.40A\",\"PAWSNZ.03A\",\"PAWSNZ.40A\",\"PAUTLA.03A\",\"PAUTLA.40A\",\"PAVUDU.03A\",\"PAVUDU.40A\")"
   ]
  },
  {
   "cell_type": "markdown",
   "id": "7fe24ef2-7043-4206-a8a7-4c8883ead3e5",
   "metadata": {},
   "source": [
    "The PAWHSD samples are not TAM and AML but in fact TAM and TAM - the resulting heatmap when included showed they clustered together.  We will eliminate them from subsequent analyses."
   ]
  },
  {
   "cell_type": "code",
   "execution_count": 16,
   "id": "c49e56f2-a81b-402e-abb2-0f6aed939c4b",
   "metadata": {},
   "outputs": [],
   "source": [
    "cts <- cts[,-c(3,4)]"
   ]
  },
  {
   "cell_type": "code",
   "execution_count": 17,
   "id": "08793c4e-08c9-4203-b9a1-86301ee37b90",
   "metadata": {},
   "outputs": [
    {
     "data": {
      "text/html": [
       "<table class=\"dataframe\">\n",
       "<caption>A matrix: 2 × 8 of type int</caption>\n",
       "<thead>\n",
       "\t<tr><th></th><th scope=col>PAUVKY.03A</th><th scope=col>PAUVKY.40A</th><th scope=col>PAWSNZ.03A</th><th scope=col>PAWSNZ.40A</th><th scope=col>PAUTLA.03A</th><th scope=col>PAUTLA.40A</th><th scope=col>PAVUDU.03A</th><th scope=col>PAVUDU.40A</th></tr>\n",
       "</thead>\n",
       "<tbody>\n",
       "\t<tr><th scope=row>1</th><td> 0</td><td>151</td><td> 0</td><td> 0</td><td> 0</td><td> 0</td><td> 0</td><td> 0</td></tr>\n",
       "\t<tr><th scope=row>2</th><td>36</td><td> 46</td><td>83</td><td>45</td><td>50</td><td>52</td><td>41</td><td>69</td></tr>\n",
       "</tbody>\n",
       "</table>\n"
      ],
      "text/latex": [
       "A matrix: 2 × 8 of type int\n",
       "\\begin{tabular}{r|llllllll}\n",
       "  & PAUVKY.03A & PAUVKY.40A & PAWSNZ.03A & PAWSNZ.40A & PAUTLA.03A & PAUTLA.40A & PAVUDU.03A & PAVUDU.40A\\\\\n",
       "\\hline\n",
       "\t1 &  0 & 151 &  0 &  0 &  0 &  0 &  0 &  0\\\\\n",
       "\t2 & 36 &  46 & 83 & 45 & 50 & 52 & 41 & 69\\\\\n",
       "\\end{tabular}\n"
      ],
      "text/markdown": [
       "\n",
       "A matrix: 2 × 8 of type int\n",
       "\n",
       "| <!--/--> | PAUVKY.03A | PAUVKY.40A | PAWSNZ.03A | PAWSNZ.40A | PAUTLA.03A | PAUTLA.40A | PAVUDU.03A | PAVUDU.40A |\n",
       "|---|---|---|---|---|---|---|---|---|\n",
       "| 1 |  0 | 151 |  0 |  0 |  0 |  0 |  0 |  0 |\n",
       "| 2 | 36 |  46 | 83 | 45 | 50 | 52 | 41 | 69 |\n",
       "\n"
      ],
      "text/plain": [
       "  PAUVKY.03A PAUVKY.40A PAWSNZ.03A PAWSNZ.40A PAUTLA.03A PAUTLA.40A PAVUDU.03A\n",
       "1  0         151         0          0          0          0          0        \n",
       "2 36          46        83         45         50         52         41        \n",
       "  PAVUDU.40A\n",
       "1  0        \n",
       "2 69        "
      ]
     },
     "metadata": {},
     "output_type": "display_data"
    }
   ],
   "source": [
    "head(cts,2)"
   ]
  },
  {
   "cell_type": "code",
   "execution_count": 18,
   "id": "3408dae6-b4f7-43f2-8a40-9e71741e6eee",
   "metadata": {},
   "outputs": [
    {
     "data": {
      "text/html": [
       "<style>\n",
       ".list-inline {list-style: none; margin:0; padding: 0}\n",
       ".list-inline>li {display: inline-block}\n",
       ".list-inline>li:not(:last-child)::after {content: \"\\00b7\"; padding: 0 .5ex}\n",
       "</style>\n",
       "<ol class=list-inline><li>263</li><li>4</li></ol>\n"
      ],
      "text/latex": [
       "\\begin{enumerate*}\n",
       "\\item 263\n",
       "\\item 4\n",
       "\\end{enumerate*}\n"
      ],
      "text/markdown": [
       "1. 263\n",
       "2. 4\n",
       "\n",
       "\n"
      ],
      "text/plain": [
       "[1] 263   4"
      ]
     },
     "metadata": {},
     "output_type": "display_data"
    },
    {
     "data": {
      "text/html": [
       "<style>\n",
       ".list-inline {list-style: none; margin:0; padding: 0}\n",
       ".list-inline>li {display: inline-block}\n",
       ".list-inline>li:not(:last-child)::after {content: \"\\00b7\"; padding: 0 .5ex}\n",
       "</style>\n",
       "<ol class=list-inline><li>177</li><li>4</li></ol>\n"
      ],
      "text/latex": [
       "\\begin{enumerate*}\n",
       "\\item 177\n",
       "\\item 4\n",
       "\\end{enumerate*}\n"
      ],
      "text/markdown": [
       "1. 177\n",
       "2. 4\n",
       "\n",
       "\n"
      ],
      "text/plain": [
       "[1] 177   4"
      ]
     },
     "metadata": {},
     "output_type": "display_data"
    },
    {
     "data": {
      "text/html": [
       "<style>\n",
       ".list-inline {list-style: none; margin:0; padding: 0}\n",
       ".list-inline>li {display: inline-block}\n",
       ".list-inline>li:not(:last-child)::after {content: \"\\00b7\"; padding: 0 .5ex}\n",
       "</style>\n",
       "<ol class=list-inline><li>294</li><li>8</li></ol>\n"
      ],
      "text/latex": [
       "\\begin{enumerate*}\n",
       "\\item 294\n",
       "\\item 8\n",
       "\\end{enumerate*}\n"
      ],
      "text/markdown": [
       "1. 294\n",
       "2. 8\n",
       "\n",
       "\n"
      ],
      "text/plain": [
       "[1] 294   8"
      ]
     },
     "metadata": {},
     "output_type": "display_data"
    }
   ],
   "source": [
    "# Condition 1: Rows with count > 1000 in columns 1, 3, 5, 7\n",
    "TAM_rows_condition <- rowSums(cts[, c(1, 3, 5, 7)] > 1000) > 0\n",
    "TAM_matrix<- cts[TAM_rows_condition, c(1, 3, 5, 7)]\n",
    "\n",
    "# Condition 2: Rows with count > 1000 in columns 2, 4, 6, 8\n",
    "AML_rows_condition <- rowSums(cts[, c(2, 4, 6, 8)] > 1000) > 0\n",
    "AML_matrix <- cts[AML_rows_condition, c(2, 4, 6, 8)]\n",
    "\n",
    "# Combine the sub-matrices by keeping rows that satisfy either condition 1 or condition 2\n",
    "final_matrix <- cts[AML_rows_condition | TAM_rows_condition, ]\n",
    "\n",
    "# View the dimensions of the resulting matrices\n",
    "dim(TAM_matrix)\n",
    "dim(AML_matrix)\n",
    "dim(final_matrix)\n"
   ]
  },
  {
   "cell_type": "code",
   "execution_count": 19,
   "id": "f9e47b5c-5584-4ede-a02d-56e785d218bb",
   "metadata": {},
   "outputs": [
    {
     "data": {
      "text/html": [
       "<table class=\"dataframe\">\n",
       "<caption>A matrix: 6 × 4 of type int</caption>\n",
       "<thead>\n",
       "\t<tr><th></th><th scope=col>PAUVKY.03A</th><th scope=col>PAWSNZ.03A</th><th scope=col>PAUTLA.03A</th><th scope=col>PAVUDU.03A</th></tr>\n",
       "</thead>\n",
       "<tbody>\n",
       "\t<tr><th scope=row>33</th><td> 782</td><td>  81</td><td> 410</td><td>1890</td></tr>\n",
       "\t<tr><th scope=row>204</th><td>1062</td><td>   0</td><td>   0</td><td>   0</td></tr>\n",
       "\t<tr><th scope=row>250</th><td>1115</td><td>1022</td><td>1588</td><td>   0</td></tr>\n",
       "\t<tr><th scope=row>284</th><td>1056</td><td>1604</td><td>1087</td><td>1225</td></tr>\n",
       "\t<tr><th scope=row>322</th><td>   0</td><td>   0</td><td>1054</td><td>   0</td></tr>\n",
       "\t<tr><th scope=row>515</th><td> 852</td><td>1043</td><td>1471</td><td> 979</td></tr>\n",
       "</tbody>\n",
       "</table>\n"
      ],
      "text/latex": [
       "A matrix: 6 × 4 of type int\n",
       "\\begin{tabular}{r|llll}\n",
       "  & PAUVKY.03A & PAWSNZ.03A & PAUTLA.03A & PAVUDU.03A\\\\\n",
       "\\hline\n",
       "\t33 &  782 &   81 &  410 & 1890\\\\\n",
       "\t204 & 1062 &    0 &    0 &    0\\\\\n",
       "\t250 & 1115 & 1022 & 1588 &    0\\\\\n",
       "\t284 & 1056 & 1604 & 1087 & 1225\\\\\n",
       "\t322 &    0 &    0 & 1054 &    0\\\\\n",
       "\t515 &  852 & 1043 & 1471 &  979\\\\\n",
       "\\end{tabular}\n"
      ],
      "text/markdown": [
       "\n",
       "A matrix: 6 × 4 of type int\n",
       "\n",
       "| <!--/--> | PAUVKY.03A | PAWSNZ.03A | PAUTLA.03A | PAVUDU.03A |\n",
       "|---|---|---|---|---|\n",
       "| 33 |  782 |   81 |  410 | 1890 |\n",
       "| 204 | 1062 |    0 |    0 |    0 |\n",
       "| 250 | 1115 | 1022 | 1588 |    0 |\n",
       "| 284 | 1056 | 1604 | 1087 | 1225 |\n",
       "| 322 |    0 |    0 | 1054 |    0 |\n",
       "| 515 |  852 | 1043 | 1471 |  979 |\n",
       "\n"
      ],
      "text/plain": [
       "    PAUVKY.03A PAWSNZ.03A PAUTLA.03A PAVUDU.03A\n",
       "33   782         81        410       1890      \n",
       "204 1062          0          0          0      \n",
       "250 1115       1022       1588          0      \n",
       "284 1056       1604       1087       1225      \n",
       "322    0          0       1054          0      \n",
       "515  852       1043       1471        979      "
      ]
     },
     "metadata": {},
     "output_type": "display_data"
    },
    {
     "data": {
      "text/html": [
       "<table class=\"dataframe\">\n",
       "<caption>A matrix: 6 × 4 of type int</caption>\n",
       "<thead>\n",
       "\t<tr><th></th><th scope=col>PAUVKY.40A</th><th scope=col>PAWSNZ.40A</th><th scope=col>PAUTLA.40A</th><th scope=col>PAVUDU.40A</th></tr>\n",
       "</thead>\n",
       "<tbody>\n",
       "\t<tr><th scope=row>154</th><td> 342</td><td>165</td><td> 345</td><td>1529</td></tr>\n",
       "\t<tr><th scope=row>250</th><td> 759</td><td>424</td><td>   0</td><td>1191</td></tr>\n",
       "\t<tr><th scope=row>284</th><td>1114</td><td>  0</td><td> 745</td><td>   0</td></tr>\n",
       "\t<tr><th scope=row>515</th><td> 729</td><td>435</td><td> 610</td><td>1011</td></tr>\n",
       "\t<tr><th scope=row>519</th><td>1470</td><td>888</td><td>1279</td><td>2018</td></tr>\n",
       "\t<tr><th scope=row>520</th><td> 771</td><td>492</td><td> 682</td><td>1083</td></tr>\n",
       "</tbody>\n",
       "</table>\n"
      ],
      "text/latex": [
       "A matrix: 6 × 4 of type int\n",
       "\\begin{tabular}{r|llll}\n",
       "  & PAUVKY.40A & PAWSNZ.40A & PAUTLA.40A & PAVUDU.40A\\\\\n",
       "\\hline\n",
       "\t154 &  342 & 165 &  345 & 1529\\\\\n",
       "\t250 &  759 & 424 &    0 & 1191\\\\\n",
       "\t284 & 1114 &   0 &  745 &    0\\\\\n",
       "\t515 &  729 & 435 &  610 & 1011\\\\\n",
       "\t519 & 1470 & 888 & 1279 & 2018\\\\\n",
       "\t520 &  771 & 492 &  682 & 1083\\\\\n",
       "\\end{tabular}\n"
      ],
      "text/markdown": [
       "\n",
       "A matrix: 6 × 4 of type int\n",
       "\n",
       "| <!--/--> | PAUVKY.40A | PAWSNZ.40A | PAUTLA.40A | PAVUDU.40A |\n",
       "|---|---|---|---|---|\n",
       "| 154 |  342 | 165 |  345 | 1529 |\n",
       "| 250 |  759 | 424 |    0 | 1191 |\n",
       "| 284 | 1114 |   0 |  745 |    0 |\n",
       "| 515 |  729 | 435 |  610 | 1011 |\n",
       "| 519 | 1470 | 888 | 1279 | 2018 |\n",
       "| 520 |  771 | 492 |  682 | 1083 |\n",
       "\n"
      ],
      "text/plain": [
       "    PAUVKY.40A PAWSNZ.40A PAUTLA.40A PAVUDU.40A\n",
       "154  342       165         345       1529      \n",
       "250  759       424           0       1191      \n",
       "284 1114         0         745          0      \n",
       "515  729       435         610       1011      \n",
       "519 1470       888        1279       2018      \n",
       "520  771       492         682       1083      "
      ]
     },
     "metadata": {},
     "output_type": "display_data"
    },
    {
     "data": {
      "text/html": [
       "<table class=\"dataframe\">\n",
       "<caption>A matrix: 6 × 8 of type int</caption>\n",
       "<thead>\n",
       "\t<tr><th></th><th scope=col>PAUVKY.03A</th><th scope=col>PAUVKY.40A</th><th scope=col>PAWSNZ.03A</th><th scope=col>PAWSNZ.40A</th><th scope=col>PAUTLA.03A</th><th scope=col>PAUTLA.40A</th><th scope=col>PAVUDU.03A</th><th scope=col>PAVUDU.40A</th></tr>\n",
       "</thead>\n",
       "<tbody>\n",
       "\t<tr><th scope=row>33</th><td> 782</td><td> 417</td><td>  81</td><td> 32</td><td> 410</td><td>662</td><td>1890</td><td> 106</td></tr>\n",
       "\t<tr><th scope=row>154</th><td> 859</td><td> 342</td><td> 160</td><td>165</td><td> 222</td><td>345</td><td> 246</td><td>1529</td></tr>\n",
       "\t<tr><th scope=row>204</th><td>1062</td><td>   0</td><td>   0</td><td>594</td><td>   0</td><td>875</td><td>   0</td><td>   0</td></tr>\n",
       "\t<tr><th scope=row>250</th><td>1115</td><td> 759</td><td>1022</td><td>424</td><td>1588</td><td>  0</td><td>   0</td><td>1191</td></tr>\n",
       "\t<tr><th scope=row>284</th><td>1056</td><td>1114</td><td>1604</td><td>  0</td><td>1087</td><td>745</td><td>1225</td><td>   0</td></tr>\n",
       "\t<tr><th scope=row>322</th><td>   0</td><td>   0</td><td>   0</td><td>  0</td><td>1054</td><td>  0</td><td>   0</td><td>   0</td></tr>\n",
       "</tbody>\n",
       "</table>\n"
      ],
      "text/latex": [
       "A matrix: 6 × 8 of type int\n",
       "\\begin{tabular}{r|llllllll}\n",
       "  & PAUVKY.03A & PAUVKY.40A & PAWSNZ.03A & PAWSNZ.40A & PAUTLA.03A & PAUTLA.40A & PAVUDU.03A & PAVUDU.40A\\\\\n",
       "\\hline\n",
       "\t33 &  782 &  417 &   81 &  32 &  410 & 662 & 1890 &  106\\\\\n",
       "\t154 &  859 &  342 &  160 & 165 &  222 & 345 &  246 & 1529\\\\\n",
       "\t204 & 1062 &    0 &    0 & 594 &    0 & 875 &    0 &    0\\\\\n",
       "\t250 & 1115 &  759 & 1022 & 424 & 1588 &   0 &    0 & 1191\\\\\n",
       "\t284 & 1056 & 1114 & 1604 &   0 & 1087 & 745 & 1225 &    0\\\\\n",
       "\t322 &    0 &    0 &    0 &   0 & 1054 &   0 &    0 &    0\\\\\n",
       "\\end{tabular}\n"
      ],
      "text/markdown": [
       "\n",
       "A matrix: 6 × 8 of type int\n",
       "\n",
       "| <!--/--> | PAUVKY.03A | PAUVKY.40A | PAWSNZ.03A | PAWSNZ.40A | PAUTLA.03A | PAUTLA.40A | PAVUDU.03A | PAVUDU.40A |\n",
       "|---|---|---|---|---|---|---|---|---|\n",
       "| 33 |  782 |  417 |   81 |  32 |  410 | 662 | 1890 |  106 |\n",
       "| 154 |  859 |  342 |  160 | 165 |  222 | 345 |  246 | 1529 |\n",
       "| 204 | 1062 |    0 |    0 | 594 |    0 | 875 |    0 |    0 |\n",
       "| 250 | 1115 |  759 | 1022 | 424 | 1588 |   0 |    0 | 1191 |\n",
       "| 284 | 1056 | 1114 | 1604 |   0 | 1087 | 745 | 1225 |    0 |\n",
       "| 322 |    0 |    0 |    0 |   0 | 1054 |   0 |    0 |    0 |\n",
       "\n"
      ],
      "text/plain": [
       "    PAUVKY.03A PAUVKY.40A PAWSNZ.03A PAWSNZ.40A PAUTLA.03A PAUTLA.40A\n",
       "33   782        417         81        32         410       662       \n",
       "154  859        342        160       165         222       345       \n",
       "204 1062          0          0       594           0       875       \n",
       "250 1115        759       1022       424        1588         0       \n",
       "284 1056       1114       1604         0        1087       745       \n",
       "322    0          0          0         0        1054         0       \n",
       "    PAVUDU.03A PAVUDU.40A\n",
       "33  1890        106      \n",
       "154  246       1529      \n",
       "204    0          0      \n",
       "250    0       1191      \n",
       "284 1225          0      \n",
       "322    0          0      "
      ]
     },
     "metadata": {},
     "output_type": "display_data"
    }
   ],
   "source": [
    "head(TAM_matrix)\n",
    "head(AML_matrix)\n",
    "head(final_matrix)"
   ]
  },
  {
   "cell_type": "code",
   "execution_count": 20,
   "id": "71b63bea-6ba2-4a62-a16d-c5473952e45a",
   "metadata": {},
   "outputs": [],
   "source": [
    "cts <- final_matrix\n",
    "\n",
    "featureData <- featureData[rownames(cts),]"
   ]
  },
  {
   "cell_type": "code",
   "execution_count": 21,
   "id": "a2f1e118-e229-4f22-bc95-025cfaaa0e70",
   "metadata": {},
   "outputs": [
    {
     "data": {
      "text/html": [
       "<style>\n",
       ".list-inline {list-style: none; margin:0; padding: 0}\n",
       ".list-inline>li {display: inline-block}\n",
       ".list-inline>li:not(:last-child)::after {content: \"\\00b7\"; padding: 0 .5ex}\n",
       "</style>\n",
       "<ol class=list-inline><li>294</li><li>8</li></ol>\n"
      ],
      "text/latex": [
       "\\begin{enumerate*}\n",
       "\\item 294\n",
       "\\item 8\n",
       "\\end{enumerate*}\n"
      ],
      "text/markdown": [
       "1. 294\n",
       "2. 8\n",
       "\n",
       "\n"
      ],
      "text/plain": [
       "[1] 294   8"
      ]
     },
     "metadata": {},
     "output_type": "display_data"
    },
    {
     "data": {
      "text/html": [
       "<style>\n",
       ".list-inline {list-style: none; margin:0; padding: 0}\n",
       ".list-inline>li {display: inline-block}\n",
       ".list-inline>li:not(:last-child)::after {content: \"\\00b7\"; padding: 0 .5ex}\n",
       "</style>\n",
       "<ol class=list-inline><li>294</li><li>2</li></ol>\n"
      ],
      "text/latex": [
       "\\begin{enumerate*}\n",
       "\\item 294\n",
       "\\item 2\n",
       "\\end{enumerate*}\n"
      ],
      "text/markdown": [
       "1. 294\n",
       "2. 2\n",
       "\n",
       "\n"
      ],
      "text/plain": [
       "[1] 294   2"
      ]
     },
     "metadata": {},
     "output_type": "display_data"
    }
   ],
   "source": [
    "dim(cts)\n",
    "dim(featureData)"
   ]
  },
  {
   "cell_type": "code",
   "execution_count": 25,
   "id": "b06a2c1c-53d5-47b9-b6e9-2bb035424d71",
   "metadata": {},
   "outputs": [],
   "source": [
    "coldata <- read.csv(\"/Users/annedeslattesmays/Scitechcon Dropbox/Anne DeslattesMays/projects/post-rmats-single-run/design/design_paired_matrix.csv\",row.names=1)"
   ]
  },
  {
   "cell_type": "code",
   "execution_count": 26,
   "id": "8bb5bc20-4c04-4770-b70c-79a73f51acfd",
   "metadata": {},
   "outputs": [
    {
     "data": {
      "text/html": [
       "<table class=\"dataframe\">\n",
       "<caption>A data.frame: 8 × 2</caption>\n",
       "<thead>\n",
       "\t<tr><th></th><th scope=col>patient</th><th scope=col>condition</th></tr>\n",
       "\t<tr><th></th><th scope=col>&lt;chr&gt;</th><th scope=col>&lt;chr&gt;</th></tr>\n",
       "</thead>\n",
       "<tbody>\n",
       "\t<tr><th scope=row>PAUVKY-03A</th><td>PAUVKY</td><td>preAML</td></tr>\n",
       "\t<tr><th scope=row>PAUVKY-40A</th><td>PAUVKY</td><td>AML   </td></tr>\n",
       "\t<tr><th scope=row>PAWSNZ-03A</th><td>PAWSNZ</td><td>preAML</td></tr>\n",
       "\t<tr><th scope=row>dPAWSNZ-40A</th><td>PAWSNZ</td><td>AML   </td></tr>\n",
       "\t<tr><th scope=row>PAUTLA-03A</th><td>PAUTLA</td><td>preAML</td></tr>\n",
       "\t<tr><th scope=row>PAUTLA-40A</th><td>PAUTLA</td><td>AML   </td></tr>\n",
       "\t<tr><th scope=row>PAVUDU-03A</th><td>PAVUDU</td><td>preAML</td></tr>\n",
       "\t<tr><th scope=row>PAVUDU-40A</th><td>PAVUDU</td><td>AML   </td></tr>\n",
       "</tbody>\n",
       "</table>\n"
      ],
      "text/latex": [
       "A data.frame: 8 × 2\n",
       "\\begin{tabular}{r|ll}\n",
       "  & patient & condition\\\\\n",
       "  & <chr> & <chr>\\\\\n",
       "\\hline\n",
       "\tPAUVKY-03A & PAUVKY & preAML\\\\\n",
       "\tPAUVKY-40A & PAUVKY & AML   \\\\\n",
       "\tPAWSNZ-03A & PAWSNZ & preAML\\\\\n",
       "\tdPAWSNZ-40A & PAWSNZ & AML   \\\\\n",
       "\tPAUTLA-03A & PAUTLA & preAML\\\\\n",
       "\tPAUTLA-40A & PAUTLA & AML   \\\\\n",
       "\tPAVUDU-03A & PAVUDU & preAML\\\\\n",
       "\tPAVUDU-40A & PAVUDU & AML   \\\\\n",
       "\\end{tabular}\n"
      ],
      "text/markdown": [
       "\n",
       "A data.frame: 8 × 2\n",
       "\n",
       "| <!--/--> | patient &lt;chr&gt; | condition &lt;chr&gt; |\n",
       "|---|---|---|\n",
       "| PAUVKY-03A | PAUVKY | preAML |\n",
       "| PAUVKY-40A | PAUVKY | AML    |\n",
       "| PAWSNZ-03A | PAWSNZ | preAML |\n",
       "| dPAWSNZ-40A | PAWSNZ | AML    |\n",
       "| PAUTLA-03A | PAUTLA | preAML |\n",
       "| PAUTLA-40A | PAUTLA | AML    |\n",
       "| PAVUDU-03A | PAVUDU | preAML |\n",
       "| PAVUDU-40A | PAVUDU | AML    |\n",
       "\n"
      ],
      "text/plain": [
       "            patient condition\n",
       "PAUVKY-03A  PAUVKY  preAML   \n",
       "PAUVKY-40A  PAUVKY  AML      \n",
       "PAWSNZ-03A  PAWSNZ  preAML   \n",
       "dPAWSNZ-40A PAWSNZ  AML      \n",
       "PAUTLA-03A  PAUTLA  preAML   \n",
       "PAUTLA-40A  PAUTLA  AML      \n",
       "PAVUDU-03A  PAVUDU  preAML   \n",
       "PAVUDU-40A  PAVUDU  AML      "
      ]
     },
     "metadata": {},
     "output_type": "display_data"
    }
   ],
   "source": [
    "coldata\n"
   ]
  },
  {
   "cell_type": "code",
   "execution_count": 27,
   "id": "4c9070b8-dd6e-4e6a-b0ac-63e5b5929706",
   "metadata": {},
   "outputs": [],
   "source": [
    "coldata <- coldata[,c(\"patient\",\"condition\")]\n",
    "coldata$condition <- factor(coldata$condition)\n",
    "coldata$patient <- factor(coldata$patient)"
   ]
  },
  {
   "cell_type": "code",
   "execution_count": 28,
   "id": "8af6a639-6b22-44be-998d-ff752b37dd5d",
   "metadata": {},
   "outputs": [
    {
     "data": {
      "text/html": [
       "<style>\n",
       ".list-inline {list-style: none; margin:0; padding: 0}\n",
       ".list-inline>li {display: inline-block}\n",
       ".list-inline>li:not(:last-child)::after {content: \"\\00b7\"; padding: 0 .5ex}\n",
       "</style>\n",
       "<ol class=list-inline><li>'PAUVKY-03A'</li><li>'PAUVKY-40A'</li><li>'PAWSNZ-03A'</li><li>'dPAWSNZ-40A'</li><li>'PAUTLA-03A'</li><li>'PAUTLA-40A'</li><li>'PAVUDU-03A'</li><li>'PAVUDU-40A'</li></ol>\n"
      ],
      "text/latex": [
       "\\begin{enumerate*}\n",
       "\\item 'PAUVKY-03A'\n",
       "\\item 'PAUVKY-40A'\n",
       "\\item 'PAWSNZ-03A'\n",
       "\\item 'dPAWSNZ-40A'\n",
       "\\item 'PAUTLA-03A'\n",
       "\\item 'PAUTLA-40A'\n",
       "\\item 'PAVUDU-03A'\n",
       "\\item 'PAVUDU-40A'\n",
       "\\end{enumerate*}\n"
      ],
      "text/markdown": [
       "1. 'PAUVKY-03A'\n",
       "2. 'PAUVKY-40A'\n",
       "3. 'PAWSNZ-03A'\n",
       "4. 'dPAWSNZ-40A'\n",
       "5. 'PAUTLA-03A'\n",
       "6. 'PAUTLA-40A'\n",
       "7. 'PAVUDU-03A'\n",
       "8. 'PAVUDU-40A'\n",
       "\n",
       "\n"
      ],
      "text/plain": [
       "[1] \"PAUVKY-03A\"  \"PAUVKY-40A\"  \"PAWSNZ-03A\"  \"dPAWSNZ-40A\" \"PAUTLA-03A\" \n",
       "[6] \"PAUTLA-40A\"  \"PAVUDU-03A\"  \"PAVUDU-40A\" "
      ]
     },
     "metadata": {},
     "output_type": "display_data"
    }
   ],
   "source": [
    "rownames(coldata)"
   ]
  },
  {
   "cell_type": "code",
   "execution_count": 29,
   "id": "9b1d0636-c20d-407a-861a-0420c519b2f7",
   "metadata": {},
   "outputs": [],
   "source": [
    "rownames(coldata) <-sub(\"-\",\".\",rownames(coldata))"
   ]
  },
  {
   "cell_type": "code",
   "execution_count": 30,
   "id": "30feeda5-ac47-42d5-890a-0e2deb97df5d",
   "metadata": {},
   "outputs": [
    {
     "data": {
      "text/html": [
       "<style>\n",
       ".list-inline {list-style: none; margin:0; padding: 0}\n",
       ".list-inline>li {display: inline-block}\n",
       ".list-inline>li:not(:last-child)::after {content: \"\\00b7\"; padding: 0 .5ex}\n",
       "</style>\n",
       "<ol class=list-inline><li>'PAUVKY.03A'</li><li>'PAUVKY.40A'</li><li>'PAWSNZ.03A'</li><li>'PAWSNZ.40A'</li><li>'PAUTLA.03A'</li><li>'PAUTLA.40A'</li><li>'PAVUDU.03A'</li><li>'PAVUDU.40A'</li></ol>\n"
      ],
      "text/latex": [
       "\\begin{enumerate*}\n",
       "\\item 'PAUVKY.03A'\n",
       "\\item 'PAUVKY.40A'\n",
       "\\item 'PAWSNZ.03A'\n",
       "\\item 'PAWSNZ.40A'\n",
       "\\item 'PAUTLA.03A'\n",
       "\\item 'PAUTLA.40A'\n",
       "\\item 'PAVUDU.03A'\n",
       "\\item 'PAVUDU.40A'\n",
       "\\end{enumerate*}\n"
      ],
      "text/markdown": [
       "1. 'PAUVKY.03A'\n",
       "2. 'PAUVKY.40A'\n",
       "3. 'PAWSNZ.03A'\n",
       "4. 'PAWSNZ.40A'\n",
       "5. 'PAUTLA.03A'\n",
       "6. 'PAUTLA.40A'\n",
       "7. 'PAVUDU.03A'\n",
       "8. 'PAVUDU.40A'\n",
       "\n",
       "\n"
      ],
      "text/plain": [
       "[1] \"PAUVKY.03A\" \"PAUVKY.40A\" \"PAWSNZ.03A\" \"PAWSNZ.40A\" \"PAUTLA.03A\"\n",
       "[6] \"PAUTLA.40A\" \"PAVUDU.03A\" \"PAVUDU.40A\""
      ]
     },
     "metadata": {},
     "output_type": "display_data"
    }
   ],
   "source": [
    "colnames(cts)"
   ]
  },
  {
   "cell_type": "code",
   "execution_count": 31,
   "id": "5eb757dc-5605-4d63-bffd-caf6e4e62e9d",
   "metadata": {},
   "outputs": [
    {
     "data": {
      "text/html": [
       "FALSE"
      ],
      "text/latex": [
       "FALSE"
      ],
      "text/markdown": [
       "FALSE"
      ],
      "text/plain": [
       "[1] FALSE"
      ]
     },
     "metadata": {},
     "output_type": "display_data"
    }
   ],
   "source": [
    "all(rownames(coldata) %in% colnames(cts))"
   ]
  },
  {
   "cell_type": "code",
   "execution_count": 32,
   "id": "54107c5f-bc5a-44be-90b8-8a94bf8e3d1e",
   "metadata": {},
   "outputs": [
    {
     "data": {
      "text/html": [
       "<style>\n",
       ".list-inline {list-style: none; margin:0; padding: 0}\n",
       ".list-inline>li {display: inline-block}\n",
       ".list-inline>li:not(:last-child)::after {content: \"\\00b7\"; padding: 0 .5ex}\n",
       "</style>\n",
       "<ol class=list-inline><li>294</li><li>8</li></ol>\n"
      ],
      "text/latex": [
       "\\begin{enumerate*}\n",
       "\\item 294\n",
       "\\item 8\n",
       "\\end{enumerate*}\n"
      ],
      "text/markdown": [
       "1. 294\n",
       "2. 8\n",
       "\n",
       "\n"
      ],
      "text/plain": [
       "[1] 294   8"
      ]
     },
     "metadata": {},
     "output_type": "display_data"
    },
    {
     "data": {
      "text/html": [
       "<table class=\"dataframe\">\n",
       "<caption>A matrix: 4 × 8 of type int</caption>\n",
       "<thead>\n",
       "\t<tr><th></th><th scope=col>PAUVKY.03A</th><th scope=col>PAUVKY.40A</th><th scope=col>PAWSNZ.03A</th><th scope=col>PAWSNZ.40A</th><th scope=col>PAUTLA.03A</th><th scope=col>PAUTLA.40A</th><th scope=col>PAVUDU.03A</th><th scope=col>PAVUDU.40A</th></tr>\n",
       "</thead>\n",
       "<tbody>\n",
       "\t<tr><th scope=row>33</th><td> 782</td><td>417</td><td>  81</td><td> 32</td><td> 410</td><td>662</td><td>1890</td><td> 106</td></tr>\n",
       "\t<tr><th scope=row>154</th><td> 859</td><td>342</td><td> 160</td><td>165</td><td> 222</td><td>345</td><td> 246</td><td>1529</td></tr>\n",
       "\t<tr><th scope=row>204</th><td>1062</td><td>  0</td><td>   0</td><td>594</td><td>   0</td><td>875</td><td>   0</td><td>   0</td></tr>\n",
       "\t<tr><th scope=row>250</th><td>1115</td><td>759</td><td>1022</td><td>424</td><td>1588</td><td>  0</td><td>   0</td><td>1191</td></tr>\n",
       "</tbody>\n",
       "</table>\n"
      ],
      "text/latex": [
       "A matrix: 4 × 8 of type int\n",
       "\\begin{tabular}{r|llllllll}\n",
       "  & PAUVKY.03A & PAUVKY.40A & PAWSNZ.03A & PAWSNZ.40A & PAUTLA.03A & PAUTLA.40A & PAVUDU.03A & PAVUDU.40A\\\\\n",
       "\\hline\n",
       "\t33 &  782 & 417 &   81 &  32 &  410 & 662 & 1890 &  106\\\\\n",
       "\t154 &  859 & 342 &  160 & 165 &  222 & 345 &  246 & 1529\\\\\n",
       "\t204 & 1062 &   0 &    0 & 594 &    0 & 875 &    0 &    0\\\\\n",
       "\t250 & 1115 & 759 & 1022 & 424 & 1588 &   0 &    0 & 1191\\\\\n",
       "\\end{tabular}\n"
      ],
      "text/markdown": [
       "\n",
       "A matrix: 4 × 8 of type int\n",
       "\n",
       "| <!--/--> | PAUVKY.03A | PAUVKY.40A | PAWSNZ.03A | PAWSNZ.40A | PAUTLA.03A | PAUTLA.40A | PAVUDU.03A | PAVUDU.40A |\n",
       "|---|---|---|---|---|---|---|---|---|\n",
       "| 33 |  782 | 417 |   81 |  32 |  410 | 662 | 1890 |  106 |\n",
       "| 154 |  859 | 342 |  160 | 165 |  222 | 345 |  246 | 1529 |\n",
       "| 204 | 1062 |   0 |    0 | 594 |    0 | 875 |    0 |    0 |\n",
       "| 250 | 1115 | 759 | 1022 | 424 | 1588 |   0 |    0 | 1191 |\n",
       "\n"
      ],
      "text/plain": [
       "    PAUVKY.03A PAUVKY.40A PAWSNZ.03A PAWSNZ.40A PAUTLA.03A PAUTLA.40A\n",
       "33   782       417          81        32         410       662       \n",
       "154  859       342         160       165         222       345       \n",
       "204 1062         0           0       594           0       875       \n",
       "250 1115       759        1022       424        1588         0       \n",
       "    PAVUDU.03A PAVUDU.40A\n",
       "33  1890        106      \n",
       "154  246       1529      \n",
       "204    0          0      \n",
       "250    0       1191      "
      ]
     },
     "metadata": {},
     "output_type": "display_data"
    },
    {
     "data": {
      "text/html": [
       "TRUE"
      ],
      "text/latex": [
       "TRUE"
      ],
      "text/markdown": [
       "TRUE"
      ],
      "text/plain": [
       "[1] TRUE"
      ]
     },
     "metadata": {},
     "output_type": "display_data"
    }
   ],
   "source": [
    "dim(cts)\n",
    "head(cts,4)\n",
    "mode(cts) <- \"integer\"\n",
    "is.integer(cts)"
   ]
  },
  {
   "cell_type": "code",
   "execution_count": 33,
   "id": "b5c54046-8b3e-4c97-bbf0-6ee3e0d298e5",
   "metadata": {},
   "outputs": [
    {
     "name": "stderr",
     "output_type": "stream",
     "text": [
      "'getOption(\"repos\")' replaces Bioconductor standard repositories, see\n",
      "'help(\"repositories\", package = \"BiocManager\")' for details.\n",
      "Replacement repositories:\n",
      "    CRAN: https://cran.r-project.org\n",
      "\n",
      "Bioconductor version 3.18 (BiocManager 1.30.22), R 4.3.3 (2024-02-29)\n",
      "\n",
      "Warning message:\n",
      "“package(s) not installed when version(s) same as or greater than current; use\n",
      "  `force = TRUE` to re-install: 'limma'”\n",
      "Old packages: 'abind', 'bbmle', 'BH', 'BiocManager', 'bitops', 'bslib',\n",
      "  'cachem', 'caTools', 'cli', 'coda', 'codetools', 'colorspace', 'cpp11',\n",
      "  'crayon', 'crosstalk', 'curl', 'data.table', 'DESeq2', 'digest', 'e1071',\n",
      "  'edgeR', 'evaluate', 'farver', 'fastDummies', 'fastmap', 'fitdistrplus',\n",
      "  'future', 'GenomeInfoDb', 'ggplot2', 'ggrepel', 'gtable', 'highr',\n",
      "  'htmlwidgets', 'kernlab', 'KernSmooth', 'knitr', 'lifecycle', 'locfit',\n",
      "  'matrixStats', 'munsell', 'mvtnorm', 'nlme', 'openssl', 'parallelly',\n",
      "  'patchwork', 'pbdZMQ', 'plotly', 'polyclip', 'RANN', 'Rcpp', 'RcppArmadillo',\n",
      "  'RcppEigen', 'RcppSpdlog', 'RCurl', 'repr', 'reticulate', 'rlang',\n",
      "  'rmarkdown', 'RSpectra', 'S4Arrays', 'scales', 'segmented', 'shiny',\n",
      "  'SparseArray', 'spatstat.explore', 'spatstat.geom', 'spatstat.random',\n",
      "  'spatstat.utils', 'stringi', 'stringr', 'survival', 'tidyselect', 'tinytex',\n",
      "  'uuid', 'withr', 'xfun', 'yaml', 'zlibbioc'\n",
      "\n"
     ]
    }
   ],
   "source": [
    "# lets look at limma/voom\n",
    "BiocManager::install(\"limma\")"
   ]
  },
  {
   "cell_type": "code",
   "execution_count": 34,
   "id": "e30dfcee-76b1-4efb-b56d-948f7a8de44f",
   "metadata": {},
   "outputs": [
    {
     "name": "stderr",
     "output_type": "stream",
     "text": [
      "'getOption(\"repos\")' replaces Bioconductor standard repositories, see\n",
      "'help(\"repositories\", package = \"BiocManager\")' for details.\n",
      "Replacement repositories:\n",
      "    CRAN: https://cran.r-project.org\n",
      "\n",
      "Bioconductor version 3.18 (BiocManager 1.30.22), R 4.3.3 (2024-02-29)\n",
      "\n",
      "Warning message:\n",
      "“package(s) not installed when version(s) same as or greater than current; use\n",
      "  `force = TRUE` to re-install: 'statmod'”\n",
      "Old packages: 'abind', 'bbmle', 'BH', 'BiocManager', 'bitops', 'bslib',\n",
      "  'cachem', 'caTools', 'cli', 'coda', 'codetools', 'colorspace', 'cpp11',\n",
      "  'crayon', 'crosstalk', 'curl', 'data.table', 'DESeq2', 'digest', 'e1071',\n",
      "  'edgeR', 'evaluate', 'farver', 'fastDummies', 'fastmap', 'fitdistrplus',\n",
      "  'future', 'GenomeInfoDb', 'ggplot2', 'ggrepel', 'gtable', 'highr',\n",
      "  'htmlwidgets', 'kernlab', 'KernSmooth', 'knitr', 'lifecycle', 'locfit',\n",
      "  'matrixStats', 'munsell', 'mvtnorm', 'nlme', 'openssl', 'parallelly',\n",
      "  'patchwork', 'pbdZMQ', 'plotly', 'polyclip', 'RANN', 'Rcpp', 'RcppArmadillo',\n",
      "  'RcppEigen', 'RcppSpdlog', 'RCurl', 'repr', 'reticulate', 'rlang',\n",
      "  'rmarkdown', 'RSpectra', 'S4Arrays', 'scales', 'segmented', 'shiny',\n",
      "  'SparseArray', 'spatstat.explore', 'spatstat.geom', 'spatstat.random',\n",
      "  'spatstat.utils', 'stringi', 'stringr', 'survival', 'tidyselect', 'tinytex',\n",
      "  'uuid', 'withr', 'xfun', 'yaml', 'zlibbioc'\n",
      "\n"
     ]
    }
   ],
   "source": [
    "BiocManager::install(\"statmod\")"
   ]
  },
  {
   "cell_type": "code",
   "execution_count": 35,
   "id": "da040196-cae0-4a10-ab43-0da299c3a79f",
   "metadata": {},
   "outputs": [],
   "source": [
    "library(limma)\n",
    "library(edgeR)\n",
    "library(statmod)"
   ]
  },
  {
   "cell_type": "code",
   "execution_count": 36,
   "id": "d9e51d30-1986-4a7a-a9eb-a3b6fd0562ca",
   "metadata": {},
   "outputs": [],
   "source": [
    "# making a counts matrix\n",
    "dge <- DGEList(counts=cts)"
   ]
  },
  {
   "cell_type": "code",
   "execution_count": 37,
   "id": "693ed341-3d5c-4ee8-a123-ba6a366271c5",
   "metadata": {},
   "outputs": [
    {
     "data": {
      "text/html": [
       "<style>\n",
       ".list-inline {list-style: none; margin:0; padding: 0}\n",
       ".list-inline>li {display: inline-block}\n",
       ".list-inline>li:not(:last-child)::after {content: \"\\00b7\"; padding: 0 .5ex}\n",
       "</style>\n",
       "<ol class=list-inline><li>'PAUVKY.03A'</li><li>'PAUVKY.40A'</li><li>'PAWSNZ.03A'</li><li>'PAWSNZ.40A'</li><li>'PAUTLA.03A'</li><li>'PAUTLA.40A'</li><li>'PAVUDU.03A'</li><li>'PAVUDU.40A'</li></ol>\n"
      ],
      "text/latex": [
       "\\begin{enumerate*}\n",
       "\\item 'PAUVKY.03A'\n",
       "\\item 'PAUVKY.40A'\n",
       "\\item 'PAWSNZ.03A'\n",
       "\\item 'PAWSNZ.40A'\n",
       "\\item 'PAUTLA.03A'\n",
       "\\item 'PAUTLA.40A'\n",
       "\\item 'PAVUDU.03A'\n",
       "\\item 'PAVUDU.40A'\n",
       "\\end{enumerate*}\n"
      ],
      "text/markdown": [
       "1. 'PAUVKY.03A'\n",
       "2. 'PAUVKY.40A'\n",
       "3. 'PAWSNZ.03A'\n",
       "4. 'PAWSNZ.40A'\n",
       "5. 'PAUTLA.03A'\n",
       "6. 'PAUTLA.40A'\n",
       "7. 'PAVUDU.03A'\n",
       "8. 'PAVUDU.40A'\n",
       "\n",
       "\n"
      ],
      "text/plain": [
       "[1] \"PAUVKY.03A\" \"PAUVKY.40A\" \"PAWSNZ.03A\" \"PAWSNZ.40A\" \"PAUTLA.03A\"\n",
       "[6] \"PAUTLA.40A\" \"PAVUDU.03A\" \"PAVUDU.40A\""
      ]
     },
     "metadata": {},
     "output_type": "display_data"
    }
   ],
   "source": [
    "colnames(dge)"
   ]
  },
  {
   "cell_type": "code",
   "execution_count": 38,
   "id": "6664a001-18a0-4d0b-8fcb-8bfc5ac8c8c7",
   "metadata": {},
   "outputs": [
    {
     "data": {
      "text/html": [
       "<dl>\n",
       "\t<dt>$counts</dt>\n",
       "\t\t<dd><table class=\"dataframe\">\n",
       "<caption>A matrix: 2 × 8 of type int</caption>\n",
       "<thead>\n",
       "\t<tr><th></th><th scope=col>PAUVKY.03A</th><th scope=col>PAUVKY.40A</th><th scope=col>PAWSNZ.03A</th><th scope=col>PAWSNZ.40A</th><th scope=col>PAUTLA.03A</th><th scope=col>PAUTLA.40A</th><th scope=col>PAVUDU.03A</th><th scope=col>PAVUDU.40A</th></tr>\n",
       "</thead>\n",
       "<tbody>\n",
       "\t<tr><th scope=row>33</th><td>782</td><td>417</td><td> 81</td><td> 32</td><td>410</td><td>662</td><td>1890</td><td> 106</td></tr>\n",
       "\t<tr><th scope=row>154</th><td>859</td><td>342</td><td>160</td><td>165</td><td>222</td><td>345</td><td> 246</td><td>1529</td></tr>\n",
       "</tbody>\n",
       "</table>\n",
       "</dd>\n",
       "\t<dt>$samples</dt>\n",
       "\t\t<dd><table class=\"dataframe\">\n",
       "<caption>A data.frame: 8 × 3</caption>\n",
       "<thead>\n",
       "\t<tr><th></th><th scope=col>group</th><th scope=col>lib.size</th><th scope=col>norm.factors</th></tr>\n",
       "\t<tr><th></th><th scope=col>&lt;fct&gt;</th><th scope=col>&lt;dbl&gt;</th><th scope=col>&lt;dbl&gt;</th></tr>\n",
       "</thead>\n",
       "<tbody>\n",
       "\t<tr><th scope=row>PAUVKY.03A</th><td>1</td><td>498999</td><td>1</td></tr>\n",
       "\t<tr><th scope=row>PAUVKY.40A</th><td>1</td><td>346378</td><td>1</td></tr>\n",
       "\t<tr><th scope=row>PAWSNZ.03A</th><td>1</td><td>610836</td><td>1</td></tr>\n",
       "\t<tr><th scope=row>PAWSNZ.40A</th><td>1</td><td>222102</td><td>1</td></tr>\n",
       "\t<tr><th scope=row>PAUTLA.03A</th><td>1</td><td>811198</td><td>1</td></tr>\n",
       "\t<tr><th scope=row>PAUTLA.40A</th><td>1</td><td>314848</td><td>1</td></tr>\n",
       "\t<tr><th scope=row>PAVUDU.03A</th><td>1</td><td>539869</td><td>1</td></tr>\n",
       "\t<tr><th scope=row>PAVUDU.40A</th><td>1</td><td>574522</td><td>1</td></tr>\n",
       "</tbody>\n",
       "</table>\n",
       "</dd>\n",
       "</dl>\n"
      ],
      "text/latex": [
       "\\begin{description}\n",
       "\\item[\\$counts] A matrix: 2 × 8 of type int\n",
       "\\begin{tabular}{r|llllllll}\n",
       "  & PAUVKY.03A & PAUVKY.40A & PAWSNZ.03A & PAWSNZ.40A & PAUTLA.03A & PAUTLA.40A & PAVUDU.03A & PAVUDU.40A\\\\\n",
       "\\hline\n",
       "\t33 & 782 & 417 &  81 &  32 & 410 & 662 & 1890 &  106\\\\\n",
       "\t154 & 859 & 342 & 160 & 165 & 222 & 345 &  246 & 1529\\\\\n",
       "\\end{tabular}\n",
       "\n",
       "\\item[\\$samples] A data.frame: 8 × 3\n",
       "\\begin{tabular}{r|lll}\n",
       "  & group & lib.size & norm.factors\\\\\n",
       "  & <fct> & <dbl> & <dbl>\\\\\n",
       "\\hline\n",
       "\tPAUVKY.03A & 1 & 498999 & 1\\\\\n",
       "\tPAUVKY.40A & 1 & 346378 & 1\\\\\n",
       "\tPAWSNZ.03A & 1 & 610836 & 1\\\\\n",
       "\tPAWSNZ.40A & 1 & 222102 & 1\\\\\n",
       "\tPAUTLA.03A & 1 & 811198 & 1\\\\\n",
       "\tPAUTLA.40A & 1 & 314848 & 1\\\\\n",
       "\tPAVUDU.03A & 1 & 539869 & 1\\\\\n",
       "\tPAVUDU.40A & 1 & 574522 & 1\\\\\n",
       "\\end{tabular}\n",
       "\n",
       "\\end{description}\n"
      ],
      "text/markdown": [
       "$counts\n",
       ":   \n",
       "A matrix: 2 × 8 of type int\n",
       "\n",
       "| <!--/--> | PAUVKY.03A | PAUVKY.40A | PAWSNZ.03A | PAWSNZ.40A | PAUTLA.03A | PAUTLA.40A | PAVUDU.03A | PAVUDU.40A |\n",
       "|---|---|---|---|---|---|---|---|---|\n",
       "| 33 | 782 | 417 |  81 |  32 | 410 | 662 | 1890 |  106 |\n",
       "| 154 | 859 | 342 | 160 | 165 | 222 | 345 |  246 | 1529 |\n",
       "\n",
       "\n",
       "$samples\n",
       ":   \n",
       "A data.frame: 8 × 3\n",
       "\n",
       "| <!--/--> | group &lt;fct&gt; | lib.size &lt;dbl&gt; | norm.factors &lt;dbl&gt; |\n",
       "|---|---|---|---|\n",
       "| PAUVKY.03A | 1 | 498999 | 1 |\n",
       "| PAUVKY.40A | 1 | 346378 | 1 |\n",
       "| PAWSNZ.03A | 1 | 610836 | 1 |\n",
       "| PAWSNZ.40A | 1 | 222102 | 1 |\n",
       "| PAUTLA.03A | 1 | 811198 | 1 |\n",
       "| PAUTLA.40A | 1 | 314848 | 1 |\n",
       "| PAVUDU.03A | 1 | 539869 | 1 |\n",
       "| PAVUDU.40A | 1 | 574522 | 1 |\n",
       "\n",
       "\n",
       "\n",
       "\n"
      ],
      "text/plain": [
       "An object of class \"DGEList\"\n",
       "$counts\n",
       "    PAUVKY.03A PAUVKY.40A PAWSNZ.03A PAWSNZ.40A PAUTLA.03A PAUTLA.40A\n",
       "33         782        417         81         32        410        662\n",
       "154        859        342        160        165        222        345\n",
       "    PAVUDU.03A PAVUDU.40A\n",
       "33        1890        106\n",
       "154        246       1529\n",
       "\n",
       "$samples\n",
       "           group lib.size norm.factors\n",
       "PAUVKY.03A     1   498999            1\n",
       "PAUVKY.40A     1   346378            1\n",
       "PAWSNZ.03A     1   610836            1\n",
       "PAWSNZ.40A     1   222102            1\n",
       "PAUTLA.03A     1   811198            1\n",
       "PAUTLA.40A     1   314848            1\n",
       "PAVUDU.03A     1   539869            1\n",
       "PAVUDU.40A     1   574522            1\n"
      ]
     },
     "metadata": {},
     "output_type": "display_data"
    }
   ],
   "source": [
    "head(dge,2)"
   ]
  },
  {
   "cell_type": "markdown",
   "id": "ddd8169e-c900-4a9c-a397-974c413e20ea",
   "metadata": {},
   "source": [
    "## Explanation\n",
    "1. **Library loading:** We load the limma and edgeR libraries required for the analysis.\n",
    "2. **Group factor:** We create a factor group based on the condition column in coldata.\n",
    "3. **Design matrix:** We create a design matrix using model.matrix where each column corresponds to a condition.\n",
    "4. **Contrast matrix:** We define a contrast matrix using makeContrasts for the comparisons of interest.\n",
    "5. **DGEList object:** We convert the count data to a DGEList object and normalize it.\n",
    "6. **Voom transformation:** We apply the voom transformation to the normalized data.\n",
    "7. **Linear model fitting:** We fit a linear model to the transformed data using lmFit.\n",
    "8. **Contrast fitting:** We apply the contrasts to the fitted model using contrasts.fit.\n",
    "9. **eBayes:** We compute the statistics using eBayes.\n",
    "10. **TopTable:** We extract the top differentially expressed genes for each comparison using topTable."
   ]
  },
  {
   "cell_type": "code",
   "execution_count": 39,
   "id": "06337291-4cdc-43eb-b3b9-3810713fa896",
   "metadata": {},
   "outputs": [
    {
     "data": {
      "text/html": [
       "TRUE"
      ],
      "text/latex": [
       "TRUE"
      ],
      "text/markdown": [
       "TRUE"
      ],
      "text/plain": [
       "[1] TRUE"
      ]
     },
     "metadata": {},
     "output_type": "display_data"
    },
    {
     "name": "stdout",
     "output_type": "stream",
     "text": [
      "  AML preAML\n",
      "1   0      1\n",
      "2   1      0\n",
      "3   0      1\n",
      "4   1      0\n",
      "5   0      1\n",
      "6   1      0\n",
      "7   0      1\n",
      "8   1      0\n",
      "attr(,\"assign\")\n",
      "[1] 1 1\n",
      "attr(,\"contrasts\")\n",
      "attr(,\"contrasts\")$group\n",
      "[1] \"contr.treatment\"\n",
      "\n"
     ]
    },
    {
     "ename": "ERROR",
     "evalue": "Error in eval(ej, envir = levelsenv): object 'TAM' not found\n",
     "output_type": "error",
     "traceback": [
      "Error in eval(ej, envir = levelsenv): object 'TAM' not found\nTraceback:\n",
      "1. makeContrasts(TAM_vs_preAML = TAM - preAML, TAM_vs_AML = TAM - \n .     AML, preAML_vs_AML = preAML - AML, levels = design)",
      "2. eval(ej, envir = levelsenv)",
      "3. eval(ej, envir = levelsenv)"
     ]
    }
   ],
   "source": [
    "# Assuming cts is your count matrix and coldata is your sample information\n",
    "# Make sure coldata$name matches the column names of cts\n",
    "all(coldata$name %in% colnames(cts)) # This should return TRUE\n",
    "\n",
    "# Create a factor for the conditions\n",
    "group <- factor(coldata$condition)\n",
    "\n",
    "# Create the design matrix\n",
    "design <- model.matrix(~0 + group)\n",
    "colnames(design) <- levels(group)\n",
    "\n",
    "# Print the design matrix to verify\n",
    "print(design)\n",
    "\n",
    "# Define the contrast matrix for the comparisons\n",
    "# We want to compare TAM vs preAML, TAM vs AML, preAML vs AML\n",
    "contrast_matrix <- makeContrasts(\n",
    "  TAM_vs_preAML = TAM - preAML,\n",
    "  TAM_vs_AML = TAM - AML,\n",
    "  preAML_vs_AML = preAML - AML,\n",
    "  levels = design\n",
    ")\n",
    "\n",
    "# Print the contrast matrix to verify\n",
    "print(contrast_matrix)\n",
    "\n",
    "# Convert the count data to a DGEList object\n",
    "dge <- DGEList(counts = cts)\n",
    "\n",
    "# Normalize the data using the TMM method\n",
    "dge <- calcNormFactors(dge)\n",
    "\n",
    "# Apply the voom transformation\n",
    "v <- voom(dge, design)\n",
    "\n",
    "# Fit the linear model\n",
    "fit <- lmFit(v, design)\n",
    "\n",
    "# Apply contrasts\n",
    "fit2 <- contrasts.fit(fit, contrast_matrix)\n",
    "\n",
    "# Compute the statistics\n",
    "fit2 <- eBayes(fit2)\n"
   ]
  },
  {
   "cell_type": "code",
   "execution_count": null,
   "id": "1e3ee690-7fc1-4d4d-96cb-c8f190553042",
   "metadata": {},
   "outputs": [],
   "source": [
    "design"
   ]
  },
  {
   "cell_type": "code",
   "execution_count": null,
   "id": "d50b9a7e-f4f7-43d3-b51a-2bcc3e659230",
   "metadata": {},
   "outputs": [],
   "source": [
    "# normalize and filter\n",
    "keep          <-filterByExpr(dge, design)"
   ]
  },
  {
   "cell_type": "code",
   "execution_count": null,
   "id": "0f9a6be8-7cbb-414f-af8a-a915f2f4a9e0",
   "metadata": {},
   "outputs": [],
   "source": [
    "is.logical(keep)\n",
    "sum(keep==TRUE)"
   ]
  },
  {
   "cell_type": "code",
   "execution_count": null,
   "id": "0b0b2483-0edd-49b5-8d1b-9eda5c916e8d",
   "metadata": {},
   "outputs": [],
   "source": [
    "dge          <- dge         [keep,,keep.lib.size=FALSE]"
   ]
  },
  {
   "cell_type": "code",
   "execution_count": null,
   "id": "a041b234-6bba-440a-8033-42c651ff5919",
   "metadata": {},
   "outputs": [],
   "source": [
    "# apply scale normalization\n",
    "dge          <- calcNormFactors(dge)"
   ]
  },
  {
   "cell_type": "code",
   "execution_count": null,
   "id": "e30666d3-1b01-4a2c-9790-5f55b03444da",
   "metadata": {},
   "outputs": [],
   "source": [
    "# MDS Plot - can we separate the samples well?\n",
    "logCPM <- cpm(dge, log=TRUE, prior.count=3)\n",
    "plotMDS(logCPM,labels=coldata$condition,top=10, col=c(rep(c(\"red\",\"black\"),3)))"
   ]
  },
  {
   "cell_type": "code",
   "execution_count": null,
   "id": "23ad3e29-f984-46eb-b7c4-e3a4660f6fe1",
   "metadata": {},
   "outputs": [],
   "source": [
    "head(logCPM)"
   ]
  },
  {
   "cell_type": "code",
   "execution_count": null,
   "id": "63f839f5-bbfb-4ef5-8666-ed0cb7e1bc19",
   "metadata": {},
   "outputs": [],
   "source": [
    "head(dge,2)"
   ]
  },
  {
   "cell_type": "code",
   "execution_count": null,
   "id": "9948ffce-7db1-40b9-b5b0-e6008013579e",
   "metadata": {},
   "outputs": [],
   "source": [
    "fit <- lmFit(logCPM, design)\n",
    "fit <- eBayes(fit, trend=TRUE)\n",
    "de_results <- topTable(fit, coef=ncol(design), n=Inf) \n",
    "lookup <- rownames(de_results)\n",
    "length(featureData[lookup,2])\n",
    "head(featureData[lookup,2])"
   ]
  },
  {
   "cell_type": "code",
   "execution_count": null,
   "id": "31a49a27-9532-460c-b72e-0224909b1227",
   "metadata": {},
   "outputs": [],
   "source": [
    "# There are too many values - lets reduce the size a bit more\n",
    "# Assuming you have the 'de_results' object from topTable\n",
    "fold_change_threshold <- 5\n",
    "adjusted_pvalue_threshold <- 0.05\n",
    "\n",
    "# Select genes that meet both fold change and adjusted p-value criteria\n",
    "significant_genes <- de_results[\n",
    "  abs(de_results$logFC) > fold_change_threshold &\n",
    "  de_results$adj.P.Val < adjusted_pvalue_threshold,\n",
    "]\n",
    "dim(significant_genes)"
   ]
  },
  {
   "cell_type": "code",
   "execution_count": null,
   "id": "931ab774-67d1-47fe-9764-ff5d09d238f8",
   "metadata": {},
   "outputs": [],
   "source": [
    "lookup <- rownames(significant_genes)\n",
    "df <- as.data.frame(coldata[,c(\"condition\",\"patient\")])\n",
    "\n",
    "significant_expression <- dge[lookup,]\n",
    "dim(significant_expression)\n",
    "length(lookup)"
   ]
  },
  {
   "cell_type": "code",
   "execution_count": null,
   "id": "16c8db18-7070-4fe6-aade-7379f4cb45b2",
   "metadata": {},
   "outputs": [],
   "source": [
    "library(\"pheatmap\")\n",
    "\n",
    "significant_out <- pheatmap(significant_expression, \n",
    "                            cluster_rows5=TRUE, \n",
    "                            show_rownames=FALSE,\n",
    "                            cluster_cols=TRUE, \n",
    "                            annotation_col=df, \n",
    "                            scale=\"row\",\n",
    "                            clustering_method = \"ward.D2\",\n",
    "                            clustering_distance_cols = \"minkowski\", \n",
    "                            clustering_distance_rows = \"minkowski\" )"
   ]
  },
  {
   "cell_type": "code",
   "execution_count": null,
   "id": "58e5f03a-9279-4b58-ada9-e7b189fa2f61",
   "metadata": {},
   "outputs": [],
   "source": [
    "# weighting \n",
    "v <- voom(dge, plot=TRUE, normalize=\"quantile\")"
   ]
  },
  {
   "cell_type": "code",
   "execution_count": null,
   "id": "be433a20-f849-4ef6-81ed-26665d38a0e4",
   "metadata": {},
   "outputs": [],
   "source": [
    "vfit <- lmFit(v, design)\n",
    "vfit <- eBayes(vfit, trend=TRUE)\n",
    "de_results <- topTable(vfit, coef=ncol(design), n=Inf) \n",
    "lookup <- rownames(de_results)\n",
    "length(featureData[lookup,2])\n",
    "head(featureData[lookup,2])"
   ]
  },
  {
   "cell_type": "code",
   "execution_count": null,
   "id": "a725def4-10aa-4926-a3d3-277352efa2c7",
   "metadata": {},
   "outputs": [],
   "source": [
    "# Assuming you have the 'de_results' object from topTable\n",
    "fold_change_threshold <- 9\n",
    "adjusted_pvalue_threshold <- 0.05\n",
    "\n",
    "# Select genes that meet both fold change and adjusted p-value criteria\n",
    "significant_genes <- de_results[\n",
    "  abs(de_results$logFC) > fold_change_threshold &\n",
    "  de_results$adj.P.Val < adjusted_pvalue_threshold,\n",
    "]\n",
    "dim(significant_genes)"
   ]
  },
  {
   "cell_type": "code",
   "execution_count": null,
   "id": "49da1a92-ac68-4e3d-9f45-88654c220fa5",
   "metadata": {},
   "outputs": [],
   "source": [
    "lookup <- rownames(significant_genes)\n",
    "significant_expression <- dge[lookup,]"
   ]
  },
  {
   "cell_type": "code",
   "execution_count": null,
   "id": "21c6bc45-2e8f-4d78-91a0-380c90f38a4f",
   "metadata": {},
   "outputs": [],
   "source": [
    "significant_out <- pheatmap(significant_expression, \n",
    "                            cluster_rows5=TRUE, \n",
    "                            show_rownames=FALSE,\n",
    "                            cluster_cols=TRUE, \n",
    "                            annotation_col=df, \n",
    "                            scale=\"row\",\n",
    "                            clustering_method = \"ward.D2\",\n",
    "                            clustering_distance_cols = \"minkowski\", \n",
    "                            clustering_distance_rows = \"minkowski\" )"
   ]
  },
  {
   "cell_type": "code",
   "execution_count": null,
   "id": "869620fe-d8b8-4239-b1d9-6151bbdb02e8",
   "metadata": {},
   "outputs": [],
   "source": [
    "featureData[head(rownames(significant_expression),5),2]"
   ]
  },
  {
   "cell_type": "code",
   "execution_count": null,
   "id": "6bb1557c-f3b8-495e-a76c-23f7247b34d8",
   "metadata": {},
   "outputs": [],
   "source": [
    "top_gene_list <- as.matrix(featureData[rownames(significant_expression),2])\n",
    "length(top_gene_list)"
   ]
  },
  {
   "cell_type": "code",
   "execution_count": null,
   "id": "fdfa4654-0d41-4372-af99-4ae115f8ebf6",
   "metadata": {},
   "outputs": [],
   "source": [
    "top_significant_genes <- dge[rownames(significant_genes),]"
   ]
  },
  {
   "cell_type": "code",
   "execution_count": null,
   "id": "e72c487d-3949-4eaa-b560-6b3fd9e39597",
   "metadata": {},
   "outputs": [],
   "source": [
    "start=1\n",
    "stop=length(top_gene_list)\n",
    "date=\"2024Jun04_A3SS_voom\"\n",
    "piece <-top_significant_genes[significant_out$tree_row$order[start:stop],]\n",
    "fd <- data.frame(featureData[rownames(piece),])\n",
    "genejunction <- paste(featureData[rownames(piece),2],rownames(piece),sep=\".\")\n",
    "rownames(fd) <- genejunction\n",
    "rownames(piece) <- genejunction\n",
    "outpiece<-pheatmap(piece, cluster_rows5=TRUE, show_rownames=TRUE,\n",
    "         cluster_cols=TRUE, annotation_col=df, scale=\"row\",clustering_distance_cols = \"minkowski\", clustering_distance_rows = \"minkowski\" )\n",
    "piece_filename <- paste(paste(paste(paste(date,\"SE_string_top_gene_list\",sep=\"_\"),start,sep=\"_\"),stop,sep=\"_\"),\"csv\",sep=\".\")\n",
    "\n",
    "# Order by TAM elements, followed by AML elements\n",
    "piece_exp <- piece[,c(1,3,5,7,2,4,6,8)]\n",
    "colnames(piece_exp) <- colnames(piece[,c(1,3,5,7,2,4,6,8)])\n",
    "rownames(piece_exp) <- rownames(piece)\n",
    "string_filename <- paste(paste(paste(paste(date,\"string_top_gene_list\",sep=\"_\"),start,sep=\"_\"),stop,sep=\"_\"),\"csv\",sep=\".\")\n",
    "piece_exp_filename <- paste(paste(paste(paste(date,\"expression_top_gene_list\",sep=\"_\"),start,sep=\"_\"),stop,sep=\"_\"),\"csv\",sep=\".\")\n",
    "write.csv(piece_exp$counts,piece_exp_filename,quote=FALSE)\n",
    "write.csv(rownames(piece),piece_filename,quote=FALSE,row.names=FALSE)\n",
    "write.csv(fd[,2],string_filename,quote=FALSE,row.names=FALSE)\n",
    "violin_plot_filename = piece_exp_filename"
   ]
  },
  {
   "cell_type": "code",
   "execution_count": null,
   "id": "9bff7560-9725-4e4b-8379-8e60eeb3b077",
   "metadata": {},
   "outputs": [],
   "source": [
    "#If you want something like gene-to-cluster assignment, you can 'cut' your row dendrogram into a pre-selected number of groups as follows:\n",
    "# -- inspecating above the rows seem to fall into 7 groups\n",
    "clusters<- as.matrix(row_clusters<- sort(cutree(significant_out$tree_row, k=7)),nrows=dim(top_genes_expression)[1],ncols=1)\n",
    "genes_in_clusters = featureData[rownames(clusters),2]\n",
    "genes_in_clusters.df <- data.frame(featureData[rownames(clusters),2], clusters)\n",
    "colnames(genes_in_clusters.df) <- c(\"geneSymbol\",\"cluster\")\n",
    "dim(genes_in_clusters.df)\n",
    "cluster_1_genes <- genes_in_clusters.df[genes_in_clusters.df$cluster == 1,]\n",
    "cluster_2_genes <- genes_in_clusters.df[genes_in_clusters.df$cluster == 2,]\n",
    "cluster_3_genes <- genes_in_clusters.df[genes_in_clusters.df$cluster == 3,]\n",
    "cluster_4_genes <- genes_in_clusters.df[genes_in_clusters.df$cluster == 4,]\n",
    "cluster_5_genes <- genes_in_clusters.df[genes_in_clusters.df$cluster == 5,]\n",
    "cluster_6_genes <- genes_in_clusters.df[genes_in_clusters.df$cluster == 6,]\n",
    "cluster_7_genes <- genes_in_clusters.df[genes_in_clusters.df$cluster == 7,]\n",
    "\n",
    "cluster_1_filename <- paste(paste(date, \"cluster_1\", sep=\"_\"),\"csv\",sep=\".\")\n",
    "cluster_2_filename <- paste(paste(date, \"cluster_2\", sep=\"_\"),\"csv\",sep=\".\")\n",
    "cluster_3_filename <- paste(paste(date, \"cluster_3\", sep=\"_\"),\"csv\",sep=\".\")\n",
    "cluster_4_filename <- paste(paste(date, \"cluster_4\", sep=\"_\"),\"csv\",sep=\".\")\n",
    "cluster_5_filename <- paste(paste(date, \"cluster_5\", sep=\"_\"),\"csv\",sep=\".\")\n",
    "cluster_6_filename <- paste(paste(date, \"cluster_6\", sep=\"_\"),\"csv\",sep=\".\")\n",
    "cluster_7_filename <- paste(paste(date, \"cluster_7\", sep=\"_\"),\"csv\",sep=\".\")\n",
    "\n",
    "write.csv(cluster_1_genes$geneSymbol,cluster_1_filename,quote=FALSE,row.names=FALSE)\n",
    "write.csv(cluster_2_genes$geneSymbol,cluster_2_filename,quote=FALSE,row.names=FALSE)\n",
    "write.csv(cluster_3_genes$geneSymbol,cluster_3_filename,quote=FALSE,row.names=FALSE)\n",
    "write.csv(cluster_4_genes$geneSymbol,cluster_4_filename,quote=FALSE,row.names=FALSE)\n",
    "write.csv(cluster_5_genes$geneSymbol,cluster_5_filename,quote=FALSE,row.names=FALSE)\n",
    "write.csv(cluster_6_genes$geneSymbol,cluster_6_filename,quote=FALSE,row.names=FALSE)\n",
    "write.csv(cluster_7_genes$geneSymbol,cluster_7_filename,quote=FALSE,row.names=FALSE)\n"
   ]
  },
  {
   "cell_type": "code",
   "execution_count": null,
   "id": "a1d9a72d-a31f-4fd8-aa1d-846a151c0fcc",
   "metadata": {},
   "outputs": [],
   "source": [
    "vwts <- voomWithQualityWeights(dge, design=design, normalize.method=\"quantile\", plot=TRUE)"
   ]
  },
  {
   "cell_type": "code",
   "execution_count": null,
   "id": "5b3b6e0d-778a-4b39-8852-5e84a107f1a4",
   "metadata": {},
   "outputs": [],
   "source": [
    "vwtsfit <- lmFit(vwts, design, weights = vwts$weights )\n",
    "# no other weighting at this time.\n",
    " #* c(1.0,1.0,1.0,1.0,1.0,1.0,1.0,1.0))"
   ]
  },
  {
   "cell_type": "code",
   "execution_count": null,
   "id": "a12c61b3-be89-4562-b1b9-dd8bfaeedb5c",
   "metadata": {},
   "outputs": [],
   "source": [
    "vwtsfit <- eBayes(vwtsfit, trend=TRUE)\n",
    "de_results <- topTable(vwtsfit, coef=ncol(design), n=Inf) \n",
    "lookup <- rownames(de_results)\n",
    "length(featureData[lookup,2])\n",
    "head(featureData[lookup,2])"
   ]
  },
  {
   "cell_type": "code",
   "execution_count": null,
   "id": "93131a9e-fc04-4c4f-9a6b-c9adcf17f032",
   "metadata": {},
   "outputs": [],
   "source": [
    "# Assuming you have the 'de_results' object from topTable\n",
    "fold_change_threshold <- 9\n",
    "adjusted_pvalue_threshold <- 0.05\n",
    "\n",
    "# Select genes that meet both fold change and adjusted p-value criteria\n",
    "significant_genes <- de_results[\n",
    "  abs(de_results$logFC) > fold_change_threshold &\n",
    "  de_results$adj.P.Val < adjusted_pvalue_threshold,\n",
    "]\n",
    "dim(significant_genes)"
   ]
  },
  {
   "cell_type": "code",
   "execution_count": null,
   "id": "9858352f-cc2e-4c5f-8346-bf20f95e310d",
   "metadata": {},
   "outputs": [],
   "source": [
    "lookup <- rownames(significant_genes)\n",
    "significant_expression <- dge[lookup,]"
   ]
  },
  {
   "cell_type": "code",
   "execution_count": null,
   "id": "a7948602-b1c0-4127-89f5-7762d8197b82",
   "metadata": {},
   "outputs": [],
   "source": [
    "significant_out <- pheatmap(significant_expression, \n",
    "                            cluster_rows5=TRUE, \n",
    "                            show_rownames=FALSE,\n",
    "                            cluster_cols=TRUE, \n",
    "                            annotation_col=df, \n",
    "                            scale=\"row\",\n",
    "                            clustering_method = \"ward.D2\",\n",
    "                            clustering_distance_cols = \"minkowski\", \n",
    "                            clustering_distance_rows = \"minkowski\" )"
   ]
  },
  {
   "cell_type": "code",
   "execution_count": null,
   "id": "f324a076-ee12-424f-b6fe-2b3e03e48be5",
   "metadata": {},
   "outputs": [],
   "source": [
    "featureData[head(rownames(significant_expression),5),2]"
   ]
  },
  {
   "cell_type": "code",
   "execution_count": null,
   "id": "065231a3-b004-4740-b01a-f87907ec39f5",
   "metadata": {},
   "outputs": [],
   "source": [
    "top_gene_list <- as.matrix(featureData[rownames(significant_expression),2])\n",
    "length(top_gene_list)"
   ]
  },
  {
   "cell_type": "code",
   "execution_count": null,
   "id": "e1716688-eb74-49d7-8bec-2cd0a7e0849d",
   "metadata": {},
   "outputs": [],
   "source": [
    "top_significant_genes <- dge[rownames(significant_genes),]"
   ]
  },
  {
   "cell_type": "code",
   "execution_count": null,
   "id": "fc719874-a4f9-422a-ac06-02a26c60f9ed",
   "metadata": {},
   "outputs": [],
   "source": [
    "start=1\n",
    "stop=length(top_gene_list)\n",
    "date=\"2024Jun04_A3SS_vwts\"\n",
    "piece <-top_significant_genes[significant_out$tree_row$order[start:stop],]\n",
    "fd <- data.frame(featureData[rownames(piece),])\n",
    "genejunction <- paste(featureData[rownames(piece),2],rownames(piece),sep=\".\")\n",
    "rownames(fd) <- genejunction\n",
    "rownames(piece) <- genejunction\n",
    "outpiece<-pheatmap(piece, cluster_rows5=TRUE, show_rownames=TRUE,\n",
    "         cluster_cols=TRUE, annotation_col=df, scale=\"row\",clustering_distance_cols = \"minkowski\", clustering_distance_rows = \"minkowski\" )\n",
    "piece_filename <- paste(paste(paste(paste(date,\"string_top_gene_list\",sep=\"_\"),start,sep=\"_\"),stop,sep=\"_\"),\"csv\",sep=\".\")\n",
    "\n",
    "# Order by TAM elements, followed by AML elements\n",
    "piece_exp <- piece[,c(1,3,5,7,2,4,6,8)]\n",
    "colnames(piece_exp) <- colnames(piece[,c(1,3,5,7,2,4,6,8)])\n",
    "rownames(piece_exp) <- rownames(piece)\n",
    "string_filename <- paste(paste(paste(paste(date,\"string_top_gene_list\",sep=\"_\"),start,sep=\"_\"),stop,sep=\"_\"),\"csv\",sep=\".\")\n",
    "piece_exp_filename <- paste(paste(paste(paste(date,\"expression_top_gene_list\",sep=\"_\"),start,sep=\"_\"),stop,sep=\"_\"),\"csv\",sep=\".\")\n",
    "write.csv(piece_exp$counts,piece_exp_filename,quote=FALSE)\n",
    "write.csv(rownames(piece),piece_filename,quote=FALSE,row.names=FALSE)\n",
    "write.csv(fd[,2],string_filename,quote=FALSE,row.names=FALSE)\n",
    "violin_plot_filename = piece_exp_filename"
   ]
  },
  {
   "cell_type": "code",
   "execution_count": null,
   "id": "3fd05508-82f8-46e0-b786-85d3cba6560d",
   "metadata": {},
   "outputs": [],
   "source": [
    "save_pheatmap_pdf <- function(x, filename, width=7, height=7) {\n",
    "   stopifnot(!missing(x))\n",
    "   stopifnot(!missing(filename))\n",
    "   pdf(filename, width=width, height=height)\n",
    "   grid::grid.newpage()\n",
    "   grid::grid.draw(x$gtable)\n",
    "   dev.off()\n",
    "}\n",
    "save_pheatmap_pdf(outpiece, \"2024Jun04_A3SS_vwts_10fold_top_significant_genes.pdf\")"
   ]
  },
  {
   "cell_type": "code",
   "execution_count": null,
   "id": "e5e25f5d-ac3d-4966-a3a6-422aa129c2da",
   "metadata": {},
   "outputs": [],
   "source": [
    "#If you want something like gene-to-cluster assignment, you can 'cut' your row dendrogram into a pre-selected number of groups as follows:\n",
    "# -- inspecating above the rows seem to fall into 7 groups\n",
    "clusters<- as.matrix(row_clusters<- sort(cutree(significant_out$tree_row, k=7)),nrows=dim(top_genes_expression)[1],ncols=1)\n",
    "genes_in_clusters = featureData[rownames(clusters),2]\n",
    "genes_in_clusters.df <- data.frame(featureData[rownames(clusters),2], clusters)\n",
    "colnames(genes_in_clusters.df) <- c(\"geneSymbol\",\"cluster\")\n",
    "dim(genes_in_clusters.df)\n",
    "cluster_1_genes <- genes_in_clusters.df[genes_in_clusters.df$cluster == 1,]\n",
    "cluster_2_genes <- genes_in_clusters.df[genes_in_clusters.df$cluster == 2,]\n",
    "cluster_3_genes <- genes_in_clusters.df[genes_in_clusters.df$cluster == 3,]\n",
    "cluster_4_genes <- genes_in_clusters.df[genes_in_clusters.df$cluster == 4,]\n",
    "cluster_5_genes <- genes_in_clusters.df[genes_in_clusters.df$cluster == 5,]\n",
    "cluster_6_genes <- genes_in_clusters.df[genes_in_clusters.df$cluster == 6,]\n",
    "cluster_7_genes <- genes_in_clusters.df[genes_in_clusters.df$cluster == 7,]\n",
    "\n",
    "cluster_1_filename <- paste(paste(date, \"cluster_1\", sep=\"_\"),\"csv\",sep=\".\")\n",
    "cluster_2_filename <- paste(paste(date, \"cluster_2\", sep=\"_\"),\"csv\",sep=\".\")\n",
    "cluster_3_filename <- paste(paste(date, \"cluster_3\", sep=\"_\"),\"csv\",sep=\".\")\n",
    "cluster_4_filename <- paste(paste(date, \"cluster_4\", sep=\"_\"),\"csv\",sep=\".\")\n",
    "cluster_5_filename <- paste(paste(date, \"cluster_5\", sep=\"_\"),\"csv\",sep=\".\")\n",
    "cluster_6_filename <- paste(paste(date, \"cluster_6\", sep=\"_\"),\"csv\",sep=\".\")\n",
    "cluster_7_filename <- paste(paste(date, \"cluster_7\", sep=\"_\"),\"csv\",sep=\".\")\n",
    "\n",
    "write.csv(cluster_1_genes$geneSymbol,cluster_1_filename,quote=FALSE,row.names=FALSE)\n",
    "write.csv(cluster_2_genes$geneSymbol,cluster_2_filename,quote=FALSE,row.names=FALSE)\n",
    "write.csv(cluster_3_genes$geneSymbol,cluster_3_filename,quote=FALSE,row.names=FALSE)\n",
    "write.csv(cluster_4_genes$geneSymbol,cluster_4_filename,quote=FALSE,row.names=FALSE)\n",
    "write.csv(cluster_5_genes$geneSymbol,cluster_5_filename,quote=FALSE,row.names=FALSE)\n",
    "write.csv(cluster_6_genes$geneSymbol,cluster_6_filename,quote=FALSE,row.names=FALSE)\n",
    "write.csv(cluster_7_genes$geneSymbol,cluster_7_filename,quote=FALSE,row.names=FALSE)\n"
   ]
  },
  {
   "cell_type": "markdown",
   "id": "b1af96a2-e1cc-4dca-821b-f627190a9563",
   "metadata": {},
   "source": [
    "Make violin plots for each of the IDs which are for each row encoded as GeneSymbol.UniqueJunctionIdentifier"
   ]
  },
  {
   "cell_type": "code",
   "execution_count": null,
   "id": "9153e413-4453-43f0-b1fb-1a368fb0381f",
   "metadata": {},
   "outputs": [],
   "source": [
    "# Load necessary libraries\n",
    "library(ggplot2)\n",
    "library(reshape2)\n",
    "library(dplyr)\n",
    "library(tidyr)\n",
    "\n",
    "# Read the CSV file (assuming file path is already defined as violin_plot_filename)\n",
    "data <- read.csv(violin_plot_filename, stringsAsFactors = FALSE)\n",
    "\n",
    "# Transform the data from wide to long format\n",
    "data_long <- melt(data, id.vars = \"X\", variable.name = \"Sample\", value.name = \"Expression\")\n",
    "\n",
    "# Ensure the Sample column is treated as a character vector\n",
    "data_long$Sample <- as.character(data_long$Sample)\n",
    "\n",
    "# Extract individual and state information from Sample column\n",
    "data_long <- data_long %>%\n",
    "  mutate(Individual = sapply(strsplit(Sample, \"\\\\.\"), `[`, 1),\n",
    "         State = sapply(strsplit(Sample, \"\\\\.\"), `[`, 2))\n",
    "\n",
    "# Map state codes to state names\n",
    "state_mapping <- c(\"03A\" = \"preAML\", \"40A\" = \"AML\")\n",
    "data_long$State <- state_mapping[data_long$State]\n",
    "\n",
    "# Calculate the mean differences between AML and TAM for sorting\n",
    "mean_diffs <- data_long %>%\n",
    "  group_by(X, State) %>%\n",
    "  summarise(Mean = mean(Expression), .groups = 'drop') %>%\n",
    "  pivot_wider(names_from = State, values_from = Mean) %>%\n",
    "  mutate(Diff = AML - TAM) %>%\n",
    "  arrange(Diff)\n",
    "\n",
    "# Store the plots in a list\n",
    "plots <- list()\n",
    "\n",
    "# Plot violin plots for each gene symbol and splicing junction identifier in sorted order\n",
    "for (gene_id in mean_diffs$X) {\n",
    "  gene_data <- subset(data_long, X == gene_id)\n",
    "  gene_data$State <- factor(gene_data$State, levels = c(\"preAML\", \"AML\")) # Ensure TAM is plotted first\n",
    "  \n",
    "  mean_TAM <- mean(gene_data$Expression[gene_data$State == \"TAM\"])\n",
    "  mean_AML <- mean(gene_data$Expression[gene_data$State == \"AML\"])\n",
    "  line_data <- data.frame(State = c(\"preAML\", \"AML\"), Mean = c(mean_TAM, mean_AML))\n",
    "  \n",
    "  p <- ggplot(gene_data, aes(x = State, y = Expression, fill = State)) +\n",
    "    geom_violin() +\n",
    "    geom_jitter(width = 0.2, size = 1.5, alpha = 0.6) + # Add individual expression values as dots\n",
    "    geom_line(aes(group = Individual), color = \"blue\", alpha = 0.5) + # Line connecting samples of the same individual\n",
    "    stat_summary(fun = mean, geom = \"point\", color = \"red\", size = 3) + # Plot mean as points\n",
    "    ggtitle(paste(\"Violin Plot for\", gene_id)) +\n",
    "    theme(axis.text.x = element_text(angle = 90, hjust = 1)) +\n",
    "    scale_fill_manual(values = c(\"preAML\" = \"skyblue\", \"AML\" = \"salmon\")) + # Custom colors for states\n",
    "    geom_line(data = line_data, aes(x = State, y = Mean, group = 1), color = \"red\", linewidth = 1) # Line connecting means\n",
    "  \n",
    "  print(p)  # Print the plot to the notebook\n",
    "  \n",
    "  # Save the plot to the list\n",
    "  plots[[gene_id]] <- p\n",
    "}\n",
    "# Load necessary libraries\n",
    "library(pdftools)\n",
    "\n",
    "# Directory to save individual PDF files\n",
    "dir.create(\"violin_plots\")\n",
    "\n",
    "# Save each plot to a separate PDF file\n",
    "pdf_files <- c()\n",
    "for (i in seq_along(plots)) {\n",
    "  plot_name <- paste0(\"violin_plots/A3SS_violin_plot_\", names(plots)[i], \".pdf\")\n",
    "  ggsave(plot_name, plot = plots[[i]], width = 10, height = 8)\n",
    "  pdf_files <- c(pdf_files, plot_name)\n",
    "}\n",
    "\n",
    "# Combine individual PDF files into a single PDF\n",
    "pdf_combine(input = pdf_files, output = \"A3SS_violin_plots_sorted.pdf\")\n",
    "\n",
    "# Cleanup: remove the individual PDF files\n",
    "#file.remove(pdf_files)"
   ]
  },
  {
   "cell_type": "code",
   "execution_count": null,
   "id": "41fac00a-9565-4b92-8c30-418ed6f71daa",
   "metadata": {},
   "outputs": [],
   "source": []
  }
 ],
 "metadata": {
  "kernelspec": {
   "display_name": "R",
   "language": "R",
   "name": "ir"
  },
  "language_info": {
   "codemirror_mode": "r",
   "file_extension": ".r",
   "mimetype": "text/x-r-source",
   "name": "R",
   "pygments_lexer": "r",
   "version": "4.3.3"
  }
 },
 "nbformat": 4,
 "nbformat_minor": 5
}
